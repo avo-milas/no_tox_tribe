{
  "cells": [
    {
      "cell_type": "code",
      "execution_count": null,
      "metadata": {
        "colab": {
          "base_uri": "https://localhost:8080/"
        },
        "id": "cxw9aOVTF6oe",
        "outputId": "ca5175a4-3592-4bba-cf77-fb701ee17bd4"
      },
      "outputs": [
        {
          "output_type": "stream",
          "name": "stdout",
          "text": [
            "Drive already mounted at /content/drive; to attempt to forcibly remount, call drive.mount(\"/content/drive\", force_remount=True).\n"
          ]
        }
      ],
      "source": [
        "from google.colab import drive\n",
        "drive.mount('/content/drive')"
      ]
    },
    {
      "cell_type": "code",
      "execution_count": null,
      "metadata": {
        "colab": {
          "base_uri": "https://localhost:8080/"
        },
        "id": "Jf9ozTWYjNaF",
        "outputId": "cab61c10-fc2b-47b7-9426-d629d46df596"
      },
      "outputs": [
        {
          "output_type": "stream",
          "name": "stdout",
          "text": [
            "Collecting umap-learn\n",
            "  Downloading umap_learn-0.5.6-py3-none-any.whl (85 kB)\n",
            "\u001b[?25l     \u001b[90m━━━━━━━━━━━━━━━━━━━━━━━━━━━━━━━━━━━━━━━━\u001b[0m \u001b[32m0.0/85.7 kB\u001b[0m \u001b[31m?\u001b[0m eta \u001b[36m-:--:--\u001b[0m\r\u001b[2K     \u001b[90m━━━━━━━━━━━━━━━━━━━━━━━━━━━━━━━━━━━━━━━━\u001b[0m \u001b[32m85.7/85.7 kB\u001b[0m \u001b[31m2.7 MB/s\u001b[0m eta \u001b[36m0:00:00\u001b[0m\n",
            "\u001b[?25hRequirement already satisfied: numpy>=1.17 in /usr/local/lib/python3.10/dist-packages (from umap-learn) (1.25.2)\n",
            "Requirement already satisfied: scipy>=1.3.1 in /usr/local/lib/python3.10/dist-packages (from umap-learn) (1.11.4)\n",
            "Requirement already satisfied: scikit-learn>=0.22 in /usr/local/lib/python3.10/dist-packages (from umap-learn) (1.2.2)\n",
            "Requirement already satisfied: numba>=0.51.2 in /usr/local/lib/python3.10/dist-packages (from umap-learn) (0.58.1)\n",
            "Collecting pynndescent>=0.5 (from umap-learn)\n",
            "  Downloading pynndescent-0.5.12-py3-none-any.whl (56 kB)\n",
            "\u001b[?25l     \u001b[90m━━━━━━━━━━━━━━━━━━━━━━━━━━━━━━━━━━━━━━━━\u001b[0m \u001b[32m0.0/56.8 kB\u001b[0m \u001b[31m?\u001b[0m eta \u001b[36m-:--:--\u001b[0m\r\u001b[2K     \u001b[90m━━━━━━━━━━━━━━━━━━━━━━━━━━━━━━━━━━━━━━━━\u001b[0m \u001b[32m56.8/56.8 kB\u001b[0m \u001b[31m8.1 MB/s\u001b[0m eta \u001b[36m0:00:00\u001b[0m\n",
            "\u001b[?25hRequirement already satisfied: tqdm in /usr/local/lib/python3.10/dist-packages (from umap-learn) (4.66.2)\n",
            "Requirement already satisfied: llvmlite<0.42,>=0.41.0dev0 in /usr/local/lib/python3.10/dist-packages (from numba>=0.51.2->umap-learn) (0.41.1)\n",
            "Requirement already satisfied: joblib>=0.11 in /usr/local/lib/python3.10/dist-packages (from pynndescent>=0.5->umap-learn) (1.4.0)\n",
            "Requirement already satisfied: threadpoolctl>=2.0.0 in /usr/local/lib/python3.10/dist-packages (from scikit-learn>=0.22->umap-learn) (3.4.0)\n",
            "Installing collected packages: pynndescent, umap-learn\n",
            "Successfully installed pynndescent-0.5.12 umap-learn-0.5.6\n"
          ]
        }
      ],
      "source": [
        "!pip install umap-learn"
      ]
    },
    {
      "cell_type": "code",
      "execution_count": null,
      "metadata": {
        "id": "l7lGXT8OGMOI"
      },
      "outputs": [],
      "source": [
        "import numpy as np\n",
        "import pandas as pd\n",
        "import matplotlib.pyplot as plt\n",
        "import torch\n",
        "import umap\n",
        "import tqdm"
      ]
    },
    {
      "cell_type": "code",
      "execution_count": null,
      "metadata": {
        "id": "IP6G14ogGYdU"
      },
      "outputs": [],
      "source": [
        "news_path = '/content/drive/MyDrive/vk/data.mail.xlsx'\n"
      ]
    },
    {
      "cell_type": "code",
      "execution_count": null,
      "metadata": {
        "id": "Z4u5D-LPNdbl"
      },
      "outputs": [],
      "source": [
        "news_df = pd.read_excel(news_path)\n"
      ]
    },
    {
      "cell_type": "code",
      "execution_count": null,
      "metadata": {
        "colab": {
          "base_uri": "https://localhost:8080/",
          "height": 1000
        },
        "id": "eijuqtwgN5D7",
        "outputId": "7a61d7c2-8136-4dc6-d251-ce24f6d0b279"
      },
      "outputs": [
        {
          "data": {
            "application/vnd.google.colaboratory.intrinsic+json": {
              "summary": "{\n  \"name\": \"news_df\",\n  \"rows\": 21093,\n  \"fields\": [\n    {\n      \"column\": \"URL\",\n      \"properties\": {\n        \"dtype\": \"string\",\n        \"num_unique_values\": 21093,\n        \"samples\": [\n          \"https://kino.mail.ru/news/53850_vishel_pervii_tizer_filma_mazhor_s_priluchnim/\",\n          \"https://kino.mail.ru/news/60021_avtor_knigi_slovo_patsana_nazval_svoih_lyubimih_personazhei_v_seriale/\",\n          \"https://kino.mail.ru/news/39940_v_bollivude_snjali_remejk_sovetskoj_ironii_sudby/\"\n        ],\n        \"semantic_type\": \"\",\n        \"description\": \"\"\n      }\n    },\n    {\n      \"column\": \"Title\",\n      \"properties\": {\n        \"dtype\": \"string\",\n        \"num_unique_values\": 21071,\n        \"samples\": [\n          \"\\u041f\\u043b\\u0430\\u0442\\u044c\\u0435 \\u0414\\u0436\\u0443\\u0434\\u0438 \\u0413\\u0430\\u0440\\u043b\\u044d\\u043d\\u0434 \\u0438\\u0437 \\u00ab\\u0412\\u043e\\u043b\\u0448\\u0435\\u0431\\u043d\\u0438\\u043a\\u0430 \\u0441\\u0442\\u0440\\u0430\\u043d\\u044b \\u041e\\u0437\\u00bb \\u043f\\u0443\\u0441\\u0442\\u0438\\u043b\\u0438 \\u0441 \\u043c\\u043e\\u043b\\u043e\\u0442\\u043a\\u0430\",\n          \"\\u0415\\u0432\\u0433\\u0435\\u043d\\u0438\\u0439 \\u0421\\u0442\\u044b\\u0447\\u043a\\u0438\\u043d 16 \\u043b\\u0435\\u0442 \\u0441\\u043a\\u0440\\u044b\\u0432\\u0430\\u043b \\u0432\\u043d\\u0435\\u0431\\u0440\\u0430\\u0447\\u043d\\u0443\\u044e \\u0434\\u043e\\u0447\\u044c\",\n          \"\\u0417\\u0430\\u0447\\u0435\\u043c \\u0415\\u043a\\u0430\\u0442\\u0435\\u0440\\u0438\\u043d\\u0430 \\u0412\\u0430\\u0440\\u043d\\u0430\\u0432\\u0430 \\u0443\\u043c\\u0435\\u043d\\u044c\\u0448\\u0430\\u0435\\u0442 \\u0442\\u0430\\u043b\\u0438\\u044e?\"\n        ],\n        \"semantic_type\": \"\",\n        \"description\": \"\"\n      }\n    },\n    {\n      \"column\": \"Description\",\n      \"properties\": {\n        \"dtype\": \"string\",\n        \"num_unique_values\": 21065,\n        \"samples\": [\n          \"\\u0420\\u0435\\u0436\\u0438\\u0441\\u0441\\u0435\\u0440 \\u0441\\u043e\\u043e\\u0431\\u0449\\u0438\\u043b, \\u0447\\u0442\\u043e \\u0441\\u0435\\u0440\\u0438\\u0430\\u043b\\u044c\\u043d\\u0430\\u044f \\u0432\\u0435\\u0440\\u0441\\u0438\\u044f \\u043d\\u0430\\u0448\\u0443\\u043c\\u0435\\u0432\\u0448\\u0435\\u0439 \\u043a\\u0430\\u0440\\u0442\\u0438\\u043d\\u044b \\u0431\\u0443\\u0434\\u0435\\u0442 \\u0432\\u044b\\u0445\\u043e\\u0434\\u0438\\u0442\\u044c \\u043d\\u0430 \\u00ab\\u041f\\u0435\\u0440\\u0432\\u043e\\u043c \\u043a\\u0430\\u043d\\u0430\\u043b\\u0435\\u00bb \\u043b\\u0435\\u0442\\u043e\\u043c 2018 \\u0433\\u043e\\u0434\\u0430\",\n          \"\\u0417\\u0430 \\u0434\\u0435\\u0431\\u044e\\u0442\\u043d\\u044b\\u0439 \\u0443\\u0438\\u043a\\u0435\\u043d\\u0434 \\u043c\\u0443\\u043b\\u044c\\u0442\\u0444\\u0438\\u043b\\u044c\\u043c \\u043e\\u0431\\u043d\\u043e\\u0432\\u0438\\u043b \\u0440\\u0435\\u043a\\u043e\\u0440\\u0434\\u044b \\u0441\\u0431\\u043e\\u0440\\u043e\\u0432 \\u0438 \\u043f\\u043e\\u0441\\u0435\\u0449\\u0430\\u0435\\u043c\\u043e\\u0441\\u0442\\u0438\",\n          \"13 \\u0434\\u0435\\u043a\\u0430\\u0431\\u0440\\u044f \\u0443\\u0447\\u0430\\u0441\\u0442\\u043d\\u0438\\u043a\\u0438 \\u043f\\u0440\\u043e\\u0435\\u043a\\u0442\\u0430 \\u0422\\u0438\\u0433\\u0440\\u0430\\u043d \\u0421\\u0430\\u043b\\u0438\\u0431\\u0435\\u043a\\u043e\\u0432 \\u0438 \\u042e\\u043b\\u0438\\u044f \\u041a\\u043e\\u043b\\u0438\\u0441\\u043d\\u0438\\u0447\\u0435\\u043d\\u043a\\u043e \\u043e\\u0444\\u0438\\u0446\\u0438\\u0430\\u043b\\u044c\\u043d\\u043e \\u0437\\u0430\\u0440\\u0435\\u0433\\u0438\\u0441\\u0442\\u0440\\u0438\\u0440\\u043e\\u0432\\u0430\\u043b\\u0438 \\u0441\\u0432\\u043e\\u0438 \\u043e\\u0442\\u043d\\u043e\\u0448\\u0435\\u043d\\u0438\\u044f\"\n        ],\n        \"semantic_type\": \"\",\n        \"description\": \"\"\n      }\n    },\n    {\n      \"column\": \"Article Text\",\n      \"properties\": {\n        \"dtype\": \"string\",\n        \"num_unique_values\": 21092,\n        \"samples\": [\n          \"\\u041f\\u043e\\u0441\\u043b\\u0435 \\u043e\\u0447\\u0435\\u0440\\u0435\\u0434\\u043d\\u043e\\u0433\\u043e \\u0437\\u0430\\u0441\\u0435\\u0434\\u0430\\u043d\\u0438\\u044f \\u0441\\u0443\\u0434\\u0430 \\u041b\\u0438\\u043d\\u0434\\u0441\\u0438 \\u041b\\u043e\\u0445\\u0430\\u043d \\u0431\\u044b\\u043b\\u0430 \\u043e\\u0441\\u0432\\u043e\\u0431\\u043e\\u0436\\u0434\\u0435\\u043d\\u0430 \\u043f\\u043e\\u0434 \\u0437\\u0430\\u043b\\u043e\\u0433 \\u0432 100 \\u0442\\u044b\\u0441\\u044f\\u0447 \\u0434\\u043e\\u043b\\u043b\\u0430\\u0440\\u043e\\u0432. \\u041d\\u043e \\u0442\\u0435\\u043f\\u0435\\u0440\\u044c \\u0435\\u0435 \\u043e\\u0431\\u044f\\u0437\\u0430\\u043b\\u0438 \\u0440\\u0430\\u0431\\u043e\\u0442\\u0430\\u0442\\u044c \\u0432 \\u043c\\u043e\\u0440\\u0433\\u0435. \\u041b\\u043e\\u0445\\u0430\\u043d \\u043f\\u0440\\u0438\\u0434\\u0435\\u0442\\u0441\\u044f \\u043e\\u0442\\u043c\\u044b\\u0432\\u0430\\u0442\\u044c \\u043f\\u0440\\u043e\\u0441\\u0442\\u044b\\u043d\\u0438, \\u0432 \\u043a\\u043e\\u0442\\u043e\\u0440\\u044b\\u0435 \\u0437\\u0430\\u0432\\u043e\\u0440\\u0430\\u0447\\u0438\\u0432\\u0430\\u044e\\u0442 \\u0442\\u0435\\u043b\\u0430 \\u0443\\u043c\\u0435\\u0440\\u0448\\u0438\\u0445. \\u041e\\u043d\\u0430 \\u0431\\u0443\\u0434\\u0435\\u0442 \\u043e\\u0431\\u044f\\u0437\\u0430\\u043d\\u0430 \\u0441\\u0434\\u0430\\u0442\\u044c \\u043c\\u043e\\u0431\\u0438\\u043b\\u044c\\u043d\\u044b\\u0439 \\u0442\\u0435\\u043b\\u0435\\u0444\\u043e\\u043d \\u0438 \\u043f\\u0440\\u0438\\u043d\\u043e\\u0441\\u0438\\u0442\\u044c \\u0435\\u0434\\u0443 \\u0441 \\u0441\\u043e\\u0431\\u043e\\u0439. \\u0410\\u043a\\u0442\\u0440\\u0438\\u0441\\u0430 \\u0434\\u043e\\u043b\\u0436\\u043d\\u0430 \\u0431\\u044b\\u043b\\u0430 \\u043f\\u0440\\u0438\\u0441\\u0442\\u0443\\u043f\\u0438\\u0442\\u044c \\u043a \\u0440\\u0430\\u0431\\u043e\\u0442\\u0430\\u043c \\u0432 \\u0447\\u0435\\u0442\\u0432\\u0435\\u0440\\u0433, \\u043e\\u0434\\u043d\\u0430\\u043a\\u043e \\u0442\\u043e\\u0433\\u0434\\u0430 \\u043e\\u043f\\u043e\\u0437\\u0434\\u0430\\u043b\\u0430 \\u043d\\u0430 40 \\u043c\\u0438\\u043d\\u0443\\u0442, \\u0442\\u0430\\u043a \\u043a\\u0430\\u043a \\u043d\\u0435 \\u0437\\u043d\\u0430\\u043b\\u0430, \\u0447\\u0435\\u0440\\u0435\\u0437 \\u043a\\u0430\\u043a\\u043e\\u0439 \\u0432\\u0445\\u043e\\u0434 \\u043f\\u043e\\u043f\\u0430\\u0441\\u0442\\u044c \\u0432 \\u043c\\u043e\\u0440\\u0433, \\u0441\\u043e\\u043e\\u0431\\u0449\\u0430\\u044e\\u0442 \\u0420\\u0418\\u0410 \\u00ab\\u041d\\u043e\\u0432\\u043e\\u0441\\u0442\\u0438\\u00bb.  \\u0424\\u043e\\u0442\\u043e: splashnews \\u0422\\u0430\\u043a\\u043e\\u0435 \\u0431\\u043b\\u0438\\u0437\\u043a\\u043e\\u0435 \\u0441\\u043e\\u0441\\u0435\\u0434\\u0441\\u0442\\u0432\\u043e \\u0441 \\u0433\\u043e\\u043b\\u043b\\u0438\\u0432\\u0443\\u0434\\u0441\\u043a\\u043e\\u0439 \\u0437\\u0432\\u0435\\u0437\\u0434\\u043e\\u0439 \\u0443\\u0434\\u0438\\u0432\\u0438\\u043b\\u043e \\u0441\\u043e\\u0442\\u0440\\u0443\\u0434\\u043d\\u0438\\u043a\\u043e\\u0432 \\u043c\\u043e\\u0440\\u0433\\u0430. \\u0418 \\u043e\\u043d\\u0438, \\u0432\\u0438\\u0434\\u0438\\u043c\\u043e, \\u0436\\u0435\\u043b\\u0430\\u044f \\u0440\\u0430\\u0437\\u0432\\u043b\\u0435\\u0447\\u044c\\u0441\\u044f \\u0438 \\u0437\\u0430\\u043e\\u0434\\u043d\\u043e \\u0437\\u0430\\u043f\\u0435\\u0447\\u0430\\u0442\\u043b\\u0435\\u0442\\u044c \\u0442\\u0430\\u043a\\u043e\\u0439 \\u043d\\u0435\\u043f\\u043e\\u0432\\u0442\\u043e\\u0440\\u0438\\u043c\\u044b\\u0439 \\u043c\\u043e\\u043c\\u0435\\u043d\\u0442, \\u043a\\u0430\\u043a \\u041b\\u0438\\u043d\\u0434\\u0441\\u0438 \\u041b\\u043e\\u0445\\u0430\\u043d \\u0432 \\u043c\\u043e\\u0440\\u0433\\u0435, \\u0440\\u0435\\u0448\\u0438\\u043b\\u0438 \\u043d\\u0430\\u0447\\u0430\\u0442\\u044c \\u0444\\u043e\\u0442\\u043e\\u0433\\u0440\\u0430\\u0444\\u0438\\u0440\\u043e\\u0432\\u0430\\u0442\\u044c \\u0430\\u043a\\u0442\\u0440\\u0438\\u0441\\u0443. \\u0423\\u0437\\u043d\\u0430\\u0432 \\u043e\\u0431 \\u044d\\u0442\\u043e\\u043c, \\u043d\\u0430\\u0447\\u0430\\u043b\\u044c\\u0441\\u0442\\u0432\\u043e \\u043a\\u0430\\u0442\\u0435\\u0433\\u043e\\u0440\\u0438\\u0447\\u0435\\u0441\\u043a\\u0438 \\u0437\\u0430\\u043f\\u0440\\u0435\\u0442\\u0438\\u043b\\u043e \\u0441\\u043d\\u0438\\u043c\\u0430\\u0442\\u044c \\u041b\\u043e\\u0445\\u0430\\u043d. \\u0411\\u043e\\u043b\\u0435\\u0435 \\u0442\\u043e\\u0433\\u043e \\u2013 \\u043b\\u044e\\u0431\\u043e\\u0439, \\u043a\\u0442\\u043e \\u0441\\u0444\\u043e\\u0442\\u043e\\u0433\\u0440\\u0430\\u0444\\u0438\\u0440\\u0443\\u0435\\u0442 \\u041b\\u0438\\u043d\\u0434\\u0441\\u0438 \\u0437\\u0430 \\u0435\\u0435 \\u0440\\u0430\\u0431\\u043e\\u0442\\u043e\\u0439, \\u0431\\u0443\\u0434\\u0435\\u0442 \\u043d\\u0435\\u043c\\u0435\\u0434\\u043b\\u0435\\u043d\\u043d\\u043e \\u0443\\u0432\\u043e\\u043b\\u0435\\u043d.\",\n          \"\\u0410\\u043c\\u0435\\u0440\\u0438\\u043a\\u0430\\u043d\\u0441\\u043a\\u0438\\u0439 \\u0430\\u043a\\u0442\\u0435\\u0440 \\u0414\\u0436\\u0435\\u0439\\u0434\\u0435\\u043d \\u041b\\u0438\\u0431\\u0435\\u0440\\u0435\\u0440 \\u0440\\u0430\\u0441\\u0441\\u043a\\u0430\\u0437\\u0430\\u043b, \\u043a\\u0430\\u043a \\u043c\\u043e\\u0433 \\u0437\\u0430\\u043a\\u043e\\u043d\\u0447\\u0438\\u0442\\u044c\\u0441\\u044f \\u0444\\u0438\\u043b\\u044c\\u043c \\u0443\\u0436\\u0430\\u0441\\u043e\\u0432 \\u00ab\\u041e\\u043d\\u043e\\u00bb \\u0440\\u0435\\u0436\\u0438\\u0441\\u0441\\u0435\\u0440\\u0430 \\u0410\\u043d\\u0434\\u0440\\u0435\\u0441\\u0430 \\u041c\\u0443\\u0441\\u043a\\u0435\\u0442\\u0442\\u0438, \\u043f\\u0438\\u0448\\u0435\\u0442 Variety. \\u041f\\u043e \\u0441\\u043b\\u043e\\u0432\\u0430\\u043c \\u041b\\u0438\\u0431\\u0435\\u0440\\u0435\\u0440\\u0430, \\u0438\\u0437\\u043d\\u0430\\u0447\\u0430\\u043b\\u044c\\u043d\\u043e \\u043f\\u043b\\u0430\\u043d\\u0438\\u0440\\u043e\\u0432\\u0430\\u043b\\u043e\\u0441\\u044c, \\u0447\\u0442\\u043e \\u0432 \\u0437\\u0430\\u043a\\u043b\\u044e\\u0447\\u0438\\u0442\\u0435\\u043b\\u044c\\u043d\\u043e\\u0439 \\u0441\\u0446\\u0435\\u043d\\u0435 \\u0435\\u0433\\u043e \\u0433\\u0435\\u0440\\u043e\\u0439 \\u043f\\u043e\\u0431\\u0435\\u0436\\u0434\\u0430\\u0435\\u0442 \\u0437\\u043b\\u043e\\u0432\\u0435\\u0449\\u0435\\u0433\\u043e \\u043a\\u043b\\u043e\\u0443\\u043d\\u0430 \\u0432 \\u043e\\u0434\\u0438\\u043d\\u043e\\u0447\\u043a\\u0443: \\u0412 \\u043a\\u043e\\u043d\\u0446\\u0435 \\u044f \\u0437\\u0430\\u043b\\u0435\\u0437\\u0430\\u044e \\u043d\\u0430 \\u0431\\u0430\\u0448\\u043d\\u044e \\u0438 \\u043e\\u043a\\u0430\\u0437\\u044b\\u0432\\u0430\\u044e\\u0441\\u044c \\u043e\\u0434\\u0438\\u043d \\u043d\\u0430 \\u043e\\u0434\\u0438\\u043d \\u0441 \\u041f\\u0435\\u043d\\u043d\\u0438\\u0432\\u0430\\u0439\\u0437\\u043e\\u043c. \\u042f \\u0433\\u043e\\u0432\\u043e\\u0440\\u044e \\u0435\\u043c\\u0443, \\u0447\\u0442\\u043e \\u043d\\u0435 \\u0431\\u043e\\u044e\\u0441\\u044c \\u0435\\u0433\\u043e \\u0438 \\u043d\\u0438\\u043a\\u0442\\u043e \\u0438\\u0437 \\u043d\\u0430\\u0441 \\u043d\\u0435 \\u0431\\u043e\\u0438\\u0442\\u0441\\u044f \\u0435\\u0433\\u043e, \\u0438 \\u0442\\u0430\\u043a\\u0438\\u043c \\u043e\\u0431\\u0440\\u0430\\u0437\\u043e\\u043c \\u043c\\u044b \\u043f\\u043e\\u0431\\u0435\\u0436\\u0434\\u0430\\u0435\\u043c. \\u0412 \\u043e\\u0440\\u0438\\u0433\\u0438\\u043d\\u0430\\u043b\\u044c\\u043d\\u043e\\u0439 \\u043a\\u043e\\u043d\\u0446\\u043e\\u0432\\u043a\\u0435 \\u0436\\u0435 \\u0433\\u043b\\u0430\\u0432\\u043d\\u044b\\u0435 \\u0433\\u0435\\u0440\\u043e\\u0438 \\u0438\\u0437\\u0433\\u043e\\u043d\\u044f\\u044e\\u0442 \\u043a\\u043b\\u043e\\u0443\\u043d\\u0430 \\u0432\\u043c\\u0435\\u0441\\u0442\\u0435. \\u0421\\u043c\\u043e\\u0442\\u0440\\u0438\\u0442\\u0435 \\u043e\\u043d\\u043b\\u0430\\u0439\\u043d: 15 \\u0441\\u0435\\u0440\\u0438\\u0430\\u043b\\u043e\\u0432 \\u043f\\u043e \\u0421\\u0442\\u0438\\u0432\\u0435\\u043d\\u0443 \\u041a\\u0438\\u043d\\u0433\\u0443 \\u041b\\u0435\\u043d\\u0442\\u0430 \\u041c\\u0443\\u0441\\u043a\\u0435\\u0442\\u0442\\u0438, \\u0432\\u044b\\u0448\\u0435\\u0434\\u0448\\u0430\\u044f 7 \\u0441\\u0435\\u043d\\u0442\\u044f\\u0431\\u0440\\u044f, \\u0441\\u0442\\u0430\\u043b\\u0430 \\u0440\\u0435\\u043c\\u0435\\u0439\\u043a\\u043e\\u043c \\u0444\\u0438\\u043b\\u044c\\u043c\\u0430 \\u0443\\u0436\\u0430\\u0441\\u043e\\u0432 1990 \\u0433\\u043e\\u0434\\u0430. \\u042d\\u043a\\u0440\\u0430\\u043d\\u0438\\u0437\\u0430\\u0446\\u0438\\u044f \\u043e\\u0434\\u043d\\u043e\\u0438\\u043c\\u0435\\u043d\\u043d\\u043e\\u0433\\u043e \\u0440\\u043e\\u043c\\u0430\\u043d\\u0430 \\u043f\\u0438\\u0441\\u0430\\u0442\\u0435\\u043b\\u044f \\u0421\\u0442\\u0438\\u0432\\u0435\\u043d\\u0430 \\u041a\\u0438\\u043d\\u0433\\u0430 \\u043f\\u043e\\u0432\\u0435\\u0441\\u0442\\u0432\\u0443\\u0435\\u0442 \\u043e \\u0442\\u043e\\u043c, \\u043a\\u0430\\u043a \\u043a\\u043b\\u043e\\u0443\\u043d \\u041f\\u0435\\u043d\\u043d\\u0438\\u0432\\u0430\\u0439\\u0437 \\u043f\\u043e\\u0445\\u0438\\u0449\\u0430\\u0435\\u0442 \\u0434\\u0435\\u0442\\u0435\\u0439 \\u0432 \\u043c\\u0430\\u043b\\u0435\\u043d\\u044c\\u043a\\u043e\\u043c \\u0430\\u043c\\u0435\\u0440\\u0438\\u043a\\u0430\\u043d\\u0441\\u043a\\u043e\\u043c \\u0433\\u043e\\u0440\\u043e\\u0434\\u0435. \\u0424\\u0438\\u043b\\u044c\\u043c \\u0443\\u0441\\u0442\\u0430\\u043d\\u043e\\u0432\\u0438\\u043b \\u0440\\u0435\\u043a\\u043e\\u0440\\u0434 \\u043f\\u043e \\u043a\\u0430\\u0441\\u0441\\u043e\\u0432\\u044b\\u043c \\u0441\\u0431\\u043e\\u0440\\u0430\\u043c \\u0441\\u0440\\u0435\\u0434\\u0438 \\u0445\\u043e\\u0440\\u0440\\u043e\\u0440\\u043e\\u0432 \\u0432 \\u0430\\u043c\\u0435\\u0440\\u0438\\u043a\\u0430\\u043d\\u0441\\u043a\\u043e\\u043c \\u043f\\u0440\\u043e\\u043a\\u0430\\u0442\\u0435.\",\n          \"\\u0420\\u043e\\u0441\\u0441\\u0438\\u0439\\u0441\\u043a\\u0438\\u0439 \\u0444\\u0430\\u043d\\u0442\\u0430\\u0441\\u0442\\u0438\\u0447\\u0435\\u0441\\u043a\\u0438\\u0439 \\u0441\\u0435\\u0440\\u0438\\u0430\\u043b 2022 \\u0433\\u043e\\u0434\\u0430 \\u00ab\\u0421\\u0443\\u043f\\u0435\\u0440\\u043f\\u043e\\u0437\\u0438\\u0446\\u0438\\u044f\\u00bb, \\u0433\\u043b\\u0430\\u0432\\u043d\\u0443\\u044e \\u0440\\u043e\\u043b\\u044c \\u0432 \\u043a\\u043e\\u0442\\u043e\\u0440\\u043e\\u043c \\u0438\\u0441\\u043f\\u043e\\u043b\\u043d\\u0438\\u043b \\u0430\\u043a\\u0442\\u0435\\u0440 \\u041f\\u0430\\u0432\\u0435\\u043b \\u0422\\u0430\\u0431\\u0430\\u043a\\u043e\\u0432, \\u043f\\u043e\\u043b\\u0443\\u0447\\u0438\\u043b \\u0447\\u0435\\u0442\\u044b\\u0440\\u0435 \\u043d\\u0430\\u0433\\u0440\\u0430\\u0434\\u044b \\u043d\\u0430 \\u0444\\u0435\\u0441\\u0442\\u0438\\u0432\\u0430\\u043b\\u0435 Baltimore Next Media Web Fest \\u0432 \\u0421\\u0428\\u0410. \\u041e\\u0431 \\u044d\\u0442\\u043e\\u043c \\u0441\\u043e\\u043e\\u0431\\u0449\\u0430\\u0435\\u0442 \\u00ab\\u0411\\u044e\\u043b\\u043b\\u0435\\u0442\\u0435\\u043d\\u044c \\u043a\\u0438\\u043d\\u043e\\u043f\\u0440\\u043e\\u043a\\u0430\\u0442\\u0447\\u0438\\u043a\\u0430\\u00bb. \\u0418\\u0437\\u0434\\u0430\\u043d\\u0438\\u0435 \\u043f\\u043e\\u0434\\u0447\\u0435\\u0440\\u043a\\u0438\\u0432\\u0430\\u0435\\u0442, \\u0447\\u0442\\u043e, \\u043f\\u043e\\u043c\\u0438\\u043c\\u043e \\u043f\\u0440\\u043e\\u0447\\u0435\\u0433\\u043e, \\u0448\\u043e\\u0443 \\u0443\\u0434\\u043e\\u0441\\u0442\\u043e\\u0438\\u043b\\u043e\\u0441\\u044c \\u043f\\u0440\\u0438\\u0437\\u0430 \\u0437\\u0430 \\u043b\\u0443\\u0447\\u0448\\u0438\\u0439 \\u0444\\u0430\\u043d\\u0442\\u0430\\u0441\\u0442\\u0438\\u0447\\u0435\\u0441\\u043a\\u0438\\u0439 \\u0441\\u0435\\u0440\\u0438\\u0430\\u043b. \\u0415\\u0433\\u043e \\u0442\\u0430\\u043a\\u0436\\u0435 \\u043e\\u0442\\u043c\\u0435\\u0442\\u0438\\u043b\\u0438 \\u0432 \\u043a\\u0430\\u0442\\u0435\\u0433\\u043e\\u0440\\u0438\\u044f\\u0445 \\u00ab\\u041b\\u0443\\u0447\\u0448\\u0438\\u0439 \\u0441\\u0446\\u0435\\u043d\\u0430\\u0440\\u0438\\u0439\\u00bb, \\u00ab\\u041b\\u0443\\u0447\\u0448\\u0438\\u0439 \\u0440\\u0435\\u0436\\u0438\\u0441\\u0441\\u0435\\u0440\\u00bb \\u0438 \\u00ab\\u041b\\u0443\\u0447\\u0448\\u0438\\u0439 \\u0430\\u043a\\u0442\\u0435\\u0440\\u0441\\u043a\\u0438\\u0439 \\u0441\\u043e\\u0441\\u0442\\u0430\\u0432\\u00bb. \\u041f\\u043e \\u0441\\u044e\\u0436\\u0435\\u0442\\u0443, \\u0433\\u043b\\u0430\\u0432\\u043d\\u044b\\u0439 \\u0433\\u0435\\u0440\\u043e\\u0439 \\u043f\\u044b\\u0442\\u0430\\u0435\\u0442\\u0441\\u044f \\u043d\\u0430\\u0439\\u0442\\u0438 \\u0441\\u0432\\u043e\\u0435\\u0433\\u043e \\u043e\\u0442\\u0446\\u0430 \\u2014 \\u043f\\u0440\\u043e\\u043f\\u0430\\u0432\\u0448\\u0435\\u0433\\u043e \\u043f\\u0440\\u043e\\u0444\\u0435\\u0441\\u0441\\u043e\\u0440\\u0430 \\u043a\\u0432\\u0430\\u043d\\u0442\\u043e\\u0432\\u043e\\u0439 \\u0444\\u0438\\u0437\\u0438\\u043a\\u0438. \\u0412\\u043e \\u0432\\u0440\\u0435\\u043c\\u044f \\u043f\\u043e\\u0438\\u0441\\u043a\\u043e\\u0432 \\u043e\\u043d \\u0443\\u0437\\u043d\\u0430\\u0435\\u0442, \\u0447\\u0442\\u043e \\u043e\\u0442\\u0435\\u0446 \\u0434\\u043e\\u043a\\u0430\\u0437\\u0430\\u043b \\u0441\\u0443\\u0449\\u0435\\u0441\\u0442\\u0432\\u043e\\u0432\\u0430\\u043d\\u0438\\u0435 \\u043c\\u0443\\u043b\\u044c\\u0442\\u0438\\u0432\\u0441\\u0435\\u043b\\u0435\\u043d\\u043d\\u043e\\u0439, \\u0438 \\u0432 \\u0440\\u0430\\u0437\\u043d\\u044b\\u0445 \\u043c\\u0438\\u0440\\u0430\\u0445 \\u0436\\u0438\\u0432\\u0443\\u0442 \\u0430\\u043b\\u044c\\u0442\\u0435\\u0440\\u043d\\u0430\\u0442\\u0438\\u0432\\u043d\\u044b\\u0435 \\u0432\\u0435\\u0440\\u0441\\u0438\\u0438 \\u043a\\u0430\\u0436\\u0434\\u043e\\u0433\\u043e \\u0447\\u0435\\u043b\\u043e\\u0432\\u0435\\u043a\\u0430. \\u0412 \\u0420\\u043e\\u0441\\u0441\\u0438\\u0438 \\u043f\\u0440\\u0435\\u043c\\u044c\\u0435\\u0440\\u0430 \\u00ab\\u0421\\u0443\\u043f\\u0435\\u0440\\u043f\\u043e\\u0437\\u0438\\u0446\\u0438\\u0438\\u00bb \\u0441\\u043e\\u0441\\u0442\\u043e\\u044f\\u043b\\u0430\\u0441\\u044c 10 \\u043d\\u043e\\u044f\\u0431\\u0440\\u044f 2022 \\u0433\\u043e\\u0434\\u0430 \\u043d\\u0430 \\u043e\\u043d\\u043b\\u0430\\u0439\\u043d-\\u043f\\u043b\\u0430\\u0442\\u0444\\u043e\\u0440\\u043c\\u0430\\u0445. \\u041f\\u043e\\u043c\\u0438\\u043c\\u043e \\u0422\\u0430\\u0431\\u0430\\u043a\\u043e\\u0432\\u0430 \\u0432 \\u0441\\u0435\\u0440\\u0438\\u0430\\u043b\\u0435 \\u0441\\u043d\\u044f\\u043b\\u0438\\u0441\\u044c \\u041a\\u043e\\u043d\\u0441\\u0442\\u0430\\u043d\\u0442\\u0438\\u043d \\u041b\\u0430\\u0432\\u0440\\u043e\\u043d\\u0435\\u043d\\u043a\\u043e, \\u041c\\u0430\\u0440\\u0438\\u043d\\u0430 \\u0417\\u0443\\u0434\\u0438\\u043d\\u0430 \\u0438 \\u041b\\u0443\\u043a\\u0435\\u0440\\u044c\\u044f \\u0418\\u043b\\u044c\\u044f\\u0448\\u0435\\u043d\\u043a\\u043e. \\u0420\\u0435\\u0436\\u0438\\u0441\\u0441\\u0435\\u0440\\u043e\\u043c \\u043f\\u0440\\u043e\\u0435\\u043a\\u0442\\u0430 \\u0432\\u044b\\u0441\\u0442\\u0443\\u043f\\u0438\\u043b \\u0412\\u0430\\u0434\\u0438\\u043c \\u0412\\u0430\\u043b\\u0438\\u0443\\u043b\\u043b\\u0438\\u043d. \\u041f\\u0440\\u043e\\u0434\\u044e\\u0441\\u0438\\u0440\\u0443\\u0435\\u043c\\u0430\\u044f \\u0421\\u0435\\u0440\\u0433\\u0435\\u0435\\u043c \\u0428\\u043d\\u0443\\u0440\\u043e\\u0432\\u044b\\u043c \\u0433\\u0440\\u0443\\u043f\\u043f\\u0430 \\u00ab\\u0417\\u043e\\u044f\\u00bb \\u0437\\u0430\\u043f\\u0438\\u0441\\u0430\\u043b\\u0430 \\u0441\\u0430\\u0443\\u043d\\u0434\\u0442\\u0440\\u0435\\u043a. \\u041f\\u0440\\u0438 \\u044d\\u0442\\u043e\\u043c \\u0432\\u043e\\u043a\\u0430\\u043b\\u0438\\u0441\\u0442\\u043a\\u0430 \\u043a\\u043e\\u043b\\u043b\\u0435\\u043a\\u0442\\u0438\\u0432\\u0430 \\u0434\\u0435\\u0431\\u044e\\u0442\\u0438\\u0440\\u043e\\u0432\\u0430\\u043b\\u0430 \\u0432 \\u043f\\u0440\\u043e\\u0435\\u043a\\u0442\\u0435 \\u043a\\u0430\\u043a \\u0430\\u043a\\u0442\\u0440\\u0438\\u0441\\u0430.\"\n        ],\n        \"semantic_type\": \"\",\n        \"description\": \"\"\n      }\n    },\n    {\n      \"column\": \"Keywords\",\n      \"properties\": {\n        \"dtype\": \"category\",\n        \"num_unique_values\": 550,\n        \"samples\": [\n          \"\\u0421\\u0422\\u0410\\u0422\\u042c\\u042f, \\u041e\\u0411\\u0417\\u041e\\u0420\\u042b, \\u0411\\u041e\\u0415\\u0412\\u0418\\u041a, \\u041f\\u0420\\u0418\\u041a\\u041b\\u042e\\u0427\\u0415\\u041d\\u0418\\u042f, \\u0424\\u0410\\u041d\\u0422\\u0410\\u0421\\u0422\\u0418\\u041a\\u0410, \\u0424\\u042d\\u041d\\u0422\\u0415\\u0417\\u0418, \\u0411\\u041e\\u0415\\u0412\\u0418\\u041a, \\u041f\\u0420\\u0418\\u041a\\u041b\\u042e\\u0427\\u0415\\u041d\\u0418\\u042f, \\u0424\\u0410\\u041d\\u0422\\u0410\\u0421\\u0422\\u0418\\u041a\\u0410, \\u0414\\u0420\\u0410\\u041c\\u0410, \\u0411\\u041e\\u0415\\u0412\\u0418\\u041a, \\u0424\\u0410\\u041d\\u0422\\u0410\\u0421\\u0422\\u0418\\u041a\\u0410, \\u0414\\u0420\\u0410\\u041c\\u0410, \\u0411\\u041e\\u0415\\u0412\\u0418\\u041a, \\u0424\\u0410\\u041d\\u0422\\u0410\\u0421\\u0422\\u0418\\u041a\\u0410, \\u0424\\u042d\\u041d\\u0422\\u0415\\u0417\\u0418, \\u0411\\u041e\\u0415\\u0412\\u0418\\u041a, \\u041f\\u0420\\u0418\\u041a\\u041b\\u042e\\u0427\\u0415\\u041d\\u0418\\u042f, \\u0424\\u042d\\u041d\\u0422\\u0415\\u0417\\u0418, \\u0411\\u041e\\u0415\\u0412\\u0418\\u041a, \\u041f\\u0420\\u0418\\u041a\\u041b\\u042e\\u0427\\u0415\\u041d\\u0418\\u042f, \\u0424\\u0410\\u041d\\u0422\\u0410\\u0421\\u0422\\u0418\\u041a\\u0410\",\n          \"\\u0421\\u0422\\u0410\\u0422\\u042c\\u042f\",\n          \"\\u041d\\u041e\\u0412\\u041e\\u0421\\u0422\\u042c, \\u0414\\u0415\\u0422\\u0415\\u041a\\u0422\\u0418\\u0412\"\n        ],\n        \"semantic_type\": \"\",\n        \"description\": \"\"\n      }\n    }\n  ]\n}",
              "type": "dataframe",
              "variable_name": "news_df"
            },
            "text/html": [
              "\n",
              "  <div id=\"df-817133d2-b209-47b3-9c69-bf0061b1440f\" class=\"colab-df-container\">\n",
              "    <div>\n",
              "<style scoped>\n",
              "    .dataframe tbody tr th:only-of-type {\n",
              "        vertical-align: middle;\n",
              "    }\n",
              "\n",
              "    .dataframe tbody tr th {\n",
              "        vertical-align: top;\n",
              "    }\n",
              "\n",
              "    .dataframe thead th {\n",
              "        text-align: right;\n",
              "    }\n",
              "</style>\n",
              "<table border=\"1\" class=\"dataframe\">\n",
              "  <thead>\n",
              "    <tr style=\"text-align: right;\">\n",
              "      <th></th>\n",
              "      <th>URL</th>\n",
              "      <th>Title</th>\n",
              "      <th>Description</th>\n",
              "      <th>Article Text</th>\n",
              "      <th>Keywords</th>\n",
              "    </tr>\n",
              "  </thead>\n",
              "  <tbody>\n",
              "    <tr>\n",
              "      <th>0</th>\n",
              "      <td>https://kino.mail.ru/news/61905-serial-na-viho...</td>\n",
              "      <td>Сериал на выходные: едкая детективная комедия ...</td>\n",
              "      <td>Рассказываем о густонаселенном сериале «Прести...</td>\n",
              "      <td>В элитном поселке, где обитают сплошь богачи, ...</td>\n",
              "      <td>СТАТЬЯ, ЧТО ПОСМОТРЕТЬ, ДРАМА, КОМЕДИЯ, ДЕТЕКТИВ</td>\n",
              "    </tr>\n",
              "    <tr>\n",
              "      <th>1</th>\n",
              "      <td>https://kino.mail.ru/news/61913-film-na-vecher...</td>\n",
              "      <td>Фильм на вечер: атмосферный фильм-катастрофа с...</td>\n",
              "      <td>Погружаемся в апокалиптический триллер о франц...</td>\n",
              "      <td>Мир охвачен паникой — повсюду наблюдаются аном...</td>\n",
              "      <td>СТАТЬЯ, ЧТО ПОСМОТРЕТЬ, ДРАМА, ТРИЛЛЕР, ФАНТАС...</td>\n",
              "    </tr>\n",
              "    <tr>\n",
              "      <th>2</th>\n",
              "      <td>https://kino.mail.ru/news/61900-treiler-dnya-m...</td>\n",
              "      <td>Трейлер дня: Милла Йовович возвращается в трил...</td>\n",
              "      <td>Актриса снялась в новом экшене про пост-апокал...</td>\n",
              "      <td>Вышел дублированный трейлер фантастического тр...</td>\n",
              "      <td>СТАТЬЯ, ЧТО ПОСМОТРЕТЬ</td>\n",
              "    </tr>\n",
              "    <tr>\n",
              "      <th>3</th>\n",
              "      <td>https://kino.mail.ru/news/61871-film-na-vecher...</td>\n",
              "      <td>Фильм на вечер: милая зомби-комедия со звездой...</td>\n",
              "      <td>Заряжаемся хулиганским настроением за просмотр...</td>\n",
              "      <td>Оставшись сиротой, юный Оливер оказывается в т...</td>\n",
              "      <td>СТАТЬЯ, ЧТО ПОСМОТРЕТЬ, КОМЕДИЯ, УЖАСЫ</td>\n",
              "    </tr>\n",
              "    <tr>\n",
              "      <th>4</th>\n",
              "      <td>https://kino.mail.ru/news/61854-treiler-dnya-7...</td>\n",
              "      <td>Трейлер дня: 79-летний Майкл Дуглас играет Бен...</td>\n",
              "      <td>В сериале «Франклин» актер в роли отца-основат...</td>\n",
              "      <td>Вышел трейлер костюмированной 8-серийной драмы...</td>\n",
              "      <td>СТАТЬЯ, ЧТО ПОСМОТРЕТЬ</td>\n",
              "    </tr>\n",
              "    <tr>\n",
              "      <th>...</th>\n",
              "      <td>...</td>\n",
              "      <td>...</td>\n",
              "      <td>...</td>\n",
              "      <td>...</td>\n",
              "      <td>...</td>\n",
              "    </tr>\n",
              "    <tr>\n",
              "      <th>21088</th>\n",
              "      <td>https://kino.mail.ru/news/16973_novyj_koshmar_...</td>\n",
              "      <td>Новый «Кошмар на улице Вязов» будет очень стра...</td>\n",
              "      <td>Съемки новой версии знаменитого фильма ужасов ...</td>\n",
              "      <td>Съемки новой версии знаменитого фильма ужасов ...</td>\n",
              "      <td>НОВОСТЬ</td>\n",
              "    </tr>\n",
              "    <tr>\n",
              "      <th>21089</th>\n",
              "      <td>https://kino.mail.ru/news/16988_razbitaja_gita...</td>\n",
              "      <td>Разбитая гитара Курта Кобейна продана за 100 т...</td>\n",
              "      <td>Разбитая гитара Курта Кобейна, выставленная на...</td>\n",
              "      <td>Разбитая гитара Курта Кобейна, выставленная на...</td>\n",
              "      <td>НОВОСТЬ</td>\n",
              "    </tr>\n",
              "    <tr>\n",
              "      <th>21090</th>\n",
              "      <td>https://kino.mail.ru/news/16977_no_doubt_otloz...</td>\n",
              "      <td>No Doubt отложили выпуск альбома до 2010 года</td>\n",
              "      <td>Возобновившая творческую деятельность группа N...</td>\n",
              "      <td>Возобновившая тв орческую деятельность группа ...</td>\n",
              "      <td>НОВОСТЬ</td>\n",
              "    </tr>\n",
              "    <tr>\n",
              "      <th>21091</th>\n",
              "      <td>https://kino.mail.ru/news/20971_po_podozreniju...</td>\n",
              "      <td>По подозрению в убийстве задержан сын Василия ...</td>\n",
              "      <td>Как рассказал источник в правоохранительных ор...</td>\n",
              "      <td>Как рассказал источник в правоохранительных ор...</td>\n",
              "      <td>НОВОСТЬ</td>\n",
              "    </tr>\n",
              "    <tr>\n",
              "      <th>21092</th>\n",
              "      <td>https://kino.mail.ru/news/16974_alena_sviridov...</td>\n",
              "      <td>Алена Свиридова рассказала про правильную энер...</td>\n",
              "      <td>В эфире радиостанций стартовала новая композиц...</td>\n",
              "      <td>В эфире радиостанций стартовала новая композиц...</td>\n",
              "      <td>НОВОСТЬ</td>\n",
              "    </tr>\n",
              "  </tbody>\n",
              "</table>\n",
              "<p>21093 rows × 5 columns</p>\n",
              "</div>\n",
              "    <div class=\"colab-df-buttons\">\n",
              "\n",
              "  <div class=\"colab-df-container\">\n",
              "    <button class=\"colab-df-convert\" onclick=\"convertToInteractive('df-817133d2-b209-47b3-9c69-bf0061b1440f')\"\n",
              "            title=\"Convert this dataframe to an interactive table.\"\n",
              "            style=\"display:none;\">\n",
              "\n",
              "  <svg xmlns=\"http://www.w3.org/2000/svg\" height=\"24px\" viewBox=\"0 -960 960 960\">\n",
              "    <path d=\"M120-120v-720h720v720H120Zm60-500h600v-160H180v160Zm220 220h160v-160H400v160Zm0 220h160v-160H400v160ZM180-400h160v-160H180v160Zm440 0h160v-160H620v160ZM180-180h160v-160H180v160Zm440 0h160v-160H620v160Z\"/>\n",
              "  </svg>\n",
              "    </button>\n",
              "\n",
              "  <style>\n",
              "    .colab-df-container {\n",
              "      display:flex;\n",
              "      gap: 12px;\n",
              "    }\n",
              "\n",
              "    .colab-df-convert {\n",
              "      background-color: #E8F0FE;\n",
              "      border: none;\n",
              "      border-radius: 50%;\n",
              "      cursor: pointer;\n",
              "      display: none;\n",
              "      fill: #1967D2;\n",
              "      height: 32px;\n",
              "      padding: 0 0 0 0;\n",
              "      width: 32px;\n",
              "    }\n",
              "\n",
              "    .colab-df-convert:hover {\n",
              "      background-color: #E2EBFA;\n",
              "      box-shadow: 0px 1px 2px rgba(60, 64, 67, 0.3), 0px 1px 3px 1px rgba(60, 64, 67, 0.15);\n",
              "      fill: #174EA6;\n",
              "    }\n",
              "\n",
              "    .colab-df-buttons div {\n",
              "      margin-bottom: 4px;\n",
              "    }\n",
              "\n",
              "    [theme=dark] .colab-df-convert {\n",
              "      background-color: #3B4455;\n",
              "      fill: #D2E3FC;\n",
              "    }\n",
              "\n",
              "    [theme=dark] .colab-df-convert:hover {\n",
              "      background-color: #434B5C;\n",
              "      box-shadow: 0px 1px 3px 1px rgba(0, 0, 0, 0.15);\n",
              "      filter: drop-shadow(0px 1px 2px rgba(0, 0, 0, 0.3));\n",
              "      fill: #FFFFFF;\n",
              "    }\n",
              "  </style>\n",
              "\n",
              "    <script>\n",
              "      const buttonEl =\n",
              "        document.querySelector('#df-817133d2-b209-47b3-9c69-bf0061b1440f button.colab-df-convert');\n",
              "      buttonEl.style.display =\n",
              "        google.colab.kernel.accessAllowed ? 'block' : 'none';\n",
              "\n",
              "      async function convertToInteractive(key) {\n",
              "        const element = document.querySelector('#df-817133d2-b209-47b3-9c69-bf0061b1440f');\n",
              "        const dataTable =\n",
              "          await google.colab.kernel.invokeFunction('convertToInteractive',\n",
              "                                                    [key], {});\n",
              "        if (!dataTable) return;\n",
              "\n",
              "        const docLinkHtml = 'Like what you see? Visit the ' +\n",
              "          '<a target=\"_blank\" href=https://colab.research.google.com/notebooks/data_table.ipynb>data table notebook</a>'\n",
              "          + ' to learn more about interactive tables.';\n",
              "        element.innerHTML = '';\n",
              "        dataTable['output_type'] = 'display_data';\n",
              "        await google.colab.output.renderOutput(dataTable, element);\n",
              "        const docLink = document.createElement('div');\n",
              "        docLink.innerHTML = docLinkHtml;\n",
              "        element.appendChild(docLink);\n",
              "      }\n",
              "    </script>\n",
              "  </div>\n",
              "\n",
              "\n",
              "<div id=\"df-aefbc945-e73b-4b7a-8f42-e2a84d1dfce2\">\n",
              "  <button class=\"colab-df-quickchart\" onclick=\"quickchart('df-aefbc945-e73b-4b7a-8f42-e2a84d1dfce2')\"\n",
              "            title=\"Suggest charts\"\n",
              "            style=\"display:none;\">\n",
              "\n",
              "<svg xmlns=\"http://www.w3.org/2000/svg\" height=\"24px\"viewBox=\"0 0 24 24\"\n",
              "     width=\"24px\">\n",
              "    <g>\n",
              "        <path d=\"M19 3H5c-1.1 0-2 .9-2 2v14c0 1.1.9 2 2 2h14c1.1 0 2-.9 2-2V5c0-1.1-.9-2-2-2zM9 17H7v-7h2v7zm4 0h-2V7h2v10zm4 0h-2v-4h2v4z\"/>\n",
              "    </g>\n",
              "</svg>\n",
              "  </button>\n",
              "\n",
              "<style>\n",
              "  .colab-df-quickchart {\n",
              "      --bg-color: #E8F0FE;\n",
              "      --fill-color: #1967D2;\n",
              "      --hover-bg-color: #E2EBFA;\n",
              "      --hover-fill-color: #174EA6;\n",
              "      --disabled-fill-color: #AAA;\n",
              "      --disabled-bg-color: #DDD;\n",
              "  }\n",
              "\n",
              "  [theme=dark] .colab-df-quickchart {\n",
              "      --bg-color: #3B4455;\n",
              "      --fill-color: #D2E3FC;\n",
              "      --hover-bg-color: #434B5C;\n",
              "      --hover-fill-color: #FFFFFF;\n",
              "      --disabled-bg-color: #3B4455;\n",
              "      --disabled-fill-color: #666;\n",
              "  }\n",
              "\n",
              "  .colab-df-quickchart {\n",
              "    background-color: var(--bg-color);\n",
              "    border: none;\n",
              "    border-radius: 50%;\n",
              "    cursor: pointer;\n",
              "    display: none;\n",
              "    fill: var(--fill-color);\n",
              "    height: 32px;\n",
              "    padding: 0;\n",
              "    width: 32px;\n",
              "  }\n",
              "\n",
              "  .colab-df-quickchart:hover {\n",
              "    background-color: var(--hover-bg-color);\n",
              "    box-shadow: 0 1px 2px rgba(60, 64, 67, 0.3), 0 1px 3px 1px rgba(60, 64, 67, 0.15);\n",
              "    fill: var(--button-hover-fill-color);\n",
              "  }\n",
              "\n",
              "  .colab-df-quickchart-complete:disabled,\n",
              "  .colab-df-quickchart-complete:disabled:hover {\n",
              "    background-color: var(--disabled-bg-color);\n",
              "    fill: var(--disabled-fill-color);\n",
              "    box-shadow: none;\n",
              "  }\n",
              "\n",
              "  .colab-df-spinner {\n",
              "    border: 2px solid var(--fill-color);\n",
              "    border-color: transparent;\n",
              "    border-bottom-color: var(--fill-color);\n",
              "    animation:\n",
              "      spin 1s steps(1) infinite;\n",
              "  }\n",
              "\n",
              "  @keyframes spin {\n",
              "    0% {\n",
              "      border-color: transparent;\n",
              "      border-bottom-color: var(--fill-color);\n",
              "      border-left-color: var(--fill-color);\n",
              "    }\n",
              "    20% {\n",
              "      border-color: transparent;\n",
              "      border-left-color: var(--fill-color);\n",
              "      border-top-color: var(--fill-color);\n",
              "    }\n",
              "    30% {\n",
              "      border-color: transparent;\n",
              "      border-left-color: var(--fill-color);\n",
              "      border-top-color: var(--fill-color);\n",
              "      border-right-color: var(--fill-color);\n",
              "    }\n",
              "    40% {\n",
              "      border-color: transparent;\n",
              "      border-right-color: var(--fill-color);\n",
              "      border-top-color: var(--fill-color);\n",
              "    }\n",
              "    60% {\n",
              "      border-color: transparent;\n",
              "      border-right-color: var(--fill-color);\n",
              "    }\n",
              "    80% {\n",
              "      border-color: transparent;\n",
              "      border-right-color: var(--fill-color);\n",
              "      border-bottom-color: var(--fill-color);\n",
              "    }\n",
              "    90% {\n",
              "      border-color: transparent;\n",
              "      border-bottom-color: var(--fill-color);\n",
              "    }\n",
              "  }\n",
              "</style>\n",
              "\n",
              "  <script>\n",
              "    async function quickchart(key) {\n",
              "      const quickchartButtonEl =\n",
              "        document.querySelector('#' + key + ' button');\n",
              "      quickchartButtonEl.disabled = true;  // To prevent multiple clicks.\n",
              "      quickchartButtonEl.classList.add('colab-df-spinner');\n",
              "      try {\n",
              "        const charts = await google.colab.kernel.invokeFunction(\n",
              "            'suggestCharts', [key], {});\n",
              "      } catch (error) {\n",
              "        console.error('Error during call to suggestCharts:', error);\n",
              "      }\n",
              "      quickchartButtonEl.classList.remove('colab-df-spinner');\n",
              "      quickchartButtonEl.classList.add('colab-df-quickchart-complete');\n",
              "    }\n",
              "    (() => {\n",
              "      let quickchartButtonEl =\n",
              "        document.querySelector('#df-aefbc945-e73b-4b7a-8f42-e2a84d1dfce2 button');\n",
              "      quickchartButtonEl.style.display =\n",
              "        google.colab.kernel.accessAllowed ? 'block' : 'none';\n",
              "    })();\n",
              "  </script>\n",
              "</div>\n",
              "    </div>\n",
              "  </div>\n"
            ],
            "text/plain": [
              "                                                     URL  \\\n",
              "0      https://kino.mail.ru/news/61905-serial-na-viho...   \n",
              "1      https://kino.mail.ru/news/61913-film-na-vecher...   \n",
              "2      https://kino.mail.ru/news/61900-treiler-dnya-m...   \n",
              "3      https://kino.mail.ru/news/61871-film-na-vecher...   \n",
              "4      https://kino.mail.ru/news/61854-treiler-dnya-7...   \n",
              "...                                                  ...   \n",
              "21088  https://kino.mail.ru/news/16973_novyj_koshmar_...   \n",
              "21089  https://kino.mail.ru/news/16988_razbitaja_gita...   \n",
              "21090  https://kino.mail.ru/news/16977_no_doubt_otloz...   \n",
              "21091  https://kino.mail.ru/news/20971_po_podozreniju...   \n",
              "21092  https://kino.mail.ru/news/16974_alena_sviridov...   \n",
              "\n",
              "                                                   Title  \\\n",
              "0      Сериал на выходные: едкая детективная комедия ...   \n",
              "1      Фильм на вечер: атмосферный фильм-катастрофа с...   \n",
              "2      Трейлер дня: Милла Йовович возвращается в трил...   \n",
              "3      Фильм на вечер: милая зомби-комедия со звездой...   \n",
              "4      Трейлер дня: 79-летний Майкл Дуглас играет Бен...   \n",
              "...                                                  ...   \n",
              "21088  Новый «Кошмар на улице Вязов» будет очень стра...   \n",
              "21089  Разбитая гитара Курта Кобейна продана за 100 т...   \n",
              "21090      No Doubt отложили выпуск альбома до 2010 года   \n",
              "21091  По подозрению в убийстве задержан сын Василия ...   \n",
              "21092  Алена Свиридова рассказала про правильную энер...   \n",
              "\n",
              "                                             Description  \\\n",
              "0      Рассказываем о густонаселенном сериале «Прести...   \n",
              "1      Погружаемся в апокалиптический триллер о франц...   \n",
              "2      Актриса снялась в новом экшене про пост-апокал...   \n",
              "3      Заряжаемся хулиганским настроением за просмотр...   \n",
              "4      В сериале «Франклин» актер в роли отца-основат...   \n",
              "...                                                  ...   \n",
              "21088  Съемки новой версии знаменитого фильма ужасов ...   \n",
              "21089  Разбитая гитара Курта Кобейна, выставленная на...   \n",
              "21090  Возобновившая творческую деятельность группа N...   \n",
              "21091  Как рассказал источник в правоохранительных ор...   \n",
              "21092  В эфире радиостанций стартовала новая композиц...   \n",
              "\n",
              "                                            Article Text  \\\n",
              "0      В элитном поселке, где обитают сплошь богачи, ...   \n",
              "1      Мир охвачен паникой — повсюду наблюдаются аном...   \n",
              "2      Вышел дублированный трейлер фантастического тр...   \n",
              "3      Оставшись сиротой, юный Оливер оказывается в т...   \n",
              "4      Вышел трейлер костюмированной 8-серийной драмы...   \n",
              "...                                                  ...   \n",
              "21088  Съемки новой версии знаменитого фильма ужасов ...   \n",
              "21089  Разбитая гитара Курта Кобейна, выставленная на...   \n",
              "21090  Возобновившая тв орческую деятельность группа ...   \n",
              "21091  Как рассказал источник в правоохранительных ор...   \n",
              "21092  В эфире радиостанций стартовала новая композиц...   \n",
              "\n",
              "                                                Keywords  \n",
              "0       СТАТЬЯ, ЧТО ПОСМОТРЕТЬ, ДРАМА, КОМЕДИЯ, ДЕТЕКТИВ  \n",
              "1      СТАТЬЯ, ЧТО ПОСМОТРЕТЬ, ДРАМА, ТРИЛЛЕР, ФАНТАС...  \n",
              "2                                 СТАТЬЯ, ЧТО ПОСМОТРЕТЬ  \n",
              "3                 СТАТЬЯ, ЧТО ПОСМОТРЕТЬ, КОМЕДИЯ, УЖАСЫ  \n",
              "4                                 СТАТЬЯ, ЧТО ПОСМОТРЕТЬ  \n",
              "...                                                  ...  \n",
              "21088                                            НОВОСТЬ  \n",
              "21089                                            НОВОСТЬ  \n",
              "21090                                            НОВОСТЬ  \n",
              "21091                                            НОВОСТЬ  \n",
              "21092                                            НОВОСТЬ  \n",
              "\n",
              "[21093 rows x 5 columns]"
            ]
          },
          "execution_count": 6,
          "metadata": {},
          "output_type": "execute_result"
        }
      ],
      "source": [
        "news_df"
      ]
    },
    {
      "cell_type": "code",
      "execution_count": null,
      "metadata": {
        "id": "0ZMlv1NnORP9"
      },
      "outputs": [],
      "source": [
        "\n",
        "all_sheets = pd.read_excel(news_path, sheet_name=None)"
      ]
    },
    {
      "cell_type": "code",
      "execution_count": null,
      "metadata": {
        "colab": {
          "base_uri": "https://localhost:8080/"
        },
        "id": "nokkrMBsOEdi",
        "outputId": "5d9cef71-e2ce-462c-df05-bd48fa132a80"
      },
      "outputs": [
        {
          "name": "stdout",
          "output_type": "stream",
          "text": [
            "Sheet names: ['kino.mail', 'health.mail', 'dom.mail', 'deti.mail']\n"
          ]
        },
        {
          "data": {
            "text/plain": [
              "56721"
            ]
          },
          "execution_count": 360,
          "metadata": {},
          "output_type": "execute_result"
        }
      ],
      "source": [
        "print(\"Sheet names:\", list(all_sheets.keys()))\n",
        "news = []\n",
        "for sheet_name, df in all_sheets.items():\n",
        "    # if sheet_name == 'deti.mail':\n",
        "    #   break\n",
        "    #combined_text = (df['Title'] + '\\n' + df['Description'] + '\\n' + df['Article Text'])\n",
        "    combined_text = df['Article Text']\n",
        "    for text in combined_text:\n",
        "      news.append(text)\n",
        "\n",
        "\n",
        "len(news)"
      ]
    },
    {
      "cell_type": "code",
      "execution_count": null,
      "metadata": {
        "id": "qOKKzWARQCRW"
      },
      "outputs": [],
      "source": [
        "# from sklearn.feature_extraction.text import TfidfVectorizer\n",
        "# vectorizer = TfidfVectorizer(max_features=1000)\n",
        "# tfidf_matrix = vectorizer.fit_transform(news)"
      ]
    },
    {
      "cell_type": "code",
      "execution_count": null,
      "metadata": {
        "colab": {
          "background_save": true,
          "base_uri": "https://localhost:8080/"
        },
        "id": "0Bxd9zf-ee5c",
        "outputId": "e933eb3a-4197-4555-da2f-46a7ff4bd4db"
      },
      "outputs": [
        {
          "name": "stdout",
          "output_type": "stream",
          "text": [
            "Collecting sentence_transformers\n",
            "  Downloading sentence_transformers-2.7.0-py3-none-any.whl (171 kB)\n",
            "\u001b[?25l     \u001b[90m━━━━━━━━━━━━━━━━━━━━━━━━━━━━━━━━━━━━━━━━\u001b[0m \u001b[32m0.0/171.5 kB\u001b[0m \u001b[31m?\u001b[0m eta \u001b[36m-:--:--\u001b[0m\r\u001b[2K     \u001b[90m━━━━━━━━━━━━━━━━━━━━━━━━━━━━━━━━━━━━━━━━\u001b[0m \u001b[32m171.5/171.5 kB\u001b[0m \u001b[31m5.6 MB/s\u001b[0m eta \u001b[36m0:00:00\u001b[0m\n",
            "\u001b[?25hRequirement already satisfied: transformers<5.0.0,>=4.34.0 in /usr/local/lib/python3.10/dist-packages (from sentence_transformers) (4.38.2)\n",
            "Requirement already satisfied: tqdm in /usr/local/lib/python3.10/dist-packages (from sentence_transformers) (4.66.2)\n",
            "Requirement already satisfied: torch>=1.11.0 in /usr/local/lib/python3.10/dist-packages (from sentence_transformers) (2.2.1+cu121)\n",
            "Requirement already satisfied: numpy in /usr/local/lib/python3.10/dist-packages (from sentence_transformers) (1.25.2)\n",
            "Requirement already satisfied: scikit-learn in /usr/local/lib/python3.10/dist-packages (from sentence_transformers) (1.2.2)\n",
            "Requirement already satisfied: scipy in /usr/local/lib/python3.10/dist-packages (from sentence_transformers) (1.11.4)\n",
            "Requirement already satisfied: huggingface-hub>=0.15.1 in /usr/local/lib/python3.10/dist-packages (from sentence_transformers) (0.20.3)\n",
            "Requirement already satisfied: Pillow in /usr/local/lib/python3.10/dist-packages (from sentence_transformers) (9.4.0)\n",
            "Requirement already satisfied: filelock in /usr/local/lib/python3.10/dist-packages (from huggingface-hub>=0.15.1->sentence_transformers) (3.13.4)\n",
            "Requirement already satisfied: fsspec>=2023.5.0 in /usr/local/lib/python3.10/dist-packages (from huggingface-hub>=0.15.1->sentence_transformers) (2023.6.0)\n",
            "Requirement already satisfied: requests in /usr/local/lib/python3.10/dist-packages (from huggingface-hub>=0.15.1->sentence_transformers) (2.31.0)\n",
            "Requirement already satisfied: pyyaml>=5.1 in /usr/local/lib/python3.10/dist-packages (from huggingface-hub>=0.15.1->sentence_transformers) (6.0.1)\n",
            "Requirement already satisfied: typing-extensions>=3.7.4.3 in /usr/local/lib/python3.10/dist-packages (from huggingface-hub>=0.15.1->sentence_transformers) (4.11.0)\n",
            "Requirement already satisfied: packaging>=20.9 in /usr/local/lib/python3.10/dist-packages (from huggingface-hub>=0.15.1->sentence_transformers) (24.0)\n",
            "Requirement already satisfied: sympy in /usr/local/lib/python3.10/dist-packages (from torch>=1.11.0->sentence_transformers) (1.12)\n",
            "Requirement already satisfied: networkx in /usr/local/lib/python3.10/dist-packages (from torch>=1.11.0->sentence_transformers) (3.3)\n",
            "Requirement already satisfied: jinja2 in /usr/local/lib/python3.10/dist-packages (from torch>=1.11.0->sentence_transformers) (3.1.3)\n",
            "Collecting nvidia-cuda-nvrtc-cu12==12.1.105 (from torch>=1.11.0->sentence_transformers)\n",
            "  Using cached nvidia_cuda_nvrtc_cu12-12.1.105-py3-none-manylinux1_x86_64.whl (23.7 MB)\n",
            "Collecting nvidia-cuda-runtime-cu12==12.1.105 (from torch>=1.11.0->sentence_transformers)\n",
            "  Using cached nvidia_cuda_runtime_cu12-12.1.105-py3-none-manylinux1_x86_64.whl (823 kB)\n",
            "Collecting nvidia-cuda-cupti-cu12==12.1.105 (from torch>=1.11.0->sentence_transformers)\n",
            "  Using cached nvidia_cuda_cupti_cu12-12.1.105-py3-none-manylinux1_x86_64.whl (14.1 MB)\n",
            "Collecting nvidia-cudnn-cu12==8.9.2.26 (from torch>=1.11.0->sentence_transformers)\n",
            "  Using cached nvidia_cudnn_cu12-8.9.2.26-py3-none-manylinux1_x86_64.whl (731.7 MB)\n",
            "Collecting nvidia-cublas-cu12==12.1.3.1 (from torch>=1.11.0->sentence_transformers)\n",
            "  Using cached nvidia_cublas_cu12-12.1.3.1-py3-none-manylinux1_x86_64.whl (410.6 MB)\n",
            "Collecting nvidia-cufft-cu12==11.0.2.54 (from torch>=1.11.0->sentence_transformers)\n",
            "  Using cached nvidia_cufft_cu12-11.0.2.54-py3-none-manylinux1_x86_64.whl (121.6 MB)\n",
            "Collecting nvidia-curand-cu12==10.3.2.106 (from torch>=1.11.0->sentence_transformers)\n",
            "  Using cached nvidia_curand_cu12-10.3.2.106-py3-none-manylinux1_x86_64.whl (56.5 MB)\n",
            "Collecting nvidia-cusolver-cu12==11.4.5.107 (from torch>=1.11.0->sentence_transformers)\n",
            "  Using cached nvidia_cusolver_cu12-11.4.5.107-py3-none-manylinux1_x86_64.whl (124.2 MB)\n",
            "Collecting nvidia-cusparse-cu12==12.1.0.106 (from torch>=1.11.0->sentence_transformers)\n",
            "  Using cached nvidia_cusparse_cu12-12.1.0.106-py3-none-manylinux1_x86_64.whl (196.0 MB)\n",
            "Collecting nvidia-nccl-cu12==2.19.3 (from torch>=1.11.0->sentence_transformers)\n",
            "  Using cached nvidia_nccl_cu12-2.19.3-py3-none-manylinux1_x86_64.whl (166.0 MB)\n",
            "Collecting nvidia-nvtx-cu12==12.1.105 (from torch>=1.11.0->sentence_transformers)\n",
            "  Using cached nvidia_nvtx_cu12-12.1.105-py3-none-manylinux1_x86_64.whl (99 kB)\n",
            "Requirement already satisfied: triton==2.2.0 in /usr/local/lib/python3.10/dist-packages (from torch>=1.11.0->sentence_transformers) (2.2.0)\n",
            "Collecting nvidia-nvjitlink-cu12 (from nvidia-cusolver-cu12==11.4.5.107->torch>=1.11.0->sentence_transformers)\n",
            "  Using cached nvidia_nvjitlink_cu12-12.4.127-py3-none-manylinux2014_x86_64.whl (21.1 MB)\n",
            "Requirement already satisfied: regex!=2019.12.17 in /usr/local/lib/python3.10/dist-packages (from transformers<5.0.0,>=4.34.0->sentence_transformers) (2023.12.25)\n",
            "Requirement already satisfied: tokenizers<0.19,>=0.14 in /usr/local/lib/python3.10/dist-packages (from transformers<5.0.0,>=4.34.0->sentence_transformers) (0.15.2)\n",
            "Requirement already satisfied: safetensors>=0.4.1 in /usr/local/lib/python3.10/dist-packages (from transformers<5.0.0,>=4.34.0->sentence_transformers) (0.4.3)\n",
            "Requirement already satisfied: joblib>=1.1.1 in /usr/local/lib/python3.10/dist-packages (from scikit-learn->sentence_transformers) (1.4.0)\n",
            "Requirement already satisfied: threadpoolctl>=2.0.0 in /usr/local/lib/python3.10/dist-packages (from scikit-learn->sentence_transformers) (3.4.0)\n",
            "Requirement already satisfied: MarkupSafe>=2.0 in /usr/local/lib/python3.10/dist-packages (from jinja2->torch>=1.11.0->sentence_transformers) (2.1.5)\n",
            "Requirement already satisfied: charset-normalizer<4,>=2 in /usr/local/lib/python3.10/dist-packages (from requests->huggingface-hub>=0.15.1->sentence_transformers) (3.3.2)\n",
            "Requirement already satisfied: idna<4,>=2.5 in /usr/local/lib/python3.10/dist-packages (from requests->huggingface-hub>=0.15.1->sentence_transformers) (3.7)\n",
            "Requirement already satisfied: urllib3<3,>=1.21.1 in /usr/local/lib/python3.10/dist-packages (from requests->huggingface-hub>=0.15.1->sentence_transformers) (2.0.7)\n",
            "Requirement already satisfied: certifi>=2017.4.17 in /usr/local/lib/python3.10/dist-packages (from requests->huggingface-hub>=0.15.1->sentence_transformers) (2024.2.2)\n",
            "Requirement already satisfied: mpmath>=0.19 in /usr/local/lib/python3.10/dist-packages (from sympy->torch>=1.11.0->sentence_transformers) (1.3.0)\n",
            "Installing collected packages: nvidia-nvtx-cu12, nvidia-nvjitlink-cu12, nvidia-nccl-cu12, nvidia-curand-cu12, nvidia-cufft-cu12, nvidia-cuda-runtime-cu12, nvidia-cuda-nvrtc-cu12, nvidia-cuda-cupti-cu12, nvidia-cublas-cu12, nvidia-cusparse-cu12, nvidia-cudnn-cu12, nvidia-cusolver-cu12, sentence_transformers\n",
            "Successfully installed nvidia-cublas-cu12-12.1.3.1 nvidia-cuda-cupti-cu12-12.1.105 nvidia-cuda-nvrtc-cu12-12.1.105 nvidia-cuda-runtime-cu12-12.1.105 nvidia-cudnn-cu12-8.9.2.26 nvidia-cufft-cu12-11.0.2.54 nvidia-curand-cu12-10.3.2.106 nvidia-cusolver-cu12-11.4.5.107 nvidia-cusparse-cu12-12.1.0.106 nvidia-nccl-cu12-2.19.3 nvidia-nvjitlink-cu12-12.4.127 nvidia-nvtx-cu12-12.1.105 sentence_transformers-2.7.0\n"
          ]
        }
      ],
      "source": [
        "pip install sentence_transformers"
      ]
    },
    {
      "cell_type": "code",
      "execution_count": null,
      "metadata": {
        "id": "bWW2liLYgJbg"
      },
      "outputs": [],
      "source": [
        "device = torch.device('cuda') if torch.cuda.is_available else torch.device('cpu')"
      ]
    },
    {
      "cell_type": "code",
      "execution_count": null,
      "metadata": {
        "id": "J8GYlcwAeaoz"
      },
      "outputs": [],
      "source": [
        "from sentence_transformers import SentenceTransformer\n",
        "import tqdm\n",
        "model_name = 'sentence-transformers/paraphrase-xlm-r-multilingual-v1'\n",
        "embedder = (SentenceTransformer(model_name))\n",
        "embedder = embedder.to(device)\n",
        "# embedding_size = 500\n",
        "# embedder = tqdm(SentenceTransformer(model_name, embedding_size=embedding_size)\n",
        "embeddings = embedder.encode(news)"
      ]
    },
    {
      "cell_type": "code",
      "execution_count": null,
      "metadata": {
        "colab": {
          "base_uri": "https://localhost:8080/"
        },
        "id": "UggPRnFKRTXB",
        "outputId": "a71382ce-5bb2-4a54-ca3e-95d77ee74f40"
      },
      "outputs": [
        {
          "data": {
            "text/plain": [
              "(1, 1000)"
            ]
          },
          "execution_count": 219,
          "metadata": {},
          "output_type": "execute_result"
        }
      ],
      "source": [
        "# test_vector = vectorizer.transform([news[0]])\n",
        "# test_vector.shape"
      ]
    },
    {
      "cell_type": "code",
      "execution_count": null,
      "metadata": {
        "colab": {
          "base_uri": "https://localhost:8080/"
        },
        "id": "5_dZYxR3S50r",
        "outputId": "359abb6e-f9b0-467b-9606-134b6f5a7ca3"
      },
      "outputs": [
        {
          "data": {
            "text/plain": [
              "(1000, 35761)"
            ]
          },
          "execution_count": 70,
          "metadata": {},
          "output_type": "execute_result"
        }
      ],
      "source": [
        "# vectors = vectorizer.transform(news)\n",
        "# vectors.shape"
      ]
    },
    {
      "cell_type": "code",
      "execution_count": null,
      "metadata": {
        "id": "a7zUMbmOSi2a"
      },
      "outputs": [],
      "source": [
        "# !pip install umap-learn"
      ]
    },
    {
      "cell_type": "code",
      "execution_count": null,
      "metadata": {
        "id": "DSW2nAW1SgOn"
      },
      "outputs": [],
      "source": [
        "reduced_emb = umap.UMAP(n_components=2, n_neighbors=100, min_dist=0.02).fit_transform(embeddings)"
      ]
    },
    {
      "cell_type": "code",
      "execution_count": null,
      "metadata": {
        "id": "0qO8f5HpVm7J"
      },
      "outputs": [],
      "source": [
        "df = pd.DataFrame()\n",
        "df['x'] = reduced_emb[:, 0]\n",
        "df['y'] = reduced_emb[:, 1]\n",
        "df[\"text_short\"] = news"
      ]
    },
    {
      "cell_type": "code",
      "execution_count": null,
      "metadata": {
        "id": "NOTMjBlPRyni"
      },
      "outputs": [],
      "source": [
        "# import plotly.express as px\n",
        "# hover_data = {\n",
        "#     \"text_short\": True,\n",
        "#     \"x\": False,\n",
        "#     \"y\": False\n",
        "# }\n",
        "# fig = px.scatter(df, x=\"x\", y=\"y\", template=\"plotly_dark\",\n",
        "#                    title=\"Embeddings\", hover_data=hover_data)\n",
        "# fig.update_layout(showlegend=False)\n",
        "# fig.show()"
      ]
    },
    {
      "cell_type": "code",
      "execution_count": null,
      "metadata": {
        "colab": {
          "base_uri": "https://localhost:8080/"
        },
        "id": "HfucSH4SY7i2",
        "outputId": "4cdddeee-10af-44b6-c710-0716201b7963"
      },
      "outputs": [
        {
          "name": "stdout",
          "output_type": "stream",
          "text": [
            "Collecting hdbscan\n",
            "  Downloading hdbscan-0.8.33.tar.gz (5.2 MB)\n",
            "\u001b[2K     \u001b[90m━━━━━━━━━━━━━━━━━━━━━━━━━━━━━━━━━━━━━━━━\u001b[0m \u001b[32m5.2/5.2 MB\u001b[0m \u001b[31m26.9 MB/s\u001b[0m eta \u001b[36m0:00:00\u001b[0m\n",
            "\u001b[?25h  Installing build dependencies ... \u001b[?25l\u001b[?25hdone\n",
            "  Getting requirements to build wheel ... \u001b[?25l\u001b[?25hdone\n",
            "  Preparing metadata (pyproject.toml) ... \u001b[?25l\u001b[?25hdone\n",
            "Collecting cython<3,>=0.27 (from hdbscan)\n",
            "  Using cached Cython-0.29.37-cp310-cp310-manylinux_2_17_x86_64.manylinux2014_x86_64.manylinux_2_24_x86_64.whl (1.9 MB)\n",
            "Requirement already satisfied: numpy>=1.20 in /usr/local/lib/python3.10/dist-packages (from hdbscan) (1.25.2)\n",
            "Requirement already satisfied: scipy>=1.0 in /usr/local/lib/python3.10/dist-packages (from hdbscan) (1.11.4)\n",
            "Requirement already satisfied: scikit-learn>=0.20 in /usr/local/lib/python3.10/dist-packages (from hdbscan) (1.2.2)\n",
            "Requirement already satisfied: joblib>=1.0 in /usr/local/lib/python3.10/dist-packages (from hdbscan) (1.4.0)\n",
            "Requirement already satisfied: threadpoolctl>=2.0.0 in /usr/local/lib/python3.10/dist-packages (from scikit-learn>=0.20->hdbscan) (3.4.0)\n",
            "Building wheels for collected packages: hdbscan\n",
            "  Building wheel for hdbscan (pyproject.toml) ... \u001b[?25l\u001b[?25hdone\n",
            "  Created wheel for hdbscan: filename=hdbscan-0.8.33-cp310-cp310-linux_x86_64.whl size=3039288 sha256=065731ee8445d7e5ecbc9a7e0c147243414064609452a48e822fe5a6b01f1a1b\n",
            "  Stored in directory: /root/.cache/pip/wheels/75/0b/3b/dc4f60b7cc455efaefb62883a7483e76f09d06ca81cf87d610\n",
            "Successfully built hdbscan\n",
            "Installing collected packages: cython, hdbscan\n",
            "  Attempting uninstall: cython\n",
            "    Found existing installation: Cython 3.0.10\n",
            "    Uninstalling Cython-3.0.10:\n",
            "      Successfully uninstalled Cython-3.0.10\n",
            "Successfully installed cython-0.29.37 hdbscan-0.8.33\n"
          ]
        }
      ],
      "source": [
        "!pip install hdbscan"
      ]
    },
    {
      "cell_type": "code",
      "execution_count": null,
      "metadata": {
        "colab": {
          "base_uri": "https://localhost:8080/"
        },
        "id": "Hda7Y2DyVELv",
        "outputId": "c1acc4df-053d-4dc5-81c0-d884ee24ad80"
      },
      "outputs": [
        {
          "name": "stdout",
          "output_type": "stream",
          "text": [
            "Num of clusters: 40\n"
          ]
        }
      ],
      "source": [
        "import hdbscan\n",
        "clusterer = hdbscan.HDBSCAN(min_cluster_size = 120, min_samples = 7)\n",
        "labels = clusterer.fit_predict(reduced_emb)\n",
        "print(f\"Num of clusters: {labels.max() + 1}\")"
      ]
    },
    {
      "cell_type": "code",
      "execution_count": null,
      "metadata": {
        "id": "MRMJrofmidwV"
      },
      "outputs": [],
      "source": []
    },
    {
      "cell_type": "code",
      "execution_count": null,
      "metadata": {
        "id": "w0EqRIeBk51F"
      },
      "outputs": [],
      "source": []
    },
    {
      "cell_type": "code",
      "execution_count": null,
      "metadata": {
        "colab": {
          "base_uri": "https://localhost:8080/"
        },
        "id": "81iK2kv2iQh5",
        "outputId": "27da85b6-d576-4308-f5ef-68909b2ddf4c"
      },
      "outputs": [
        {
          "name": "stdout",
          "output_type": "stream",
          "text": [
            "Num of outliers: 14046 (24.76 % of total)\n"
          ]
        }
      ],
      "source": [
        "# number of outliers\n",
        "df[\"label\"] = [str(label) for label in labels]\n",
        "num_outliers = len(df[df[\"label\"] == \"-1\"])\n",
        "print(f\"Num of outliers: {num_outliers} ({num_outliers / len(df) * 100:.2f} % of total)\")"
      ]
    },
    {
      "cell_type": "code",
      "execution_count": null,
      "metadata": {
        "colab": {
          "base_uri": "https://localhost:8080/",
          "height": 424
        },
        "id": "yZE8HQbksJWh",
        "outputId": "c41e9046-52c4-409c-c99b-7fbacaef2f47"
      },
      "outputs": [
        {
          "data": {
            "application/vnd.google.colaboratory.intrinsic+json": {
              "summary": "{\n  \"name\": \"df\",\n  \"rows\": 1000,\n  \"fields\": [\n    {\n      \"column\": \"x\",\n      \"properties\": {\n        \"dtype\": \"float32\",\n        \"num_unique_values\": 1000,\n        \"samples\": [\n          3.2007877826690674,\n          4.84209680557251,\n          3.563810348510742\n        ],\n        \"semantic_type\": \"\",\n        \"description\": \"\"\n      }\n    },\n    {\n      \"column\": \"y\",\n      \"properties\": {\n        \"dtype\": \"float32\",\n        \"num_unique_values\": 1000,\n        \"samples\": [\n          2.6102027893066406,\n          1.6194301843643188,\n          2.628903865814209\n        ],\n        \"semantic_type\": \"\",\n        \"description\": \"\"\n      }\n    },\n    {\n      \"column\": \"text_short\",\n      \"properties\": {\n        \"dtype\": \"string\",\n        \"num_unique_values\": 1000,\n        \"samples\": [\n          \"\\u0442\\u0435\\u043a\\u0441\\u0442 \\u0441\\u043e\\u0433\\u043b\\u0430\\u0441\\u043e\\u0432\\u0430\\u0442\\u044c \\u044d\\u043a\\u0441\\u043f\\u0435\\u0440\\u0442\\u043d\\u044b\\u0439 \\u0437\\u0430\\u043a\\u043b\\u044e\\u0447\\u0435\\u043d\\u0438\\u0435 \\u0441\\u043e\\u0441\\u0442\\u0430\\u0432\\u0438\\u0442\\u044c \\u0443\\u0447\\u0430\\u0441\\u0442\\u043d\\u0438\\u043a \\u0435\\u0432\\u0440\\u043e\\u043f\\u0435\\u0439\\u0441\\u043a\\u0438\\u0439 \\u0430\\u0441\\u0441\\u043e\\u0446\\u0438\\u0430\\u0446\\u0438\\u044f \\u043f\\u0440\\u0435\\u0432\\u0435\\u043d\\u0442\\u0438\\u0432\\u043d\\u044b\\u0439 \\u043a\\u0430\\u0440\\u0434\\u0438\\u043e\\u043b\\u043e\\u0433\\u0438\\u044f \\u0441\\u043e\\u0432\\u0435\\u0442 \\u0433\\u0438\\u043f\\u0435\\u0440\\u0442\\u043e\\u043d\\u0438\\u044f \\u0435\\u0432\\u0440\\u043e\\u043f\\u0435\\u0439\\u0441\\u043a\\u0438\\u0439 \\u043e\\u0431\\u0449\\u0435\\u0441\\u0442\\u0432\\u043e \\u043a\\u0430\\u0440\\u0434\\u0438\\u043e\\u043b\\u043e\\u0433 \\u043e\\u043f\\u0443\\u0431\\u043b\\u0438\\u043a\\u043e\\u0432\\u0430\\u0442\\u044c european journal of preventive cardiology \\u0445\\u043e\\u0442\\u044f \\u0434\\u043e\\u043a\\u0430\\u0437\\u0430\\u0442\\u044c \\u0440\\u0435\\u0433\\u0443\\u043b\\u044f\\u0440\\u043d\\u044b\\u0439 \\u0444\\u0438\\u0437\\u0438\\u0447\\u0435\\u0441\\u043a\\u0438\\u0439 \\u043d\\u0430\\u0433\\u0440\\u0443\\u0437\\u043a\\u0430 \\u043f\\u043e\\u043c\\u043e\\u0433\\u0430\\u0442\\u044c \\u0441\\u043d\\u0438\\u0436\\u0430\\u0442\\u044c \\u043f\\u043e\\u0432\\u044b\\u0448\\u0435\\u043d\\u043d\\u044b\\u0439 \\u0434\\u0430\\u0432\\u043b\\u0435\\u043d\\u0438\\u0435 \\u0441\\u0435\\u0439 \\u043f\\u043e\\u0440\\u0430 \\u0432\\u0441\\u0451 \\u0440\\u0435\\u043a\\u043e\\u043c\\u0435\\u043d\\u0434\\u0430\\u0446\\u0438\\u044f \\u0441\\u0444\\u043e\\u043a\\u0443\\u0441\\u0438\\u0440\\u043e\\u0432\\u0430\\u0442\\u044c \\u043a\\u043e\\u043b\\u0438\\u0447\\u0435\\u0441\\u0442\\u0432\\u043e \\u0442\\u0440\\u0435\\u043d\\u0438\\u0440\\u043e\\u0432\\u043a\\u0430 \\u043d\\u0435\\u0434\\u0435\\u043b\\u044f \\u0430\\u0432\\u0442\\u043e\\u0440 \\u0434\\u043e\\u043a\\u0443\\u043c\\u0435\\u043d\\u0442 \\u0432\\u043f\\u0435\\u0440\\u0432\\u044b\\u0435 \\u0441\\u043e\\u0441\\u0442\\u0430\\u0432\\u0438\\u0442\\u044c \\u043f\\u0435\\u0440\\u0441\\u043e\\u043d\\u0430\\u043b\\u0438\\u0437\\u0438\\u0440\\u043e\\u0432\\u0430\\u0442\\u044c \\u0440\\u0435\\u043a\\u043e\\u043c\\u0435\\u043d\\u0434\\u0430\\u0446\\u0438\\u044f \\u0443\\u043a\\u0430\\u0437\\u0430\\u0442\\u044c \\u0438\\u043c\\u0435\\u043d\\u043d\\u043e \\u0442\\u0438\\u043f \\u0443\\u043f\\u0440\\u0430\\u0436\\u043d\\u0435\\u043d\\u0438\\u0435 \\u043c\\u0430\\u043a\\u0441\\u0438\\u043c\\u0430\\u043b\\u044c\\u043d\\u043e \\u043f\\u043e\\u0434\\u0445\\u043e\\u0434\\u0438\\u0442\\u044c \\u0447\\u0435\\u043b\\u043e\\u0432\\u0435\\u043a \\u0440\\u0430\\u0437\\u043d\\u044b\\u0439 \\u043f\\u043e\\u043a\\u0430\\u0437\\u0430\\u0442\\u0435\\u043b\\u044c \\u0430\\u0440\\u0442\\u0435\\u0440\\u0438\\u0430\\u043b\\u044c\\u043d\\u044b\\u0439 \\u0434\\u0430\\u0432\\u043b\\u0435\\u043d\\u0438\\u0435 \\u043d\\u0430\\u0431\\u043b\\u044e\\u0434\\u0430\\u0442\\u044c\\u0441\\u044f \\u0432\\u044b\\u0440\\u0430\\u0436\\u0435\\u043d\\u043d\\u044b\\u0439 \\u0433\\u0438\\u043f\\u0435\\u0440\\u0442\\u043e\\u043d\\u0438\\u044f (\\u043f\\u043e\\u043a\\u0430\\u0437\\u0430\\u0442\\u0435\\u043b\\u044c \\u043a\\u0440\\u043e\\u0432\\u044f\\u043d\\u043e\\u0439 \\u0434\\u0430\\u0432\\u043b\\u0435\\u043d\\u0438\\u0435 \\u0441\\u0442\\u0430\\u0431\\u0438\\u043b\\u044c\\u043d\\u043e \\u0441\\u043e\\u0441\\u0442\\u0430\\u0432\\u043b\\u044f\\u0442\\u044c 140/90 \\u043c\\u0438\\u043b\\u043b\\u0438\\u043c\\u0435\\u0442\\u0440 \\u0440\\u0442\\u0443\\u0442\\u043d\\u044b\\u0439 \\u0441\\u0442\\u043e\\u043b\\u0431 \\u0432\\u044b\\u0448\\u0435) \\u0445\\u043e\\u0440\\u043e\\u0448\\u0438\\u0439 \\u0432\\u0435\\u0441\\u044c \\u043f\\u043e\\u0434\\u0445\\u043e\\u0434\\u0438\\u0442\\u044c \\u0430\\u044d\\u0440\\u043e\\u0431\\u043d\\u044b\\u0439 \\u043d\\u0430\\u0433\\u0440\\u0443\\u0437\\u043a\\u0430 \\u2014 \\u043f\\u0435\\u0448\\u0438\\u0439 \\u0445\\u043e\\u0434\\u044c\\u0431\\u0430 \\u0431\\u0435\\u0433 \\u043f\\u043b\\u0430\\u0432\\u0430\\u043d\\u0438\\u0435 \\u0432\\u0435\\u043b\\u043e\\u0441\\u0438\\u043f\\u0435\\u0434 \\u043f\\u043e\\u044f\\u0441\\u043d\\u0438\\u0442\\u044c \\u0430\\u0432\\u0442\\u043e\\u0440 \\u044d\\u043a\\u0441\\u043f\\u0435\\u0440\\u0442\\u043d\\u044b\\u0439 \\u0437\\u0430\\u043a\\u043b\\u044e\\u0447\\u0435\\u043d\\u0438\\u0435 \\u043f\\u0440\\u043e\\u0444\\u0435\\u0441\\u0441\\u043e\\u0440 \\u0445\\u0435\\u043d\\u043d\\u0435\\u0440 \\u0445\\u0430\\u043d\\u0441\\u0441\\u043d\\u044b\\u0439 (henner hanssen) \\u0431\\u0430\\u0437\\u0435\\u043b\\u044c\\u0441\\u043a\\u0438\\u0439 \\u0443\\u043d\\u0438\\u0432\\u0435\\u0440\\u0441\\u0438\\u0442\\u0435\\u0442 (\\u0448\\u0432\\u0435\\u0439\\u0446\\u0430\\u0440\\u0438\\u044f) \\u043b\\u044e\\u0431\\u043e\\u0439 \\u0430\\u044d\\u0440\\u043e\\u0431\\u043d\\u044b\\u0439 \\u043d\\u0430\\u0433\\u0440\\u0443\\u0437\\u043a\\u0430 \\u0433\\u0438\\u043f\\u0435\\u0440\\u0442\\u043e\\u043d\\u0438\\u044f \\u044d\\u0444\\u0444\\u0435\\u043a\\u0442\\u0438\\u0432\\u043d\\u044b\\u0439 \\u0441\\u043c\\u044b\\u0441\\u043b \\u0441\\u043d\\u0438\\u0436\\u0435\\u043d\\u0438\\u0435 \\u0434\\u0430\\u0432\\u043b\\u0435\\u043d\\u0438\\u0435 \\u043e\\u0434\\u043d\\u043e\\u043a\\u0440\\u0430\\u0442\\u043d\\u044b\\u0439 \\u043f\\u0440\\u0438\\u0451\\u043c \\u0433\\u0438\\u043f\\u043e\\u0442\\u0435\\u043d\\u0437\\u0438\\u0432\\u043d\\u044b\\u0439 \\u043b\\u0435\\u043a\\u0430\\u0440\\u0441\\u0442\\u0432\\u0435\\u043d\\u043d\\u044b\\u0439 \\u043f\\u0440\\u0435\\u043f\\u0430\\u0440\\u0430\\u0442 \\u043f\\u043e\\u043a\\u0430\\u0437\\u0430\\u0442\\u0435\\u043b\\u044c \\u0434\\u0430\\u0432\\u043b\\u0435\\u043d\\u0438\\u0435 \\u043d\\u0430\\u0445\\u043e\\u0434\\u0438\\u0442\\u044c\\u0441\\u044f \\u0432\\u0435\\u0440\\u0445\\u043d\\u0438\\u0439 \\u0433\\u0440\\u0430\\u043d\\u0438\\u0446\\u0430 \\u043d\\u043e\\u0440\\u043c\\u0430 (130\\u2013139/85\\u201389 \\u043c\\u0438\\u043b\\u043b\\u0438\\u043c\\u0435\\u0442\\u0440 \\u0440\\u0442\\u0443\\u0442\\u043d\\u044b\\u0439 \\u0441\\u0442\\u043e\\u043b\\u0431\\u0430) \\u0441\\u0442\\u043e\\u0438\\u0442\\u044c \\u043e\\u0442\\u0434\\u0430\\u0442\\u044c \\u043f\\u0440\\u0438\\u043e\\u0440\\u0438\\u0442\\u0435\\u0442 \\u0443\\u043f\\u0440\\u0430\\u0436\\u043d\\u0435\\u043d\\u0438\\u0435 \\u0434\\u0438\\u043d\\u0430\\u043c\\u0438\\u0447\\u0435\\u0441\\u043a\\u0438\\u0439 \\u0441\\u043e\\u043f\\u0440\\u043e\\u0442\\u0438\\u0432\\u043b\\u0435\\u043d\\u0438\\u0435 \\u0440\\u0435\\u0447\\u044c \\u0438\\u0434\\u0442\\u0438 \\u0441\\u0438\\u043b\\u043e\\u0432\\u043e\\u0439 \\u0442\\u0440\\u0435\\u043d\\u0438\\u0440\\u043e\\u0432\\u043a\\u0430 \\u043a\\u043e\\u0442\\u043e\\u0440\\u044b\\u0439 \\u0437\\u0430\\u0434\\u0435\\u0439\\u0441\\u0442\\u0432\\u043e\\u0432\\u0430\\u0442\\u044c \\u043c\\u0430\\u043b\\u044b\\u0439 \\u043c\\u0435\\u0440\\u0430 \\u0448\\u0435\\u0441\\u0442\\u044c \\u043a\\u0440\\u0443\\u043f\\u043d\\u044b\\u0439 \\u0433\\u0440\\u0443\\u043f\\u043f\\u0430 \\u043c\\u044b\\u0448\\u0446\\u0430 \\u0441\\u043e\\u043a\\u0440\\u0430\\u0449\\u0435\\u043d\\u0438\\u0435 \\u043a\\u043e\\u0442\\u043e\\u0440\\u044b\\u0439 \\u043f\\u0440\\u0438\\u0432\\u043e\\u0434\\u0438\\u0442\\u044c \\u0442\\u0435\\u043b\\u043e \\u0434\\u0432\\u0438\\u0436\\u0435\\u043d\\u0438\\u0435 \\u2014 \\u043d\\u0430\\u043f\\u0440\\u0438\\u043c\\u0435\\u0440 \\u0442\\u044f\\u0436\\u0451\\u043b\\u044b\\u0439 \\u0430\\u0442\\u043b\\u0435\\u0442\\u0438\\u043a\\u0430 \\u043f\\u0440\\u0438\\u0441\\u0435\\u0434\\u0430\\u043d\\u0438\\u0435 \\u043e\\u0442\\u0436\\u0438\\u043c\\u0430\\u043d\\u0438\\u0435 \\u043f\\u043e\\u043b \\u043d\\u0430\\u0438\\u0431\\u043e\\u043b\\u0435\\u0435 \\u043f\\u043e\\u043b\\u0435\\u0437\\u043d\\u044b\\u0439 \\u0447\\u0435\\u043b\\u043e\\u0432\\u0435\\u043a \\u043d\\u043e\\u0440\\u043c\\u0430\\u043b\\u044c\\u043d\\u044b\\u0439 \\u043f\\u043e\\u043a\\u0430\\u0437\\u0430\\u0442\\u0435\\u043b\\u044c \\u0434\\u0430\\u0432\\u043b\\u0435\\u043d\\u0438\\u0435 \\u043f\\u043e\\u0432\\u044b\\u0448\\u0435\\u043d\\u043d\\u044b\\u0439 \\u0440\\u0438\\u0441\\u043a \\u0433\\u0438\\u043f\\u0435\\u0440\\u0442\\u043e\\u043d\\u0438\\u044f \\u0438\\u0437\\u043e\\u043c\\u0435\\u0442\\u0440\\u0438\\u0447\\u0435\\u0441\\u043a\\u0438\\u0439 (\\u0441\\u0442\\u0430\\u0442\\u0438\\u0447\\u0435\\u0441\\u043a\\u0438\\u0435) \\u0441\\u0438\\u043b\\u043e\\u0432\\u043e\\u0439 \\u0442\\u0440\\u0435\\u043d\\u0438\\u0440\\u043e\\u0432\\u043a\\u0430 \\u0443\\u043f\\u0440\\u0430\\u0436\\u043d\\u0435\\u043d\\u0438\\u0435 \\u043e\\u0431\\u0435\\u0441\\u043f\\u0435\\u0447\\u0438\\u0432\\u0430\\u0442\\u044c \\u043d\\u0430\\u0433\\u0440\\u0443\\u0437\\u043a\\u0430 \\u043c\\u044b\\u0448\\u0446\\u0430 \\u0441\\u043e\\u0445\\u0440\\u0430\\u043d\\u0435\\u043d\\u0438\\u0435 \\u043d\\u0435\\u043f\\u043e\\u0434\\u0432\\u0438\\u0436\\u043d\\u043e\\u0441\\u0442\\u044c \\u0442\\u0435\\u043b\\u043e \\u043f\\u0440\\u0438\\u043c\\u0435\\u0440 \\u0443\\u043f\\u0440\\u0430\\u0436\\u043d\\u0435\\u043d\\u0438\\u0435 \\u2014 \\u043f\\u043b\\u0430\\u043d\\u043a \\u0437\\u0430\\u043d\\u044f\\u0442\\u0438\\u0435 \\u044d\\u0441\\u043f\\u0430\\u043d\\u0434\\u0435\\u0440 \\u043f\\u0440\\u0438\\u043d\\u043e\\u0441\\u0438\\u0442\\u044c \\u043f\\u043e\\u043b\\u044c\\u0437\\u0430 \\u0432\\u0441\\u0451 \\u0432\\u0438\\u0434 \\u0444\\u0438\\u0437\\u0438\\u0447\\u0435\\u0441\\u043a\\u0438\\u0439 \\u043d\\u0430\\u0433\\u0440\\u0443\\u0437\\u043a\\u0430 \\u0434\\u043e\\u043b\\u0436\\u043d\\u044b\\u0439 \\u0440\\u0435\\u0433\\u0443\\u043b\\u044f\\u0440\\u043d\\u044b\\u0439 \\u043f\\u043e\\u0434\\u0447\\u0435\\u0440\\u043a\\u043d\\u0443\\u0442\\u044c \\u043f\\u0440\\u043e\\u0444\\u0435\\u0441\\u0441\\u043e\\u0440 \\u0445\\u0430\\u043d\\u0441\\u0441\\u043d\\u044b\\u0439 \\u00ab\\u0441\\u043d\\u0438\\u0436\\u0430\\u0442\\u044c \\u0434\\u0430\\u0432\\u043b\\u0435\\u043d\\u0438\\u0435 \\u044d\\u0444\\u0444\\u0435\\u043a\\u0442 \\u0431\\u043e\\u043b\\u044c\\u0448\\u0438\\u043d\\u0441\\u0442\\u0432\\u043e \\u0442\\u0438\\u043f \\u0443\\u043f\\u0440\\u0430\\u0436\\u043d\\u0435\\u043d\\u0438\\u0435 \\u043b\\u0435\\u043a\\u0430\\u0440\\u0441\\u0442\\u0432\\u043e \\u0441\\u043e\\u0445\\u0440\\u0430\\u043d\\u044f\\u0442\\u044c\\u0441\\u044f \\u043f\\u0440\\u0438\\u043c\\u0435\\u0440\\u043d\\u043e \\u0442\\u0435\\u0447\\u0435\\u043d\\u0438\\u0435 \\u0441\\u0443\\u0442\\u043a\\u0438 \\u043f\\u043e\\u044d\\u0442\\u043e\\u043c\\u0443 \\u0441\\u0442\\u0430\\u0440\\u0430\\u0442\\u044c\\u0441\\u044f \\u043f\\u043e\\u0434\\u0434\\u0435\\u0440\\u0436\\u0438\\u0432\\u0430\\u0442\\u044c \\u0444\\u0438\\u0437\\u0438\\u0447\\u0435\\u0441\\u043a\\u0438\\u0439 \\u0430\\u043a\\u0442\\u0438\\u0432\\u043d\\u043e\\u0441\\u0442\\u044c \\u0435\\u0436\\u0435\\u0434\\u043d\\u0435\\u0432\\u043d\\u043e\\u00bb \\u2014 \\u0441\\u043e\\u0432\\u0435\\u0442\\u043e\\u0432\\u0430\\u0442\\u044c\",\n          \"\\u0431\\u0443\\u0440\\u044f\\u0442\\u0438\\u044f \\u0433\\u043e\\u0441\\u043f\\u0438\\u0442\\u0430\\u043b\\u0438\\u0437\\u0438\\u0440\\u043e\\u0432\\u0430\\u0442\\u044c \\u0438\\u0441\\u0442\\u043e\\u0449\\u0435\\u043d\\u0438\\u0435 13-\\u043b\\u0435\\u0442\\u043d\\u0438\\u0439 \\u0434\\u0435\\u0432\\u043e\\u0447\\u043a\\u0430 \\u0432\\u0435\\u0441 14 \\u043a\\u0438\\u043b\\u043e\\u0433\\u0440\\u0430\\u043c\\u043c \\u044d\\u0442\\u043e \\u0441\\u043e\\u043e\\u0431\\u0449\\u0430\\u0442\\u044c\\u0441\\u044f \\u0441\\u0430\\u0439\\u0442 \\u0443\\u043f\\u0440\\u0430\\u0432\\u043b\\u0435\\u043d\\u0438\\u0435 \\u0441\\u043b\\u0435\\u0434\\u0441\\u0442\\u0432\\u0435\\u043d\\u043d\\u044b\\u0439 \\u043a\\u043e\\u043c\\u0438\\u0442\\u0435\\u0442 \\u0440\\u0435\\u0441\\u043f\\u0443\\u0431\\u043b\\u0438\\u043a\\u0430 \\u0434\\u0430\\u043d\\u043d\\u044b\\u0435 \\u0432\\u0435\\u0434\\u043e\\u043c\\u0441\\u0442\\u0432\\u043e \\u0440\\u043e\\u0441\\u0441\\u0438\\u044f\\u043d\\u043a\\u0430 \\u043f\\u043e\\u0441\\u0442\\u0443\\u043f\\u0438\\u0442\\u044c \\u0434\\u0435\\u0442\\u0441\\u043a\\u0438\\u0439 \\u043a\\u043b\\u0438\\u043d\\u0438\\u0447\\u0435\\u0441\\u043a\\u0438\\u0439 \\u0440\\u0435\\u0441\\u043f\\u0443\\u0431\\u043b\\u0438\\u043a\\u0430\\u043d\\u0441\\u043a\\u0438\\u0439 \\u0431\\u043e\\u043b\\u044c\\u043d\\u0438\\u0446\\u0430 21 \\u043d\\u043e\\u044f\\u0431\\u0440\\u044c 2020 \\u0433\\u043e\\u0434 \\u0441\\u043b\\u0435\\u0434\\u043e\\u0432\\u0430\\u0442\\u0435\\u043b\\u044c \\u0432\\u044b\\u044f\\u0441\\u043d\\u0438\\u0442\\u044c \\u0440\\u0435\\u0431\\u0451\\u043d\\u043e\\u043a \\u0436\\u0438\\u0442\\u044c \\u0441\\u0435\\u0441\\u0442\\u044c \\u0437\\u0430\\u0438\\u0433\\u0440\\u0430\\u0435\\u0432\\u0441\\u043a\\u0438\\u0439 \\u0440\\u0430\\u0439\\u043e\\u043d \\u043c\\u0430\\u0442\\u044c \\u043a\\u043e\\u0442\\u043e\\u0440\\u044b\\u0439 \\u0432\\u043e\\u0441\\u043f\\u0438\\u0442\\u044b\\u0432\\u0430\\u0442\\u044c \\u0442\\u0440\\u043e\\u0435 \\u043d\\u0435\\u0441\\u043e\\u0432\\u0435\\u0440\\u0448\\u0435\\u043d\\u043d\\u043e\\u043b\\u0435\\u0442\\u043d\\u0438\\u0439 \\u0440\\u0435\\u0431\\u0451\\u043d\\u043e\\u043a \\u043c\\u043e\\u043c\\u0435\\u043d\\u0442 \\u0433\\u043e\\u0441\\u043f\\u0438\\u0442\\u0430\\u043b\\u0438\\u0437\\u0430\\u0446\\u0438\\u044f \\u0440\\u0435\\u0431\\u0451\\u043d\\u043e\\u043a \\u0441\\u0435\\u043c\\u044c\\u044f \\u0441\\u043e\\u0441\\u0442\\u043e\\u044f\\u0442\\u044c \\u0443\\u0447\\u0451\\u0442 \\u043e\\u0440\\u0433\\u0430\\u043d \\u043e\\u043f\\u0435\\u043a\\u0430 \\u043f\\u043e\\u043b\\u0438\\u0446\\u0438\\u044f \\u043c\\u0430\\u0442\\u044c \\u0440\\u0430\\u0441\\u0441\\u043a\\u0430\\u0437\\u0430\\u0442\\u044c \\u0438\\u0441\\u0442\\u043e\\u0449\\u0435\\u043d\\u0438\\u0435 \\u0434\\u0435\\u0432\\u043e\\u0447\\u043a\\u0430 \\u043d\\u0430\\u0441\\u0442\\u0443\\u043f\\u0438\\u0442\\u044c \\u0438\\u0437-\\u0437\\u0430 \\u043e\\u0431\\u0449\\u0438\\u0439 \\u0437\\u0430\\u0431\\u043e\\u043b\\u0435\\u0432\\u0430\\u043d\\u0438\\u0435 \\u0441\\u0432\\u044f\\u0437\\u0430\\u043d\\u043d\\u044b\\u0439 \\u0440\\u043e\\u0434\\u043e\\u0432\\u043e\\u0439 \\u0442\\u0440\\u0430\\u0432\\u043c\\u0430 \\u044d\\u0442\\u043e \\u0436\\u0435\\u043d\\u0449\\u0438\\u043d\\u0430 \\u043e\\u0431\\u0440\\u0430\\u0449\\u0430\\u0442\\u044c\\u0441\\u044f \\u043b\\u0435\\u0447\\u0435\\u043d\\u0438\\u0435 \\u0434\\u043e\\u0447\\u044c \\u043f\\u043e\\u043a\\u0430 \\u0441\\u043e\\u0441\\u0442\\u043e\\u044f\\u043d\\u0438\\u0435 \\u0443\\u0441\\u0443\\u0433\\u0443\\u0431\\u0438\\u0442\\u044c\\u0441\\u044f \\u0432\\u043e\\u0437\\u0431\\u0443\\u0434\\u0438\\u0442\\u044c \\u0443\\u0433\\u043e\\u043b\\u043e\\u0432\\u043d\\u044b\\u0439 \\u0434\\u0435\\u043b\\u043e \\u0441\\u0442\\u0430\\u0442\\u044c\\u044f 156 \\u0443\\u043a (\\u00ab\\u043d\\u0435\\u0438\\u0441\\u043f\\u043e\\u043b\\u043d\\u0435\\u043d\\u0438\\u0435 \\u043e\\u0431\\u044f\\u0437\\u0430\\u043d\\u043d\\u043e\\u0441\\u0442\\u044c \\u0432\\u043e\\u0441\\u043f\\u0438\\u0442\\u0430\\u043d\\u0438\\u0435 \\u043d\\u0435\\u0441\\u043e\\u0432\\u0435\\u0440\\u0448\\u0435\\u043d\\u043d\\u043e\\u043b\\u0435\\u0442\\u043d\\u0435\\u0433\\u043e\\u00bb) \\u0440\\u0430\\u043d\\u0435\\u0435 \\u0431\\u0440\\u044f\\u043d\\u0441\\u043a \\u0447\\u0438\\u043d\\u043e\\u0432\\u043d\\u0438\\u0446\\u0430 \\u043e\\u0440\\u0433\\u0430\\u043d \\u043e\\u043f\\u0435\\u043a\\u0430 \\u043e\\u0442\\u043f\\u0440\\u0430\\u0432\\u0438\\u0442\\u044c \\u043a\\u043e\\u043b\\u043e\\u043d\\u0438\\u044f-\\u043f\\u043e\\u0441\\u0435\\u043b\\u0435\\u043d\\u0438\\u0435 \\u0433\\u043e\\u0434 \\u043f\\u0440\\u043e\\u0441\\u043b\\u0435\\u0434\\u0438\\u0442\\u044c \\u043d\\u0435\\u0431\\u043b\\u0430\\u0433\\u043e\\u043f\\u043e\\u043b\\u0443\\u0447\\u043d\\u044b\\u0439 \\u0441\\u0435\\u043c\\u044c\\u044f \\u043d\\u0430\\u0441\\u043b\\u0430\\u0442\\u044c \\u043f\\u0440\\u0438\\u0451\\u043c\\u043d\\u044b\\u0439 \\u0434\\u0435\\u0432\\u043e\\u0447\\u043a\\u0430 \\u0438\\u0441\\u0442\\u043e\\u0449\\u0435\\u043d\\u0438\\u0435 \\u043e\\u0431\\u043c\\u043e\\u0440\\u043e\\u0437\\u0438\\u0442\\u044c \\u043d\\u043e\\u0433\\u0430 \\u0430\\u043f\\u0440\\u0435\\u043b\\u044c 2016 \\u0433\\u043e\\u0434 \\u043c\\u0430\\u0439 2020-\\u0433\\u043e \\u043a\\u043e\\u043d\\u0442\\u0440\\u043e\\u043b\\u0438\\u0440\\u043e\\u0432\\u0430\\u0442\\u044c \\u0443\\u0441\\u043b\\u043e\\u0432\\u0438\\u0435 \\u0436\\u0438\\u0442\\u044c \\u043f\\u0440\\u0438\\u0451\\u043c\\u043d\\u044b\\u0439 \\u0440\\u0435\\u0431\\u0451\\u043d\\u043e\\u043a \\u0440\\u043e\\u0434\\u0438\\u0442\\u0435\\u043b\\u044c \\u0438\\u0441\\u043f\\u043e\\u043b\\u043d\\u044f\\u0442\\u044c \\u0441\\u0432\\u043e\\u0439 \\u043e\\u0431\\u044f\\u0437\\u0430\\u043d\\u043d\\u043e\\u0441\\u0442\\u044c \\u0441\\u043e\\u0434\\u0435\\u0440\\u0436\\u0430\\u043d\\u0438\\u0435 \\u0432\\u043e\\u0441\\u043f\\u0438\\u0442\\u0430\\u043d\\u0438\\u0435\",\n          \"\\u0441\\u0430\\u043c\\u043e\\u0437\\u0430\\u0442\\u0443\\u0445\\u0430\\u044e\\u0449\\u0438\\u0439 \\u0441\\u0438\\u0433\\u0430\\u0440\\u0435\\u0442\\u0430 \\u043f\\u043e\\u0442\\u0435\\u043d\\u0446\\u0438\\u0430\\u043b\\u044c\\u043d\\u043e \\u043c\\u043e\\u0447\\u044c \\u043e\\u043f\\u0430\\u0441\\u043d\\u044b\\u0439 \\u0437\\u0434\\u043e\\u0440\\u043e\\u0432\\u044c\\u0435 \\u0440\\u0430\\u0441\\u0441\\u043a\\u0430\\u0437\\u0430\\u0442\\u044c \\u00ab\\u0438\\u0437\\u0432\\u0435\\u0441\\u0442\\u0438\\u044f\\u043c\\u00bb 11 \\u044f\\u043d\\u0432\\u0430\\u0440\\u044c \\u043f\\u0440\\u0435\\u0437\\u0438\\u0434\\u0435\\u043d\\u0442 \\u0440\\u043e\\u0441\\u0441\\u0438\\u0439\\u0441\\u043a\\u0438\\u0439 \\u0441\\u0438\\u0433\\u0430\\u0440\\u043d\\u044b\\u0439 \\u0441\\u043e\\u044e\\u0437 \\u0438\\u0441\\u043f\\u043e\\u043b\\u043d\\u0438\\u0442\\u0435\\u043b\\u044c\\u043d\\u044b\\u0439 \\u0434\\u0438\\u0440\\u0435\\u043a\\u0442\\u043e\\u0440 \\u043e\\u0431\\u0449\\u0435\\u0440\\u043e\\u0441\\u0441\\u0438\\u0439\\u0441\\u043a\\u0438\\u0439 \\u043e\\u0431\\u0449\\u0435\\u0441\\u0442\\u0432\\u0435\\u043d\\u043d\\u044b\\u0439 \\u0434\\u0432\\u0438\\u0436\\u0435\\u043d\\u0438\\u0435 \\u043f\\u0440\\u0430\\u0432\\u043e \\u043a\\u0443\\u0440\\u0438\\u043b\\u044c\\u0449\\u0438\\u043a \\u0430\\u043d\\u0434\\u0440\\u0435\\u0439 \\u043b\\u043e\\u0441\\u043a\\u0443\\u0442 \\u043c\\u0447\\u0441 \\u0441\\u043e\\u0432\\u043c\\u0435\\u0441\\u0442\\u043d\\u043e \\u043c\\u0438\\u043d\\u0437\\u0434\\u0440\\u0430\\u0432 \\u0433\\u043e\\u0442\\u043e\\u0432\\u0438\\u0442\\u044c \\u043d\\u043e\\u0432\\u044b\\u0439 \\u0442\\u0440\\u0435\\u0431\\u043e\\u0432\\u0430\\u043d\\u0438\\u0435 \\u0441\\u0438\\u0433\\u0430\\u0440\\u0435\\u0442\\u0430 \\u0440\\u0430\\u043d\\u0435\\u0435 \\u0434\\u0435\\u043d\\u044c \\u0441\\u043e\\u043e\\u0431\\u0449\\u0438\\u0442\\u044c \\u0434\\u0438\\u0440\\u0435\\u043a\\u0442\\u043e\\u0440 \\u0434\\u0435\\u043f\\u0430\\u0440\\u0442\\u0430\\u043c\\u0435\\u043d\\u0442 \\u043d\\u0430\\u0434\\u0437\\u043e\\u0440\\u043d\\u044b\\u0439 \\u0434\\u0435\\u044f\\u0442\\u0435\\u043b\\u044c\\u043d\\u043e\\u0441\\u0442\\u044c \\u043f\\u0440\\u043e\\u0444\\u0438\\u043b\\u0430\\u043a\\u0442\\u0438\\u0447\\u0435\\u0441\\u043a\\u0438\\u0439 \\u0440\\u0430\\u0431\\u043e\\u0442\\u0430 \\u043c\\u0447\\u0441 \\u0440\\u043e\\u0441\\u0441\\u0438\\u044f \\u0440\\u0438\\u043d\\u0430\\u0442 \\u0435\\u043d\\u0438\\u043a\\u0435\\u0435\\u0432 \\u043e\\u0442\\u043c\\u0435\\u0447\\u0430\\u0442\\u044c\\u0441\\u044f \\u0441\\u0442\\u0430\\u043d\\u0434\\u0430\\u0440\\u0442 \\u0441\\u0430\\u043c\\u043e\\u0437\\u0430\\u0442\\u0443\\u0445\\u0430\\u044e\\u0449\\u0438\\u0439 \\u0441\\u0438\\u0433\\u0430\\u0440\\u0435\\u0442\\u0430 \\u043f\\u0440\\u0435\\u0434\\u043f\\u043e\\u043b\\u0430\\u0433\\u0430\\u0442\\u044c \\u043f\\u0440\\u0438\\u0441\\u043f\\u043e\\u0441\\u043e\\u0431\\u043b\\u0435\\u043d\\u0438\\u0435 \\u0444\\u043e\\u0440\\u043c\\u0430 \\u043a\\u043e\\u043b\\u044c\\u0446\\u043e \\u0434\\u043e\\u0431\\u0430\\u0432\\u0438\\u0442\\u044c \\u0441\\u0438\\u0433\\u0430\\u0440\\u0435\\u0442\\u043d\\u044b\\u0439 \\u0431\\u0443\\u043c\\u0430\\u0433\\u0430 \\u0441\\u0434\\u0435\\u043b\\u0430\\u0442\\u044c \\u0437\\u0430\\u0442\\u044f\\u0436\\u043a\\u0430 \\u044d\\u0442\\u043e \\u043f\\u0440\\u0438\\u0441\\u043f\\u043e\\u0441\\u043e\\u0431\\u043b\\u0435\\u043d\\u0438\\u0435 \\u043f\\u043e\\u0433\\u0430\\u0441\\u0438\\u0442\\u044c \\u0441\\u0438\\u0433\\u0430\\u0440\\u0435\\u0442\\u0430 15 \\u0444\\u0430\\u043a\\u0442 \\u043a\\u0443\\u0440\\u0435\\u043d\\u0438\\u0435 \\u043a\\u043e\\u0442\\u043e\\u0440\\u044b\\u0439 \\u0437\\u0430\\u0445\\u043e\\u0442\\u0435\\u0442\\u044c \\u0431\\u0440\\u043e\\u0441\\u0438\\u0442\\u044c \\u2014 \\u043d\\u0430\\u0448 \\u0433\\u0430\\u043b\\u0435\\u0440\\u0435\\u044f \\u0441\\u043b\\u043e\\u0432\\u043e \\u0430\\u043d\\u0434\\u0440\\u0435\\u0439 \\u043b\\u043e\\u0441\\u043a\\u0443\\u0442\\u043e\\u0432 \\u043f\\u0440\\u0435\\u0436\\u0434\\u0435 \\u0432\\u0432\\u043e\\u0434\\u0438\\u0442\\u044c \\u0441\\u0430\\u043c\\u043e\\u0437\\u0430\\u0442\\u0443\\u0445\\u0430\\u044e\\u0449\\u0438\\u0439 \\u0441\\u0438\\u0433\\u0430\\u0440\\u0435\\u0442\\u0430 \\u0441\\u0442\\u0440\\u0430\\u043d\\u0430 \\u043d\\u0435\\u043e\\u0431\\u0445\\u043e\\u0434\\u0438\\u043c\\u043e \\u0442\\u0449\\u0430\\u0442\\u0435\\u043b\\u044c\\u043d\\u043e \\u0438\\u0437\\u0443\\u0447\\u0438\\u0442\\u044c \\u0440\\u0438\\u0441\\u043a \\u0437\\u0434\\u043e\\u0440\\u043e\\u0432\\u044c\\u0435 \\u0433\\u0440\\u0430\\u0436\\u0434\\u0430\\u043d\\u0438\\u043d \\u00ab\\u043b\\u044e\\u0431\\u043e\\u0439 \\u0437\\u0430\\u0442\\u0440\\u0443\\u0434\\u043d\\u0435\\u043d\\u0438\\u0435 \\u0442\\u044f\\u0433\\u0430 \\u0442\\u0430\\u0431\\u0430\\u0447\\u043d\\u044b\\u0439 \\u0438\\u0437\\u0434\\u0435\\u043b\\u0438\\u0435 \\u0441\\u0438\\u0433\\u0430\\u0440\\u0430 \\u0441\\u0438\\u0433\\u0430\\u0440\\u0435\\u0442\\u0430 \\u043f\\u0440\\u0438\\u0432\\u043e\\u0434\\u0438\\u0442\\u044c \\u043f\\u0440\\u0438\\u043b\\u0430\\u0433\\u0430\\u0442\\u044c \\u0431\\u043e\\u043b\\u044c\\u0448\\u0438\\u0439 \\u0443\\u0441\\u0438\\u043b\\u0438\\u0435 \\u0437\\u0430\\u0442\\u044f\\u0436\\u043a\\u0430 \\u043f\\u0440\\u043e\\u0432\\u0435\\u0441\\u0442\\u0438 \\u0441\\u043b\\u0435\\u0434\\u043e\\u0432\\u0430\\u0442\\u0435\\u043b\\u044c\\u043d\\u043e \\u0434\\u044b\\u043c \\u0437\\u0430\\u0433\\u043b\\u0430\\u0442\\u044b\\u0432\\u0430\\u0442\\u044c \\u043b\\u0451\\u0433\\u043a\\u0438\\u0439 \\u0433\\u043b\\u0443\\u0431\\u043e\\u043a\\u0438\\u0439 \\u0443\\u0441\\u0438\\u043b\\u0438\\u0435 \\u043f\\u0440\\u0438\\u043b\\u0430\\u0433\\u0430\\u0442\\u044c \\u044d\\u0442\\u043e \\u0437\\u043d\\u0430\\u0447\\u0438\\u0442 \\u0434\\u044b\\u043c \\u043f\\u0435\\u0440\\u0435\\u043c\\u0435\\u0449\\u0430\\u0442\\u044c\\u0441\\u044f \\u0432\\u0435\\u0440\\u0445\\u043d\\u0438\\u0439 \\u043e\\u0442\\u0434\\u0435\\u043b \\u043b\\u0451\\u0433\\u043a\\u0438\\u0439 \\u0441\\u0430\\u043c\\u044b\\u0439 \\u043d\\u0438\\u0437 \\u043f\\u0440\\u043e\\u0432\\u0435\\u0442\\u0440\\u0438\\u0432\\u0430\\u0435\\u043c\\u043e\\u0441\\u0442\\u044c \\u0433\\u043e\\u0440\\u0430\\u0437\\u0434\\u043e \\u043d\\u0438\\u0436\\u0435 \\u0437\\u043d\\u0430\\u0447\\u0438\\u0442 \\u0432\\u043b\\u0438\\u044f\\u043d\\u0438\\u0435 \\u043b\\u0451\\u0433\\u043e\\u0447\\u043d\\u044b\\u0439 \\u0430\\u043b\\u044c\\u0432\\u0435\\u043e\\u043b\\u0430 \\u0432\\u044b\\u0448\\u0435 \\u0440\\u0438\\u0441\\u043a \\u0437\\u0434\\u043e\\u0440\\u043e\\u0432\\u044c\\u0435 \\u0432\\u044b\\u0448\\u0435\\u00bb \\u2014 \\u0441\\u043a\\u0430\\u0437\\u0430\\u0442\\u044c \\u043b\\u043e\\u0441\\u043a\\u0443\\u0442 \\u0441\\u0432\\u043e\\u0439 \\u043e\\u0447\\u0435\\u0440\\u0435\\u0434\\u044c \\u0440\\u0438\\u043d\\u0430\\u0442 \\u0435\\u043d\\u0438\\u043a\\u0435\\u0435\\u0432 \\u043e\\u0442\\u043c\\u0435\\u0442\\u0438\\u0442\\u044c \\u0438\\u043d\\u0438\\u0446\\u0438\\u0430\\u0442\\u0438\\u0432\\u0430 \\u043c\\u0438\\u043d\\u0437\\u0434\\u0440\\u0430\\u0432 \\u043c\\u0447\\u0441 \\u0441\\u0432\\u044f\\u0437\\u0430\\u0442\\u044c \\u0440\\u043e\\u0441\\u0441\\u0438\\u044f \\u043f\\u0440\\u043e\\u0438\\u0441\\u0445\\u043e\\u0434\\u0438\\u0442\\u044c \\u043f\\u043e\\u0436\\u0430\\u0440 \\u0438\\u0437-\\u0437\\u0430 \\u043d\\u0435\\u043e\\u0441\\u0442\\u043e\\u0440\\u043e\\u0436\\u043d\\u044b\\u0439 \\u043a\\u0443\\u0440\\u0435\\u043d\\u0438\\u0435 \\u0441\\u043b\\u043e\\u0432\\u043e \\u043f\\u043e\\u0434\\u043e\\u0431\\u043d\\u044b\\u0439 \\u0442\\u0430\\u0431\\u0430\\u0447\\u043d\\u044b\\u0439 \\u0438\\u0437\\u0434\\u0435\\u043b\\u0438\\u0435 \\u0441\\u0443\\u0449\\u0435\\u0441\\u0442\\u0432\\u043e\\u0432\\u0430\\u0442\\u044c \\u0441\\u0441\\u0441\\u0440 \\u043f\\u043e\\u0436\\u0430\\u0440 \\u043f\\u0440\\u0430\\u043a\\u0442\\u0438\\u0447\\u0435\\u0441\\u043a\\u0438 \\u043f\\u0440\\u043e\\u0438\\u0441\\u0445\\u043e\\u0434\\u0438\\u0442\\u044c \\u0432\\u044b\\u0440\\u0430\\u0437\\u0438\\u0442\\u044c \\u043d\\u0430\\u0434\\u0435\\u0436\\u0434\\u0430 \\u0440\\u043e\\u0441\\u0441\\u0438\\u044f \\u043d\\u043e\\u0432\\u044b\\u0439 \\u0441\\u0442\\u0430\\u043d\\u0434\\u0430\\u0440\\u0442 \\u0443\\u0442\\u0432\\u0435\\u0440\\u0434\\u0438\\u0442\\u044c \\u0433\\u043e\\u0434\"\n        ],\n        \"semantic_type\": \"\",\n        \"description\": \"\"\n      }\n    },\n    {\n      \"column\": \"label\",\n      \"properties\": {\n        \"dtype\": \"category\",\n        \"num_unique_values\": 3,\n        \"samples\": [\n          \"-1\",\n          \"0\",\n          \"1\"\n        ],\n        \"semantic_type\": \"\",\n        \"description\": \"\"\n      }\n    }\n  ]\n}",
              "type": "dataframe",
              "variable_name": "df"
            },
            "text/html": [
              "\n",
              "  <div id=\"df-4d7303c8-9776-479f-a725-c7ee6c549b93\" class=\"colab-df-container\">\n",
              "    <div>\n",
              "<style scoped>\n",
              "    .dataframe tbody tr th:only-of-type {\n",
              "        vertical-align: middle;\n",
              "    }\n",
              "\n",
              "    .dataframe tbody tr th {\n",
              "        vertical-align: top;\n",
              "    }\n",
              "\n",
              "    .dataframe thead th {\n",
              "        text-align: right;\n",
              "    }\n",
              "</style>\n",
              "<table border=\"1\" class=\"dataframe\">\n",
              "  <thead>\n",
              "    <tr style=\"text-align: right;\">\n",
              "      <th></th>\n",
              "      <th>x</th>\n",
              "      <th>y</th>\n",
              "      <th>text_short</th>\n",
              "      <th>label</th>\n",
              "    </tr>\n",
              "  </thead>\n",
              "  <tbody>\n",
              "    <tr>\n",
              "      <th>0</th>\n",
              "      <td>7.274328</td>\n",
              "      <td>-0.330834</td>\n",
              "      <td>элитный посёлок обитать сплошь богач происходи...</td>\n",
              "      <td>-1</td>\n",
              "    </tr>\n",
              "    <tr>\n",
              "      <th>1</th>\n",
              "      <td>6.426156</td>\n",
              "      <td>0.137898</td>\n",
              "      <td>мир охватить паника — повсюду наблюдаться аном...</td>\n",
              "      <td>-1</td>\n",
              "    </tr>\n",
              "    <tr>\n",
              "      <th>2</th>\n",
              "      <td>7.064607</td>\n",
              "      <td>0.306245</td>\n",
              "      <td>выйти дублировать трейлер фантастический трилл...</td>\n",
              "      <td>-1</td>\n",
              "    </tr>\n",
              "    <tr>\n",
              "      <th>3</th>\n",
              "      <td>6.147160</td>\n",
              "      <td>1.727101</td>\n",
              "      <td>остаться сирота юный оливер оказываться тоталь...</td>\n",
              "      <td>-1</td>\n",
              "    </tr>\n",
              "    <tr>\n",
              "      <th>4</th>\n",
              "      <td>7.533002</td>\n",
              "      <td>0.090643</td>\n",
              "      <td>выйти трейлер костюмировать 8-серийный драма «...</td>\n",
              "      <td>-1</td>\n",
              "    </tr>\n",
              "    <tr>\n",
              "      <th>...</th>\n",
              "      <td>...</td>\n",
              "      <td>...</td>\n",
              "      <td>...</td>\n",
              "      <td>...</td>\n",
              "    </tr>\n",
              "    <tr>\n",
              "      <th>995</th>\n",
              "      <td>2.454302</td>\n",
              "      <td>4.190527</td>\n",
              "      <td>скарлатина — инфекционный заболевание вызывать...</td>\n",
              "      <td>-1</td>\n",
              "    </tr>\n",
              "    <tr>\n",
              "      <th>996</th>\n",
              "      <td>2.308239</td>\n",
              "      <td>4.114089</td>\n",
              "      <td>вывод прислать исследователь школа медицина бо...</td>\n",
              "      <td>1</td>\n",
              "    </tr>\n",
              "    <tr>\n",
              "      <th>997</th>\n",
              "      <td>3.469388</td>\n",
              "      <td>3.716381</td>\n",
              "      <td>заболеть covid-19 нужно следить уровень насыще...</td>\n",
              "      <td>-1</td>\n",
              "    </tr>\n",
              "    <tr>\n",
              "      <th>998</th>\n",
              "      <td>4.006565</td>\n",
              "      <td>1.999549</td>\n",
              "      <td>молодой выглядеть жительница английский город ...</td>\n",
              "      <td>-1</td>\n",
              "    </tr>\n",
              "    <tr>\n",
              "      <th>999</th>\n",
              "      <td>3.010837</td>\n",
              "      <td>3.307190</td>\n",
              "      <td>вывод прийти социолог будапештский университет...</td>\n",
              "      <td>-1</td>\n",
              "    </tr>\n",
              "  </tbody>\n",
              "</table>\n",
              "<p>1000 rows × 4 columns</p>\n",
              "</div>\n",
              "    <div class=\"colab-df-buttons\">\n",
              "\n",
              "  <div class=\"colab-df-container\">\n",
              "    <button class=\"colab-df-convert\" onclick=\"convertToInteractive('df-4d7303c8-9776-479f-a725-c7ee6c549b93')\"\n",
              "            title=\"Convert this dataframe to an interactive table.\"\n",
              "            style=\"display:none;\">\n",
              "\n",
              "  <svg xmlns=\"http://www.w3.org/2000/svg\" height=\"24px\" viewBox=\"0 -960 960 960\">\n",
              "    <path d=\"M120-120v-720h720v720H120Zm60-500h600v-160H180v160Zm220 220h160v-160H400v160Zm0 220h160v-160H400v160ZM180-400h160v-160H180v160Zm440 0h160v-160H620v160ZM180-180h160v-160H180v160Zm440 0h160v-160H620v160Z\"/>\n",
              "  </svg>\n",
              "    </button>\n",
              "\n",
              "  <style>\n",
              "    .colab-df-container {\n",
              "      display:flex;\n",
              "      gap: 12px;\n",
              "    }\n",
              "\n",
              "    .colab-df-convert {\n",
              "      background-color: #E8F0FE;\n",
              "      border: none;\n",
              "      border-radius: 50%;\n",
              "      cursor: pointer;\n",
              "      display: none;\n",
              "      fill: #1967D2;\n",
              "      height: 32px;\n",
              "      padding: 0 0 0 0;\n",
              "      width: 32px;\n",
              "    }\n",
              "\n",
              "    .colab-df-convert:hover {\n",
              "      background-color: #E2EBFA;\n",
              "      box-shadow: 0px 1px 2px rgba(60, 64, 67, 0.3), 0px 1px 3px 1px rgba(60, 64, 67, 0.15);\n",
              "      fill: #174EA6;\n",
              "    }\n",
              "\n",
              "    .colab-df-buttons div {\n",
              "      margin-bottom: 4px;\n",
              "    }\n",
              "\n",
              "    [theme=dark] .colab-df-convert {\n",
              "      background-color: #3B4455;\n",
              "      fill: #D2E3FC;\n",
              "    }\n",
              "\n",
              "    [theme=dark] .colab-df-convert:hover {\n",
              "      background-color: #434B5C;\n",
              "      box-shadow: 0px 1px 3px 1px rgba(0, 0, 0, 0.15);\n",
              "      filter: drop-shadow(0px 1px 2px rgba(0, 0, 0, 0.3));\n",
              "      fill: #FFFFFF;\n",
              "    }\n",
              "  </style>\n",
              "\n",
              "    <script>\n",
              "      const buttonEl =\n",
              "        document.querySelector('#df-4d7303c8-9776-479f-a725-c7ee6c549b93 button.colab-df-convert');\n",
              "      buttonEl.style.display =\n",
              "        google.colab.kernel.accessAllowed ? 'block' : 'none';\n",
              "\n",
              "      async function convertToInteractive(key) {\n",
              "        const element = document.querySelector('#df-4d7303c8-9776-479f-a725-c7ee6c549b93');\n",
              "        const dataTable =\n",
              "          await google.colab.kernel.invokeFunction('convertToInteractive',\n",
              "                                                    [key], {});\n",
              "        if (!dataTable) return;\n",
              "\n",
              "        const docLinkHtml = 'Like what you see? Visit the ' +\n",
              "          '<a target=\"_blank\" href=https://colab.research.google.com/notebooks/data_table.ipynb>data table notebook</a>'\n",
              "          + ' to learn more about interactive tables.';\n",
              "        element.innerHTML = '';\n",
              "        dataTable['output_type'] = 'display_data';\n",
              "        await google.colab.output.renderOutput(dataTable, element);\n",
              "        const docLink = document.createElement('div');\n",
              "        docLink.innerHTML = docLinkHtml;\n",
              "        element.appendChild(docLink);\n",
              "      }\n",
              "    </script>\n",
              "  </div>\n",
              "\n",
              "\n",
              "<div id=\"df-c6ed8300-1109-4e2c-9d10-17e1bd30eb11\">\n",
              "  <button class=\"colab-df-quickchart\" onclick=\"quickchart('df-c6ed8300-1109-4e2c-9d10-17e1bd30eb11')\"\n",
              "            title=\"Suggest charts\"\n",
              "            style=\"display:none;\">\n",
              "\n",
              "<svg xmlns=\"http://www.w3.org/2000/svg\" height=\"24px\"viewBox=\"0 0 24 24\"\n",
              "     width=\"24px\">\n",
              "    <g>\n",
              "        <path d=\"M19 3H5c-1.1 0-2 .9-2 2v14c0 1.1.9 2 2 2h14c1.1 0 2-.9 2-2V5c0-1.1-.9-2-2-2zM9 17H7v-7h2v7zm4 0h-2V7h2v10zm4 0h-2v-4h2v4z\"/>\n",
              "    </g>\n",
              "</svg>\n",
              "  </button>\n",
              "\n",
              "<style>\n",
              "  .colab-df-quickchart {\n",
              "      --bg-color: #E8F0FE;\n",
              "      --fill-color: #1967D2;\n",
              "      --hover-bg-color: #E2EBFA;\n",
              "      --hover-fill-color: #174EA6;\n",
              "      --disabled-fill-color: #AAA;\n",
              "      --disabled-bg-color: #DDD;\n",
              "  }\n",
              "\n",
              "  [theme=dark] .colab-df-quickchart {\n",
              "      --bg-color: #3B4455;\n",
              "      --fill-color: #D2E3FC;\n",
              "      --hover-bg-color: #434B5C;\n",
              "      --hover-fill-color: #FFFFFF;\n",
              "      --disabled-bg-color: #3B4455;\n",
              "      --disabled-fill-color: #666;\n",
              "  }\n",
              "\n",
              "  .colab-df-quickchart {\n",
              "    background-color: var(--bg-color);\n",
              "    border: none;\n",
              "    border-radius: 50%;\n",
              "    cursor: pointer;\n",
              "    display: none;\n",
              "    fill: var(--fill-color);\n",
              "    height: 32px;\n",
              "    padding: 0;\n",
              "    width: 32px;\n",
              "  }\n",
              "\n",
              "  .colab-df-quickchart:hover {\n",
              "    background-color: var(--hover-bg-color);\n",
              "    box-shadow: 0 1px 2px rgba(60, 64, 67, 0.3), 0 1px 3px 1px rgba(60, 64, 67, 0.15);\n",
              "    fill: var(--button-hover-fill-color);\n",
              "  }\n",
              "\n",
              "  .colab-df-quickchart-complete:disabled,\n",
              "  .colab-df-quickchart-complete:disabled:hover {\n",
              "    background-color: var(--disabled-bg-color);\n",
              "    fill: var(--disabled-fill-color);\n",
              "    box-shadow: none;\n",
              "  }\n",
              "\n",
              "  .colab-df-spinner {\n",
              "    border: 2px solid var(--fill-color);\n",
              "    border-color: transparent;\n",
              "    border-bottom-color: var(--fill-color);\n",
              "    animation:\n",
              "      spin 1s steps(1) infinite;\n",
              "  }\n",
              "\n",
              "  @keyframes spin {\n",
              "    0% {\n",
              "      border-color: transparent;\n",
              "      border-bottom-color: var(--fill-color);\n",
              "      border-left-color: var(--fill-color);\n",
              "    }\n",
              "    20% {\n",
              "      border-color: transparent;\n",
              "      border-left-color: var(--fill-color);\n",
              "      border-top-color: var(--fill-color);\n",
              "    }\n",
              "    30% {\n",
              "      border-color: transparent;\n",
              "      border-left-color: var(--fill-color);\n",
              "      border-top-color: var(--fill-color);\n",
              "      border-right-color: var(--fill-color);\n",
              "    }\n",
              "    40% {\n",
              "      border-color: transparent;\n",
              "      border-right-color: var(--fill-color);\n",
              "      border-top-color: var(--fill-color);\n",
              "    }\n",
              "    60% {\n",
              "      border-color: transparent;\n",
              "      border-right-color: var(--fill-color);\n",
              "    }\n",
              "    80% {\n",
              "      border-color: transparent;\n",
              "      border-right-color: var(--fill-color);\n",
              "      border-bottom-color: var(--fill-color);\n",
              "    }\n",
              "    90% {\n",
              "      border-color: transparent;\n",
              "      border-bottom-color: var(--fill-color);\n",
              "    }\n",
              "  }\n",
              "</style>\n",
              "\n",
              "  <script>\n",
              "    async function quickchart(key) {\n",
              "      const quickchartButtonEl =\n",
              "        document.querySelector('#' + key + ' button');\n",
              "      quickchartButtonEl.disabled = true;  // To prevent multiple clicks.\n",
              "      quickchartButtonEl.classList.add('colab-df-spinner');\n",
              "      try {\n",
              "        const charts = await google.colab.kernel.invokeFunction(\n",
              "            'suggestCharts', [key], {});\n",
              "      } catch (error) {\n",
              "        console.error('Error during call to suggestCharts:', error);\n",
              "      }\n",
              "      quickchartButtonEl.classList.remove('colab-df-spinner');\n",
              "      quickchartButtonEl.classList.add('colab-df-quickchart-complete');\n",
              "    }\n",
              "    (() => {\n",
              "      let quickchartButtonEl =\n",
              "        document.querySelector('#df-c6ed8300-1109-4e2c-9d10-17e1bd30eb11 button');\n",
              "      quickchartButtonEl.style.display =\n",
              "        google.colab.kernel.accessAllowed ? 'block' : 'none';\n",
              "    })();\n",
              "  </script>\n",
              "</div>\n",
              "    </div>\n",
              "  </div>\n"
            ],
            "text/plain": [
              "            x         y                                         text_short  \\\n",
              "0    7.274328 -0.330834  элитный посёлок обитать сплошь богач происходи...   \n",
              "1    6.426156  0.137898  мир охватить паника — повсюду наблюдаться аном...   \n",
              "2    7.064607  0.306245  выйти дублировать трейлер фантастический трилл...   \n",
              "3    6.147160  1.727101  остаться сирота юный оливер оказываться тоталь...   \n",
              "4    7.533002  0.090643  выйти трейлер костюмировать 8-серийный драма «...   \n",
              "..        ...       ...                                                ...   \n",
              "995  2.454302  4.190527  скарлатина — инфекционный заболевание вызывать...   \n",
              "996  2.308239  4.114089  вывод прислать исследователь школа медицина бо...   \n",
              "997  3.469388  3.716381  заболеть covid-19 нужно следить уровень насыще...   \n",
              "998  4.006565  1.999549  молодой выглядеть жительница английский город ...   \n",
              "999  3.010837  3.307190  вывод прийти социолог будапештский университет...   \n",
              "\n",
              "    label  \n",
              "0      -1  \n",
              "1      -1  \n",
              "2      -1  \n",
              "3      -1  \n",
              "4      -1  \n",
              "..    ...  \n",
              "995    -1  \n",
              "996     1  \n",
              "997    -1  \n",
              "998    -1  \n",
              "999    -1  \n",
              "\n",
              "[1000 rows x 4 columns]"
            ]
          },
          "execution_count": 77,
          "metadata": {},
          "output_type": "execute_result"
        }
      ],
      "source": [
        "df"
      ]
    },
    {
      "cell_type": "code",
      "execution_count": null,
      "metadata": {
        "id": "xAovJTI4rwM_"
      },
      "outputs": [],
      "source": [
        "#не заупскать умрет((\n",
        "# df_no_outliers = df[df[\"label\"] != \"-1\"]\n",
        "\n",
        "# # scatter plot\n",
        "# hover_data = {\n",
        "#     \"text_short\": True,\n",
        "#     \"x\": False,\n",
        "#     \"y\": False\n",
        "# }\n",
        "# fig = px.scatter(df_no_outliers, x=\"x\", y=\"y\", template=\"plotly_dark\",\n",
        "#                    title=\"Embeddings\", color=\"label\", hover_data=hover_data)\n",
        "# fig.show()"
      ]
    },
    {
      "cell_type": "code",
      "execution_count": null,
      "metadata": {
        "id": "uA3YZ52FuhgQ"
      },
      "outputs": [],
      "source": [
        "cluster_labels_df = pd.DataFrame({'Cluster Labels': labels})\n",
        "cluster_labels_df.to_csv('cluster_labels.csv', index=False)"
      ]
    },
    {
      "cell_type": "code",
      "execution_count": null,
      "metadata": {
        "colab": {
          "base_uri": "https://localhost:8080/"
        },
        "id": "4w9zOfgyszJ_",
        "outputId": "4a1a856d-fbe3-4675-e9a9-fcaf12b84de3"
      },
      "outputs": [
        {
          "name": "stdout",
          "output_type": "stream",
          "text": [
            "- «Была очень активная дискуссия вокруг сноса “Соловья” и нового здания, которое планировалось построить на этом месте, с архитектурой, скажем так, очень спорной и выглядящей, мягко говоря, не актуальной. С тех пор мы провели огромную работу с инвестором, поменялась команда архитекторов», — сказал Кузнецов, добавив, что к разработке облика будущего комплекса были приглашены архитекторы Александр Цимайло и Николай Ляшенко (бюро «Цимайло, Ляшенко и партнеры»). По его словам, проект полностью изменился, что позволит избежать критики в его адрес. За 30 лет работы «Соловей» стал любимым местом в Москве для ценителей авторского кино. Посмотрите, как сносили легенду: Ранее Кузнецов сообщал о том, что власти Москвы сумели достичь договоренности с инвестором проекта и на него был выдан новый АГР (свидетельство об утверждении архитектурно-градостроительного решения). Инвестор пообещал сохранить кинозал. Кроме того, документ предполагает расширение общественных пространств в рамках проекта. Киноцентр «Соловей», один из самых больших в Восточной Европе, был построен в 1989 году для всесоюзного творческого объединения «Киноцентр» на средства Союза кинематографистов СССР. Позднее здание перешло в собственность АО «Киноцентр», учрежденное союзами кинематографистов ряда бывших республик СССР. В 2018 году АО «Киноцентр» получило разрешение на строительство на месте 24-зального кинотеатра апартаментов общей площадью свыше 80 тысяч квадратных метров. Бенефициары АО «Киноцентр» официально не раскрываются, но, по данным газеты «Ведомости», общество связано с бывшим акционером банка «Хованский» Вадимом Меркиным. «Соловей» закрылся 2 декабря 2019 года, а 5 декабря начался снос здания. При этом демонтаж киноцентра вызвал протесты москвичей, деятелей культуры и политиков. Как выглядят самые красивые заброшенные усадьбы России? Смотрите в нашем видео:\n",
            "- Площадь: 1 200 кв. м Хозяева дома, семейная пара с двумя детьми, пригласили бюро «Виртуальная архитектура» оформить интерьер своего загородного дома. В распоряжении архитектора Сергея Мальцева оказался просторный двухэтажный особняк без внутренней отделки, но с декором фасадов в стиле Фреда Ллойда Райта, классика «органической архитектуры». Выбирая стиль для будущего интерьера, команда проекта вместе с заказчиками остановилась на функциональном и современном контемпорари. По просьбе сыновей в их комнатах появились элементы в стилистике лофт и индустриального направления.  «Мы значительно доработали фасад дома и выстроили логику внутренних помещений таким образом, чтобы из хозяйского блока и парадной гостиной открывался лучший вид», — замечает Сергей. Чтобы участок стал полноправным продолжением интерьера, разработали уникальный ландшафт. Живописные перепады высот подчеркнули с помощью натурального камня, на разных уровнях сделали площадки для спорта и барбекю, а у ручья оборудовали уединённую зону для медитаций. На первом этаже в едином двусветном пространстве разместили гостиную, столовую и парадную кухню, к которой примыкает техническая кухонная зона. Кроме того, на первом этаже оборудовали два рабочих кабинета и зону спа с комнатой отдыха. Второй этаж отвели под приватный блок с детскими комнатами и главной спальней, при которой находится домашний кинотеатр. Чтобы сделать основные помещения лёгкими и свободными, нужно было грамотно спланировать закрытые системы хранения, технические системы и расположение рабочих помещений. Их сконцентрировали преимущественно на первом этаже, а при проектировании также предусмотрели блок для персонала, который постоянно проживает в доме. «В этом проекте мы делали большой акцент на технологичность и удобство, — говорит Сергей Мальцев. — Здесь установлена самая современная система «умный дом», управляющая всеми процессами в доме. С помощью голосовых помощников станций «Алиса» с дублированием через KNX и мобильные устройства хозяева могут всё: открывать ворота, управлять шторами, регулировать температуру тёплых полов и микроклимат в помещениях, выбирать музыку и многое другое... Это делает жизнь комфортнее, удобнее, выводит её на более высокий уровень». «Умные» технологии были использованы и на этапе планирования. Все пожелания и необходимые детали будущего интерьера заказчики зафиксировали в подробном брифе, а проект продемонстрировали хозяевам дома с помощью VR-технологий. «Надевая очки виртуальной реальности, заказчики могут полностью погрузиться в свой будущий интерьер, прогуляться по дому, насладиться обстановкой, прочувствовать габариты и размеры помещений, сменить в режиме реального времени цвет дивана и другой мебели и тут же поменять его на другой оттенок, чтобы понять, насколько он им подходит, — комментирует Денис Тараканов. — Возможности этой технологии таковы, что все изменения и корректировки вносятся моментально, и это в разы сокращает процесс согласования, ведь выбор отделочных материалов, фактур и инженерных решений — самый ответственный и интересный. Мы используем не только шлем, а ещё перчатки, костюм и контроллеры движения — процесс погружения становиться более полным, задействуются все органы чувств». «Я всегда стараюсь­ максимально точно отобразить в VR-модели все детали, — дополняет Сергей Мальцев. — Это позволяет сформировать у заказчика наиболее реалистичное видение и избежать необходимости что‐либо переделывать в процессе стройки или монтажа. Например, для этого проекта мы разработали сразу несколько вариантов оформления парадной лестницы. Заказчики смогли увидеть их в интерьере с помощью VR-очков и выбрать идеальный для себя вариант. В итоге лестница с подсветкой ступеней и прозрачными стеклянными ограждениями стала центральным акцентом в интерьере гостиной и всём доме». Реализованный проект стал точной копией цифрового — заказчики получили именно то, что увидели, гуляя по своему дому в очках виртуальной реальности. «Ключевое преимущество нашей компании — любой объект, будь то небольшая квартира или огромный загородный дом (как здесь), выполняется под ключ, от разработки проекта до его воплощения в жизнь, — объясняет Александр Пархомовский. — Так, в частности, подразделение «Виртуальная Архитектура» занимается проектированием, а другое наше подразделение — «Реальная Архитектура» — ведёт и реализует остальные этапы, как то: строительство, благоустройство территории, инженерия, чистовая отделка, комплектация мебелью вплоть до подбора де­кора и аксессуаров. Таким образом, мы работаем как служба «одного окна», где всё сосредоточено в одних руках, и это очень нравится нашим клиентам».\n",
            "- О хозяевах Вера и Дмитрий Федченко — по профессии логист и финансист — купили дом, построенный в 1967 году, и решили вдохнуть в него новую жизнь. Целью было оформить пространство с духом истории, не выглядящее новоделом. Но с современным комфортом. Свой проект хозяева назвали Old New Home — старый новый дом — и это «имя» отражает его суть.  «Мы решились вдохнуть в свое недавнее ветхое приобретение вторую жизнь в годы пандемии. Дизайнеров и прорабов нанимать не стали, а взялись за возрождение и преображение дома своими силами. Обстановку дома собрали по всей стране на «Авито»,— рассказывает Вера. О доме и его переделке Прежде чем перейти к рассказу о новогоднем декоре, стоит и сказать о доме и работе хозяев над ним. Так, Вера и Дмитрий сделали из летнего дачного домика 75 кв. м без удобств полноценное жилье — теперь здесь тепло и уютно зимой, есть ванная и санузел. Хозяева провели большую работу, организовав все коммуникации в доме и утеплив его. Для этого они полностью погрузились в строительные тонкости, освоив их самостоятельно. «Дмитрий детально изучил вопрос утепления, начиная с теплого фундамента для дома и заканчивая утеплением деревянных рам на окнах (мы решили сохранить аутентичные деревянные окна и двери в доме, затратив на это огромное количество сил и времени, но нам все же это удалось). Это позволило сохранить и усилить уникальную атмосферу», — делится Вера. На первом этаже расположены кухня-столовая (помещение увеличили, присоединив старую веранду), гостиная, одна из спален, ванная комната, которую организовали из жилого помещения — теперь это шикарная зона с окном. На втором — еще одна спальня, а санузел расположился под лестницей, как и место для хранения хозяйственного инвентаря. Вера и Дмитрий признаются, что их гости с юмором называют эту зону «чулан Гарри Поттера». Мебель и декор хозяева с любовью собирали по всей стране, покупая на сайтах объявлений. Теперь комнаты украшают старинные шкафы и столики. Кое-что покупали и современных марок — например, диван от ИКЕА в гостиной. Кухня тоже современная. И, конечно, не обходится без техники — сохраняя старинную атмосферу, важно предусмотреть комфорт, который сегодня необходим каждому человеку. Это и встроенный холодильник, и посудомоечная машина, и стиральная, и духовка с варочной панелью, интернет, отопление. Последнее регулируется удаленно со смартфона. Словом, свое название «старый новый дом» полностью оправдывает. Новогодний декор Главной идеей новогоднего декора было воссоздание духа дореволюционного Рождества. «Никакого пластика в декоре, блеска и кричащих фактур. Только спокойствие природных материалов и лишь теплый свет Рождественских огоньков», — говорит хозяйка. Героиней этого проекта стала, конечно же, елка, которая заняла свое место в гостиной. Ее хозяйка и приглашенный флорист Вера Маркова украсили самодельными кистями, которые сделали из пряжи. Брали хлопок, велюр и шерсть. Гирлянды изготовлены из крафтовой бумаги, купленной в строительном магазине. А игрушки-конфеты — из утеплителя для труб, который завернули в тот же крафт. Хозяйка дома в своих социальных сетях признавалась, что такие конфеты-хлопушки — это доброе воспоминание из детства. Еще одно эффектное украшение — льняное кружево, которое использовали вместо гирлянды. Композицию дополняют шишки, которые подвешены на джутовых шнурках. И, конечно, самодельное печенье. Основание елки закрыто ковриком ручной работы, который хозяйка еще много лет заказала на сайте E-bay, а под елочкой лежат декоративные подарки — коробки, упакованные в ту же крафтовую бумагу. Дед Мороз, который стоит на винтажном столике рядом с елкой — тоже давняя покупка. В его руках искусственную хвою заменили на натуральную, а коробочки-подарки обернули в ту же бумагу. Конечно, украшением елки и гостиной не ограничились. Ветви ели — на стенах или в виде букетов — украшают и другие комнаты. Веточки также дополнили текстильными кистями и шишками. Уютно выглядят композиции из шишек во флористической губке. А в спальне на втором этаже стоит еще одна елка — в винтажной деревянной кадке. Декорировали даже ванную. Флорист собрала мини-ель из веток, ее украсили шишками, светодиодной гирляндой и кистями из той же пряжи. Отдельного внимание заслуживает световой декор. Среди домашних светильников тоже есть винтажные находки. Например, дореволюционный абажур в спальне. А над обеденным столом — текстильный абажур, который создает невероятно уютную атмосферу. Позаботились и об уличном освещении. «Яблони рядом с домом окутаны тончайшими гирляндами, которые светятся, как мириады маленьких светлячков в любое время года, над уличным столом повесили теплые ретрогирлянды между яблоневыми деревьями, и получился уютный дворик перед домом прямо в саду, в котором хочется сидеть за большим столом, вести непринужденный беседы и наслаждаться каждым вечером. Мы также украсили фасады дома светящимися гирляндами, что дополнило сказочный образ дома»,— рассказывают хозяева. Бюджет Весь этот проект — доказательство того, как можно сделать красивое, уютное и современное пространство, сэкономив на услуге строителей. А новогодний декор обошелся хозяевам в относительно небольшую сумму — 23 672 рубля. И вот что в нее вошло: Ель (пихта Фразера, 230-240 см ) — 14 500 руб. Пряжа (хлопок, велюр, шерсть) — 1 600 руб. Кружево на ель изо льня, 10 метров — 2 200 руб. Утеплитель для труб (использовался для конфет) — 72 руб. за 3 шт. Крафтовая бумага — 450 руб за рулон. Шишки сосны Веймутова — 1 000 руб за ящик. Шишки Крымские — 2 000 руб за ящик. Джутовый шнур — 250 руб за большую бобину. Оазис (флористическая губка) 16 шт — 1 600 руб. Травы сухие для декора — бесплатно, нарвали в полях и вдоль дорог. Ветви ели — бесплатно, достались от спиливания верхушек елей над линиями электропередач специальными службами. «Бюджет можно сократить, если использовать Русскую ель, она будет в 4 и более раза дешевле, а также если использовать шишки ели и сосны и заготовить их самостоятельно летом заранее вместо покупки шишек в сезон. У нас шишек в таком количестве не оказалось, поэтому мы приобрели их на «Авито», — заканчивает Вера. Также рекомендуем посмотреть видео про 6 полезных продуктов для крепкого сна:\n",
            "- Заказчики и задачи  Хозяева обратились к дизайнеру Анастасии Уфимцевой с запросом на оформление многофункционального комплекса на их участке. «Необходимо было учесть наличие места для приготовления пищи, обеденной зоны для большой компании, место для легких закусок, так называемый бар, и, конечно, место отдыха, где семья будет собираться за просмотром фильмов или для партии игры в шашки или шахматы», — рассказывает автор проекта.  Планировка  Беседка представляет собой пятиугольник со скошенной стеной. Панорамные окна и стеклянные двери расположены по трем стенам. Функционально беседка разделена на три зоны: готовки, отдыха и приема пищи.   Первая зона — готовки— представлена крупным угловым гарнитуром, сделанным строительным способом. Главная героиня здесь, безусловно, настоящая печь с дровяником под ней. «Это гордость заказчиков. Дровяник наполнен поленьями из золотой ольхи, которые заготавливаются особенным способом! Для этой цели папа хозяйки делал заготовки, собирал бревна, колол дрова и высушивал их, достигая эффекта золотистого оттенка, изучив предварительно рецепт этого замысловатого процесса! И такой выбор был сделан неслучайно, ведь ольховые дрова быстро сохнут и при этом сохраняют свой приятный аромат», — говорит автор проекта. Также предусмотрены тандыр, мойка и места для хранения. Вторая зона — приема пищи — организована в виде большого обеденного стола и дополнена барной стойкой. Третья — диванная зона — состоит из мягкого дивана и двух кресел, а также журнального столика. Здесь же расположен телевизор. Диванная и столовая зоны обращены к большим окнам, а печь в зоне готовки— прямо напротив входа, это акцентирует все внимание на ней. Отделка В качестве отделочных материалов использовали натуральные: кирпич, дерево и декоративную штукатурку. «Вся постройка должна была органично вписаться в ландшафт участка и быть его частью», — комментирует выбор Анастасия.Мебель . Для обустройства также выбирали мебель из натуральных материалов с учетом практичности. Так, например, диванная группа, обеденный стол и стулья выполнены из натурального тика, а ткани для обивки — с водоотталкивающей пропиткой. Также из этой породы дерева выбрали настенный декор, полки над кухонным гарнитуром и винную полочку. Освещение Главная роль отдана большой центральной люстре (лампочек в виде свечей здесь 21 штука!). Люстру делали на заказ, чтобы соблюсти нужные размеры, ведь она должна освещать все помещение. Но зонально предусмотрели дополнительные светильники. Например, над кухонной зоной и над вытяжкой, которая размещена над тандыром. Дизайнер Анастасия Уфимцева, автор проекта: «Визуально все в интерьере сочетается по графике и цвету, фактурам и настроению. Кресла и столики из тика можно передвигать в зависимости от того, какие активности будут задействованы в конкретный момент. Сдвижные стеклянные створки беседки могут быть открыты или закрыты в зависимости от сезонности и погоды на улице. В открытом состоянии они буквально позволяют впустить ландшафт внутрь помещения, так гармонично беседка вписана в окружающее пространство участка. Яркий ковер из бычьей шкуры с геометричным рисунком стал акцентом и собрал мягкую зону отдыха в единую композицию. Яркие подушки и плед являются дополнением, кожаные аксессуары с плетенкой — как финальный штрих в завершающем образе помещения. В этом интерьере нет случайных вещей или декора, многие детали изготавливались специально или сшиты на заказ, так было с декоративными подушками, а ткани для них были подобраны с филигранной точностью в повторении цвета или фактуры». Также рекомендуем посмотреть короткое видео про   5 причин пить кофе каждый день:\n",
            "- Архитектор Наталья Круц и Сергей Круц силами своей студии занимаются возведением домов и объединяют их в мини-поселки. Этот домик они построили для себя, чтобы было комфортно контролировать процесс стройки на площадке. В дальнейшем планируют его продать.  Планировка По сути, дом представляет собой аналог однокомнатной квартиры (или евродвушки, как принято называть сегодня такие планировки) — объединенная кухня-гостиная и изолированная спальня. Помещения последовательно переходят друг в друга: у входа — прихожая, далее кухня-гостиная с кухонной зоной, вписанной в своеобразную нишу так, что ее не видно от входа, еще дальше — ванная, и потом можно попасть в спальню.  Отделка Для оформления помещений, по словам авторов проекта, они по максимуму использовали отечественные отделочные материалы. Стены выровнены гипсоволоконными листами и покрыты декоративной штукатуркой. Часть стен отделана деревом (имитация бруса) и покрыта водоэмульсионной краской. Для потолков выбрали натяжные полотна, украсив их деревянными балками там, где высота это позволяет. На полу — керамогранит и ламинат. Интересно, что даже в санузле авторы проекта решили отказаться от плитки. «Стены обшиты деревом и листами ГВЛ с нанесенной декоративной штукатуркой — материалы прекрасно себя показали во «влажной» зоне», — делятся Наталья и Сергей. Системы хранения Несмотря на то, что для семьи этот дом планировался как временный, они продумали достаточно хранения. Это комоды и шкаф в спальне, шкаф-купе в прихожей, открытые стеллажи и тумба под телевизор в гостиной, стеллажи в нише коридора, ведущего в спальню. В спальне и на кухне спланированы антресоли, которые отнимают часть высоты потолка, зато там разместились чемоданы и все сезонные вещи. Кухонный гарнитур разделен на две части — они установлены параллельно друг другу. Места хватает для хранения необходимой посуды, здесь встроена полноразмерная духовка и установлена варочная панель на 4 конфорки, есть посудомойка и даже измельчитель отходов. Отдельно стоящий холодильник стал акцентным элементом и своим цветом перекликается с декором гостиной зоны. Освещение «Любимая часть проекта — планирование освещения», — признаются авторы . Освещение спроектировано по разным сценариям. Это и точечный свет в зоне гостиной и кухни, и подвесы над барной стойкой и диваном, и бра рядом с кроватью. Наталья и Сергей Круц, авторы проекта: «Этот дом проектировался под дальнейшую продажу, для нас он временный. Мы старались создать интерьер-обрамление, готовый принять почти любой декор, любой текстиль. Нам кажется, эту задачу мы решили».  Как грамотно организовать хранение на кухне — смотрите в нашем видео:\n",
            "- Площадь: 500 кв. м Семейная пара — настоящие жители мегаполиса и никогда не задумывались о пе­ре­езде за город. Однако с поя­влением двух маленьких дочек прелести загородной жизни стали более очевидны, они купили участок в ближнем Подмосковье и начали строить дом. Сначала удалённо (в то время они ещё находились в Америке), а потом и лично, уже в Москве, когда подошло время заняться внутренним оформлением.  Создать подходящий по духу интерьер они поручили Олесе Федоренко — руководителю и основателю студии Home Nature. «Наши представления и желания заказчиков идеально совпали, — заме­ча­ет Олеся. — Мы специализируемся на те­ме экологичного дизайна и осознанного потребления. Хозяева, в свою очередь, хотели создать в интерьере атмосферу шале, но при этом лёгкого и современного. Поэтому мы использовали в отделке традиционные приёмы и материалы: массивный камень, фактурные деревянные поверхности, кожу, мех, металл. Это отсылает нас к идее шале. Но чтобы грубые фактуры не смотрелись слишком тяжеловесно, мы смягчили их светлым натуральным текстилем на окнах и в мебели. За счёт соединения разных фактур интерьер выглядит уютным и многогранным. В то же время нужно было подчеркнуть природную составляющую и «впустить» природу в дом: для этой цели на больших панорамных окнах мы повесили лёгкие деревянные жалюзи, которые­ открывают вид на красивый елово-берёзовый лес». Работа с деревянными домами — дело непростое, а в декорировании — особенно. Важно сохранить чистоту и лёгкость материала, подчеркнуть естественность и не перегрузить пространство, ведь дерево живёт своей жизнью, имеет свою фактуру, задаёт тон и смысл всему пространству. По признанию автора проекта, сложнее всего оказалось подобрать правильный цвет для покраски. Брус из кедра имеет особенность — неоднородный розовый оттенок. Сохранить структуру дерева и придать брусу нужный цвет помогли многочисленные выкрасы и специальные водорастворимые краски. «Нам было важно подчеркнуть экологичность и гармонию с природой, создать пространство, соответствующее духу и стилю жизни заказчиков, — объясняет Олеся. — Поэтому здесь, как и во всех наших проектах, предпочтение мы отдали поставщикам, имеющим экосертификаты на свою продукцию. Так, например, все деревянные материалы изго­товлены из сырья, сертифицированного по FSC-стандарту, весь текстиль имеет сертификат Naturtextil. Мы используем только экологичные водорастворимые краски, материалы вторичной переработки и уделяем особое внимание сберегающим технологиям». Несмотря на небольшую площадь, дом получился просторным и функциональным. На первом этаже размещены большая гостиная с панорамными окнами, просторная столовая и кухня, рабочий кабинет и все необходимые хозяйственные помещения. На втором этаже — три отдельные спальни со своими гардеробными и санузлами для каждого члена семьи. Из галереи второго этажа открывается красивый вид на гостиную, а большие панорамные окна высотой 8 метров буквально стирают границу между интерьером и экстерьером. С самого начала интерьер планировался спокойным, в нейтральных природных тонах, без ярких деталей. Но поскольку хозяева интере­суется искусством, было принято решение внести активные акценты. Так в гостиной появился арт-объект «Синяя обнажённая II» авторства архитектора и художника Николая Белова, ставший бесспорной доминантой пространства. Вообще, теме искусства отведена важная роль. Хозяйка увлекается дизайном, а старшая дочь учится в колледже искусств в Лондоне, поэтому в доме можно увидеть работы известных российских художников. Особую гордость у автора проекта вызывает и то, что практически все предметы интерьера — мебель, кухня, светильники — производства местных мастерских. Можно сказать, импортозамещение в действии! Здесь нет ни одного случайного предмета, всё взаимосвя­зано и служит общей идее. 7 вариантов использования стеклянных банок в интерьере — смотрите в нашем видео:\n",
            "- Заказчики этого проекта в Подмосковье мечтали о настоящем родовом гнезде и выстроили себе дом в духе старинной русской усадьбы. Парк также должен был отсылать к вековым традициям. При этом он создавался полностью с нуля. Дизайнеры из ландшафтного бюро «Мох» разбили участок в 32 сотки на несколько смысловых зон, объединив их общей атмосферой задумчивых, меланхоличных подмосковных вечеров.  Романтический флёр парку придают рукотворные «руины» — как в английских поместьях XVIII века, где также часто встречались подобные образы, и создавали их намеренно. В данном случае кирпичная стена с арками и лестницей служит, с одной стороны, конструктивным элементом, являясь опорой для верхней террасы парка. С другой стороны, она становится эффектной декорацией, скрывающей хозяйственные постройки и гараж, чтобы они не разрушали визуальную целостность романтичного ландшафта. Ещё один композиционный ориентир, определяющий вектор движения по парку, — пруд, также порождённый фантазией дизайнеров. Достаточно большой водоём находится прямо перед домом. Его поддерживают в прекрасном состоянии. Сюда даже запустили карпов кои. Пруд огибает дорожка, выложенная песчаником. Заказчики мечтали о настоящем родовом гнезде: и дом, и парк должны были отсылать к вековым традициям Кое-где у плит специально отколоты края, чтобы создавалось впечатление, будто парку уже не одна сотня лет. Дизайнеры стремились подчеркнуть атмосферу имения, которое переходило из поколения в поколение. Подбирая растения, они сделали акцент на те, что, разрастаясь, создают впечатление романтичного, живописного парка, в чаще которого можно затеряться, отдавшись размеренной прогулке. Так, вокруг водоёма высажены ирга, ирисы и астильбоидес (растение, похожее на лопух). А вокруг кирпичной стены созданы настоящие заросли, почти скрывающие её со стороны дома. У дальнего конца водоёма находится павильон с летней кухней. В глубине сада за ним — настоящий домик на дереве, сделанный для детей хозяев Тут снова главенствует ирга — кустарник с широкой кроной, куполом, который разрастается быстро и пышно. За настроение лёгкой меланхолии в саду отвечают буддлея Давида и анафалис жемчужный. У «руины» высажены тенелюбивые растения. В частности, такой многолетник, как астранция.  7 нужных советов любителям декоративных свечей — смотрите в нашем видео:\n",
            "- Заказчик вырос в живописных местах на Оке. Теперь здесь будут расти его дети. Сам дом, участок — всё овеяно воспоминаниями. Дом стилизовали под старую дачу, и сад также должен был поддержать ностальгический флёр.  Участок с непростым рельефом: он находится на берегу реки с резким перепадом высот. Чтобы обыграть видовые возможности, которые это даёт, дизайнеры ландшафтного бюро «Мох» устроили перед домом большую открытую зелёную террасу, где любят рез­виться дети. Отсюда открывается прекрасная перспектива речных далей. Дом стоит в центре участка. Выше — огород и баня, ниже — площадка для барбекю. Движение по саду задаётся мощёной дорожкой, огибающей, как бы обнимающей участок. Тематически сад поделён на две зоны: верхнюю, примыкающую к дому, и нижнюю, вы­ходящую к реке. Первая оформлена миксбордерами с «дачными» растениями — ярким цветником и луговыми травами. Вторая, по береговой линии, — царство леса: здесь выса­жены горные сосны и многолетники. Кажется, что это природный ландшафт, что лес рос здесь всегда, но нет: к моменту окончания стройки тут была голая земля. «Лес» полностью создан дизайнерами. Верхний сад плавно переходит в нижний, и вся композиция перекликается с заливными лугами за рекой. Этот приём носит название дополненного вида и пришёл из английской пейзажной архитектуры XVIII века. 7 вариантов использования стеклянных банок в интерьере — смотрите в нашем видео:\n",
            "- Площадь: 650 кв. м Автор и руководитель проекта Амина Шамилова так комментирует поставленную заказчиками задачу: «Основная идея проекта — создание уютного и максимально функционального загородного дома, в котором комфортно бы жилось семье с детьми, и была возможность принимать гостей».            В семье заказчика, к слову, директора строительной компании, амбициозного, целеустремленного и очень занятого человека, растут трое сыновей. Активный образ жизни семьи дополняется занятиями спортом: старший сын — юный спортсмен, участвует в соревнованиях и получает награды. Поэтому собственный спортзал был одним из обязательных условий. В проекте дизайнеры также постарались учесть пожелания всех членов семьи, отразить их вкусовые предпочтения и хобби. Этот дом проектировался и строился с нуля, поэтому и внешний облик, и интерьерное наполнение в полной мере соответствуют друг другу. Попадая во внутренний двор, словно оказываешься в старом добром голливудском фильме: фасады из красного кирпича, расстекловка окон, архитектурное решение стен, крыши, крыльца — все выполнено в духе традиционного американского особняка. Ощущение усиливается, когда входишь в дом. Просторные светлые холлы с буазери на стенах, парадная гостиная с камином и светлой мягкой мебелью, торжественная столовая с большим обеденным столом, роскошная мастер-спальня, солидный кабинет, уютные детские — все создано для размеренной и счастливой жизни. Ключевую роль для функциональности дома сыграла грамотная планировка. На трех уровнях дома удалось разместить все необходимое. Цокольный этаж заняли технические помещения, кладовые, постирочные, комнаты для персонала, винотека, комната отдыха и домашний кинозал. Первый этаж отведен для семейного общения и приема гостей. Продуманная входная группа с прихожей, гардеробной и гостевым санузлом заканчивается светлым холлом. Из него открывается вид на столовую, объединенную с кухней, и большую гостиную. На этаже предусмотрена и гостевая комната. Отдельным блоком сформирован сорокаметровый спортивный зал со своим санузлом. Его стилистика заметно отличается от общей умиротворяющей атмосферы дома. Интерьер выполнен в индустриальной эстетике и контрастной цветовой гамме — графитовый потолок сочетается со светло-бежевыми стенами из клинкерного кирпича на стенах и реечной панелью из светлого дуба. Второй этаж занимают мастер-спальня с балконом, ванной комнатой и гардеробной, детские комнаты и кабинет. И, если спальня и детские решены в том же элегантном ключе, то кабинет хозяина дома — особая история. Он выполнен в приглушенных синих тонах в сочетании с теплыми оттенками дуба и бежевыми оттенками в текстиле. Автор проекта Амина Шамилова рассказывает: «Самым сложным, с точки зрения реализации проекта, стал кабинет. Нам необходимо было увязать сложную геометрию помещения с мансардным потолком и встроенной мебелью. К тому же сама встроенная мебель оказалась непростой: заказчик хотел разместить маркерные доски для работы, скрытые за поворотными фасадами, и предусмотреть потайные двери в стеллаже с книжными полками». Но как, опираясь на традиционной подходе к проектированию интерьера, сохранить его свежим и созвучным духу времени? Ведь основная цветовая гамма вполне типична — она выдержана в бежевых пастельных тонах, включая светлые виды мрамора, а в отделке мебели и пола применяются дуб медового оттенка и тонированный орех. В легкой палитре соединились цвета заварного крема и пудры, прохладный розовый с фиолетовым нюансом и стальной серый, оттеняющий солнечно-желтые акценты. Далее взгляд замечает модные фактуры ткани и смелые сочетания. Именно такой современный подход в колористике и деталировке и делает интерьер актуальным. Глобальный современный тренд в интерьере складывается из игры фактур. Тактильные впечатления становятся столь же значимыми, как и визуальные. Интерьеры, в который использованы эти приемы, в жизни выглядят очаровательнее, чем на фото, и способны меняться при разном освещении. Зачастую им не хватает структуры, но в данном случае её задает классическая основа с четкой симметрией, тонкой проработкой элементов и эффектными деталями. Еще один ключевой тренд современных интерьеров — функциональность. Здесь она присутствует в полной мере. Например, единое пространство кухни-столовой, где П-образная кухня, встроенная в отведенную ей нишу, гармонично увязана с респектабельной и комфортной обеденной группой. В доме организованы многочисленные места для хранения вещей — от кладовок в цокольном этаже до встроенных платяных шкафов в комнатах, которые оформлены аналогично мебельным панелям на стенах и незаметны с первого взгляда. Кроме того, в доме предусмотрены мужская и женская гардеробные в мастер-зоне. Детские комнаты отличаются более активными декоративными приемами. Это яркие цвета, которые хорошо сочетаются с серо-бежевыми пастельными оттенками, и сюжетные росписи на стенах. Рабочие места удобно расположены у окна, а для развивающих игр в декоре стен использована магнитно-маркерная краска.  Актуальные приемы для оформления пола — смотрите в нашем видео:\n",
            "- Заказчики и задачи Владельцы этого дома — женщина с сыном-подростком. Семья построила его около 20 лет назад, и с тех пор не делала ремонт. Дизайнер Татьяна Романова взялась за переделку: нужно было оформить интерьер с учетом изменившегося времени, вкуса хозяйки, актуальных тенденций, а также продумать конструктивные решения, которые были бы удобны для сына хозяйки — он передвигается на коляске. «Дом так обветшал и устарел, что все в один голос советовали моей заказчице от него просто избавиться, — рассказывает Татьяна. — А ей такая идея — как ножом по сердцу. Мы предложили решить ряд вопросов. В прихожей — организация системы хранения, которой раньше не было. Сделать очень удобный санузел, которым легко было бы пользоваться особенному ребенку. В гостиной — организация спального места для обеденного перерыва и полноценного рабочего места (учитель приходит домой), пандус в кухню-столовую, которая находится ниже основной части дома». Для оформления выбрали стиль американской классики с вкраплениями разных эстетик: французской и английской классики, кантри, колониального стиля. Планировка В доме — два этажа. Перепланировка коснулась только первого уровня. Здесь были кухня с переходом в столовую, просторный лестничный холл, маленькая ванная и санузел, гостиная с выходом на остекленную веранду. Дизайнер убрала ступеньки из холла в столовую, заменив их пандусом, объединила ванную и санузел, чтобы сделать просторную ванную комнату, перенесла вход в гостиную. «Мы сделали проект, конструктор все просчитал. Проем перенесли и усилили, как полагается», — комментирует Татьяна.   Хозяйке также не нравилась лестница, но ее перенос потребовал бы масштабных работ. Автор проекта предложила компромиссное решение: шкаф под лестницей, который скрыл и преобразил конструкцию. Таким образом, в двухэтажном доме получился следующий набор помещений. На первом этаже — кухня-столовая, гостиная с верандой и ванная комната. На втором — спальня хозяйки с собственным санузлом, гостевая спальня, маленький кабинет и гостевой санузел. Отделка В выборе отделочных материалов опирались на вкус хозяйки, стиль, а также целесообразность исходным данным. Например, в прихожей первого этажа стены были оформлены штукатуркой. По словам автора проекта, покрытие было настолько прочным, что демонтаж не представлялся возможным. Поэтому отделку обновили с применением той же техники и окрасили. Стены в жилых комнатах оформили обоями — комбинировали декоративные полотна с рисунками и сюжетами и фактурные обои под покраску. Полы проходных помещений — прихожая, кухня, санузлы — оформили плиткой (за исключением пола в гостевом санузле на втором этаже, там применили ламинат). В остальных комнатах на полу — паркетная доска. Для оформления потолков выбрали натяжные полотна, в гостиной скомбинировали их с гипсокартонными подвесными конструкциями. «Потолки сделали натяжными, так как межэтажные перекрытия были выполнены из плит с приличными стыками. А чтобы было менее заметно, наклеили карнизы на границе потолка и стен», — делится Татьяна. Мебель и системы хранения Системы хранения по большей части выполнены на заказ. «Мы хотели максимально их интегрировать в интерьер, поэтому делали до потолка», — говорит Татьяна. На первом этаже большую систему хранения сделали под лестницей, в гостиной в зоне рабочего стола установили два массивных шкафа. Кухню построили по П-образному принципу, решив вопросы и с хранением, и с необходимой техникой. В столовой и гостиной есть комоды для мелочей. На втором этаже в спальне хозяйки установили два вместительных платяных шкафа, в гостевой спальне — отдельно стоящий шкаф, в кабинете ограничились комодом. Кое-что из мебели предстояло вписать в обновленный интерьер. «У нас был обеденный стол, комод и кушетка с включениями натуральной текстуры дымчатого дуба», — рассказывает дизайнер.   Освещение Основное освещение представлено декоративными люстрами и бра, даже в санузлах использовали такого типа светильники. «Они нужны были для украшения нашего интерьера, — объясняет Татьяна. — Точечные светильники и закарнизное светодиодное освещение мы добавили лишь в прихожей, гостиной и кухне (где нужно было больше света и нарядности)». Несколько точечных светильников есть и в спальне заказчицы: в зоне входа в ванную и хранения. Покупка дачи или загородного дома. Что нужно знать — рассказываем в коротком видео:\n",
            "- Заказчики и задачи Семейная пара с ребенком — любители природы, леса — хотели построить дом-дачу для отдыха и расслабления. С этим запросом они обратились в студию дизайна Ольги Стариковой. Важно было привнести в интерьер и технологические новшества — при всей любви к природе, для хозяина — главы нескольких IT-компаний — было это важно. В процессе строительства дома семья пополнилась, родился второй ребенок, и это тоже учла команда студии.  Планировка Общая площадь дома — почти 200 квадратных метров. На первом этаже расположены кухня-гостиная, гостевой санузел и блок сауны с собственно сауной, душевой и раздевалкой. Из гостиной можно выйти прямо на террасу с замечательным видом на сосны. Высокие панорамные окна (второй свет) делают интерьер воздушнее, легче и объемнее. На втором этаже расположены приватные комнаты— спальня родителей, детская для двоих детей и санузел. В процессе строительства также было решено обустроить подвал с винным погребом. «Мы изначально начали проектировать дом, а потом обустраивать окружающую территорию. И в процессе работ был выявлен перепад высот на участке, в итоге пришлось вносить коррективы в проект дома — так был создан подвал и винный погреб в нем», — объясняет автор проекта. Отделка Дом построен из деревянного сруба, поэтому стены и потолок оставили в натуральном дереве, на полу уложена паркетная доска — в комнатах, и керамогранит — в тамбуре и ванных. На втором этаже в спальнях стены оформлены декоративной штукатуркой, на потолке монтированы балки. Стены лестничного холла второго этажа обшиты вагонкой. «Русская усадьба ассоциируется с деревянными поверхностями и натуральными материалами, именно им отдана ведущая роль в проекте», — комментирует Ольга. Мебель и системы хранения На первом этаже продумали хранение в тамбуре — вместо дверей место для вещей закрыли шторами из натуральных тканей. «По сути, это не шкафы, а гардеробные зоны, — говорит автор проекта. — Внутри расположены комоды для обуви, вешалки для одежды и полки для белья». В спальнях на втором этаже — шкафы с жалюзийными дверцами и ручками в стиле ретро. Много мебели создано по эскизам архитектора и изготовлено на собственном производстве Ольги Стариковой, но также есть и винтажные предметы — тумбочки, стулья, сервант, комоды — прошли реставрацию и нашли вторую жизнь в этом доме. Освещение В интерьере использовали как нейтральные споты — они подключены к системе «умного дома» и настроены на разные сценарии освещения, — так и декоративные светильники. Последние монтированы в санузлах, над барной стойкой в кухне и в тамбуре. В детской с помощью света создали акцент: неоновая надпись на стене и светодиодная лента на участке стены над рабочим столом. Покупка дачи или загородного дома. Что нужно знать — рассказываем в коротком видео:\n",
            "- Площадь: 250 кв. м С заказчиками Ирину свели общие знакомые. Супружеская пара с тремя детьми купила дом в ближайшем Подмосковье и нуждалась в профессионале, который помог бы решить некоторые технические вопросы и адаптировать внутреннее пространство, оставшееся от прежних владельцев, для жизни своей семьи. Внедрение в существовавшую архитектуру было минимальным: дом во многом устраивал хозяев как с точки зрения функционала, так и в плане качества строительства. Главной задачей для дизайнера стало создание эффектного, «звонкого» и одновременно уютного и сбалансированного интерьера, отражающего характер и самоощущение хозяев. На первом этаже сосредоточились основные зоны дневного пребывания (гостиная, столовая, кухня), на втором — спальни, ванные комнаты и кабинет главы семьи — человека творческой профессии, который часто работает дома. Планировка простая и ясная, ничем не перегружена — только самые необходимые помещения для комфортной жизни за городом. «Мы сгладили некоторые огрехи в организации пространства, но в целом не стали делать ничего сверхъестественного, — отмечает автор проекта. — Сохранили кое‐что из отделки, например напольное покрытие из массива дерева. У хозяев нет привычки отдыхать, сидеть перед камином в силу занятости и насыщенного графика. Камином почти не пользуются, и фактически он не нужен, тем не менее его решили оставить. В композиции гостиной он выступает ключевой точкой, собирает пространство». Поэтому я постаралась сделать эту зону действительно нужной, любимой, превратила её в зону для игры в шахматы, которой так увлечено младшее поколение семьи. Теперь мальчишки с удовольствием сидят здесь в удобных креслах и играют в любимую игру за мраморным столиком с шахматным полем.  Дизайн интерьера нельзя отнести к какому‐то единому стилю. Да это и не нужно, уверена Ирина, сегодня — самое лучшее время для самовыражения, поиска своего личного, неповторимого образа без оглядки на каноны и правила. Индивидуальный подход — единственный принцип, которому следовали при разработке концепции. Это коснулось не только отделки из добротных натуральных материалов, но и мебели — большая её часть разработана для интерьера по эскизам дизайнера. Переделка до 15 тысяч рублей: что купить на эти деньги — смотрите в нашем видео\n",
            "- Архитекторы Александр Сафаров и Юлия Мусина построили небольшой каркасный дом в селе Таптыково в 25 км от Уфы для себя и двух детей подростков, мальчика и девочки. В строительстве дома для себя тоже есть сложности, как признаются авторы проекта, даже несмотря на то, что заказчика с его видением — нет. Как нет и ограничений по срокам (строительство дома началось больше 10 лет назад, в 2010 году, а оформление интерьера завершили в 2020-м). А сложность состоит в «поиске идеального решения». Впрочем, архитекторам удалось его найти. Дом выглядит совершенно аутентично и смело. Здесь много арт-вещей, винтажа, личных находок и заказных позиций, которые проектировали сами архитекторы. Планировка На площади 152 квадратных метра и двух этажах расположились все необходимые функциональные зоны: гостиная, кухня, два санузла и три спальни. Значительную площадь первого этажа занял гараж, а второго — антресоль, надстроенная над первым этажом, где расположилось рабочее место. Однако и жилые комнаты получились достаточно просторными и удобными под нужды владельцев. Например, центральную часть первого этажа заняла гостиная-столовая со вторым светом. Отсюда просматриваются все остальные комнаты этажа, общая зона получилась максимально светлой — архитекторы предусмотрели достаточное количество окон и продумали их размер так, чтобы в комнату проникало как можно больше естественного света. Отделка Стены в доме обшиты вагонкой и окрашены, пол оформлен деревом. В спальнях детей на стенах частично использовали обои, а санузлы оформили плиткой. Для отделки принципиально выбирали натуральные материалы, а не имитации. Системы хранения Так как дом предназначен для временного проживания — на выходных и каникулах — много систем хранения архитекторы не стали планировать. В небольшой кухне (площадью всего 5 квадратных метров) установили П-образный кухонный гарнитур, в который вместилась необходимая кухонная утварь и техника. Маленькое пространство не стали занимать шкафами от пола до потолка, например, по стене, где установлена вытяжка, отказались от верхних шкафов, таким образом визуально облегчив интерьер. Основные шкафы спроектировали в прихожей — здесь встроенная система хранения, изготовленная на заказ, и в санузле — также заказной большой шкаф, где хранятся домашний текстиль и все необходимые бытовые принадлежности. В спальнях предусмотрены шкафы и комоды, но их выбирали с точки зрения декоративности, а не вместительности. Освещение Авторы проекта называют схему освещения простой. В комнатах предусмотрели верхний свет как основной сценарий освещения и дополнительный — в виде настольных ламп и бра. Почти все светильники авторы спроектировали самостоятельно совместно с уфимской студией. Цвет Авторы проекта намеренно экспериментировали с цветами. Архитекторы делали интерьер для себя и, можно сказать, проверяли — комфортно ли им будет жить в таком пространстве? Цвет прослеживается во всех комнатах. Спальни — яркие, несмотря на то, что это пространство «принято» оформлять в спокойных тонах. Архитекторы разрушили стереотипы и наполнили свою комнату тонами розового и темными акцентами, комнату дочери — фиолетовым цветом, а сына — сочетанием светло-голубого и черного. Большую роль в цветовом оформлении играют текстиль и обои. Санузел на втором этаже оформлен в более спокойной цветовой гамме. Самые безумные дома со всей России — мы собрали их в одно видео, смотрите:\n",
            "- Дизайнер интерьеров Сабина Штайнер давно хотела реализовать свою давнюю мечту о собственном доме в горах. Долгое время она искала место, наиболее подходящее для реализации такого проекта и наконец, нашла участок в курортном местечке высокогорной долины Таннхайм (в северо-западной части австрийского Тироля). На небольшом семейном предприятии Сабина нашла мастеров, которые согласились построить дом ее мечты. Проект и оформление интерьера дизайнер придумала сама. Большая часть мебели и аксессуаров были изготовлены на местных фабриках, некоторые предметы сделаны ремесленниками вручную. Специально для этого проекта Сабина покупала декор и вещицы на ярмарках, искала уникальные изделия в Кейптауне, Нидерландах, Баварии и Тироле. Рядом с шале обустроены террасы. На одной установили джакузи с подогревом, в котором можно расслабиться в любую погоду. На другой — большой диван, на нем приятно посидеть с чашечкой кофе. В отличие от интерьера, придомовая территория оформлена довольно лаконично. Самое главное — это легкая плетеная мебель, которую зимой убирают под крышу. Стены шале почти полностью построены из вторичного материала — в ход шла древесина, полученная с разбора суконной фабрики, а также при сносе старых сараев и ферм. Лишь для кровельной конструкции использовали новую древесину. Правда, этот материал обработали так, чтобы он полностью соответствовал внешнему виду остальных пород. Кухонная мебель собрана из старых дубовых и буковых досок. Чтобы современная вытяжка вписалась в интерьер шале, ее корпус обшили деревом. Дом отапливается с помощью камина, а также за счет полов, оборудованных системой подогрева. Живой огонь в обрамлении каменного портала создает тепло и уют в зоне гостиной. Голова оленя и шкуры подчеркивают горный характер дома. Из гостиной есть выход на веранду с уютными подвесными кроватями. Рядом находится сауна. После парной можно окунуться в джакузи, установленное во дворе. От гостиной кухню отделяет зона столовой с простой мебелью, декорированной шкурами и подушками, а также люстрой из оленьих рогов. В интерьере коттеджа доминируют медовые, ореховые и шоколадные оттенки, цветовое разнообразие в эту палитру вносит пестрый красно-белый текстиль с альпийскими мотивами. Все фотографии интерьеров: спальни, гостиные, детские, прихожие и другое Переделка до 15 тысяч рублей: что купить на эти деньги? Смотрите видео:\n",
            "- Архитектор Билл Юдчиц из студии Revelations Architects на пару с сыном Даниэлем купил участок недалеко от живописного озера. Вместе они задумали провести строительный эксперимент и за 4 месяца спроектировали и построили дом площадью всего лишь 30 м2. Так появилась минималистичная модульная постройка под названием EDGE (экспериментальное жилище для зеленой среды). Со стороны коттедж больше напоминает гигантский шкаф, чем загородный дом. В результате отец и сын не только обрели необычный дом для совместного отдыха, но и нашли ответ на главный вопрос — что действительно нужно человеку для счастья? Оказалось, намного меньше, чем мы думаем. Дом состоит из двух модулей П-образной формы. В месте их стыковки установлены большие оконные блоки, которые можно закрывать сдвижными экранами-ставнями. В течение дня окна обеспечивают естественное освещение и поступление солнечного тепла. Экраны можно закрыть, чтобы сохранить тепло на ночь и защитить дом от взломщиков, когда никого нет. Для фасада и раздвижных экранов выбрали панели, состоящие из узких горизонтально ориентированных дубовых досок. Венчает постройку крыша, напоминающая крылья бабочки. Все системы жизнеобеспечения дома, включая резервуар для сбора дождевой воды, находятся в маленькой подсобке с отдельным входом. В центре дома спланирована гостиная. Главным предметом обстановки здесь является стол-трансформер, который вместе с лавками превращается в двуспальную кровать. На ней могут разместиться гости, решившие остаться на ночь. В одной части дома находится кухня — над ней построена антресоль со спальней. В другой — санузел с душем, над которым расположена аналогичная антресоль с кроватью. Все фотографии интерьеров: спальни, гостиные, детские, прихожие и другое Вам может быть интересно:\n",
            "- Дизайнер Кэтрин Халтгрен и ее муж Йоаким Андерссон, строитель по профессии, семь лет назад купили участок земли на острове Икслан, части Стокгольмского архипелага. Это живописное место с пышной зеленой растительностью и собственным небольшим пляжем. Супруги построили большой дом со всеми удобствами, но при этом решили не сносить и отремонтировать крошечный гостевой коттедж, расположившийся прямо у воды. С виду это узкий вытянутый домик c красной черепицей на крыше и традиционным деревянным фасадом кирпичного оттенка. Внутри — большая кухня-гостиная, крошечная спальня, ванная комната и еще одна спальная зона под крышей. Стены внутри выкрашены в небесно-голубой оттенок — он напоминает о природе за окном, ясном небе и водной глади. При этом мебель и декор подобраны со вкусом — это дизайнерские модели, которые обычно несвойственны дачной обстановке. Но, согласитесь, этому интерьеру такое идет. Но главная фишка коттеджа — открытая терраса, расположенная всего в паре метров от воды. Отсюда открывается отличный вид на залив и деревянный мостик, на котором стоит уютная скамейка. Супругам повезло — это тоже их собственность, и в солнечную погоду здесь можно отдыхать все дни напролет. Домик окружен фруктовым садом — можно устраивать пикники в тени деревьев и качаться на самодельных деревянных качелях. На участке также стоит небольшая баня. Летом на острове можно купаться и ловить рыбу. Пожалуй, это именно то место, в которое хочется иногда уехать, отключить телефоны и быть наедине с природой. Источник фото: skonahem.com Все фотографии интерьеров: спальни, гостиные, детские, прихожие и другое Вам может быть интересно:\n",
            "- Этот гостевой домик находится на полуострове Кейп-Код, на северо-востоке США. Владельцы участка, Джули и Джош, унаследовали его вместе с домом. Раньше в этом сарае хранились инструменты для сада, а в 70-х годах мама Джули переоборудовала его в небольшую студию. До прошлого года домик стоял пустым и необитаемым, и вот наконец ребята взялись за его переделку. И пригласили своего друга Малачи Конноли, архитектора из Нью-Йорка, чтобы превратить старый сарай в маленький, но уютный жилой домик. Прежде всего пришлось спасать крышу: ее полностью заменили, чтобы не обрушилась. Сам домик обили сайдингом, заменили дверь и окна — все, кроме одного. На фото вы найдете его справа от входа — маленькое арочное окошко придает постройке индивидуальности и напоминает о былых временах. Внутри тоже пришлось полностью поменять фанерный пол (к тому времени он уже сгнил), подлатать стены и сделать шумоизоляцию. И фасад домика, и стены внутри решили сделать белыми и дополнить голубыми и желтыми акцентами. Получился интерьер в средиземноморском стиле — можно представлять, что за окнами шумит не листва, а море. Раньше в домике была небольшая кухня, но ребята решили обойтись без нее и больше пространства отдать под гостиную. При желании гости могут воспользоваться кухней в основном доме, да и зона отдыха должна быть просторной. Также на первом этаже расположили небольшой санузел. Ванную в домике решили не делать — на улице есть летний душ. На второй этаж ведет старая, но крепкая лестница, которая стоит здесь уже долгие годы (балки и стропила тоже оставили для атмосферы). На втором этаже расположилась спальня — благодаря окну в крыше здесь всегда светло и уютно. Источник фото: remodelista.com Фотограф: Justine Hand Все фотографии интерьеров: спальни, гостиные, детские, прихожие и другое Вам может быть интересно:\n",
            "- Площадь: 200 кв. м Заказчики, молодая семья с двумя детьми, определились с направлением сразу: им нравится минимализм. Во многом этому способствовала архитектура самого дома, его открытость природе, геометричные формы, отделка деревом. В здании с дву­светным пространством и панорамным остеклением сложно было представить нечто традиционное, классическое. Автор проекта Ярослав Усов деликатно отнёсся к исходному объёму, создав строгий, минималистский интерьер. Планировку радикально не поменяли, архитектор лишь частично изменил размер, конфигурацию ванных комнат и подсобных помещений. Помимо этого в доме появились тренажёрный зал (оборудованный на террасе, которую предварительно остеклили), сауна, современная инженерия, а также люк в постирочную, через котрый из детских сан­узлов при помощи бельепровода поступает грязная одежда. Первый этаж решён в едином ключе: бело­снеж­ные стены с декоративным финишем и тёмный пол из американского ореха — словно чистый белый лист, а немногочисленные предметы обстановки в таком окружении — как выставочные экспонаты в галерее современного искусства. В каждом помещении есть свой акцент. В гостиной это двусторонний камин, в холле — фактурная стена вдоль лестницы, на кухне — сплошное остекление в пол. В доме вообще нет декора как такового, каждый предмет функционально оправдан. Взять, например, светильник в гостиной или комбинацию стеллажей кубической формы. Они поддерживают геометричные формы дома, продолжают в интерьере тему, заданную архитектурой, и в то же время выполняют свою сугубо практическую роль. «Главный тренд сегодня — простота, практичность, лаконичность, внимание к деталям», — отмечает автор проекта. Все фотографии интерьеров: спальни, гостиные, детские, прихожие и другое Вам может быть интересно:\n",
            "- Площадь: 300 кв. м Участок на берегу Москвы–реки привлёк заказчиков своей живописной красотой: простор, гладь воды, очертания храма вдалеке. Именно здесь семья с тремя детьми захотела построить загородную усадьбу. Для работы над этим большим проектом пригласили Дарью Харитонову. Интересно, что на первую встречу с дизайнером заказчики принесли с собой несколько номеров журнала «SALON De Luxe КЛАССИКА», а сегодня этот проект сам стал одним из героев нашего издания. «Я очень люблю классический стиль, он близок мне по духу. Кроме того, это очень практично: такие интерьеры не теряют своей актуальности даже через много лет. При условии, что они выполнены действительно «по закону жанра»: с применением натуральных материалов, без бутафории и имитаций», — рассказывает Дарья. Этот дом именно такой: в нём всё по‐настоящему, основательно и надёжно. Если потолочные карнизы, то широкие, гипсовые. Если текстиль для штор или мягкой мебели, то только из натуральных материалов. Если корпусная мебель, то только по авторским чертежам и эскизам. Надо сказать, что именно с ручной работы и максимально персонифицированного подхода этот проект и начался. Финальный дизайн заказчики утверждали по эскизам, которые Дарья создавала вручную в формате скетчей. Конечно, были сделаны и компьютерная визуализация и детальная техническая проработка каждого сантиметра, но в основе своей проект рукотворен и демонстрирует верность классическому подходу даже на этапе проектирования. С учётом того что само здание также разрабатывала команда Дарьи Харитоновой, оформлять и при необходимости корректировать пространство было легко. Например, кухня первоначально планировалась очень компактной, но потом стало понятно, что такому важному месту в доме просто необходима большая территория. Хозяйка дома очень любит готовить, принимать гостей и создавать настоящие кулинарные шедевры. Так кухня из помещения изолированного превратилась в проходную зону, своеобразный «остров счастья, который просто невозможно миновать». Примыкающую к ней гостиную также оформили не совсем типично для классического стиля. Чтобы создать ощущение воздуха и простора, появились высокие потолки и акцентное арочное окно. А чтобы придать пространству уюта, потолки обшили дубовыми досками. «При этом в проекте нет чёткой привязки к какому‐то одному направлению классики. Это скорее ряд ассоциаций и образов, которые вместе формируют уютный, удобный и очень домашний интерьер. Например, в комнате отдыха хозяйки, оформленной в голубых тонах, просматриваются французские мотивы, тогда как в прихожей — английские. Камин в гостиной облицован изразцами, как старинная русская печь. По задумке Дарьи, он белый, что придаёт гостиной торжественность и лёгкость. Соединяя разные фактуры, идеи, традиции и предметы мебели, автор формирует уникальный образ загородной усадьбы: это не летняя дача, но и не дом для торжественных приёмов, это скорее пространство для жизни во всех её проявлениях. Все фотографии интерьеров: спальни, гостиные, детские, прихожие и другое Вам может быть интересно:\n",
            "- Требования заказчиков Владельцы дома — взрослая пара — хотели построить деревянный дом из сосны. Для этого выбрали готовый финский проект дома и строили его с нуля. Интерьер должен был быть уютным, комфортным и функциональным, не загроможденным мебелью, а в планировке дома хотели предусмотреть общую зону отдыха, где можно было бы собраться с друзьями и членами семьи у камина.  По проекту запланировали большой камин в гостиной (2,2 метра в ширину и 1,5 м в высоту). Чтобы уравновесить пропорции, дизайнеры выбрали для него лаконичную отделку в минималистском стиле. Остановились на керамограните крупного формата 900 х 900 см. Серый цвет «под гранит» взяли как основной, а центр выделили черным мрамором. Также в камине предусмотрели подсветку — два бра. Светильники расположили с обеих сторон топки, они могут быть направлены вверх и вниз. Такое решение выделяет камин в интерьере, даже если не разжигать топку.   Планировка Финский проект дома практически не менялся, планировка была удобной и подходила заказчикам. Дизайнеры немного изменили расстановку сантехнических приборов и скорректировали размеры помещений и ванных комнат. Комнаты распределили по назначению: было необходимо предусмотреть кухню, столовую, гостиную, три спальни, кабинет и тренажерный зал. В доме три санузла (два — на втором этаже и один — на первом) и сауна. Основную зону первого этажа оставили максимально свободной, кухня плавно переходит в столовую и гостиную, таким образом получилось общее пространство для семейных сборов.  Оставалось спроектировать и наполнить предметами сам интерьер.  Стиль Изначально планировалась максимально простая обстановка в нейтральных тонах, но в ходе реализации внесли корректировки. Для получения желаемого визуального эффекта были необходимы яркие акценты и контрастные детали, поэтому монохромный скандинавский стиль преобразовался в цветной, близкий к эстетике хюгге. Лестница по архитектурному проекту выходила практически в середине дома. Чтобы она не перегородила вид от входа в гостиную, ее решили сделать максимально легкой и невесомой — из дерева, но на металлическом каркасе. Она буквально парит над комнатой. Ограждение — из прозрачного стекла, что на контрасте с деревянным домом подчеркнуло фактуры материалов. В итоге именно лестница стала центральным украшением общей кухни-гостиной-столовой.  По словам дизайнеров, осознанно использовались предметы разных стилистических направлений, чтобы подчеркнуть независимый характер заказчиков.  Отделка Ставка делалась на натуральные материалы. Все санузлы отделаны керамогранитом фактурой «под камень» в спокойных природных оттенках. Цветовая гамма в жилых комнатах корректировалась в ходе наполнения и реализации. Добавились яркие краски и цветные элементы. Особое внимание уделили фактурам. Поскольку дом из настоящего клееного бруса, с ним прекрасно смотрятся камень, стекло, велюровые и льняные ткани. В интерьере использовали разные виды отделок для придания эффектного образа.  Мебель и системы хранения В деревянных домах всегда возникают сложности при проектировании встроенной мебели, поэтому этому уделили особое внимание. Большинство систем хранения выполнено по эскизам дизайнеров и под заказ в столярной мастерской, точно в размер и с учетом усадочных особенностей деревянного дома. Поскольку комнаты довольно просторные, с размещением мебели проблем не возникло. На втором этаже получилось организовать просторную гардеробную, поэтому габаритных шкафов в комнатах не размещали. Постирочную организовали на первом этаже в помещении котельной. Фото: Сергей Ананьев Все фотографии интерьеров: спальни, гостиные, детские, прихожие и другое Вам может быть интересно:\n",
            "- Площадь: 700 кв. м После рождения в семье пятого ребёнка заказчики поняли, что старый дом стал маловат, и они задумали построить новый, более просторный. Дизайнеры Алина Прибылова, Диана Беспаева и Наталия Малова подключились на этапе утверждения архитектурного проекта, поэтому смогли принять непосредственное участие в планировке внутреннего пространства. Высокие потолки, много окон, большие пространства были заложены изначально, так как заказчикам хотелось больше воздуха и света, чем было в предыдущем доме. Важным техническим элементом стала потолочная панельная система отопления и вентиляции. «Благодаря современнейшей системе от немецкой компании ZENDER мы обошлись без конвекторов и батарей под окнами, — поясняет Алина Прибылова. — Это существенно облегчило пространство, улучшило его в эстетическом плане, так как все коммуникации проложены в потолках, а регулировка температуры производится в каждой комнате с пульта управления». Авторы проекта не оставили без внимания любовь хозяев к восточному стилю, но предложили осовременить его, создать лёгкий, светлый интерьер с элементами Востока.  Так в доме появились резные комоды, привезённые заказчиками из Арабских Эмиратов, мандала, подаренная друзьями, обои с экзотическими перьями, люстры с необычными кристаллами и самый восточный элемент дизайна — фонтан при входе в дом. «В этом доме много авторских идей, которые придумывались и дорабатывались уже в процессе, — вспоминает Диана Беспаева. — Например, идея с фонтаном пришла в голову уже при реализации. Мы с заказчиками понимали, что тут должно быть что‐то интересное, так как первое, что видит входящий, — это холл. Большая керамическая ваза необычной фактуры и глубокого синего цвета, наполненная водой, украшает пространство, а журчание воды успокаивает, расслабляет». Заказчики — люди креативные, активные, любят путешествия и вечеринки. Интерьер по характеру получился таким же, как сами хозяева: ярким, жизнерадостным, с множеством интересных решений. Среди них — цветная библиотека до потолка, высотой 4,5 метра. Это не просто элемент интерьера, который впоследствии хозяева не знают, чем заполнить. Здесь стоят и книги, и всевозможные инструменты для творчества: альбомы, краски, карандаши, глина и т.д. Это всё их хобби, увлечения, история семьи. Также можно отметить двусторонний камин, отделанный натуральным гранитом до потолка, с двумя нишами–дровницами, который отлично вписался в современный интерьер. Светом огня можно любоваться и из гостиной, и из кухни. Его зажигают не только с приходом гостей, а действительно очень часто, и не потому что модно, а потому что любят. «Стиль интерьера мы бы назвали современным с восточными мотивами, — замечает Наталия Малова. — Не хотелось повторять то, что уже было в предыдущем доме. Восточная тема передавалась не столько формами и орнаментами, сколько образами, материалами, фактурами, цветами. Фонтан в прихожей, столики, отделанные кожей и в виде восточных барабанов, окисленная медь на кухонных фасадах и на входной двери, велюровая ткань для штор, цветное стекло в светильниках и в предметах декора. Было довольно сложно спроектировать современный интерьер, не прибегая к прямым отсылкам. Но нам удалось создать восточную атмосферу не прямо, не в лоб, а более тонко, на ассоциативном уровне. Сейчас в моде минимализм, и хотя восточный стиль подразумевает наличие множества элементов декора в интерьере, в предыдущем доме хозяева от этого устали. Поэтому в данном проекте мы предусмотрели много систем хранения, чтобы избежать беспорядка, хаоса. Семья большая, много вещей, маленькие дети — для каждой вещи нужно было найти правильное место». Все фотографии интерьеров: спальни, гостиные, детские, прихожие и другое Вам может быть интересно:\n",
            "- Кэрол всегда отличалась от других дизайнеров особым стилем: необычные геометрические формы и странные цветовые сочетания. Скажем прямо, интерьер ее дома не стал исключением. Сейчас одноэтажный дом вмещает в себя объединенную гостиную-кухню, две спальни, мини-прачечную, есть выход в маленький дворик. Кэрол и ее семье понадобилось изрядно постараться, чтобы реализовать задуманное. Например, перекрасить фасад дома, пристроить веранду, поменять пол, окна и восстановить ванную комнату, которая была полностью разрушена. Интерьер дома получился мягким и теплым. Здесь приглушенная палитра (оттенки белого, бежевого и оливкового) сочетается с органическими текстурами (деревом в отделке стен, полов, мебели) и любимым декором хозяйки дома.  Мне нравится скандинавская и японская эстетика, поэтому в интерьере много белого и деревянного. Я люблю спокойные пространства, которые «не кричат» на тебя. Гостиная, пожалуй, самое необычное пространство в доме. Во-первых, окно-диван увидишь нечасто. Во-вторых, зонировали гостиную также не по привычному сценарию: перегородкой служат выполненные на заказ две столярные коробки. Так Кэрол сделала гостиную квадратной по форме и нашла место для прачечной, которую спрятала как раз за перегородкой. Кстати, в перегородках скрыты системы хранения. Кухня сделана не менее интересно. Например, здесь вообще нет подвесных шкафов, а холодильник спрятан за дверцами оливкового шкафа. В отделке кухни также много дерева, даже светильники сделаны из бруса. В спальнях Кэрол также придерживалась общей концепции закрытых систем хранения. Главное здесь — свет, воздух и уют. Что ж, мансардные окна и светлые тона спальни в этом помогают. Ванная комната небольшая, но зеркало визуально увеличивает пространство, а стеклянная перегородка делает ванную еще и функциональной. Источник: https://www.homestolove.com Все фотографии интерьеров: спальни, гостиные, детские, прихожие и другое Вам может быть интересно:\n",
            "- Дом находится в городе Менло Парк (Menlo Park) в Калифорнии (США). Архитекторам предстояло полное переосмысление существующего пространства, интеграция дома в окружающую среду и увеличение потока дневного света. Проектировщики из Ana Williamson Architect использовали существующий фундамент и добавили 46 метров к внутреннему пространству здания. Дом они построили из экологически безопасных материалов, в нём много естественного света и интересное сочетание открытых и закрытых помещений. Разработали и новую планировку его центральной части, которая разделяет общую и частные зоны. Большие застеклённые двойные двери соединяют столовую с внутренним двором, так что всё это пространство стало частью повседневной жизни хозяев и их маленьких детей. Линия крыши полностью переработана в потолочные своды, добавлен верхний ряд окон. Хотя площадь дома довольно скромная, благодаря удачной планировке он кажется просторным. И находиться в нём очень приятно. Хозяева (дизайнеры по образованию) любят экспериментировать с материалами. Для дома они выбрали те, что подходят не только по эстетическим соображениям, но и по полезным свойствам. Крыша с козырьком, передние и задние стены изготовлены из ацетилированной древесины. Материал плохо впитывает влагу. Это делает его прочным и позволяет сохранять свои размеры независимо от погоды. Кухонные шкафы облицованы композитным шпоном. Эта недорогая альтернатива древесине — новый продукт на строительном рынке. В результате дом выглядит современнее соседних, но выдержан в том же стиле, что и они. Фасад здания с крыльцом и красивой клумбой словно тепло здоровается со всеми, кто проходит или проезжает мимо. Острые геометрические линии и смелые цветовые решения часто вызывают интерес прохожих. — Выбрать правильный цвет для фасада дома — одна из самых сложных задач при завершении строительства. Белый — непрактично. От жёлтого быстро устанешь. Зелёные дома нравятся не всем. В Финляндии любят красить деревенские коттеджи в «сладкий» триколор — малиновый-розовый-белый. Но тёмно-серый и серо-голубой в сочетании с салатовой дверью смотрятся тоже очень симпатично. И отнюдь не мрачно. На какой бы гамме вы ни остановились, помните: если у стен гладкая фактура, для разных частей дома лучше подобрать разные цвета. Так он не будет выглядеть слишком массивным, к тому же у него появятся динамика и разноплановость.  Фото: homedsgn.com, contemporist.com Все фотографии интерьеров: спальни, гостиные, детские, прихожие и другое Вам может быть интересно:\n",
            "- Приглянувшийся участок расположен на возвышенности, обращенной к городу Тайхап в центре Северного острова Новой Зеландии. Семейную пару поразил красивый сельский пейзаж и захватывающий вид на огни города. Они решили поставить на участке палатку и пожить в ней некоторое время, чтобы прочувствовать атмосферу и насладиться роскошной панорамой, меняющей свои краски в разное время суток. Однако уже наследующий день супруги поняли, что это и есть то самое место, где хочется построить дом. Архитекторы разработали более 20 различных проектов, но в итоге остановились на экономичном и экологичном варианте сборного дома площадью всего 67 кв. м. Коттедж соорудили из CLT-панелей, установили на деревянные сваи и облицевали металлическим профнастилом. Это придало зданию вид фермерских построек, характерных для данной местности. На сборку ушло всего лишь два дня. Коттедж сразу «сроднился» с ландшафтом, поскольку при разработке дизайна архитекторы продумывали, как максимально гармонично вписать постройку в окружающую природу. Супругов особенно восхищает то, что, отдыхая в своем загородном доме, они имеют возможность по вечерам любоваться городскими огнями, а днем наслаждаться единением с природой и срывать с растущих рядом деревьев грецкие орехи, айву и персики.  CLT-панели были использованы не только для возведения конструкции, но и для изготовления встроенной мебели и других элементов интерьера. Это позволило минимизировать строительные отходы. Смысловой центр дома — помещение с открытой планировкой, где слились гостиная, кухня и столовая. Наверху оборудовали компактную спальню с двуспальной кроватью. В гостевой комнате кровать сделали в виде полки, которая, если убрать матрас, может служить одновременно и письменным столом. Внутри постройки- довольно просторные помещения, в отделке и меблировке которых доминирует дерево. Многочисленные разноформатные алюминиевые окна обеспечивают жилище дневным светом. Фото: Paul McCredies Все фотографии интерьеров: спальни, гостиные, детские, прихожие и другое Вам может быть интересно:\n",
            "- Владельцы этого дома — супруги Лиза и Винсент и их маленький сын Уильям — въехали сюда почти четыре года назад. За это время они превратили старый дом в стильное и уютное жилье. Чтобы найти дом мечты, паре понадобилось шесть лет. Мы рассматривали дома, которые не требовали бы капитального ремонта. Однако купили тот, где переделывать пришлось все. Было нелегко, учитывая, что мы одновременно готовились к появлению Уильяма.  Несмотря на трудности, семья справилась. К тому же Винсент — профессиональный плотник. Пара начала ремонт с фасада дома, затем переделали систему отопления и только потом занялись внутренней отделкой. В доме оставили почти прежнюю планировку, единственное, увеличили пространство ванной. Сейчас кухни, гостиной и двух комнат семье достаточно. Однако в будущем они планируют надстроить отдельную столовую, прихожую и застекленную веранду. Интерьер дома получился в стиле кантри. Здесь много цветочных принтов, дерева в отделке, уютного текстиля (скатерти, ковры, пледы) и, конечно, камин, которому целых 150 лет. Интерьеру кухни семья уделила особое внимание, ведь тут они бывают чаще всего. Здесь оливковый гарнитур отлично сочетается с деревянным обеденным столом и стульями. Сначала пара хотела купить готовый гарнитур, однако из-за маленькой площади пришлось собирать системы хранения под заказ, чтобы сэкономить пространство. Теперь, когда Лиза печет пряники, вся семья может удобно разместиться на кухне. В гостиной, чтобы сделать пространство еще уютнее, одну стену оклеили обоями с цветочным принтом, а остальные оштукатурили и покрасили в белый. Что интересно, гостиная собрала все антикварные предметы в доме: 150-летний камин-печь, старый коричневый сервант и подсвечники, которые были в доме с самого начала. А деревянный журнальный столик Винсент сделал своими руками. Спальня Лизы и Винсента полна творчества. Во-первых, изголовье кровати сделано из старого кухонного дивана, а вместо прикроватных тумбочек стоят шкафчики от кухонного гарнитура. Наверняка взятого там же, где и изголовье. В детской спальне также стоит кровать причудливой конструкции, которую супруги купили на аукционе еще задолго до рождения сына. Фото: https://skonahem.com/ Фотограф: Carina Olander Все фотографии интерьеров: спальни, гостиные, детские, прихожие и другое Вам может быть интересно:\n",
            "- Заказчики и задачи Владелица этой квартиры — женщина, которая планирует жить здесь с собакой. Дизайнеров студии Material — Александру и Владимира Матушкиных — хозяйка просила сформировать удобную планировку и вписать в новое пространство винтажную мебель, которой дорожит — буфет, книжный шкаф, столики и обеденную группу. Предстояло также выполнить перепланировку, согласно нормам, но об этом дальше.  Перепланировка Квартира расположена в нетиповом доме, построенном в конце 90-х-начале 2000-х. И на этапе первого ремонта хозяева объединили две квартиры — трешку и однушку — в одну. Сейчас же перед дизайнерами стояла задача провести обратную перепланировку в соответствии с существующими нормами для возможной дальнейшей продажи трешки. При этом пока что сохранить между квартирами проход в виде двери, которую при необходимости можно будет заложить. Так, согласно изначальному плану БТИ в однушке была большая комната, кухня, раздельные ванная с санузлом и небольшая кладовка. Дизайнеры расширили кухню на площадь коридора, избавились от кладовки, объединив ее с ванной, туалетом и организовав просторный объединенный санузел. Комнату разделили на две зоны — спальню и гостиную. При спальне выделили отдельную гардеробную, а вход в гостиную сделали из кухни. «Фишкой этой квартиры стало круговое планировочное решение. Из коридора можно пройти в кухню и спальную зону, а из гостиной через стеклянную перегородку попасть в кухню. Решение со стеклянной перегородкой не только функционально связало зоны, но также добавило естественного освещения в комнаты, так как отсутствие стены не мешает проникать свету», — комментируют свою идею авторы проекта. Отделка На стенах — краска пастельных оттенков. Дизайнеры выбрали серо-бежевый цвет для общей зоны и более холодный серый — для спальни. На полу кухни и прихожей — керамогранит. Составили своеобразное панно из керамогранита одной марки разных коллекций. Их объединяет природная фактура камня. В столовой, гостиной и спальне уложили паркет. «На полу хотелось ощущать натуральное дерево, поэтому, даже несмотря на наличие питомца, было решено положить паркет», — объясняют дизайнеры. В ванной комнате краска скомбинирована с тем же керамогранитом, что выложен на полу кухни и прихожей. Душевая зона выделена мелкоформатной прямоугольной плиткой бирюзового цвета — получился некричащий акцент. Мебель и системы хранения Из систем хранения в квартире — гардеробная, которую удалось выделить на площади комнаты. Это основная зона для вещей. Гарнитур на кухне разделен на две части — одна (рабочая) с мойкой, варочной панелью, посудомоечной машиной. Вторая — со шкафами-колоннами со встроенной техникой и зоной для готовки чая, кофе. Такое распределение пространства позволило создать правильный рабочий треугольник. Набор мебели в квартире — это микс из винтажных вещей, которые были у хозяйки, и современных форм. Они очень удачно соседствуют друг с другом. Так, например, в гостиной угол занял массивный деревянный буфет, а в спальне в нише установлен старинный книжный шкаф, нишу выделили глубоким синим цветом, что акцентировало внимание на этой зоне. Обеденная группа сложена из винтажного стола и ротанговых стульев, которые долго хранились на даче заказчицы, но были отреставрированы для нового интерьера. В гостиной есть рабочая зона с винтажным столиком, а в прихожей — консоль. Освещение Освещение — тоже микс светильников в современном стиле и более классических, которые сочетаются с винтажной мебелью. В спальне и на кухне — трековые светильники. В зоне столовой и в гостиной — потолочные люстры. В спальне в качестве дополнительного освещения использованы два бра и торшер — получилась асимметричная композиция. В прихожей, кроме потолочных спотов, также предусмотрели бра у зеркал. В ванной комнате использовали подвесы у зеркала как декоративный свет. Фрагменты квартиры до ремонта Дизайнеры Александра и Владимир Матушкины, авторы проекта: «Пожеланием заказчицы был светлый современный интерьер с винтажными деталями. Поэтому мы использовали элементы неоклассики, такие как лепной декор и латунные вставки. Они сочетаются с лаконичными деталями современного стиля, что делает интерьер многогранным. Например, в прихожей асимметричные зеркала сложены в композицию с винтажным столиком, стеклянная перегородка в кухне и гостиной сочетается с лепным декором в виде карниза и молдингов, современный лаконичный свет за изголовьем кровати отлично смотрится вместе со стеновыми панелями, повторяющими форму классических каннелюр».\n",
            "- Площадь: 250 кв. м Заказчики проекта, молодая семейная пара с двумя детьми, очень тщательно подходили к выбору будущей квартиры: искали пространство на последнем этаже, с высокими потолками, вторым светом и обязательным входом на террасу. «Хозяева любят принимать гостей и хотели оборудовать здесь удобное пространство для барбекю на свежем воздухе», — замечает автор проекта Нино Зварковская. Ключевым требованием к будущему интерьеру было обустройство удобной приватной зоны, в которой нашлось бы место для просторной мастер-спальни с отдельной гардеробной, рабочего кабинета и двух детских комнат. В итоге приватный блок разместили слева от парадного входного холла, а справа, в наполненном воздухом двусветном пространстве, расположилась общественная зона. Её площадь разделили на три соразмерные функциональные части: кухню, столовую и гостиную. Обеденной зоне и каминной группе отвели место в самой эффектной части — у панорамных окон. Визуально объединить их помогает натуральный паркет на полу и спокойный цвет стен нежного молочного оттенка. Чтобы сделать внушительное по объёму пространство общественной зоны более уютным и соразмерным человеку, стены декорировали лепным декором в классическом стиле, а для освещения подобрали эффектные крупные светильники. Пара вытянутых массивных бра в духе ар-деко обрамляет нишу с живописным полотном французского художника Франсуа Саука. Люстры в виде плоских колец освещают обеденную зону, а более камерное настроение в каминной задают уникальные хрустальные светильники Il Pezzo Mancante. Они же использованы для освещения кухни, центральным объектом которой служит остров, облицованный натуральным кварцитом со встроенной подсветкой. Натуральный мрамор играет ключевую роль и в интерьере гостиной. Мрамором облицована стена-перегородка, внутри которой вмонтированы ТВ-панель и камин. За перегородкой скрыты словно парящие в воздухе ступени лестницы, ведущей к террасе на крыше жилого комплекса. «В оформлении гостиной было важно сохранить лёгкость, воздушность пространства, не перегрузить его лишними деталями и при этом подчеркнуть статус интерьера. Сочетание натуральных материалов и разработка индивидуальной конструкции лестницы со ступенями консольного типа позволили добиться нужного результата», — рассказывает Нино. В приватной зоне квартиры важную роль также сыграл индивидуальный подход к организации пространства и созданию мебели. В рабочем кабинете появился стеллаж по авторскому проекту Нино Зварковской, выполненный «Студией Максима», а в мастер-спальне — зеркальные перегородки со вставками из натурального мрамора. Они не только помогают расширить пространство зрительно, но играют и вполне функциональную роль, скрывая за собой блок санузла. Сочетание функциональности и эффектности было важным требованием заказчиков. Именно поэтому каждый блок интерьера оборудован вместительными зонами для хранения, а также удобными хозяйственными помещениями. Интегрированы они в интерьер легко и незаметно, скрываясь за высокими дверями шкафов, созданных по авторским чертежам. Смелая работа с объёмами и фактурами, тонкое сочетание натуральных оттенков и материалов, классики и лаконичной современности определили характер и интонацию этого эффектного интерьера. «Первоначально заказчики хотели создать современный интерьер в очень сдержанной серой гамме. Но в процессе работы и нашего общения образ квартиры постепенно трансформировался, приобрёл более мягкий характер и настоящий домашний уют. За него отвечают натуральные материалы, подбор и индивидуальная разработка предметов мебели и, конечно, освещение, которому мы уделяем особое внимание в каждом нашем проекте», — делится мыслями об общей концепции автор проекта.\n",
            "- Площадь: 85 кв. м Эту квартиру в новом жилом районе Минска дизайнер Юлия Поздняк увидела на стадии бетонной коробки. Перед ней был чистый лист, на котором нужно было создать художественное полотно. Творить — начиная с планировки и заканчивая декоративным рядом. Вектором развития проекта послужила любовь заказчицы к необычным, чувственным, экспрессивным цветам. Мужская половина семьи (заказчики — молодая пара с маленьким сыном) выступали за чуть более сдержанные варианты колористики. Так родился главный цвет интерьера — сложный оттенок розового, одновременно яркий и глухой, цепляющий взгляд и ненавязчивый.  Ещё больше цвета ввели в главной спальне. Заказчики хотели, чтобы она была в тёмных тонах, а добавить ей изюминки решили с помощью акцентной стены за кроватью, выкрашенной в яркий цвет марсала (насыщенный оттенок красного, близкий к бордовому). Проект уже сдали, заказчики въехали, а недавно оказалось, что интерьер попал в трендсеттерские. Ведь именно доминирующий сложный розовый стал (по версии Института Pantone) главным цветом 2023 года. Дизайнер говорит, что в этом проекте было много таких счастливых творческих совпадений. Уже на стадии планировки заказчики хотели, чтобы в квартире сделали максимум систем хранения, и они были продуманы до мелочей. И, хотя квартира и так была с открытой планировкой, для того чтобы в полной мере реализовать поставленную задачу, скорректировали даже это — перенеся входную дверь. Так удалось создать полноценную большую систему хранения, в которой поместилось всё необходимое: от электрощитка и секций для робота-пылесоса до отделений для сумок, обуви, верхней одежды, а также секций для хранения всех сезонных вещей, книг и декора, которыми в настоящий момент пока не пользуются. Ещё одно необычное планировочное решение появилось в кухне. Дизайнер говорит, что эта задача стала для неё главным вызовом проекта, и она немало поломала над ней голову. Было решено не прятать стиральную и сушильную машины где-то в ванной или в колоннах на кухне, но сделать под них отдельное помещение, убрав туда же и всё для глажки и весь инвентарь для уборки. Так появилась кладовая в зоне кухни. Тут есть даже подключение к воде и своя мойка. Чтобы замаскировать вход в кладовую, не разрушая визуальный образ кухни, его закрыли теми же панелями из инновационного композита (материал PerfectSense от бренда Egger), что и... фартук кухни. Дизайнер даже продумала специальную дверку для кошки в это помещение, ведь любимый домашний питомец там часто медитирует. Так как Юлия сама выступает не только в роли дизайнера, но и декоратора, многое в интерьере сделано не просто по её эскизам, а буквально её руками. Самая эффектная деталь, выполненная по эскизам Юлии, — фигурная разноцветная ножка барного стола. Она увлекается керамикой, поэтому в интерьере появились красивые керамические панно в коридоре, сделанные в цвет стен, и стильное кашпо для любимого цветка хозяйки, которое перекликается с крафтовым же ковром ручной работы в гостиной. Рукотворная поверхность глины и мягкое плетение ковра дают интересную игру фактур. Даже заводские модели светильников в кухне дизайнер перекрасила в нужный ей цвет меди, чтобы они не выбивались из общего ряда. Интересные и практичные приёмы Юлии, которые можно взять на заметку: так как у хозяев кошка, все обивочные и шторные ткани выбраны практичные и в основном с антивандальным покрытием. Чтобы предотвратить проблемы с трещинами, которые могут появиться в новом доме, ведь вокруг ещё идёт стройка, и грунт неизбежно будет оседать, выбраны обои под покраску, сделаны натяжные потолки, а на пол единым полотном положен винил.\n",
            "- Заказчики и задачи Владелица этой квартиры в Санкт-Петербурге — девушка, она занимается созданием мебели на заказ и сотрудничала с дизайнером Полиной Андреевой ранее, комплектовала ее проекты. Когда хозяйка получила эту квартиру в наследство от отца, то обратилась к Полине с просьбой о помощи в обустройстве.   «Моей задачей было в ограниченном бюджете наполнить квартиру уютом с легким намеком «старины», вписать уже существующие двери, паркет, плитку. Немаловажным пожеланием было оставить существующий потолок и отказаться от верхнего точечного света, натяжных потолков», — рассказывает автор проекта. Планировка Согласно существующему плану, который дизайнер не меняла, в квартире было три комнаты, две из них — смежные: гостиная и спальня. Выход из кухни организован в гостиную, таким образом между этими тремя помещениями образована анфилада. Ванная комната и санузел — со входом из прихожей. В третью комнату (кабинет) можно попасть через небольшой коридорчик. В коридоре же организован маленький гардероб. Отделка Так как хозяйка попросила не менять некоторые предметы отделки — паркет, плитку на полу и двери — выбирали новые материалы для стен и потолка. Их решили покрасить. В ванной комнате заменили настенную плитку, а напольную покрасили, чтобы вписать в новое пространство. Окрашивание плитки, даже в мокрых зонах, сегодня распространенная практика, это решение позволяет быстро и достаточно бюджетно обновить ремонт. Для гостиной выбрали светлую краску. Коридоры и спальню сделали темнее, этот прием намеренный. По словам автора проекта, так гостиная кажется больше, на контрасте с другими зонами. В спальне для стен использовали обои приятного бирюзового оттенка, а потолок покрасили в тот же цвет на несколько тонов светлее. В кабинете применили прием колор-блока. Помещение разделено на две зоны: рабочую и чтения. Последняя выделена темным синим цветом краски на стенах и потолке, а рабочая оформлена в светлых оттенках. Мебель и системы хранения «В квартире достаточно много мебели ИКЕА, мы успели заказать ее до закрытия, получили уже когда магазины не работали, часть шкафов не довезли, и их пришлось делать на заказ», — комментирует дизайнер. Так, в гостиной для хранения — два книжных шкафа и тумба под телевизор от ИКЕА. В кабинете предусмотрены платяной шкаф и книжный. В спальне отказались от шкафов, ограничившись комодом. Есть гардеробная, в которой также хранятся вещи. Кухонный гарнитур сделали угловым. Верхние шкафы — только по одной стене, чтобы не загромождать пространство. Вторую выложили плиткой и сделали акцент на каминной вытяжке. Освещение Хозяйка не хотела использовать яркий точечный свет, поэтому в интерьере освещение решено с помощью потолочных светильников, подвесов и бра. Это создает камерную и уютную обстановку. Как квартира выглядела до ремонта Дизайнер Полина Андреева, автор проекта:  «Перед началом работы над проектом я стараюсь подробно изучить привычки и хобби заказчиков, чтоб создать интерьер, в котором им комфортно будет жить. Было огромное желание сделать домашний, камерный интерьер, в котором видна «душа» заказчицы с ее любовью к зеленым комнатным растениям, которые мы рассадили в плетеные кашпо; натуральным материалам, поэтому здесь так много льна, ротанга; приглушенному свету, который дает необычные рисунки на поверхности стен и потолка; книгам, искусству и вышивке. Здесь мы работали с хозяйкой квартиры в тандеме. Оформляли ее вышивки в красивые рамы, закупали весь декор, расставляли красиво ее книги в многочисленные шкафы. Мелкие несовершенства здесь подчеркивают, что в квартире живут и у нее есть своя интересная история».  5 домашних дел, которые лучше сделать, пока вы не чувствуете запахов, — делимся опытом в коротком видео:\n",
            "- Площадь: 1 000 кв. м Этот дом на западе Москвы заказчики выбрали из‑за удачной планировки, интересных архитектурных решений и близости к природе. Но оставшийся от прошлых жильцов интерьер нужно было обновить, не меняя при этом основные конструкции. «Вместо отделки и мебели в стилистике барокко, насыщенных вензелей и тяжёлого бархата новые хозяева видели здесь что‑то современное и уютное», — вспоминают авторы проекта Влада Крупкина и Людмила Старченко. Речь шла только о лёгком преображении, но задачу усложнили сжатые сроки.  Семья хотела непременно отметить новогодние праздники в новом доме, поэтому на проработку визуальной концепции и реализацию задуманного у Влады и Людмилы было всего два месяца. Так начался дизайн-марафон: авторы оперативно посетили все магазины российских и итальянских брендов в России, за десять дней подготовили коллажи с подборкой мебели и основных цветов отделки для каждой комнаты и сразу приступили к перекраске потолков и стен. Дом общей площадью 1 000 кв.м имеет два этажа с центральным атриумом гостиной, которую дизайнеры отделили от остальных помещений витражными дверями. За ними в правом крыле расположились гардеробная, кухня, столовая и склад для хранения продуктов, переделанный из гостевой спальни. С противоположной стороны — лаундж с музыкальной зоной, гостевая спальня, уголок с теннисным столом, бассейн, сауна и соляная комната. Приватный второй этаж занимают тренажёрный зал и три спальни с санузлами — для хозяев, их детей и внуков. «Начиная работу над проектом, мы отталкиваемся не только от пожеланий заказчиков, но и от архитектуры, так как внешнее должно соответствовать внутреннему, и наоборот», — объясняют дизайнеры. Им достался интересный дом с ажурными окнами, вторым светом, впечатляющей винтовой лестницей и камином из натурального камня. Влада и Людмила учли модернистские особенности здания, обыграв их в округлой форме мебели, и аккуратно вплели в канву интерьера элементы ар-деко и не свойственной творчеству студии неоклассики. «Когда делаешь дом такого масштаба, нельзя ориентироваться на сиюминутные веяния моды. Объект должен сохранять свою актуальность спустя десятилетие и быть комфортным сразу для трёх поколений семьи», — отмечают дизайнеры. Они замиксовали в отделке и предметах интерьера оригинальные материалы и сложные фактуры, отдав предпочтение «вечным» трендам: натуральному камню, слэбам дерева, металлу. За счёт искусно подобранных мельчайших деталей и изделий ручной работы пространство получилось многослойным, наполненным смыслами.  «Самое главное в интерьере — хозяин и его привычки, образ жизни, его характер. Поэтому каждый наш проект уникален, как и наши клиенты. Они вдохновляют нас на впечатляющие, смелые, сложные решения. Заказчики этого интерьера мечтали о доме как точке притяжения большой семьи, таким он и стал: гармоничным, элегантным, просторным, светлым и умиротворяющим», — отмечают авторы.\n",
            "- Площадь: 150 кв. м Этот проект Татьяна Миронова создавала для своих клиентов, которые знают и любят её стиль. «Обычно я проектирую интерьеры с нуля, но на этот раз это была большая декораторская работа, — рассказывает архитектор. — Меня привели в квартиру с обстановкой, где до этого жили любители традиционной классики. Мне же предстояло превратить её в апартаменты для молодой женщины с изысканным вкусом. Заказчица большую часть времени живёт за городом, а эта квартира в центре Москвы должна была стать для неё драгоценной отдушиной, любимым местом для встречи с друзьями и отдыха после столичных дел».  В «наследство» будущему интерьеру достались дубовые буазери пристойного качества, тонко исполненный лепной декор, роскошные полы из массива дуба и натурального камня, солидные двери. Всё это решено было оставить. Со стеновых панелей смыли позолоту и серебрение и затонировали их в тёплый медово-рыжий цвет, потолки и лепные карнизы освежили новой краской, стены оформили тканевыми обоями. Получилась идеальная классическая база, на фоне которой можно было разыграть почти любой интерьерный сценарий. Архитектор Татьяна Миронова начала свою декораторскую партию с белого цвета, запустив его в пространство комнат по максимуму. Мебель, ковры, драпировки на окнах, плафоны светильников, аксессуары и графика на стенах моментально добавили ощущения новизны и свежести. Важной составляющей интерьера стал свет: редко где можно увидеть такое феерическое разнообразие люстр, бра, торшеров и настольных ламп. Светильники в виде гроздьев диковинных ягод, шаров, кругов, горного хрусталя и объёмных кристаллов — каждый впечатляет и завораживает. Они же решают самую главную задачу — освещают пространство некогда тёмной квартиры, создают разное настроение в дневное и вечернее время. Ну, и проект не состоялся бы без тщательного подбора предметов интерьера и декора, среди которых есть и узнаваемые дизайнерские вещи, и уникальные объекты из кристаллов и кораллов, натуральных камней и благородной кожи, зеркал и металла. Благодаря им интерьер выглядит элегантным, роскошным и при этом современным. Именно контраст классических приёмов в декоре и зачастую провокационных по дизайну или масштабу форм делает интерьер смелым, модным и слегка богемным. Подлинность и изящество каждой вещи и предмета искусства рождают неповторимую атмосферу, которую принято называть характером или харизмой. Планировка квартиры изначально была сделана грамотно, соответствовала классическому духу и вполне подходила новым жильцам, изменения коснулись лишь расстановки мебели. При входе в квартиру расположен просторный холл с парой необычных современных кресел в фактурной меховой обивке, напоминающих большие плюшевые игрушки. Они с порога сбивают классический пафос и создают интригу. Из холла ведёт в украшенный колоннами коридор к парадному пространству гостиной-столовой с эркером и камином. «Здесь мне хотелось создать игру разновеликих предметов — объёмных диванов и кресел, масштабных диковинных люстр, обеденного стола на массивной центральной опоре и вместе с тем небольших локальных светильников, журнальных столиков с декором и аксессуарами, а также графическими работами Рустама Хамдамова — одного из моих любимых худож­ников. Меня восхищает то, как он умеет одной линией создавать не только силуэт, но целый образ, в котором точно пойманы женская пластика, поворот головы, движение руки. За основу взяты рисунки из моей личной коллекции, созданные художником в Париже для известных кутюрье. Они были напечатаны в меньшем формате на стекле и украсили стены гостиной», — комментирует автор проекта. Рядом с гостиной-столовой находятся кухня и кабинет. Несмотря на то, что комнаты отделены двустворчатыми дверями, которые, как правило, держат открытыми, они воспринимаются частью единого целого, что дополнительно подчёркнуто отделкой стен деревянными буазери. Приватные помещения включают в себя гостевую спальню, детскую и хозяйский блок со спальней, гардеробной и ванной комнатой. Эти комнаты оформлены легко, светло, с нежными цветными акцентами. В комнате маленького сына использованы жизнерадостные салатовые и коралловые оттенки, в хозяйской спальне деликатно разы­грана голубая тема. Гостевая комната при всей нейтральности отделки впечатляет дерзкими бра по обе стороны кровати. Обилие зеркальных поверхностей придаёт ей звонкости. При финальном декорировании интерьера для этой съемки Татьяна Миронова заменила все фотографии заказчицы кадрами из своего семейного архива. Такой забавный приём стал визитной карточкой архитектора и напоминает камео великих режиссеров, которые сняли себя в собственных фильмах в маленьких эпизодических ролях.\n",
            "- Заказчики и задачи  Эту квартиру в Казани купила семья для взрослого сына. Ему 21 год. Главное пожелание к интерьеру, которое заказчики озвучили дизайнеру Альбине Мухаметшиной — «никаких цветочков». Хотелось оформить интерьер в серо-бежевой гамме, добавить голубые и сине-зеленые оттенки в качестве акцентов, а также организовать системы хранения — в том числе для бытовых принадлежностей, вроде стиральной машины и пылесоса. На кухне хотели сделать барную стойку и предусмотреть дополнительное спальное место в виде раскладного дивана.   Перепланировка По изначальному плану квартира была евродвушкой — отдельная спальня, кухня-гостиная с небольшой зоной кухни и балконом, ванная комната. Дизайнер предложила небольшую перепланировку, чтобы сделать пространство удобнее и эргономичнее. Так, вход в спальню организовали из гостиной. Построили новую перегородку со стеклянной вставкой и дверью, которая добавила света в гостиную (из-за балкона естественного освещения было не так много). Это позволило на месте бывшего входа в спальню сделать хозяйственный шкаф и уместить там стиральную машину и бытовые принадлежности. Отделка Для стен во всех зонах, кроме ванной, выбрали краску. «Это современно и практично, позволяет с легкостью менять настроение интерьера со временем», — комментирует Альбина. Для декора использовали гипсовую лепнину — фрезерованные панели разместили под потолком наподобие высоких карнизов и в качестве панно за диваном в гостиной. В ванной — крупноформатный глянцевый керамогранит под серый камень и мелкая прямоугольная плитка в зоне ванны для акцента. На полу в жилых зонах уложили инженерную доску, а на кухне, в прихожей и ванной комнате — керамогранит. Системы хранения Как и было сказано выше, в прихожей обустроили хозяйственный шкаф, а также предусмотрели место для хранения верхней одежды. В спальне также за счет переноса входа удалось с удобством вписать встроенный шкаф по всей длине стены, а по бокам от кровати установить два шкафа — таким образом, кровать получилась вписанной в своеобразную нишу. В ванной комнате в нишу встроили шкаф для хранения полотенец и гигиенических принадлежностей, над инсталляцией унитаза за дверцами скрывается водонагреватель. И есть тумба под раковину. В кухне-гостиной ограничились тумбой под телевизор. Кухню же укомплектовали по максимуму. Здесь и полноразмерный холодильник, и духовой шкаф с СВЧ, и посудомоечная машина. Мебель подбирали красивую и практичную. «Кухонные фасады изготовлены из материала Fenix. Это очень прочный, стойкий материал, на поверхности которого не остаются отпечатки пальцев. Кухонная столешница и фартук выполнены из кварцевого агломерата. Я считаю этот материал одним из самых долговечных и подходящих для этих целей. Кварц не боится ножей и горячего, что делает его идеальным для кухни», — объясняет Альбина. Остальная мебель также подобрана по принципу функциональности. Например, вместо стола решили сделать барную стойку. Во-первых, этого хотели заказчики. Во-вторых, логично предположить, что молодой человек вряд ли будет устраивать застолья, где пищу нужно принимать сидя за общим столом. А для гостиной подобрали легкое кресло, которое при необходимости летом можно вынести на балкон — его не утепляли, поэтому зимой там будет прохладно. Освещение Общее освещение реализовано в виде треков и точечных светильников. Треки имеют несколько режимов включения, а споты меняют направление, что удобно для изменения световых сценариев. Дополнительные светильники — подвесы над барной стойкой, над прикроватными тумбочками в спальне и у зеркала в ванной. В ванной также создали расслабленную атмосферу спа с помощью подсветки потолка и ниши под ванной. Дизайнер Альбина Мухаметшина, автор проекта:  «Цветовая палитра квартиры едина, одни и те же цвета перетекают из помещения в помещение. Мне кажется это логичным для квартир небольшой площади. Прихожая выкрашена в темный серо-зеленый цвет. Темный оттенок для небольшой прихожей выбран не просто так. Попадая из прихожей в гостиную, создается иллюзия, что гостиная больше, чем есть на самом деле. Этот же глубокий припыленный цвет повторяется в спальне. Но тут он работает по-иному. Из-за большого количества солнечного света цвет не давит, а придает глубины. Этот же пыльный оттенок сине-зеленого присутствует в гостиной в обивке дивана и картине. Картина написана специально для этого проекта казанской художницей Галиной Дерябиной. Изначально я планировала какую-то абстракцию. Но когда пришло время заказывать полотно, заказчики неожиданно для меня захотели лес. В итоге мы решили повторить вертикальный ритм в деревьях и добавить тех самых лучей солнца, льющихся сквозь стеклянную перегородку в погожие дни».  5 трендов в электрике на ближайшие годы — смотрите в нашем видео:\n",
            "- Заказчики и задачи Владельцы этой квартиры в современном жилом комплексе Санкт-Петербурга — семья с двумя детьми: девочкой 9 лет и мальчиком 14 лет. Хозяйка дома любит готовить и увлекается шитьем, дети учатся и занимаются музыкой — гитарой и фортепиано, а глава семьи много работает, и дома стремится к полноценному отдыху. Исходя из этого дизайнеру Александре Якушенко предстояло спроектировать интерьер их квартиры.   Перепланировка Изначальную планировку дизайнер называет «хорошей»: здесь были три изолированные комнаты, два санузла (один из них при спальне) и достаточно просторная кухня-гостиная. Глобальных изменений делать не стали, но улучшили имеющиеся данные. Так, согласно плану от застройщика кухня должна была занимать нишу длиной 2,2 погонных метра. Но семье нужна была более просторная и вместительная зона. Дизайнер решила задачу, разместив перегородку для встройки шкафов-пеналов с техникой, а также разобрав обшивку труб — доступ к ним организовали в кухонном пенале. Кроме того, планировкой кухни теперь предусмотрен кухонный остров. «Нам удалось добавить функционального пространства и увеличить общий погонаж кухни почти в 3 раза», — рассказывает Александра. Общий санузел — неправильной формы, со скошенными углами. Эти недостатки пришлось исправлять уже с помощью мебели, изготовленной на заказ. В частности, тумбы под раковину сложной конструкции, которая выравнивает стену. Отделка Для отделки стен выбрали краску. В качестве основного фона — оттенки серого, они разбавлены мятным и белым в мебели и частично в отделке. Так, например, в кухне-гостиной нижние шкафы гарнитура и остров оформлены в мятном цвете, в тот же оттенок окрашена часть стены на границе кухни и гостиной. Фартук выполнен из плитки с рисунком терраццо. Стены украшают молдинги, а потолки — карнизы. В кухне-гостиной и прихожей-коридоре дизайнер применила необычный эффектный прием: под карнизом протянут тонкий молдинг, окрашенный в мятный цвет (главный акцентный оттенок этого интерьера). «Он хорошо подчеркивает геометрию помещения», — объясняет автор проекта. В родительской спальне решили выделить акцентом стену за изголовьем кровати. Для этого использовали декоративную покраску с фактурой велюра — подобный прием не перегружает интерьер, но делает его интереснее, избавляет от необходимости как-то украшать стену. На полу в мокрых зонах и прихожей уложили керамогранит, а для жилых комнат выбрали ламинат. В кухне-гостиной — комбинация керамогранита (в зоне кухни) и паркетной доски. Системы хранения Для хранения предусмотрели шкафы в каждой спальне. Так, в родительской решили задействовать пространство у окна, там поместился небольшой шкаф, но стандартной глубины, а также рабочее место с тумбой и узким шкафчиком. Стол предназначен для любимого хобби хозяйки — шитья. Для дополнительного хранения предусмотрели подвесной комод напротив кровати и две подвесные тумбы. В каждой детской — платяные шкафы и рабочие места со стеллажами и полками, где можно хранить учебники и тетради. В прихожей — встроенный шкаф, фасады которого окрашены в цвет стен. Один из фасадов оформлен зеркалом — для визуального расширения пространства. Торец шкафа со стороны коридора в кухню дополнен витриной. «Это сделано для визуального облегчения стены и создания более приятной глазу перспективы со стороны кухни», — объясняет дизайнер. Кроме того, в прихожей есть вешалка и обувница. Про размещение кухни мы уже подробно говорили в пункте о перепланировке, но повторимся, что для того, чтобы сделать кухню максимально вместительной, дизайнер продумала незначительные изменения еще на этапе проектирования. С помощью острова расширен функционал: внутри есть ящики для хранения и встроена микроволновая печь, а также винный шкаф. В зоне гостиной — подвесная консоль с пеналом. В санузлах хранение организовано с помощью выдвижных ящиков под раковинами, также в каждом санузле предусмотрен шкаф. В большой душевой в нем удалось разместить стиральную машину и бойлер. Освещение В качестве общего верхнего света продуманы люстры и трековые светильники. В спальнях у кроватей предусмотрены бра для вечернего света, в санузлах — подсветки зеркал над раковинами. В душевой — декоративный подвес у зеркала. Дизайнер Александра Якушенко, автор проекта: «Главной темой общего пространства стала палитра, выстроенная на сочетании мятного и белого цвета. Мебель и текстиль поддерживают эту идею. Диван в обивке цвета Deep ocean («глубокий океан») стоит рядом с картиной, в которой присутствуют розовые тона. Мятный цвет дозировано «выходит» в зону прихожей (молдинги), как и оттенки розового (мебель). В комнате девочки мятный цвет представлен на фасадах шкафа и в текстиле. Черный — как акцентный в деталях: ножки стула, фортепиано, ручка стола. А в комнате мальчика палитра темнее и строже. Тут появляются синие и голубые оттенки в мебели и текстиле в сочетании с темным полом».   Также рекомендуем посмотреть видео про 6 полезных продуктов для крепкого сна:\n",
            "- Заказчик и задачи Владелица этой квартиры — состоявшаяся женщина, в прошлом судья. Квартира предназначена для временных остановок, отдыха в центре культурной жизни Екатеринбурга, постоянно же хозяйка проживает за городом. Для оформления интерьера владелица обратилась к дизайнерам студии «Красивый дом» под руководством Ольги Казанцевой.   Планировка «Нам повезло с планировкой», — сразу сказали дизайнеры. Застройщик предусмотрел в квартире большую кухню-гостиную, отдельную спальню, гардеробную при входе и достаточно просторный санузел. При спальне также есть балкон. Перепланировка не требовалась. Отделка Хозяйка сразу сказала о своей любви к традиционному стилю, но в изначальной концепции пространство задумывали как близкое к современной классике. Исходя из этого выбрали высокие карнизы и дерево на пол — инженерную доску, которой покрыли все помещения в квартире, кроме ванной комнаты. Высокие деревянные плинтусы также стали частью классической композиции. Но в процессе работы современная классика стала более традиционной — так, например, в отделке ванной использовали несколько видов светлой плитки с рисунком мрамора, а на полу — более крупную плитку с тем же рисунком в сочетании с декором из мелких черных квадратов. Стены окрашены в светлые тона — более теплые в общей зоне и более прохладные — в приватной (спальне). Системы хранения и мебель Так как планировкой была предусмотрена гардеробная, это значительно облегчило интерьер визуально — не понадобилось проектировать множество шкафов. Их всего два. Один — в прихожей, куда спряталась вся одежда (секции ближе к спальне предназначены для повседневных вещей, а ближе к входной двери — для верхней одежды). Второй — в ванной, где встроены стиральная и сушильная машины. В спальне же от шкафов отказались совсем — хватило комода для личных вещей и прикроватной тумбочки. Что касается кухни — ее спроектировали на заказ, верхний ряд шкафов с частичным остеклением, что визуально также напоминает о классике. Цвет фасадов кухни и шкафа в прихожей идентичен окраске стен — это растворяет в пространстве массивную мебель. Столовая группа составлена из классических моделей — круглого стола на одной ножке и венских стульев. Мебельное наполнение спальни — также из серии традиционной классики: кровать, тумбочку и комод из массива выбрали из одной коллекции. «Несмотря на то, что в проекте была согласована мебель в основном в стиле современной классики, с более лаконичными модными формами, во время реализации клиентка поняла, что такие вещи ей не нравятся совсем. Поэтому нам пришлось составлять новые комбинации на ходу. Кровать с модной мягкой спинкой заменили на кровать из массива, соответственно, изменились тумба и комод, и даже люстра — все ушло в более традиционный вид, который хозяйке оказался милее всего. Это один из немногих наших проектов, где использован так называемый гарнитур: и комод, и прикроватная тумба, и кровать из одной коллекции. И один из немногих проектов, где комод и тумба — фабричные, а не изготовленные по эскизам конкретно для проекта. Но в данном контексте интерьера, в котором на первом месте — традиции и привычный образ жизни, такой выбор оказался самым уместным», — делятся авторы проекта. Освещение Сценарии освещения также традиционные: общий потолочный свет в виде треков в кухне-гостиной, прихожей и люстры в спальне, дополнительный в виде бра — у дивана, у комода в спальне, а также небольшого ридера у кровати. Кстати, бра у комода перекрашивали в цвет стен самостоятельно — в оригинале они классического белого оттенка. Единственное не классическое решение, на которое согласилась хозяйка — светодиодная подсветка под тумбой в ванной комнате, которая работает под датчику движения. Это проверенный дизайнерами прием, который они рекомендовали заказчице как очень удобный — свет пригождается ночью, не слепит глаза. Дизайнер Ольга Казанцева, руководитель и автор проекта: «Стиль был продиктован владелицей квартиры, мы уважительно отнеслись к ее пожеланиям. Само пространство вполне подходило под убранство в классическом стиле: достаточно высокие потолки, правильной высоты окна, много солнечного света. И стиль клубного дома также располагал к такой внутренней отделке. Мы бережно использовали лепной декор — по минимуму на стенах, простые гладкие потолочные карнизы правильных для нашей высоты пропорций, высокие напольные плинтусы, которые сразу придали интерьеру утонченный вид. Декор подбирали исходя из идеи интеллигентного жилья, купленного для отдыха и наслаждения культурной жизнью большого города. Хрусталь подсвечников и вазы перекликается с хрустальной люстрой в спальне, кофейный столик из перламутра идеально вписался в цветовую гамму. Так как бюджет у нас был ограничен, весь текстиль для штор из Leroy Merlin. Мы купили ткани, продумали дизайн, подобрали декор — и все отшили сами. Даже при небольшом бюджете можно подобрать идеальный текстиль для создания полноценного образа».  5 трендов в электрике на ближайшие годы — смотрите в нашем видео:\n",
            "- Заказчики и задачи Владельцы этой квартиры в городе Пушкине под Санкт-Петербургом — семья с сыном-подростком. Это жилье не было предназначено для их постоянного проживания, семья приезжает в Пушкин по случаю, но не исключает и дальнейшего переезда. Владельцы любят и часто принимают гостей.   Исходя из этих «вводных», к дизайнеру Елене Максимовой у семьи было несколько пожеланий: создать функциональный интерьер с большой столовой зоной, не использовать краткосрочные тренды в дизайне, оформить пространство в спокойной гамме и обойтись без перепланировки. И еще один важный момент, не типичный для сегодняшнего времени — отказаться от кроватей в спальнях. Это было осознанное решение хозяев — они хотели иметь возможность принять гостей в любой комнате. Планировка Квартира расположена на последнем этаже малоэтажного здания, и от застройщика планировка была следующей: раздельные санузлы, две изолированные комнаты и достаточно большая кухня. Также был высокий потолок со скосами у окон — с этим предстояло работать. Отделка Квартира сдавалась с частичной предчистовой отделкой — в частности, застройщик сделал потолок из гипсокартона с выводами под светильники. И его решили не переделывать, чтобы сэкономить время и сохранить бюджет. Остальную отделку дизайнер подбирала, опираясь на пожелания хозяев о будущем интерьере и выбранную стилистику современной классики. В прихожей, коридоре и на кухне — архитектурная краска, внешне чем-то напоминающая декоративную штукатурку, с эффектом замши. Она покрыта воском, получилось эффектное, но практичное моющееся покрытие. Оттенки краски слегка отличаются. В прихожей и коридоре — более прохладный тон, на кухне — более теплый. Напольное покрытие в этих зонах тоже общее — глянцевый керамогранит под мрамор. Дизайнер намеренно не делила эти пространства разной отделкой, создавая гармонию и перспективу, как бы приглашая из прихожей пройти в кухню-столовую — место общего сбора семьи и их гостей. В спальнях стены покрасили, выделив акцентные участки — стены за диванами — эффектными фресками. В спальне родителей это тропический сюжет в нейтральной гамме, в спальне сына — лес в синих оттенках. Фрески, кроме того, что они являются эффектным декоративными акцентами, выполняют и функцию визуального расширения пространства. На полу в этих комнатах — паркетная доска, уложенная французской елкой. В ванной комнате и санузле использовали одинаковую плитку — под мрамор на полу и с рисунком оникса на стенах. Это добавило маленьким помещениям с высокими потолками парадности, а глянец на стенах визуально расширяет пространство. Системы хранения Так как отдельная гардеробная не предусмотрена планировкой, автор проекта продумала шкафы в разных зонах. В прихожей — два шкафа разной глубины, один из них с открытой вешалкой и интегрированным пуфом. Шкафы под потолок делать не стали — высота стен большая, по мнению дизайнера, это бы «давило». В каждой спальне — платяные шкафы, есть также дополнительные места для хранения в виде комода в комнате сына и консоли с туалетным столиком в спальне родителей. На кухне — вместительный угловой гарнитур. Хозяева любят готовить, часто делают это вместе, поэтому дизайнер предусмотрела всю нужную технику и места для хранения. Мойка расположена у окна, приятное дополнение к рутинному делу — это открывающиеся виды. Также в столовой зоне — небольшой комод-витрина. В ванной комнате вписали узкий стеллаж между душевой и колонной из стиральной и сушильной машин. Также есть тумба под раковину. В санузле, кроме тумбы, — подвесной шкафчик. Там удачно сформировалась ниша, куда и вписали этот узел. Освещение Общий свет решен, в основном, люстрами — даже в санузлах. Высота потолка позволяла разместить акцентные светильники. Дополнительные сценарии продуманы зонально — подсветка рабочей зоны под подвесными шкафами, треки, размещенные над окном с мойкой, бра по бокам от дивана в спальне и светодиодная подсветка зеркала и полок у туалетного столика, торшер в детской у дивана. В ванной комнате предусмотрено бра у зеркала для дополнительной подсветки. Дизайнер Елена Максимова, автор проекта:  «Основу колористической концепции составляют спокойные малонасыщенные цвета теплого спектра. Оттенки распределены так, что с любого ракурса через открытые двери открывается гармоничное сочетание с соседствующими помещениями. Также все предметы в кухне-столовой легко комбинируются с деталями коридора, спальни и детской комнаты. В процессе жизни предметы иногда «кочуют» по квартире. И это не должно разрушать задуманную концепцию. Поэтому все продумано таким образом».  Оригинальные идеи для интерьера ищите в этом видео:\n",
            "- Заказчики и задачи Эта квартира принадлежит паре — бизнесвумен и ученому. К дизайнеру Валентине Дукмас у них была главная просьба — сохранить как можно больше свободного пространства. Хозяев не устраивал коридор, который нужно было как-то задействовать. Хозяйка часто работает дома, и ей нужен был кабинет, также была просьба о создании гардеробной. А еще им не нравился скандинавской стиль, поэтому его черты решили не использовать.   Перепланировка По изначальному плану это была трехкомнатная квартира с двумя санузлами и длинным коридором, который связывал комнаты. Чтобы сделать пространство удобнее, эргономичнее и воплотить пожелания владельцев, автор проекта предложила перепланировку. В результате кухню и гостиную объединили, присоединив к общей площади пространство коридора. В одной из комнат, которая примыкает к гостиной, организовали кабинет и гардеробную, которая отделяется от кабинета раздвижной стеклянной перегородкой. Вход в эту зону перенесли в гостиную. Один из санузлов увеличили за счет площади коридора — он стал буферной зоной между общим пространством и приватным — спальней. К тому же так получилось организовать полноценный мастер-блок. Второй санузел незначительно увеличен за счет площади первого — это было необходимо, чтобы организовать зону постирочной. Отделка В ходе ремонта все ненесущие перегородки убрали, чтобы возвести их заново и спроектировать четкую геометрию стен. Также «открыли» бетонный потолок, который решили не зашивать в гостиной — лишь частично для того, чтобы скрыть коммуникации. В этой зоне стены оформили декоративной штукатуркой под бетон, дополнив декоративным кирпичом в зоне кухни и частично краской. «Соединив текстуры по вертикали и горизонтали, мы визуально увеличили высоту помещения», — комментирует дизайнер. Также в гостиной есть участок стены, выложенный стеклоблоками — эта стенка граничит с гардеробной. Стеклоблоки выполняют и декоративную функцию — когда в гардеробной включен свет, в гостиной это выглядит как своеобразное настенное «панно». В комнатах и коридоре стены и потолок окрашены. Для спальни также выбрали частичную отделку декоративным кирпичом, чтобы объединить по смыслу эту зону с гостиной. Что касается напольной отделки, в зоне кухни и прихожей использовали керамогранит под бетон. Санузлы оформлены разными материалами. В том, где организована постирочная — декоративная штукатурка под бетон на стенах и керамогранит на полу. В мастер-санузле — краска в проходной зоне, плитка рядом с раковиной и керамогранит под дерево в душевой. На полу — также керамогранит. Системы хранения Основное хранение расположено в гардеробной, которая примыкает к кабинету — пожелание хозяйки дома выполнено. В спальне установлен трехстворчатый шкаф для повседневных вещей. Хранение предусмотрено и в кабинете (подвесные шкафчики над рабочим столом), и в санузлах (тумба под раковину в душевой и подвесной шкафчик с зеркалом в гостевом санузле), а также в прихожей — встроенный шкаф и консоль напротив него. Хозяйственное хранение реализовано в постирочной в санузле. В гостиной хранение минимально. Пространство освободили от лишних элементов, для мелочей есть тумба под телевизор. Кухонный гарнитур — линейный с рядом верхних шкафов и встроенными шкафами-колоннами, куда спрятана необходимая техника. Освещение Дизайнер проектировала разные сценарии освещения — от общего яркого до зонального и подсветок. Роль общего играют потолочные накладные споты контрастного цвета. Над обеденным столом размещены подвесы, у кровати в спальне предусмотрено бра. В санузлах и кабинете, кроме яркого основного света, реализованы мягкие подсветки. Дизайнер Валентина Дукмас, автор проекта: «Основная задача при проектировании была сохранить пространство визуально чистым и легким, но с контрастными текстурами. Также у заказчиков есть любимые ретропредметы, такие как виниловый проигрыватель, ламповый усилитель и японские гравюры, которые необходимо было вписать в интерьер. Так и родился микс японского минимализма и лофта. Я скомбинировала теплый насыщенный по цвету кирпич и дерево с нейтральным керамогранитом холодного серого оттенка. Выделила окна деревом по периметру. Комбинация серого и белого фона стен позволила расставить акценты на мебели или при необходимости растворить ее в пространстве. Так, например, диван в гостиной теплого оттенка растворился на фоне деревянной кухни. В спальне торец шкафа при входе и изголовье кровати акцентируют внимание на кирпичной кладке».  Актуальные приемы для оформления пола — смотрите в нашем видео:\n",
            "- Площадь: 112 кв. м Квартира расположена в центре столицы, недалеко от Третьяковской галереи. Хозяйка — директор и сооснователь галереи современного искусства Futuro в Нижнем Новгороде. Заказчице импонирует подход студии INT2 ARCHITECTURE к проектированию интерьеров, и она без колебаний доверила архитекторам Анастасии Шевелевой и Александру Малинину оформление свой московской квартиры. Главным пожеланием к интерьеру было создание лёгкого, светлого и открытого пространства, где заказчица могла бы выставлять предметы искусства из своей личной коллекции. С точки зрения функционала архитекторам нужно было организовать три изолированные спальни (хозяйскую и две детских), гостиную-кухню, кабинет, ванную комнату, постирочную и предусмотреть дополнительное спальное место. На планировку и расположение помещений влияние оказала особенность квартиры — остекление идет лишь по одному фасаду. Поэтому гостиную-столовую-кухню логично разместили в самой эффектной зоне с тремя окнами в пол и выходом на просторное патио. Кабинет отделен от гостиной книжным шкафом, задняя стенка которого используется как выставочный стенд. Дополнительное спальное место оборудовали на антресоли, которая появилась благодаря высоким потолкам. Для естественного освещения спален и антресоли Анастасия и Александр поставили стеклянные перегородки — за счет них комнаты получили больше света и воздуха. При помощи всех этих приёмов авторам удалось разместить семь хорошо освещенных функциональных зон при наличии лишь трех окон в квартире. Для заказчиков была важна звукоизоляция, поэтому архитекторы применили ряд технологических решений. «Для большей звукоизоляции мы выбрали стеклянные перегородки в алюминиевых рамах с двойным стеклом, двери повышенной толщины с выпадающим порогом, а также обшили двумя слоями звукоизоляционного материала каркас перегородок», — замечает Александр Малинин. Для обеспечения комфортного микроклимата во всей квартире установлена система принудительной вентиляции с увлажнением. В гостиной архитекторы старались сохранить максимальную высоту потолка, поэтому вентиляционные решетки вывели по стенам над стеклянными перегородками, а в спальнях и санузлах разводку системы вентиляции расположили так, чтобы все трассы были спрятаны за подшивным потолком. «Решетки во всех помещениях мы использовали невидимые, под покраску, от бренда Schiberg, — поясняет Анастасия. — Они без видимой рамки по периметру щели, и их без труда можно окрашивать в цвет стен или потолка — таким образом, они практически не видны. За счет этого пространство выглядит визуально чище, лаконичнее». Чтобы сделать жизнь домочадцев еще более удобной, архитекторы предусмотрели возможность регулировать с телефона температуру теплого пола в ванной, управлять конвекторами и рулонными шторами на окнах, а для просмотра любимых фильмов смонтировали на потолке в гостиной моторизированный экран и разместили 4К проектор. Интерьер выполнен в минималистской эстетике с акцентами на предметы искусства из коллекции заказчиков и мебель. Но тут можно заметить и элементы raw-стиля, и вещи в духе mid-century и переосмысленные классические детали. «Мы не придерживаемся какого-то одного конкретного стиля в своих проектах, — объясняют авторы. — Нам нравится сочетать в одном пространстве разные приёмы и комбинации элементов из разных стилистических направлений. Это всегда делает интерьер более интересным, индивидуальным и неординарным». Также рекомендуем посмотреть видео про 5 причин пить кофе каждый день:\n",
            "- Заказчики и задачи Владельцы этого двухэтажного дома с цокольным этажом — семья с дочерью-подростком и сыном дошкольного возраста. Дом они строили под свои нужды, поэтому планировка и количество помещений были определены изначально. К дизайнеру же Юлии Любляновой семья обратилась за оформлением интерьера. «Нужно было создать уютное, функциональное, гармоничное и долговечное пространство для жизни. Перед проектированием кухни заказчица сразу сказала, что хочет стеклянный фартук, через который будет виден сам брус. Также она сразу обозначила что хочет филенчатые серые фасады», — рассказывает автор проекта.  Планировка Дом двухэтажный, с цокольным этажом. Пространство разделено традиционным образом. На первом уровне — общие зоны: большой холл, санузел, гостиная, кухня и кабинет, который по совместительству также является гостевой комнатой. Гостиную и кухню дизайнер предложила разделить стеклянной перегородкой, сохранив ощущение свободного пространства. На втором этаже расположены приватные комнаты: спальня хозяев, две детские, душевая. На цокольном этаже — бассейн и сауна. Отделка Отделочные материалы подбирали, следуя принципу натуральности. Деревянные стены дома оставили, покрыв их светлой полупрозрачной краской. Камин в гостиной оформили крупноформатным керамогранитом под черный камень, а стену за телевизором — деревом. На полу использовали керамогранит (в прихожей и на кухне) и паркет (в жилых комнатах и кабинете). Ванную комнату на первом этаже оформили плиткой, выбрав отделку с имитацией природной фактуры дерева и песка. На втором этаже душевая отделана керамогранитом частично: одна из стен, зона душа и пол. Часть стен решили оставить в дереве, покрыв их прозрачным лаком. На цокольном этаже использовали отделку крупноформатным керамогранитом, также выбрали природные фактуры, чтобы сохранить единство интерьера и ощущение натуральности. Мебель и системы хранения Формы мебели, в основном, современные. Большинство фасадов шкафов выполнено с филенками, включая кухонный гарнитур, как и хотела хозяйка. Мягкая же мебель — прямых форм без ненужных деталей. В спальнях — кровати с мягкими изголовьями. Для родительской подобрали кровать с изголовьем в каретной стяжке. В детской сына — фигурное изголовье в форме забавных «ушек», что добавило нужного игривого настроения. Что касается систем хранения — их продумали в достаточном количестве. В каждой детской и спальне есть шкафы. В спальне они установлены по стене со скошенным потолком, что предусмотрено конструкцией шкафов. В кабинете — система шкафов и стеллажей для книг и вещей гостей, которые могут остановиться там. В гостиной ТВ-зона совмещена с настоящим камином. Под телевизором — небольшая тумба с выдвижными ящиками. На кухне, кроме линейного кухонного гарнитура, есть буфет для посуды. В холле — большой вместительный шкаф, выполненный на заказ. Для мелочей предусмотрен комод, на столешнице которого собрана красивая декоративная виньетка, обращающая на себя внимание. Также в нишу встроен стеллаж с открытыми полками. В ванной комнате и душевой — тумбы с выдвижными ящиками под раковиной. В душевой также есть открытый стеллаж для хранения мелочей. Освещение Основным сценарием освещения стали черные трековые светильники, которые контрастируют со светлыми деревянными стенами и потолком. На кухне над обеденным столом повесили люстру в классической стилистике, это акцентная деталь. Для подсветки лестницы, а также картин в прихожей, кабинете и гостиной предусмотрены бра. В спальне — настольные лампы в качестве дополнительного источника света. В комнате сына есть прикроватное бра, как и в комнате дочери. Для дочки также предусмотрели туалетный столик с зеркалом с подсветкой. В ванной комнате сделали скрытую подсветку потолка, использовали встроенное точечное освещение, а в качестве дополнения предусмотрели подвесы над раковиной. Дизайнер Юлия Люблянова, автор проекта:  «Акцентным цветом в проекте служит темно-серый цвет, который прослеживается в мебели (кухня, комод в прихожей, ТВ-тумба, диван в гостиной, кровать в спальне) и в некоторых отделочных материалах. Он отлично играет на контрасте со светлыми стенами из бруса, выкрашенными полупрозрачной краской. Материалы под дерево — плитка в ванных комнатах, мебель из шпонированного МДФ — придают дому уюта и тепла. В целом, дом вышел очень просторным, легким и гостеприимным».  Актуальные приемы для оформления пола — смотрите в нашем видео:\n",
            "- Площадь: 140 кв. м Для Юрия Филатова работа над интерьером превратилась в не только вызывающий дизайн-марафон (проектирование и реализация растянулись в полтора года), но и позволила в полную меру раскрыться мастерству и творчеству архитектора.  Основная идея проекта — сохранение духа места, воссоздание атмосферы интерьера прошлого столетия. Чтобы добиться большей аутентичности, архитектор постарался оставить все элементы, дошедшие до нас. Так, например, реставрировали аутентичную лепнину (она неплохо сохранилась). А вот, оригинальные окна, увы, уже не подлежали реконструкции. Их пришлось заменить на новые. «Мастера пробовали подобрать фрезы под оригинальный профиль, — вспоминает Юрий. — Было сделано несколько образцов, но ни один не соответствовал оригиналу, и после неудачных попыток мы приняли решение изготовить новые фрезы, полностью соответствующие историческому образцу. Оконная фурнитура также изготавливалась по образу и подобию оригинальной: были сделаны слепки, по которым отливались формы. Мы полностью сохранили конфигурацию окон и способ открывания, так что сейчас окна выглядят, как родные. Ровно такая же история произошла с дверями. Старым оригиналам мы нашли прекрасную альтернативу — новые двери очень похожи на прототип, лишь с небольшой разницей в рисунке витражей». К сожалению, не удалось сохранить и паркет — его изготавливали индивидуально, в соответствии с размером и характерной для того времени укладкой. «Перед началом работ мы зафиксировали рисунок паркета, сняли размеры всех плашек, после чего изготовили паркет заново, под стать оригинальному. Пришлось потрудиться над цветом нового напольного покрытия – необходимо было, чтобы цвет попадал в концепцию нового интерьера. И здесь мы уже позволили себе некоторую вольность и даже поиграли с рисунком – в разных помещениях рисунок паркета отличается друг от друга», – комментирует Юрий. В ванных комнатах использована керамическая плитка, натуральный мрамор, панели с характерным профилированием для середины прошлого века. Стены окрашены краской (как это было принято в то время), но уже современного производства — из классической палитры английских красок Little Greene. Как и отделочные материалы, так мебель и декор — максимально аутентичные. «Все предметы мебели — это антикварные вещи в стиле середины 20-го века, которые мы тщательно подбирали под нашу концепцию, — рассказывает Юрий Филатов. — Мы с заказчиком специально выезжали в Европу для поиска предметов интерьера. Так, однажды гуляя по улицам Амстердама, мы набрели на один мебельный салон, который оказался мастерской по восстановлению антикварной мебели. Наше сотрудничество было весьма плодотворным — практически вся мебель в квартире получила вторую жизнь в этой мастерской. А вот буфет, который мы видим в столовой, достался «по наследству» от прошлых жильцов, и является характерным предметом советского мебельного производства середины 20 века. Мы его отреставрировали, заменили недостающие стекла и покрасили в цвета интерьера. Специально для нашего проекта сделали кровать для детской. Она собрана из нескольких металлических кроватей родом из 50-х годов и, можно сказать, стала своеобразным символом интерьера». Ткани подбирались с традиционной для этого времени фактурой и рисунком. Например, в главной спальне архитектор использовал бархат, на котором вышиты звезды, напоминающие силуэт высотки. А вот, в гостиной от портьер решили отказать — вместо традиционных штор окна (на современный манер) оставлены открытыми, чтобы можно было наслаждаться видами из окон. «Возможно, кого-то удивит отсутствие телевизора в гостиной, но он есть, — улыбается Юрий. — Телевизор спрятан в конструкцию между окнами и при необходимости поднимается с помощью лифта. Такое решение также направлено на возможность любования открывающейся панорамой города». Светильники, украшающие интерьер — оригинальные предметы 50-х годов. Некоторые достались «по наследству», а другие собирались, можно сказать, по всему СНГ. Так, что-то привели из Белоруссии, а что-то из Казахстана. Причем схема освещения в квартире — классическая, даже электрофурнитура (розетки, выключатели) — керамическая, что соответствует духу эпохи. Что касается организации объёма, то архитектору нужно было создать удобное для современных жителей пространство, обеспечить жилыми помещениями всех членов семьи и оборудовать места совместного отдыха. В результате перепланировки кухню перенесли в коридор, который был объединен с одной из комнат — это позволило создать уютную кухню-столовую, а на месте бывшей кухни появилась спальня для младших детей. Изначально раздельный санузел объединили, и он получил статус главной ванной. В одной из нежилых комнат был обустроен санузел с функцией постирочной, в кладовке при входе сделан санузел для гостей. 5 трендов в электрике на ближайшие годы — смотрите в нашем видео:\n",
            "- Заказчики и задачи Этой квартирой в современном московском жилом комплексе владеет взрослая женщина. К дизайнеру Маргарите Корниенко у нее была просьба создать удобное и современное пространство с учетом ее потребностей. Хозяйка не планирует принимать много гостей, поэтому интерьер делали исключительно для нее.  Перепланировка Эта квартира — евродвушка. Так называют современные планировки с объединенной кухней-гостиной и изолированной небольшой спальней. По сути, здесь собран функционал двухкомнатной квартиры, но изолированное помещение — одно. Кроме этих зон, застройщик предусмотрел ванную комнату и небольшой балкон, выходящий их спальни. Так как квартира для одного человека, глобальной перепланировки не требовалось, но чтобы сделать пространство удобнее и предусмотреть возможность встройки вместительных систем хранения, дизайнер немного изменила расположение перегородок. Так, стена между кухней и прихожей была сдвинута, чтобы встроить шкафы с обеих сторон и увеличить пространство кухни. Кроме того, перенесли вход в спальню и в гостиную из прихожей. В спальне также предусмотрели возможность встройки шкафа. Хозяйка хотела сделать звукоизоляцию по всей квартире, для нее важна тишина. Поэтому из-за монтажа звукоизоляционных материалов по всему периметру пришлось пожертвовать парой метров общей площади. Отделка Для отделки выбирали натуральные материалы: обои для стен во всех зонах за исключением кухни и прихожей, массивную доску для пола в жилых комнатах и крупноформатный керамогранит с природной фактурой камня — в мокрых (кухня, прихожая, санузлы). Стены, фартук и столешница на кухне оформлены кварцевым камнем. А в прихожей использовали декоративную фактурную штукатурку с легким блеском. Для стен в санузле выбрали крупноформатный керамогранит, который уложили без швов. Мебель и системы хранения Системы хранения продумали тщательно и с учетом потребностей хозяйки. Так, она любит готовить, поэтому на кухне было важно наличие необходимой техники и систем хранения. Одну стену П-образного гарнитура занимают встроенные колонны, где есть холодильная камера, морозилка, встроенная кофеварка и также встроенные духовой шкаф и микроволновая печь. Рабочая поверхность будет оставаться свободной, так как для мелочей продуман узкий стеллаж, куда можно поставить все необходимое. В качестве обеденной зоны — барная стойка с легкими стульями. В гостиной напротив дивана — современная интерпретация «стенки»: закрытые шкафы для хранения нужных мелочей и книг. В прихожей встроили шкаф, где поместится не только одежда, но и хозяйственные принадлежности, в частности, пылесос. Для мелочей есть стол-консоль. В ванной комнате — вместительная тумба под раковину со встроенной стиральной машиной. В спальне — встроенный шкаф, который разделен на секции для повседневной или сезонной одежды. Рядом со шкафом в проходе стоит тумбочка, но эта секция предназначена как раз для сезонных вещей, поэтому не будет так часто открываться. К тому же тумбочка легкая и мобильная. Словом, продумано все до деталей. Также в спальне есть столик, который можно использовать как туалетный или рабочий (иногда у хозяйки есть необходимость работы из дома). Освещение Чтобы света хватило в любое время суток и в каждой зоне, дизайнер выполнила расчет. Исходя из этого спроектировали разные сценарии. Общий свет решен встроенными в потолок точечными светильниками. А дополнительное освещение добавлено в виде торшеров и настольных ламп. Дизайнер Маргарита Корниенко, автор проекта:  «В своих пожеланиях заказчица отталкивалась от того, что ей нравилось или не нравилось в предыдущем доме. И концепция нащупывалась в процессе работы на стадии эскизов. Поэтому как такого определенного стиля мы не придерживались. Было важно создать спокойное и удобное пространство».  6 полезных продуктов для крепкого сна — собрали в коротком видео:\n",
            "- Площадь: 167 кв. м Заказчицей этого, на первый взгляд, брутального проекта выступила 22‑летняя хозяйка квартиры в новостройке на севере Москвы. Она обожает своих животных: у неё две собаки и три шиншиллы. Поэтому главным и единственным пожеланием к визуальной части интерьера было применение антивандальных покрытий. В остальном дизайнер Екатерина Дурава получила полную свободу творчества: она уже оформляла несколько объектов для семьи девушки, и та смело доверилась вкусу Екатерины. В функциональном плане заказчица хотела просторную общественную зону. При входе в квартиру дизайнеры Марина Русакова и Екатерина Дурава организовали гостевой санузел, где вдобавок ко всему предусмотрели лейку для мытья животных. Учитывая большую неиспользованную площадь холла, авторы спроектировали в нём отдельно стоящую гардеробную систему, в которой за стеновыми панелями скрыт хозяйственный блок. Помимо функциональной нагрузки, это решение зрительно разграничивает прихожую и общественное пространство. В нём кухонный угол и столовая отгорожены декоративной перегородкой от гостиной. Через длинный коридор можно попасть в кабинет, который в дальнейшем легко преобразуется в детскую. К кабинету присоединена большая лоджия, где можно организовать зону для спортивных тренировок. Рядом оборудован технический санузел с дополнительными системами хранения. Между кабинетом и гостиной — приватный блок, где расположилась спальня с собственной гардеробной и ванной комнатой. Екатерина Дурава характеризует стиль этого проекта как минималистичный лофт. Одним из определяющих факторов в выборе визуальной концепции стал высокий потолок — 4,3 метра. Несмотря на превалирующий минимализм интерьера, в нём трудно найти простые по форме предметы мебели. Почти все они геометричны и порой напоминают скульптуры или макеты зданий, которые отбрасывают тени и рождают, тем самым, ещё больше смыслов и ассоциаций. Эта «архитектурность» пространства усиливается за счёт сдержан­ной монохромной гаммы: различных оттенков серого, графита и антрацита, а также вкраплениями контрастного тёплого бежевого цвета. Авторы проекта сделали ставку на матовые поверхности «софт-тач» и природные материалы с богатыми фактурами. Это натуральный сланец и дерево, металл, микроцемент для отделки стен, широкоформатный керамогранит (Porselanosa), имитирующий песчаник, предметы интерьера из натурального бетона. Многообразие текстур дополняют геометрические детали, добавляющие пространству динамики, — декоративная раздвижная перегородка в спальне, металлические системы хранения, фигурные подвесные светильники и жалюзи. При этом благодаря высокому потолку квартира остаётся достаточно светлой и не перегруженной броскими акцентами. Игра света и тени становится ещё интереснее с множеством сложных сценариев освещения. В арсенале у хозяйки — нижние, боковые, разноуровневые и индивидуально группированные подсветки, которые можно включать под разное настроение. Из элементов «умного дома» в проекте поставили мастер-выключатель и электрокарнизы для штор с пультом управления. «В этом проекте нам удалось совместить современный стиль с элементами лофта и минимализма, использовав антивандальные и при этом натуральные, приятные на ощупь покрытия спокойных оттенков, — говорит Екате­ри­на. — Самостоятельная работа без заказчика — это большая ответственность, и тем радостнее, что мы попали в точку. С детства мне нравилось менять обстановку вокруг себя. Теперь, когда моя детская мечта воплотилась в жизнь, я с уверенностью могу утверждать, что дизайн интерьера не только радует глаз, но и выводит качество жизни людей на новый уровень. Умение чувствовать других и проектировать концепцию пространства — одни из наших самых главных талантов».  5 трендов в электрике на ближайшие годы — смотрите в нашем видео:\n"
          ]
        }
      ],
      "source": [
        "# show articles in a specific cluster\n",
        "cluster = \"9\"\n",
        "df_subset = df[df[\"label\"] == cluster].reset_index()\n",
        "for i,row in df_subset.iterrows():\n",
        "  print(f\"- {row['text_short']}\")\n",
        "  if i == 40:\n",
        "    break"
      ]
    },
    {
      "cell_type": "code",
      "execution_count": null,
      "metadata": {
        "id": "SrsVqbn8t07S"
      },
      "outputs": [],
      "source": [
        "# !pip install keybert"
      ]
    },
    {
      "cell_type": "code",
      "execution_count": null,
      "metadata": {
        "colab": {
          "base_uri": "https://localhost:8080/"
        },
        "id": "F_sAfdyrtohL",
        "outputId": "aeca3f7f-d69e-4f35-a6e4-1842e77997a5"
      },
      "outputs": [
        {
          "name": "stdout",
          "output_type": "stream",
          "text": [
            "[('пропорциями', 0.4874), ('приспособлениями', 0.4855), ('приспособления', 0.4777), ('мероприятия', 0.4767), ('приготовления', 0.4708), ('примирения', 0.4689), ('приложениями', 0.4668), ('пригорания', 0.4662), ('сопротивления', 0.4591), ('переутомления', 0.4571)]\n"
          ]
        }
      ],
      "source": [
        "from keybert import KeyBERT\n",
        "cluster = \"10\"\n",
        "df_subset = df[df[\"label\"] == cluster].reset_index()\n",
        "texts_concat = \". \".join(df_subset[\"text_short\"].values)\n",
        "keywords_and_scores = KeyBERT().extract_keywords(texts_concat,\n",
        "                                    keyphrase_ngram_range=(1, 1), top_n=10)\n",
        "print(keywords_and_scores)"
      ]
    },
    {
      "cell_type": "code",
      "execution_count": null,
      "metadata": {
        "id": "_e0LZUeIFM4I"
      },
      "outputs": [],
      "source": []
    },
    {
      "cell_type": "code",
      "execution_count": null,
      "metadata": {
        "id": "gNmdxRFb5eNe"
      },
      "outputs": [],
      "source": [
        "#тоже гуд работает, но мне кажется скам не скамит\n",
        "import matplotlib.pyplot as plt\n",
        "from sklearn.cluster import Birch\n",
        "\n",
        "# dataset, clusters = make_blobs(n_samples = 600, centers = 8, cluster_std = 0.75, random_state = 0)\n",
        "\n",
        "model = Birch(branching_factor = 50, n_clusters = None, threshold = 1)\n",
        "\n",
        "model.fit(reduced_emb)\n",
        "\n",
        "pred = model.predict(reduced_emb)\n",
        "\n",
        "cluster_labels = model.labels_\n",
        "cluster_labels.max()\n"
      ]
    },
    {
      "cell_type": "code",
      "execution_count": null,
      "metadata": {
        "colab": {
          "base_uri": "https://localhost:8080/"
        },
        "id": "oPgzqIrC6oQT",
        "outputId": "87e4f157-066f-45f7-f770-0a124ea413ef"
      },
      "outputs": [
        {
          "data": {
            "text/plain": [
              "16"
            ]
          },
          "execution_count": 411,
          "metadata": {},
          "output_type": "execute_result"
        }
      ],
      "source": []
    },
    {
      "cell_type": "code",
      "execution_count": null,
      "metadata": {
        "colab": {
          "base_uri": "https://localhost:8080/"
        },
        "id": "KICRp6zPkVIk",
        "outputId": "b24a9dc5-6bd3-4075-c729-8b510848ed22"
      },
      "outputs": [
        {
          "data": {
            "text/plain": [
              "0.3948017"
            ]
          },
          "execution_count": 412,
          "metadata": {},
          "output_type": "execute_result"
        }
      ],
      "source": [
        "from sklearn.metrics import silhouette_score\n",
        "\n",
        "silhouette_avg = silhouette_score(reduced_emb, cluster_labels)\n",
        "silhouette_avg"
      ]
    },
    {
      "cell_type": "markdown",
      "metadata": {
        "id": "DQsRQ8K6SrZV"
      },
      "source": []
    },
    {
      "cell_type": "markdown",
      "metadata": {
        "id": "clpfrJvMWVB3"
      },
      "source": []
    },
    {
      "cell_type": "code",
      "execution_count": null,
      "metadata": {
        "colab": {
          "base_uri": "https://localhost:8080/"
        },
        "id": "D_YePApk8dSb",
        "outputId": "08a2c86f-b11b-42fc-8b29-2bb596d91c74"
      },
      "outputs": [
        {
          "name": "stdout",
          "output_type": "stream",
          "text": [
            "«Мусор» На фоне огромной мусорной горы, возвышающейся над морем и готовой стать его частью, сидит нахмуренный Джереми Айронс. Актеру, обеспокоенному судьбой нашей планеты, предстоит путешествие в разные концы света — от Исландии до Индонезии, а также разговоры с простыми людьми, политиками и учеными. Всех объединяет один печальный факт: их здоровье пострадало от отходов, загрязняющих окружающую среду. Несмотря на в целом удручающую картину, авторы документальной ленты оставляют зрителю надежду — если вопросу переработки отходов будет уделено должное внимание, загрязнение Земли еще можно остановить. «Великий» В начале 1970-х фотожурналист Уильям Юджин Смит делает репортаж об экологической катастрофе, разразившейся в японской деревне Минамата по вине местной фабрики, сливавшей в воду промышленные отходы. Рассказывая историю фотографа, страстно сыгранного Джонни Деппом, режиссер «Великого» Эндрю Левитас кропотливо воссоздает легендарные снимки, запечатлевшие ужасные последствия отравления ртутью природы и жителей, и подчеркивает, что «всего одна фотография, один раздавшийся вовремя крик о помощи в силах спасти жизни людей». «Темные воды» Напряженная судебная драма по реальным событиям рассказывает об адвокате Роберте Билотте, расследующем отравление целого города, которое он связывает с деятельностью крупнейшей химической компании DuPont. Исполнивший главную роль Марк Руффало известен своим эко-активизмом, что только добавляет его герою убедительности в отчаянной борьбе с непобедимым, как кажется, противником. «Одиннадцатый час» Продюсерский и авторский проект неравнодушного к экологическому кризису Леонардо ДиКаприо сосредоточен на теме глобального потепления, которое грозит Земле страшной катастрофой. Красноречивые графики температурных аномалий и пугающие видеозаписи наводнений, пожаров и прочих катаклизмов наглядно демонстрируют последствия халатного отношения к природе. Через интервью с учеными, экологами и активистами актер рассказывает о текущем положении дел в разработке и совершенствовании сбора и утилизации мусора, напоминая зрителям о том, что человечество — главный источник проблемы, но оно же может стать и решением. «Эрин Брокович» Эрин Брокович — безработная и одинокая мать троих детей, вооруженная лишь смелостью и неиссякаемой энергией. С горем пополам она устраивается в юридическую фирму и довольно скоро выходит на могущественную корпорацию, отравляющую хромом водоемы, близ которых десятки людей заболевают раком. Жертвуя семьей и личной жизнью, Эрин вступает в борьбу против преступной деятельности компании. Лента Стивена Содерберга основана на реальной истории правозащитницы Эрин Брокович, которая, к слову, исполнила в фильме эпизодическую роль официантки. Сыграв упертую и до грубости эмоциональную красотку, чья решительность остановила промышленное зло, Джулия Робертс получила свой первый и пока что единственный «Оскар». «Навсикая из долины ветров» Классика аниме от гениального Хаяо Миядзаки — волшебная и в то же время печальная история о будущем, в котором человечество пало жертвой бездумной эксплуатации природных ресурсов. Цивилизация повержена экологической катастрофой, ядовитые леса заполоняют все пространство, люди вытеснены из привычных мест обитания. На фоне тех, кто ведет бесконечные войны за оставшиеся ресурсы, лишь юная принцесса Навсикая понимает истинную суть происходящего и пытается найти выход. Удивительно и одновременно ужасающе, что мультфильм 1984 года с каждым годом становится только актуальнее. Благодаря фантазии художников и уникальным возможностям анимации, идея бережного отношения к природе органично и вкрадчиво вписывается в истории, доступные даже самым маленьким зрителям, — достаточно вспомнить невероятно трогательного робота Валл-И или изобретательную комедию «Облачно, возможны осадки в виде фрикаделек», которые могут также послужить предостережением для подрастающих поколений.\n",
            "Исследователи обнаружили в Перу новый вид змей и назвали его в честь актера Харрисона Форда, известного в том числе по франшизе «Индиана Джонс» Стивена Спилберга. Об этом сообщает The Hollywood Reporter. Вид млекопитающих теперь называется Tachymenoides harrisonfordi, подчеркивает издание. Информацию о нем уже опубликовали в научном журнале Salamandra. «Ученые постоянно называют животных в мою честь, но всегда тех, которые пугают детей. Я не понимаю... Ведь в свободное время я вышиваю крестиком, пою колыбельные своим базиликам, чтобы тем было не страшно ночью», — посетовал актер. Издание подчеркивает, что именем Форда также называли вид муравьев (Pheidole harrisonfordi) и пауков (Calponia harrisonfordi). «Но если серьезно, то у меня это открытие вызывает чувство смирения. Напоминает о том, что еще так много предстоит узнать о нашем мире — и люди лишь малая часть невероятно обширной биосферы», — подчеркнул актер. В конце июня 80-летний Харрисон Форд отказался бросать кино после релиза пятого «Индианы Джонса», заявив, что любит свою работу.\n",
            "Группа молекул, вырабатываемая бактериями рода Pseudomonas, была названа в честь актера Киану Ривза. Об этом пишет The Indian Express. Ученые утверждают, что кианумицины могут способствовать уничтожению микробов в растениях. Также предполагается, что молекулы могут быть полезны для здоровья детей. «Кианумицины убивают [микробы] настолько эффективно, что мы назвали их в честь Киану Ривза, потому что он тоже чрезвычайно смертоносен в своих ролях», — рассказал ученый Себастьян Гетце, занимающийся исследованием молекул. Киану Ривз прославился как звезда боевиков. Мировую известность ему принесли роли во франшизах «Матрица» и «Джон Уик». В 2023 году ожидается спин-офф «Джона Уика», получивший название «Балерина». Главную женскую роль в нем исполнит Ана де Армас.\n",
            "Специалисты Национального управления океанических и атмосферных исследований США (NOAA) в ходе изучения глубоководных районов у восточного побережья Северной Америки обнаружили под водой «реальных» героев мультсериала «Губка Боб Квадратные Штаны» — Боба и Патрика. Лежащих на камне на глубине 1885 метров морскую губку рода Hertwigia и морскую звезду рода Chondraster сфотографировал дистанционно управляемый аппарат Okeanos Explorer на склоне подводной горы Retriever seamount, в 322 километрах к востоку от Нью-Йорка. Сообщается, что увидеть подобную морскую звезду обычно не составляет труда — они довольно распространены по всему океану, но губка Hertwigia — это настоящая находка. Обычно глубоководные губки имеют белый или оранжевый цвет, который помогает им не привлекать внимание хищников в условиях слабого освещения, но эта губка была ярко-желтого цвета, точь-в-точь как мультперсонаж Спанч Боб. Однако, как говорят специалисты, в реальности связывает этих существ вовсе не дружба. Дело в том, что морские звезды питаются губками, так что «Патрик» подобрался так близко к «Спанч Бобу» не из лучших побуждений, пишет Business Insider. Напомним, Губка Боб и Патрик — главные герои популярного американского мультсериала, который также имеет три полнометражных сиквела: «Губка Боб — квадратные штаны», «Губка Боб в 3D» и «Губка Боб в бегах».\n",
            "Британский актер Гари Олдман, исполнивший роль бывшего премьер-министра Великобритании Уинстона Черчилля, получил никотиновое отравление на съемках. Об этом он рассказал The Hollywood Reporter. Для участия в байопике «Темные времена» режиссера Джо Райта Олдману пришлось выкурить более 400 кубинских сигар. Я серьезно отравился никотином. Мне давали сигару, скуренную на три четверти, я зажигал ее, и через пару дублей она догорала, после чего мне давали новую сигару — и так продолжалось на протяжении 10–12 дублей для каждой сцены. Гари Олдман Одна сигара любимой фирмы Черчилля Romeo y Julieta стоит $50. Всего на табак потратили около $20 000 из 30-миллионного бюджета ленты. На российские экраны «Темные времена» выйдут 18 января 2018 года. Главные роли, помимо Олдмана, в нем исполнили Лили Джеймс, Кристин Скотт Томас, Бен Мендельсон. Отметим, что ранее Минздрав собирался отказаться от поддержки отечественного кино с курящими героями.\n",
            "Ученые из Научно-технологического института Окинавы назвали два новых вида муравьев в честь драконов из сериала «Игра престолов», пишет газета The Guardian. Два новых вида муравьев, относящихся к роду Pheidole и обитающих в Новой Гвинее, были названы Дрогон (Pheidole drogon) и Визерион (Pheidole viserion). Такие имена носят драконы героини Дейенерис Таргариен из популярного американского сериала. Отмечается, что новые виды муравьев могли получить имена из-за характерного внешнего вида. Насекомые имеют черный окрас и остроконечные усики, расположенные на спине. Колючие шипы, по словам ученых, позволяют муравьям защищаться от хищников. «Игра престолов» — американский фэнтези-сериал по мотивам цикла романов Джорджа Р.Р. Мартина «Песнь льда и пламени», выходящий в эфир с 2011 года. Премьера нового, седьмого сезона сериала запланирована на 2017 год. Он будет состоять из семи эпизодов.\n",
            "Ученые обнаружили в озере Лох-Несс останки монстра, однако это оказался вовсе не доживший до XXI века динозавр: автономный подводный аппарат наткнулся на обломки «чудовища», созданного в 1960-е годы для съемок фильма «Частная жизнь Шерлока Холмса». Об этом сообщает Sky News. Открытие было сделано в ходе проекта по обследованию шотландского озера роботом. Во время съемок модель утонула в озере из-за того, что режиссер Билли Уайлдер потребовал срезать с ее остова два горба, установленных для повышения плавучести. Модель снял на дне озера подводный автоматический аппарат, который в настоящий момент проводит наиболее тщательное обследование Лох-Несса. Ранее робот опроверг утверждения о так называемой «впадине Несси» — гигантской расщелине, в которой могло бы скрываться «чудовище». Раньше изучение Лох-Несса тормозилось трудностями спуска, а также мутностью воды (из-за высокого содержания торфа). «Частная жизнь Шерлока Холмса» — фильм 1970 года с Робертом Стивенсом, Колином Блейкли и Кристофером Ли. По сюжету за помощью к легендарному сыщику обращается девушка, умоляющая отыскать ее мужа. Расследование приводит Холмса в Шотландию, на берега озера Лох-Несс, где он и его верный помощник доктор Ватсон сталкиваются с тем самым чудищем.\n",
            "Провести эксперимент музыканты собрались с помощью профессора-биохимика из Калифорнийского университета Сри Косури (Sri Kosuri), которому эта процедура уже удалась с книгой. Как поясняет журнал, альбом можно перевести в цифровой формат, бинарный код, то есть последовательность нулей и единиц, а его, в свою очередь, — в составные части ДНК: аденин, гуанин, цитозин и тимин. Полученные нанограммы с кодом ДНК можно растворить в воде и продавать в таком виде — к примеру, в небольших пластиковых контейнерах. «Очевидно, что это просто художественный и научный проект и не самый эффективный способ реализовать нашу пластинку», — прокомментировал вокалист группы Дэмиан Кулаш. Квартет OK Go начал выступать в 1998 году, но первый альбом появился только в 2000-м. В настоящее время группа выпустила 13 альбомов. Релиз последнего, Hungry Ghosts, состоялся в мае 2014 года. В 2007 году OK Go получили «Грэмми» в категории «Лучший клип» (песня Here It Goes Again). Коллектив часто проводит музыкальные эксперименты. К примеру, в клипе на песню Needing/Getting участники группы проехали на автомобиле, совершая на ходу удары битами и палками по различным музыкальным инструментам и бытовым предметам, извлекая из них звуки.\n",
            "Медики смогли установить причину сердечной недостаточности у пациента благодаря сходству его симптомов с вымышленным случаем из сериала «Доктор Хаус», где пациент отравился кобальтом из-за металлического протеза тазобедренного сустава, их отчет опубликован в журнале Lancet. «Отравление кобальтом является известной причиной кардиомиопатии на протяжении более 50 лет, но в основном она встречалась у работников стальной промышленности или в случаях загрязнения кобальтом еды или питья», — пояснил автор отчета Йюрген Шефер из Марбургского университета имени Филиппа (Германия), чьи слова приводятся в сообщении журнала Lancet. В мае 2012 года 55-летний пациент с тяжелой сердечной недостаточностью обратился в клинику Марбургского университета. Обследование исключило частую причину сердечной недостаточности — заболевание коронарной артерии, однако медики заметили сходство некоторых симптомов пациента с вымышленным случаем из сериала «Доктор Хаус», в котором главный персонаж Грегори Хаус диагностировал отравление кобальтом, вызванное металлическим протезом тазобедренного сустава. Медицинская история реального пациента показала, что в ноябре 2010 года ему заменили керамический протез тазобедренного сустава на протез, в котором были керамические и металлические части. Полгода спустя у пациента появились такие симптомы, как недостаток гормонов щитовидной железы, воспаление слизистой оболочки пищевода, лихорадка неизвестного происхождения, прогрессирующая потеря слуха и зрения и, наконец, тяжелая сердечная недостаточность. Больше года врачи не могли найти причину этих симптомов, пока пациент не обратился в марбургскую клинику. После замены протеза на керамический работа его сердца пришла в норму, остальные симптомы также исчезли.\n",
            "Канадский стоматолог Майкл Жук, купивший два года назад коренной зуб экс-лидера всемирно известной группы The Beatles Джона Леннона, объявил о намерении извлечь из зубных тканей образец ДНК, чтобы клонировать певца. «Если ученые полагают, что смогут клонировать мамонтов, то Джон Леннон может стать следующим», — цитирует заявление Жука американское агентство UPI. По мнению дантиста, в ближайшее время генетики вполне смогут выяснить полный генетический код Леннона, а научившись клонировать людей, будут иметь возможность воскресить кумира миллионов людей. Майкл Жук приобрел зуб Джона Леннона в 2011 году на аукционе в Лондоне за £19 500  (порядка $31 000). Со своей покупкой стоматолог совершил кругосветное турне по зубным клиникам и стоматологическим колледжам, после чего разместил реликвию у себя во врачебном кабинете. Ранее Жук написал книгу, посвященную зубам знаменитостей. Бывший участник The Beatles Леннон отдал собственноручно вырванный у себя зуб своей горничной Дот Джарлетт, работавшей в его доме в Кенвуде в конце 1960-х годов. Он попросил ее подарить зуб дочери как сувенир. Однако затем этот сувенир оказался в коллекции памятных вещей рок-музыкантов, принадлежащей основателю музыкального лейбла Creation Records Алану Макги. Он решил распродать свои реликвии, заявив, что устал от индустрии рок-музыки.\n",
            "Итальянские исследователи вскроют фамильный склеп во Флоренции, где покоятся родственники Лизы Герардини дель Джоконды, якобы позировавшей Леонардо да Винчи для его «Моны Лизы», чтобы разгадать тайну знаменитой картины, сообщает британское издание Daily Mail. В 2012 году исследователи нашли в бывшем монастыре Святой Урсулы во Флоренции несколько скелетов, один из которых предположительно принадлежит Лизе Герардини, скончавшейся в 1542 году в возрасте 63 лет. В настоящий момент ученые проводят радиоуглеродный анализ останков, чтобы определить, какой из скелетов мог принадлежать Джоконде. После этого ученые смогут приступить к заключительной стадии исследования — сравнению данных ДНК-анализа предполагаемых останков Джоконды и останков ее родственников, к эксгумации которых исследователи приступят. Ученые вскроют фамильный склеп Герардини во Флоренции, где покоятся два сына Джоконды, и возьмут образцы для последующего ДНК-анализа. Если результаты работы ученых подтвердят, что найденные в прошлом году останки действительно принадлежат Лизе Герардини, то исследователи смогут приступить к новому проекту, передает американский телеканал NBC News. Ученые намерены создать виртуальную реконструкцию лица Джоконды, сравнить его с картиной да Винчи и попытаться тем самым пролить свет на тайну улыбки Моны Лизы. Существуют и другие версии того, кто был натурщицей да Винчи для написания знаменитой картины. По одной из них, Джоконда являлась дочерью миланского герцога Бьянкой Сфорца. Кроме того, бытует мнение, что шедевр Леонардо — портрет не женщины, а мужчины: либо автопортрет самого да Винчи, либо портрет Джана Джакомо Капротти, в 1490–1510 годах работавшего у живописца в мастерской и за свои бесчисленные проделки заслужившего прозвище Дьяволенок.\n",
            "Геоморфолог из Университета Урбино Оливия Неши и художница Розетта Боркиа установили, что реки, озера и горы, изображенные на портрете Джоконды, находятся в области Марке, расположенной в Центральной Италии, неподалеку от Тосканы и Эмилии-Романьи. Территория этой области представляет собой гористую местность с протекающими по ней реками. Подробные данные исследования будут опубликованы в декабре 2012 года в книге под названием Code P. По данным газеты, теория о ландшафте подтверждает выдвинутую в 2011 году версию с новой трактовкой личности модели. После того как Джорджо Вазари опубликовал в 1550 году биографию Леонардо, считалось, что моделью для художника послужила Лиза Герардини, супруга торговца шелком из Флоренции Франческо дель Джокондоне. Однако хранитель архива Ватикана Роберто Дзаппери утверждает, что на самом деле Леонардо написал Пацифику Брандани, замужнюю даму, которая была любовницей сосланного в герцогство Умбрийское (район Монтефельтро) Джулиано Медичи. В книге архивариуса сказано, что Брандани умерла вскоре после того, как родила герцогу незаконнорожденного сына, и вскоре Медичи заказал ее портрет. По словам Оливии Неши, она не знала о книге Дзаппери, однако его версия лишь подтверждает ее теорию о географическом расположении изображенного на портрете ландшафта. Ранее, в 1995 году, преподаватель из Италии по имени Карло Старнацци предположил, что изображенный над левым плечом модели мост находится недалеко от города Ареццо, расположенного в 60 км от Флоренции. По версии исследователя, это построенный римлянами мост через реку Арно, известный как Ponte a Buriano. Оливия Неши при этом считает, что Леонардо незачем было использовать изображение моста в Ареццо в портрете флорентийки.\n",
            "Итальянские исследователи, которые уже больше года ведут раскопки во Флоренции в надежде обнаружить останки Лизы Герардини дель Джокондо, якобы позировавшей Леонардо да Винчи для его знаменитой «Моны Лизы», откопали два новых скелета, предположительно принадлежащих женщинам, сообщают РИА «Новости» со ссылкой на итальянские СМИ. Таким образом, общее число обнаруженных археологами на территории бывшего женского монастыря Святой Урсулы скелетов достигло семи. Все найденные останки направляются в лабораторию на анализы, чтобы точно определить пол и время захоронения. Несмотря на то что за последний год сообщения об обнаружении скелетов в месте раскопок происходит довольно регулярно, СМИ не устают каждый раз писать о том, что найденные останки могут принадлежать именно Лизе Герардини, скончавшейся в 1542 году в возрасте 63 лет. При этом окончательный ответ могут дать только результаты анализа ДНК найденных останков и их сравнение с ДНК потомков знатной флорентийки, о которых до настоящего момента ни разу не сообщалось. Раскопки в бывшем монастыре Святой Урсулы во Флоренции начались в конце апреля прошлого года. Ученые надеются обнаружить место захоронения Лизы Герардини дель Джокондо, которая, согласно основной версии, и является прототипом «Моны Лизы». Существуют и другие версии, по одной из которых Джоконда являлась дочерью миланского герцога Бьянкой Сфорца. Кроме того, бытует мнение, что шедевр Леонардо — портрет не женщины, а мужчины: либо автопортрет самого Да Винчи, либо портрет Джан Джакомо Капротти, с 1490 по 1510 годы работавшего у живописца в мастерской и за свои бесчисленные проделки заслужившего прозвище Дьяволенок. Своим исследованием итальянские ученые хотят поставить точку в давнем споре о том, кто же на самом деле позировал великому художнику.\n",
            "День премьер, 15 октября, на MTV начнется уникальным лечебно-юмористическим проектом «Добрый вечер, животные!». Доказано, что домашние животные помогают снять стресс и депрессию. К примеру, британские ученые сравнивают лечебный эффект от мурлыканья кошки с лечением ультразвуком. Дельфины, ежи, жирафы, кузнечики и попугаи тоже обладают многочисленными целебными свойствами. Лечить стрессы и прочие недуги телезрителей животные будут в компании Максима Аверина. Так, на съемках программы российский актер научился играть в шахматы с… козлом: «Над программой MTV \"Добрый вечер, животные!\" работает просто суперкоманда: у нас первоклассные сценаристы, великолепные тексты, замечательные продюсеры и просто хорошая компания. И главное — у всех отличное чувство юмора! На съемках пришлось иметь дело с разной фауной — домашней и не очень. Там были котята, ежики, обезьянка, попугай, козел... Я получил массу впечатлений! С обезьянкой, например, отношения складывались непросто: она меня испугалась, потому что я оказался страшнее ее. Она, видимо, такого не ожидала. А веселее всего получилось с козлом Гришей. Представляете, я с ним играл в шахматы! Кто выиграл — не скажу!» — рассказал Аверин. Еще одна премьера телеканала — «Домашнее видео звезд» — также не обошлась без именитого гостя в качестве ведущего, которым стал Николай Басков. MTV обеспечило певцу неограниченный доступ к самым секретным домашним видео звезд. И теперь он ежедневно будет раскрывать зрителям MTV их самые сокровенные тайны. Видео со свадеб и дней рождения, с юбилеев и из путешествий, о детях и домашних животных. Обещается, что Николай Басков достанет скелеты из шкафов даже своих самых близких друзей. В еще одном новом проекте MTV, «Секретные материалы шоу-биза», уже сами звезды расскажут о себе и своих коллегах всю правду. Под прицелом камер — звездные преступления, дети, болезни, деньги, недвижимость, бизнес… И конечно, любовь и секс. Алла Пугачева расскажет о том, кто и почему готовил на нее покушение. Кристина Орбакайте и ДеЦл — о том, каково это — быть детьми зубров шоу-бизнеса и жить в тени родителей. Михаил Шуфутинский покажет, кто чистит ему ботинки, а Эдита Пьеха объяснит, почему она ревнует родную дочь к домработнице. Что связывает Татьяну Овсиенко, Кэти Топурия, Иосифа Кобзона и Анастасию Приходько с криминальным миром, и почему школу, где училась Валерия Гай Германика, называют сектой? Все это — только малая часть звездных тайн, на которые прольется свет в «Секретных материалах».\n",
            "К такому выводу пришли французские археологи в ходе 20-летнего исследования. Специалисты проанализировали рисунки эпохи палеолита в 12 пещерах Франции. Самый популярный сюжет изобразительного искусства древнего человека — животные в движении, которые скачут галопом, бегут рысью или крадутся. К примеру, на стенах пещеры Шове сюжет воплощен, скорее всего, доисторическими охотниками. На десятиметровом изображении группа львов выслеживает и преследует зубров. Археологи, долгие годы занимавшиеся изучением наскальной живописи, пришли к выводу, что зубр из пещеры Шове не из пустой палеолитической прихоти нарисован с восемью конечностями. Рассматривая рисунок при свете факелов под разными углами, пещерные люди, вероятно, могли наслаждаться иллюзией движения. Всего специалисты обнаружили 53 рисунка животных, которые двигали лапами, хвостом или головой. Большая часть этих рисунков (20) находятся в пещере Ласко. Но не только в области наскальной живописи люди эпохи палеолита пытались создать нечто вроде мультипликации. Археологи также изучили каменные и костяные диски с отверстиями в середине, покрытые изображениями. На обеих сторонах этих дисков были запечатлены животные в разных позах, сообщают «Дни.ру» со ссылкой на «Вести.ру». Находки оказались подобием доисторических тауматропов (в переводе с древнегреческого — «чудо вращения»). Принцип действия тауматропа основывается на способности человеческого глаза запоминать изображение на доли секунды. Такие игрушки, популярные в Викторианскую эпоху, были изобретены в XIX веке и представляли собой диски с рисунками на разных сторонах. Вращение диска вокруг оси создавало иллюзию единого изображения. Однако еще в 2007 году французские археологи провели первые эксперименты, которые показали, что изобретателями первого подобия мультипликации стали пещерные люди. Вращая древний диск, можно наблюдать, как животное поочередно меняет позу: встает или садится. «Тауматропы палеолита можно считать древнейшим шагом человечества на пути к изобретению кинематографа», — заключают исследователи в статье, опубликованной в Antiquity.\n",
            "По мнению специалистов, это произошло из-за химической реакции между «лимонным» пигментом, сульфидом кадмия, и защитным лаком, говорится в статье, опубликованной в журнале Analytical Chemistry. Винсент Ван Гог написал картину «Цветы в голубой вазе» в 1887 году, на закате парижского периода жизни великого художника. На этой картине были изображены ярко-желтые маргаритки и белые анемоны в вазе, расположенной на столе. После смерти Ван Гога эта картина была покрыта лаком для повышения сохранности и куплена в начале 20 века музеем Креллера-Мюллера в нидерландском Оттерло. Группа химиков под руководством Куна Янсенса из университета Антверпена (Бельгия) обратила внимание на картину после того, как реставраторы открыли необычный налет на некоторых частях натюрморта. Как объясняют ученые, желтый пигмент — сульфид кадмия — постепенно теряет свою яркость при взаимодействии с воздухом. Это объясняется тем, что молекулы кислорода окисляют серу и превращают это соединение в сульфат, соль серной кислоты (SO4). Сульфат кадмия образует белую полупрозрачную пленку на поверхности краски, в результате чего она бледнеет и теряет привычную яркость. В случае с «Цветами в голубой вазе» налет был необычным — он был не светлым, а темным, и его микроструктура была не похожа на кристаллы сульфата кадмия. Озадаченные сотрудники музея отправили небольшой кусочек краски с картины в лабораторию Янсенса и попросили химиков выяснить природу и причину формирования налета. Исследователи просветили образцы краски при помощи рентгеновских спектроскопов и сравнили их с «обычным» налетом из сульфата кадмия. «Оказалось, что сульфат-анионы нашли подходящего партнера для реакции в ионах свинца в лаковом покрытии, в результате чего на границе между краской и лаком образовались серые и малопрозрачные кристаллы англезита — сульфата свинца. Его источником, по всей видимости, послужило вещество-осушитель, которое было добавлено в лак при покрытии картины», — пояснил один из участников работы Джеральд Фалькенберг. По словам ученых, эффект усугубился тем, что ионы кадмия, лишенные серы, прореагировали с другими компонентами лака и превратились в оксалат кадмия (CdC2O4) — соединение кислорода, кадмия и углерода. Комбинация из соли свинца и оксолата кадмия и является тем налетом, который превратил ярко-желтые маргаритки на картине Ван Гога в смесь из темно-оранжевых и коричневых мазков. «Многие из картин, которые Винсент написал во время парижского периода, были покрыты неправильным лаком и снятие этого покрытия является одной из самых сложных задач, с которой сталкиваются реставраторы работ Ван Гога во всех странах мира. Информация, которую предоставили нам Янсенс и его коллеги, жизненно необходима для принятия тяжелых решений, которые нам приходится порой делать при столь сложной очистке картин», — добавила реставратор Элла Хендрикс из Музея Ван Гога в Амстердаме.\n",
            "Новый вид ракообразных в семействе gnathiids обитает в кораллах, паразитируя на некоторых видах рыб, и похож на обычных клопов. Их открыл 10 лет назад морской биолог из университета штата Арканзас Пол Сиккель. После многолетних исследований он и сообщил о том, что теперь эти рачки будут называться «Gnathia marleyi». «Я назвал этот вид, который действительно является природным феноменом, в честь Марли, поскольку очень люблю и уважаю его музыку. Кроме того, этот вид настолько же уникален для Карибского бассейна, как и сам музыкант», – говорится в сообщении ученого. Боб Марли скончался в 1981 году, прославив родную Ямайку и музыку регги. Ученые регулярно называют вновь открытый вид в честь знаменитостей. Например, у президента США Барака Обамы есть лишайник его имени, именем Элвиса Пресли назван подвид осы, а американская певица Бейонсе подарила свой сценический псевдоним новому виду слепней.\n",
            "Самые древние наскальные рисунки обнаружены в одной из пещер на юге Франции. На рисунках возрастом 37 тысяч лет изображены животные, знак, похожий на бесконечность или цифру 8, а также женский половой орган. Эти древнейшие изображения были найдены на поверхности полуторатонной скалы, в незапамятные времена отколовшейся от потолка пещеры, в которой жили охотники каменного века. Глыба с остатками охры и вырезанных в известняке рисунков была извлечена из разрушенной пещеры Абри-Кастанет (долина Везер, юго-западная часть Франции), которую с середины 90-х годов исследует группа антропологов из европейских и американских институтов, обнаруживших здесь около 20 тысяч различных артефактов. Эта пещера, как и соседняя с ней Абри-Бланшар, считается одним из самых древних на территории Евразии центров палеоискусства и уже на протяжении ста лет привлекает внимание археологов. Помимо следов хозяйственной деятельности — кострищ, кремниевых орудий и костей животных — в пещере были найдены древнейшие произведения искусства: декорированные раковины, кости с насечками, бусины из бивней мамонта и стеатита (талькового камня), рисунки охрой и изображения, вырезанные в известняке, пишет «Газета.Ru». Возраст найденных в нем костей составляет в среднем 32 400 лет, притом разброс датировок в пределах всего одной тысячи лет говорит о том, что пещера была обитаема относительно недолго. По всей видимости, обвал потолка с изображением вульвы произошел очень давно — не намного позже либо, учитывая более раннюю датировку, даже тогда, когда в пещере жили люди, так как между культурным слоем, давшим 37—35 тыс. лет, и поверхностью лежавшей на нем скалы нет слоя отложений, накопившихся в других частях Абри-Кастанет. Обвал, таким образом, стал своеобразной капсулой времени, позволившей уверенно датировать изображения, оставленные на скале древними художниками, успевшими«нарастить» низлежащий слой за долгие тысячелетия охоты и совместных посиделок за костром. Помимо типичного для ориньякской культуры схематичного изображения женской вульвы на потолочной скале сохранились следы охры и еле различимые части рисунка какого-то крупного животного, предположительно бизона, а также специфичная для раннего Ориньяка круглая высечка в скале в форме восьмерки (сохранилась всего одна ее часть). Если датировка этих изображений верна, то перед нами древнейший в мире образец пещерного искусства и, шире, изобразительного искусства вообще, так как рисунки из пещеры Шове датируются более поздним временем. Так, возраст живописных шерстистых носорогов из Шове, выполненных в смешанной технике углем и охрой, составляет, согласно радиоуглеродному анализу, 32—29 тысяч лет, а высеченная в камне вульва из Абри-Кастанет насчитывает 37 тысяч.\n",
            "Ученые в ближайшем будущем будут использовать программу, предназначающуюся для распознавания лиц террористов, в определении героев на картинах в живописи. На разработку соответствующей программы американским ученым было выделено 25 тысяч долларов, пишет АиФ. Программа будет разрабатываться в проекте FACES (Faces, Art and Computerised Evaluation Systems). Она будет функционировать на основе данных, полученных, например, с посмертных масок, скульптур и других объектов и пригодится в том случае, если модель изображали несколько раз. Программа была уже успешно протестирована на портретах флорентийского правителя XV века Лоренцо Медичи. В ближайшее время с помощью программы будут проанализированы картины «Смеющийся кавалер» (1624) Франса Халса, а также «Девушка с жемчужной сережкой» Вермеера (около 1667).\n",
            "Ученые из университета Джорджии, исследовав серию картин всемирно известного нидерландского художника-постимпрессиониста Винсента Ван Гога, выявили, что подсолнухи, изображенные на картинах, имеют признаки генных мутаций, передают «Аргументы.ру». Большинство соцветий, изображенных на картинах знаменитого художника, имеют совсем небольшой плодоносящий внутренний диск, почти скрытый под множеством внешних цветков-лепестков. Это, как выяснили ученые, вызвано мутацией в гене, который отвечает за рост бесплодных цветков. Ван Гог написал две серии картин под названием «Подсолнухи»: первую в Париже в 1887 году, вторую — через год в городе Арле. Этот период искусствоведы связывают с окончательным формированием своеобразной творческой манеры художника.\n",
            "Талантливый программист Кевин Флинн, подвизавшийся в области разработки компьютерных – точнее, не совсем еще даже компьютерных – игр, часто признавался: он всегда хотел понять, на что похожа передача информации внутри компьютера, как выглядят биты и байты, приводимые им в движение там, по ту сторону экрана и клавиатуры. Он говорил, что они в его представлении похожи на мотоциклы или катера. Так появился один из самых узнаваемых символов Системы из серии «ТРОН» – транспортные средства. Мото-, то есть светоциклы Мотоциклы - точнее, если переводить английское «lightcycles», светоциклы – появились в игровой вселенной далеко не случайно. Именно гонки были основным элементом аркадной игры «ТРОН», бившей все рекорды популярности в 1982 – 1983 гг. Их внешний вид в оригинальном фильме был весьма условным. Сегодня светоциклы вполне соответствуют моде – появляясь буквально из ниоткуда, они практически летают по виртуальной вселенной и, к тому же, стильно выглядят. Это уже пятое поколение подобных транспортных средств в Системе. Сцена, где светоциклы переходят с одного уровня трассы на другой, – одна из самых впечатляющих в новой картине. Распознаватели Тем не менее, встреча с Системой у любого новичка начинается далеко не с гонок на светоциклах, а с полета на так называемом «распознавателе». Распознаватель – это одновременно транспортное средство и средство для поимки программ. Изначально Распознаватели были одним из видов противников в игре, разработанной Кевином Флинном – «Space Paranoids». Однако Эд Диллинджер, главный человеческий антагонист оригинального фильма, украл идею, а MCP, антагонист уже виртуальный, плодотворно ее использовал – Распознаватели стали одним из важнейших элементов его диктатуры. Распознаватели в фильме «ТРОН: Наследие» выполняют те же функции, что и в 1982 году. Однако их конструкция была усовершенствована – например, появился автоматический лифт. Танки Еще один «привет» из оригинального фильма и игры «Space Paranoids». Именно на этом танке нужно разъезжать, чтобы сбивать распознаватели. В фильме, правда, танки не играют особой роли – то ли на батальные сцены просто не хватало мощностей компьютерного оборудования, то ли просто такая грозная техника нарушала камерную атмосферу картины. Так что и в «Наследии» они не появляются – зато любители могут опробовать себя в роли танкиста в игре «ТРОН: Эволюция». Светолеты Светолеты (в оригинале, «light jets») были созданы специально для нового фильма. Будучи, во многом, похожи на светоциклы – например, они тоже появляются из «жезлов» - они принципиально отличаются от них. Во-первых, они летают, а во-вторых, кроме светового следа – самого распространенного оружия в Системе – они еще и стреляют чем-то, похожим на сгустки энергии. К сожалению, никаких других подробностей о них не известно. Можно только заметить, что светолеты все-таки очень красивы. Даже в пластиковом варианте. Солнечный парусник Строго говоря, эта штуковина, больше похожая на поезд, повисший на какой-то световой рельсе, и не солнечный, и не парусник. Конечно, задумывалась она именно как отражение идеи «солнечного парусника» – космического корабля, использующего явление «солнечного ветра» (давления света). Однако в Системе, во-первых, нет никакого солнца, а во-вторых, передвигается этот «парусник» в своем условном пространстве явно не с помощью парусов. В обоих фильмах парусники играют очень важную роль. Светомашина Усовершенствованная версия наземного транспорта в Системе, известная лишь в одном экземпляре и не имеющая – возможно, пока – официального русского названия. В оригинале ее называют «light runner» (что наводит на неочевидные, но и неотвязные ассоциации с «blade runner»). Шины на ней обладают способностью выпускать шипы по одному нажатию кнопки – от такого усовершенствования невозможно отказаться! Главный корабль Громадное воздухоплавательное судно – по некоторым данным, в длину оно достигало 4 тысяч футов, то есть, 1,2 км – являлось штабом MCP и его помощников, прежде всего, Сарка, в оригинальном фильме. О роли этого корабля велись ожесточенные споры – говорили, что это сервер Системы, или что это оружие MCP во внешнем мире (когда MCP проникал в компьютеры Пентагона и Кремля, он демонстрировал именно этот корабль). Антагонист в нынешней картине, CLU, тоже не отказался от подобной машины. Правда, он несколько мобильнее, и на его собственном корабле мы видим его всего пару раз.\n"
          ]
        }
      ],
      "source": [
        "indices_1 = np.where(cluster_labels == 7)[0]\n",
        "df_filtered = df[df.index.isin(indices_1)]\n",
        "# df_filtered\n",
        "# print(len(df_filtered))\n",
        "for i in range(len(df_filtered)):\n",
        "  print(df_filtered.iloc[i]['text_short'])\n",
        "  if i == 20:\n",
        "    break\n"
      ]
    },
    {
      "cell_type": "code",
      "execution_count": null,
      "metadata": {
        "colab": {
          "base_uri": "https://localhost:8080/"
        },
        "id": "-qfoYaqkWjDn",
        "outputId": "cd91296a-36c2-4b7e-bb59-bea3b44cf875"
      },
      "outputs": [
        {
          "name": "stdout",
          "output_type": "stream",
          "text": [
            "[('гастроэнтерологической', 0.5152), ('гистерэктомия', 0.5086), ('гастроэнтерологические', 0.5041), ('гастроэнтерологическим', 0.5027), ('гастроэнтерология', 0.4967)]\n"
          ]
        }
      ],
      "source": [
        "from keybert import KeyBERT\n",
        "cluster = \"7\"\n",
        "# df_subset = df[df[\"label\"] == cluster].reset_index()\n",
        "texts_concat = \". \".join(df_filtered[\"text_short\"].values)\n",
        "keywords_and_scores = KeyBERT().extract_keywords(texts_concat,\n",
        "                                    keyphrase_ngram_range=(1, 1), top_n=5)\n",
        "print(keywords_and_scores)"
      ]
    },
    {
      "cell_type": "code",
      "execution_count": null,
      "metadata": {
        "colab": {
          "base_uri": "https://localhost:8080/",
          "height": 89
        },
        "id": "be48AxXzJ-F8",
        "outputId": "27c7ed5e-684e-4f76-c859-0c46142d416f"
      },
      "outputs": [
        {
          "data": {
            "application/vnd.google.colaboratory.intrinsic+json": {
              "type": "string"
            },
            "text/plain": [
              "'Кухня – притягательное место для ребенка. Еще бы: там столько времени проводит мама, там хранится много вкусного и есть миллион интересных вещей. Впрочем, превращать кухню в игровую комнату – не вариант. А вот привлечь ребенка к приготовлению разных блюд очень даже можно.'"
            ]
          },
          "execution_count": 261,
          "metadata": {},
          "output_type": "execute_result"
        }
      ],
      "source": [
        "df_filtered.iloc[0]['Description']"
      ]
    },
    {
      "cell_type": "code",
      "execution_count": null,
      "metadata": {
        "colab": {
          "base_uri": "https://localhost:8080/",
          "height": 198
        },
        "id": "VJrdRudANyMb",
        "outputId": "e025af5f-965b-4d32-e3c1-aec4a1ce4171"
      },
      "outputs": [
        {
          "ename": "NameError",
          "evalue": "name 'reduced_emb' is not defined",
          "output_type": "error",
          "traceback": [
            "\u001b[0;31m---------------------------------------------------------------------------\u001b[0m",
            "\u001b[0;31mNameError\u001b[0m                                 Traceback (most recent call last)",
            "\u001b[0;32m<ipython-input-1-8d2d9196fb94>\u001b[0m in \u001b[0;36m<cell line: 4>\u001b[0;34m()\u001b[0m\n\u001b[1;32m      2\u001b[0m \u001b[0;32mimport\u001b[0m \u001b[0mmatplotlib\u001b[0m\u001b[0;34m.\u001b[0m\u001b[0mpyplot\u001b[0m \u001b[0;32mas\u001b[0m \u001b[0mplt\u001b[0m\u001b[0;34m\u001b[0m\u001b[0;34m\u001b[0m\u001b[0m\n\u001b[1;32m      3\u001b[0m \u001b[0magglomerative\u001b[0m \u001b[0;34m=\u001b[0m \u001b[0mAgglomerativeClustering\u001b[0m\u001b[0;34m(\u001b[0m\u001b[0mn_clusters\u001b[0m\u001b[0;34m=\u001b[0m\u001b[0;36m20\u001b[0m\u001b[0;34m)\u001b[0m\u001b[0;34m\u001b[0m\u001b[0;34m\u001b[0m\u001b[0m\n\u001b[0;32m----> 4\u001b[0;31m \u001b[0mcluster_labels\u001b[0m \u001b[0;34m=\u001b[0m \u001b[0magglomerative\u001b[0m\u001b[0;34m.\u001b[0m\u001b[0mfit_predict\u001b[0m\u001b[0;34m(\u001b[0m\u001b[0mreduced_emb\u001b[0m\u001b[0;34m)\u001b[0m\u001b[0;34m\u001b[0m\u001b[0;34m\u001b[0m\u001b[0m\n\u001b[0m\u001b[1;32m      5\u001b[0m \u001b[0mcluster_labels\u001b[0m\u001b[0;34m\u001b[0m\u001b[0;34m\u001b[0m\u001b[0m\n",
            "\u001b[0;31mNameError\u001b[0m: name 'reduced_emb' is not defined"
          ]
        }
      ],
      "source": [
        "#по метрике чуть похуже\n",
        "from sklearn.cluster import AgglomerativeClustering\n",
        "import matplotlib.pyplot as plt\n",
        "agglomerative = AgglomerativeClustering(n_clusters=20)\n",
        "cluster_labels = agglomerative.fit_predict(reduced_emb)\n",
        "cluster_labels"
      ]
    },
    {
      "cell_type": "code",
      "execution_count": null,
      "metadata": {
        "colab": {
          "base_uri": "https://localhost:8080/"
        },
        "id": "lwi8iZW4kDu_",
        "outputId": "8120d735-89c2-4f77-b969-a1d8f57375f9"
      },
      "outputs": [
        {
          "data": {
            "text/plain": [
              "0.36019444"
            ]
          },
          "execution_count": 409,
          "metadata": {},
          "output_type": "execute_result"
        }
      ],
      "source": [
        "from sklearn.metrics import silhouette_score\n",
        "\n",
        "silhouette_avg = silhouette_score(reduced_emb, cluster_labels)\n",
        "silhouette_avg"
      ]
    },
    {
      "cell_type": "code",
      "execution_count": null,
      "metadata": {
        "colab": {
          "base_uri": "https://localhost:8080/"
        },
        "id": "OdjzBQBJQrqY",
        "outputId": "3c31c61e-a6a8-4025-e587-8428336243ee"
      },
      "outputs": [
        {
          "name": "stdout",
          "output_type": "stream",
          "text": [
            "Ученые в рамках специального проекта Science of Scare (англ. «Искусство страха») вычислили, какой фильм ужасов объективно является самым страшным. Результаты исследования опубликовало издание MoneySuperMarket. В исследовании участвовало 250 добровольцев, которым показывали фильмы ужасов. К испытуемым был подключен датчик сердцебиения. «Чем выше пульс, тем, значит, быстрее фильм разгоняет кровь в наших зрителях, а это значит, что растут возбуждение и страх как составные части инстинкта «бей или беги», — объясняют авторы проекта. Самый высокий пульс у людей возникал во время просмотра «Синистера» режиссера Скотта Дерриксона. По сюжету, писатель поселяется в доме со страшным прошлым и находит видеозаписи, приоткрывающие тайну произошедшего. Сам он и его близкие после этого также оказываются в опасности. На второй строчке расположился «Астрал: Онлайн» Роба Сэвиджа, на третьей — «Паранормальные явления. Скинамаринк». Также в топ вошли фильмы «Астрал», «Заклятие», «Реинкарнация», «Улыбка», «Шесть демонов Эмили Роуз», «ООО «Дом Ада», «Два, три, демон, приди!», «Спуск», «Заклятие 2», «Оно» (2014) и др.\n",
            "Британский актер Гари Олдман, исполнивший роль бывшего премьер-министра Великобритании Уинстона Черчилля, получил никотиновое отравление на съемках. Об этом он рассказал The Hollywood Reporter. Для участия в байопике «Темные времена» режиссера Джо Райта Олдману пришлось выкурить более 400 кубинских сигар. Я серьезно отравился никотином. Мне давали сигару, скуренную на три четверти, я зажигал ее, и через пару дублей она догорала, после чего мне давали новую сигару — и так продолжалось на протяжении 10–12 дублей для каждой сцены. Гари Олдман Одна сигара любимой фирмы Черчилля Romeo y Julieta стоит $50. Всего на табак потратили около $20 000 из 30-миллионного бюджета ленты. На российские экраны «Темные времена» выйдут 18 января 2018 года. Главные роли, помимо Олдмана, в нем исполнили Лили Джеймс, Кристин Скотт Томас, Бен Мендельсон. Отметим, что ранее Минздрав собирался отказаться от поддержки отечественного кино с курящими героями.\n",
            "В течение двух месяцев (с декабря 2014 по январь 2015-го) международная исследовательская компания YouGov проводила исследование-опрос среди 25 000 интернет-пользователей из 23 стран. Результатом многоступенчатого голосования стал рейтинг самых обожаемых людей планеты. Причем списков получилось несколько: по всему миру в целом и для девяти стран в отдельности; для мужчин и женщин были составлены отдельные рейтинги. Первоначально был составлен список из 25 номинантов, состоящий из ныне живущих знаменитостей. Опрашиваемым задавали два вопроса: «Кого вы по-настоящему обожаете?» (этот вопрос допускал выбор более чем одного номинанта) и «Кого вы обожаете больше всех?» (здесь можно было назвать только одну знаменитость). Результаты опроса среди российских пользователей оказались следующими. Первое место среди мужчин занимает Владимир Путин, за ним с огромным отрывом (почти 30 очков) следует Джеки Чан. Отметим, что российский президент обогнал и таких голливудских красавчиков, как Брэд Питт (3-е место), Джордж Клуни (7-е место), Джейсон Стэйтем (8-е место) и Хью Джекман (10-е место). Что касается самых обожаемых российской аудиторией женщин, то возглавила список голливудская звезда Анджелина Джоли. Вторую же строчку заняла примадонна российской сцены Алла Пугачева. На третьем месте оказалась актриса Джулия Робертс. Кроме того, в топ-10 вошли Брижит Бардо, Мадонна и Селин Дион. Стоит отметить, что общемировой рейтинг знаменитостей, собравших наибольшее количество симпатий, возглавили Билл Гейтс (среди мужчин) и Анджелина Джоли (среди женщин). В списки также вошли Джеки Чан (4-е место), Брэд Питт и Джордж Клуни (13-е и 16-е места соответственно), Тейлор Свифт и Бейонсе (11-я и 12-я строчки рейтинга), Дженнифер Лоуренс и Эмма Уотсон (14-е и 16-е место).\n",
            "Ученые нашли связь желания увидеть сразу несколько серий подряд с депрессией и одиночеством, сообщает Variety. «Хотя многие утверждают, что в привычке поглощать сериал целиком нет ничего страшного, наше исследование показало, что обществу стоит пересмотреть свое отношение к феномену запойного просмотра», — призвала автор исследования Сун Ён-хи. В исследовании приняли участие 300 добровольцев в возрасте от 18 до 29 лет. По его результатам ученым удалось также установить связь между просмотром нескольких серий подряд и переутомлением, ожирением и нехваткой самоконтроля. Все чаще наблюдающуюся склонность к запойному «поглощению» сериалов среди телезрителей учитывают и их производители. В 2013 году видеосервис Netflix произвел фурор в индустрии, выложив в доступ весь первый сезон «Карточного домика». Такой стратегии компания, как и, например, Amazon, придерживается и сейчас.\n",
            "Медики смогли установить причину сердечной недостаточности у пациента благодаря сходству его симптомов с вымышленным случаем из сериала «Доктор Хаус», где пациент отравился кобальтом из-за металлического протеза тазобедренного сустава, их отчет опубликован в журнале Lancet. «Отравление кобальтом является известной причиной кардиомиопатии на протяжении более 50 лет, но в основном она встречалась у работников стальной промышленности или в случаях загрязнения кобальтом еды или питья», — пояснил автор отчета Йюрген Шефер из Марбургского университета имени Филиппа (Германия), чьи слова приводятся в сообщении журнала Lancet. В мае 2012 года 55-летний пациент с тяжелой сердечной недостаточностью обратился в клинику Марбургского университета. Обследование исключило частую причину сердечной недостаточности — заболевание коронарной артерии, однако медики заметили сходство некоторых симптомов пациента с вымышленным случаем из сериала «Доктор Хаус», в котором главный персонаж Грегори Хаус диагностировал отравление кобальтом, вызванное металлическим протезом тазобедренного сустава. Медицинская история реального пациента показала, что в ноябре 2010 года ему заменили керамический протез тазобедренного сустава на протез, в котором были керамические и металлические части. Полгода спустя у пациента появились такие симптомы, как недостаток гормонов щитовидной железы, воспаление слизистой оболочки пищевода, лихорадка неизвестного происхождения, прогрессирующая потеря слуха и зрения и, наконец, тяжелая сердечная недостаточность. Больше года врачи не могли найти причину этих симптомов, пока пациент не обратился в марбургскую клинику. После замены протеза на керамический работа его сердца пришла в норму, остальные симптомы также исчезли.\n",
            "Помимо песен Хулио Иглесиаса, заключенных времен Пиночета мучили композициями экс-гитариста The Beatles Джорджа Харрисона, а также саундтреком к фильму Стенли Кубрика «Заводной апельсин». Эта информация вскрылась благодаря исследователям из Манчестерского университета, изучавшим особенности пенитенциарной системы в Чили. Тюремщики заводили музыку во время пыток, стараясь свести заключенных с ума. По словам тех, кому удалось выжить в этих тюрьмах, нередко надзиратели напевали данные композиции. От этого их издевательства начинали казаться чем-то рутинным и обыденным, говорят бывшие узники чилийских лагерей. При этом некоторые признаются, что музыка, напротив, помогла им выжить в застенках, укрепив дух и вселив надежду. Особенно повезло в этом плане поклонникам The Beatles и Хулио Иглесиаса. Слушая свои любимые композиции, они сохраняли связь с реальностью. В начале сентября чилийские чиновники принесли семьям жертв Пиночета официальные извинения. Местные судьи признали, что не могли в те годы качественно исполнять свои обязанности по защите прав и свобод невиновных граждан.\n",
            "Ученые из США нашли способ избавления от навязчивой мелодии в голове, сообщает The Daily Telegraph. В качестве способа избавления от назойливой «мухи» специалисты из Университета Западного Вашингтона предлагают довольно простое решение — решить анаграмму. Таков был результат эксперимента, в процессе которого группа людей разгадывала задачи под музыку Леди Гаги, Бейонсе Ноулз и других популярных исполнителей. Оказалось, что лучше всего от навязчивых мелодий помогают анаграммы из пяти букв. Популярные судоку также эффективны, однако, если они слишком сложные, весь эффект пропадает и мелодия возвращается. Как пишут специалисты, чаще всего в голове застревают именно припевы. Припевы проще всего запомнить, поскольку они наиболее просты для восприятия, а куплеты, как правило, длиннее и звучат более неразборчиво. Таким образом, в голове остается лишь часть песни, которая начинает рано или поздно всплывать в голове в любое время суток, хотим мы этого или нет. По опросу исследователей, наиболее привязчивыми песнями считаются: Alejandro и Bad Romance Леди Гаги, всеми полюбившийся трек Call Me Maybe молодой певицы Карли Рей Джепсен, «гимн всех одиноких женщин» Single Ladies от Бейонсе, две всемирно известные композиции ливерпульской четверки The Beatles She Loves You и I Wanna Hold Your Hand, а также песни SOS Рианны и You Belong with Me Тейлор Свифт.\n",
            "По данным исследования, проведенного учеными из Ливерпульского университета имени Джона Мурса и сотрудниками Министерства здравоохранения Великобритании, музыканты и певцы подвержены высокому профессиональному риску. По сравнению с рядовыми гражданами популярные исполнители в семь раз чаще страдают от алкогольной зависимости и в 12 раз чаще пытаются совершить самоубийство. Риск же развития злокачественных образований или заболеваний сердечно-сосудистой системы у людей этой категории выше почти вдвое, сообщают «Дни.ру» со ссылкой на Russia Today. Такие выводы специалисты сделали, изучив жизнь 1500 популярных исполнителей музыки разных стилей и направлений: от панка и рока до рэпа и нью-эйджа. Исследование охватило 50-летний период музыкальной истории США и Европы — с 1956 по 2006 год. Исследователи выяснили, что за это время из жизни ушли 137 популярных музыкантов — 9,2% от общего числа, что гораздо выше среднего показателя смертности. Если рассматривать эти данные отдельно для США и Европы, то американские музыканты умирают вдвое чаще своих европейских коллег. Также следует отметить, что и те и другие имеют большие шансы «на выживание» в составе группы, чем при сольной карьере. Чаще всего звезды погибают из-за употребления алкоголя, наркотических средств или медицинских препаратов. Сюда относятся случаи летального исхода в результате передозировки или несчастных случаев. Средний возраст американских музыкантов, ушедших из жизни, — 45 лет, а европейских — 39 лет. Однако время, прошедшее после того, как наступил пик славы, который исследователи определяют количеством проданных альбомов, играет важное значение. Так, спустя 25 лет после того, как они оказались на вершине популярности, музыканты постепенно сливаются «с массой» и почти не отличаются от остальной части населения, по крайней мере в том, что касается среднего показателя смертности.\n",
            "С помощью разработанного в Китайском университете электронной науки и технологий метода электрическая активность мозга была переведена в такт, а движение крови в нем — в ритм. В результате исследователи смогли услышать достаточно сложную симфонию. «Мы надеемся, что наши успехи в построении основанной на мозговых сигналах музыки помогут объяснить природу мозга», — сказали авторы исследования Цзин Лу и Дэчжун Яо, пишет Wired. В своей предыдущей работе ученые основывались только на электрической активности мозга на поверхности кожи головы, представление о которой дает обычная электроэнцефалограмма — однако не получили результата, который можно было бы полноправно назвать музыкой. В работе новой к этим данным исследователи добавили измерения потоков крови в головном мозге. В качестве примера Лу и Яо записали мозг 14-летней девушки и 31-летней женщины. Ученые признаются, что, основанные на измерениях общей активности мозга, пока что эти записи больше похожи на репетицию, чем на полноценный концерт. Однако впоследствии они надеются исследовать музыку мозга при различных психических состояниях. По их словам, прослушивание подобных записей пациентами в будущем поможет врачам правильнее поставить диагноз и назначить лечение.\n",
            "Как сообщает «Фонтанка.ру» со ссылкой на The Daily Telegraph, ученые провели эксперимент, в рамках которого десять человек посмотрели десять фильмов ужасов. В результате картины были ранжированы. Выяснилось, что лучше всего помогает похудеть просмотр фильма «Сияние» Стэнли Кубрика. За время сеанса каждый из зрителей потерял в среднем по 184 калории. Как удалось выяснить специалистам, потерю калорий вызывают прежде всего фильмы ужасов. «Из-за стресса — или, как в данном случае, испуга — пульс учащается, кровь движется быстрее, происходит выброс адреналина. От этого ухудшается аппетит, ускоряется метаболизм и в конечном итоге калории сгорают быстрее», — заявил сотрудник Университета Вестминстера Ричард Маккензи. Целиком список изученных университетом фильмов выглядит так: 1. «Сияние» (184 калории) 2. «Челюсти» (161 калория) 3. «Изгоняющий дьявола» (158 калорий) 4. «Чужой» (152 калории) 5. «Пила: Игра на выживание» (133 калории) 6. «Кошмар на улице Вязов» (118 калорий) 7. «Паранормальное явление» (111 калорий) 8. «Техасская резня бензопилой» (107 калорий) 9. «Ведьма из Блэр: Курсовая с того света» (105 калорий) 10. «Репортаж» (101 калория)\n",
            "Талантливый программист Кевин Флинн, подвизавшийся в области разработки компьютерных – точнее, не совсем еще даже компьютерных – игр, часто признавался: он всегда хотел понять, на что похожа передача информации внутри компьютера, как выглядят биты и байты, приводимые им в движение там, по ту сторону экрана и клавиатуры. Он говорил, что они в его представлении похожи на мотоциклы или катера. Так появился один из самых узнаваемых символов Системы из серии «ТРОН» – транспортные средства. Мото-, то есть светоциклы Мотоциклы - точнее, если переводить английское «lightcycles», светоциклы – появились в игровой вселенной далеко не случайно. Именно гонки были основным элементом аркадной игры «ТРОН», бившей все рекорды популярности в 1982 – 1983 гг. Их внешний вид в оригинальном фильме был весьма условным. Сегодня светоциклы вполне соответствуют моде – появляясь буквально из ниоткуда, они практически летают по виртуальной вселенной и, к тому же, стильно выглядят. Это уже пятое поколение подобных транспортных средств в Системе. Сцена, где светоциклы переходят с одного уровня трассы на другой, – одна из самых впечатляющих в новой картине. Распознаватели Тем не менее, встреча с Системой у любого новичка начинается далеко не с гонок на светоциклах, а с полета на так называемом «распознавателе». Распознаватель – это одновременно транспортное средство и средство для поимки программ. Изначально Распознаватели были одним из видов противников в игре, разработанной Кевином Флинном – «Space Paranoids». Однако Эд Диллинджер, главный человеческий антагонист оригинального фильма, украл идею, а MCP, антагонист уже виртуальный, плодотворно ее использовал – Распознаватели стали одним из важнейших элементов его диктатуры. Распознаватели в фильме «ТРОН: Наследие» выполняют те же функции, что и в 1982 году. Однако их конструкция была усовершенствована – например, появился автоматический лифт. Танки Еще один «привет» из оригинального фильма и игры «Space Paranoids». Именно на этом танке нужно разъезжать, чтобы сбивать распознаватели. В фильме, правда, танки не играют особой роли – то ли на батальные сцены просто не хватало мощностей компьютерного оборудования, то ли просто такая грозная техника нарушала камерную атмосферу картины. Так что и в «Наследии» они не появляются – зато любители могут опробовать себя в роли танкиста в игре «ТРОН: Эволюция». Светолеты Светолеты (в оригинале, «light jets») были созданы специально для нового фильма. Будучи, во многом, похожи на светоциклы – например, они тоже появляются из «жезлов» - они принципиально отличаются от них. Во-первых, они летают, а во-вторых, кроме светового следа – самого распространенного оружия в Системе – они еще и стреляют чем-то, похожим на сгустки энергии. К сожалению, никаких других подробностей о них не известно. Можно только заметить, что светолеты все-таки очень красивы. Даже в пластиковом варианте. Солнечный парусник Строго говоря, эта штуковина, больше похожая на поезд, повисший на какой-то световой рельсе, и не солнечный, и не парусник. Конечно, задумывалась она именно как отражение идеи «солнечного парусника» – космического корабля, использующего явление «солнечного ветра» (давления света). Однако в Системе, во-первых, нет никакого солнца, а во-вторых, передвигается этот «парусник» в своем условном пространстве явно не с помощью парусов. В обоих фильмах парусники играют очень важную роль. Светомашина Усовершенствованная версия наземного транспорта в Системе, известная лишь в одном экземпляре и не имеющая – возможно, пока – официального русского названия. В оригинале ее называют «light runner» (что наводит на неочевидные, но и неотвязные ассоциации с «blade runner»). Шины на ней обладают способностью выпускать шипы по одному нажатию кнопки – от такого усовершенствования невозможно отказаться! Главный корабль Громадное воздухоплавательное судно – по некоторым данным, в длину оно достигало 4 тысяч футов, то есть, 1,2 км – являлось штабом MCP и его помощников, прежде всего, Сарка, в оригинальном фильме. О роли этого корабля велись ожесточенные споры – говорили, что это сервер Системы, или что это оружие MCP во внешнем мире (когда MCP проникал в компьютеры Пентагона и Кремля, он демонстрировал именно этот корабль). Антагонист в нынешней картине, CLU, тоже не отказался от подобной машины. Правда, он несколько мобильнее, и на его собственном корабле мы видим его всего пару раз.\n",
            "Ученые выяснили, по какой причине человек пугается от просмотра фильма ужасов. По мнению исследователей, воздействие ужастиков не в последнюю очередь связано с характеристиками криков, которые издают персонажи, пишет «Lenta.ru».  Фото: kinopoisk.ru Исследователи анализировали звуки сотни кинолент различных жанров. В фильмах ужасов на единицу времени приходится больше криков, чем в других картинах. Когда крики звучат неожиданно, зрителю труднее игнорировать их, именно поэтому они оказывают на него максимальное воздействие. Музыковед из университета Сиднея рассказал журналисту Science News, что создатели фильмов уже давно выяснили, что крики очень важны для возбуждения у зрителей сильных эмоций.\n",
            "Профессор психологии Флориан Хуцлер из зальцбургского Центра нейрокогнитивных исследований утверждает, что смог объяснить секрет улыбки Моны Лизы на знаменитом портрете Леонардо да Винчи, пишет Lenta.ru со ссылкой на The Daily Telegraph. По мнению Хуцлера, при взгляде на губы Моны Лизы их выражение кажется нейтральным. Однако когда зритель смотрит не напрямую на рот изображенной женщины, а, например, на ее глаза, начинает работать периферическое зрение, и те же самые мазки краски создают впечатление легкой улыбки. Таким образом, выражение лица Джоконды меняется в зависимости от того, на какую часть лица смотреть. Такой оптической иллюзии Леонардо смог достичь благодаря изобретенной им технике сфумато, при которой очертания фигур смягчаются. Об улыбке Моны Лизы написаны многочисленные исследования разной степени достоверности. Одним из последних разгадку тайны Джоконды предложил ученый из Палермо Вито Франко. По его мнению, выражение лица Джоконды говорит о плохом состоянии ее здоровья, в частности - о повышенном уровне холестерина.\n",
            "Американские исследователи выяснили, что обезьяны почти не воспринимают музыку. Единственной композицией, которая вызвала у них отклик, стала Of Wolf And Man группы Metallica. Об этом была написана статья в журнале Current Biology. Ученые изучали реакцию тамаринов Saguinus oedipus. Для этого они записывали на видео поведение 14 особей в течение пяти минут. Затем проигрывали обезьянам музыкальный фрагмент длительностью 30 секунд, после чего повторяли запись поведения. А затем анализировали изменение настроения обезьян. Тамаринам проигрывались фрагменты песен Grudge группы Tool, фрагмент композиции Fragile Nine Inch Nails и оркестровая вещь Adagio for Strings композитора Майкла Барбера. Музыка не оказала на животных никакого воздействия. Единственным исключением стала композиция группы Metallica. Это достаточно агрессивная композиция почему-то оказала на обезьян успокаивающее действие. Исследователи поясняют, что полученные данные помогут ученым прояснить эволюцию музыки в целом, пишет «Lenta.ru».\n",
            "Инсульт — это глобальная проблема и в мире, и в России. Он входит в тройку самых распространенных причин смертности (1). Логичен вопрос, сколько живут после инсульта. Мы расспросили врача-невролога о тонкостях реабилитации после инсульта, а также о том, как он влияет продолжительность жизни. Что такое инсульт головного мозга Инсульт — это острое нарушение мозгового кровообращения. Оно возникает, когда перекрываются сосуды, и один или несколько участков мозга перестают получать кислород (2) . Инсульт бывает двух типов. Ишемический инсульт Нарушается проходимость артерий, которые доставляют кровь к мозгу, происходит кислородное голодание и клетки мозга погибают. Это самый распространенный тип инсульта — на его долю приходится 80% случаев (3). Есть несколько видов ишемического инсульта: атеросклеротический. Возникает, когда крупную артерию перекрывает атеросклеротическая бляшка. Она образуется из «плохого» холестерина, который откладывается на стенках сосудов, снижает их эластичность и сужает просвет;  тромбоэмболический. Случается в результате попадания в мозг тромба из сердца, например, вследствие инфаркта миокарда; лакунарный. Возникает при перекрытии просвета маленькой артерии — как следствие, кровообращение нарушается в одном участке мозга. Геморрагический инсульт Развивается, когда рвется крупная артерия и кровь попадает в полость черепа. Геморрагический инсульт встречается реже ишемического — в 10-15% случаев, но более опасен для жизни (4). Такой инсульт бывает двух видов: паренхиматозный — кровь попадает в мягкие ткани мозга; субарахноидальное кровоизлияние — кровь попадает в пространство между «паутиной» мозга (пленка из соединительной ткани, в которую «завернут» головной и спинной мозг) и мягкими тканями. Еще инсульт может быть обширным — когда страдают несколько участков мозга, одно или оба полушария. Что влияет на продолжительность жизни после инсульта Увеличить продолжительность жизни человека после перенесенного удара поможет соблюдение следующих условий:  своевременная реабилитация — в идеале она начинается в сосудистом центре, когда инсульт купируют; здоровый образ жизни — при условии, что пациент может двигаться; специальная реабилитация для лежачих пациентов; прививка от пневмококка для лежачих пациентов; забота и тепло родных и близких. Возможные осложнения после инсульта Резкое нарушение кровоснабжения мозга имеет ряд тяжелых последствий.   1. Паралич. Полная неподвижность одной или нескольких мышц, над которыми теряет контроль нервная система.  2. Кома. Человек обездвижен, находится в бессознательном состоянии, не реагирует ни на какие внешние раздражители. Нарушается работа жизненно важных систем организма.  3. Отек головного мозга. Состояние, при котором в мозге накапливается жидкость, что приводит к повышенному внутричерепному давлению, плохому кровоснабжению, головным болям, тошноте и рвоте, светобоязни, нарушению сознания, речи.  4. Когнитивные нарушения. Больному сложно удерживать внимание, воспринимать речь на слух, ухудшается память.   5. Двигательные нарушения. Помимо паралича одной или нескольких мышц тела или лица, возможны проблемы с координацией, человеку становится сложно удерживать тело в вертикальном положении, ходить. 6. Нарушения слуха (тугоухость) или зрения. Часто снижается острота зрения, появляются зрительные галлюцинации, на отдельных участках зрительного поля изображение «выпадает».    7. Деменция. Чаще всего это относится к пожилым людям. У человека случаются провалы в памяти, он перестает ориентироваться даже в знакомых местах, возможна дезориентация во времени.  8. Осложнения, связанные с ограниченной подвижностью после инсульта: пролежни, пневмония, тромбоэмболия вен нижних конечностей. Как диагностируют осложнения Возможные осложнения после перенесенного инсульта могут показать КТ и МРТ головного мозга, а также анализы крови. Сколько может прожить человек после инсульта Однозначного ответа нет. Это во многом зависит от тяжести инсульта, сопутствующих заболеваний, возраста человека. По данным ученых из Американской академии неврологии, продолжительность жизни после инсульта составляет 5-10 лет (4); исследования ученых из Сан-Франциско показали, что после инсульта человек может прожить еще до 20 лет (5); австралийские ученые выяснили, что ожидаемая продолжительность жизни сокращается на треть после инсульта, а среди пациентов 85 лет и старше риск смерти в семь раз выше, чем среди пациентов младше 55 лет (6). Статистика продолжительности жизни после инсульта Как показывает статистика, смертность в результате геморрагического инсульта выше, чем от ишемического (7). Чем старше человек, тем выше риски. Ученые из США подсчитали, что у пациентов от 85 лет смертность в 13 раз больше, чем у возрастной категории 65-74 лет.  Среди людей, перенесших инсульт в возрасте 75-84 лет, летальный исход встречается в три раза чаще, чем среди пациентов 65-74 лет (8). Для мужчин риски выше.  — Продолжительность жизни человека после инсульта зависит от множества факторов, — комментирует статистику Валерия Морозик, врач-невролог «СМ-Клиника». — Есть несколько ключевых  — это как немодифицируемые факторы (тяжесть инсульта и характер нарушенных функций, возраст, мужской пол), так и факторы, степень влияния которых можно уменьшить: сопутствующие заболевания, их контроль, вредные привычки, реабилитационные мероприятия. Как меняется жизнь после инсульта Резкое нарушение мозгового кровообращения, как правило, серьезно меняет жизнь, внешний вид и моральное состояние человека. Вот перечень проблем, с которыми может столкнуться пациент и его близкие:  нарушение мимики; ухудшение речи; расстройство слуха и зрения; нарушение глотательного рефлекса; плохая координация; невозможность контролировать мочеиспускание и дефекацию; невозможность контролировать эмоции; депрессия, тревожные расстройства.  По словам врача-невролога Валерии Морозик, постинсультная депрессия приводит к снижению когнитивных функций, увеличивает риск повторного инсульта. Если пациент  находится в депрессии, у него снижаются мотивация выздоравливать, сон, аппетит. В таком случае эффективная реабилитация становится непосильной. — Коррекция аффективных нарушений после инсульта — одна из важнейших задач, — заключает Морозик.  У пожилых пациентов может развиваться деменция. Это осложняет реабилитацию: нужно устранять последствия инсульта и учиться жить с деменцией. Что можно и нельзя делать после инсульта Категорически нельзя: курить; пить алкоголь; принимать лекарства без назначения;  питаться неправильно и набирать вес.  В первый год после перенесенного мозгового удара врачи не рекомендуют баню: из-за высокой температуры повышается давление, возрастает нагрузка на сердце и на сосуды (из-за перепада температуры они могут повредиться). Разрешается: летать на самолете: через 4-6 месяцев реабилитации, если УЗИ головного мозга показало хорошие результаты; водить машину: через три месяца после инсульта при условии, что сохранились острота зрения и слух, скорость реакции, координация. Необходимо контролировать артериальное давление и действовать с поправкой на него; заниматься сексом: по согласованию с врачом. Обычно не раньше чем через полгода после инсульта и первого курса реабилитации; заниматься спортом: при стабильном ритме сердца и уровне сахара в крови. Сначала показана ЛФК под наблюдением реабилитолога. На следующем этапе нужно восстановить толерантность к физическим нагрузкам: сердце и мышцы утрачивают выносливость. Когда мышечный тонус восстановлен, рекомендуют танцы, скандинавскую ходьбу, йогу. Главное, в удовольствие. Рекомендации для пожилых людей После 55 лет важно сохранить мышечную массу (она убывает с возрастом), снизить последствия гиподинамии и быть в состоянии обслуживать себя. Поэтому важно не сдаваться, стремиться вернуться к нормальной жизни. Также нельзя запускать сопутствующие заболевания, пропускать прием лекарств и визиты к врачу. Рекомендации молодым людям Для этой категории пациентов важны все предыдущие пункты: не опускать руки, не пренебрегать лечением сопутствующих заболеваний. Делать все возможное, чтобы вернуться к нормальной жизни. Но выздоровление должно быть постепенным, поэтому форсировать не стоит.  Невролог Валерия Морозик подчеркивает:  — Важный фактор для всех возрастных групп — это эмоциональное благополучие. Чтобы избежать инсульта, помимо здорового образа жизни и отказа от вредных привычек, важно прицельно корректировать факторы риска: артериальную гипертензию, фибрилляцию предсердий, нарушение липидного обмена, сахарный диабет. Если инсульт случился, нужно доставить пациента в больницу в течение часа. Это обеспечивает возможность избежать катастрофических последствий и сохранить жизнь. Чтобы восстановиться после инсульта, нужны системная реабилитация и забота о пациенте. Реабилитация после инсульта Как быстро пациент сможет вернуться к нормальной жизни и сможет ли вообще, зависит от тяжести инсульта и эффективности реабилитации. Стандартная программа по восстановлению длится год и состоит из трех этапов.  Первый этап начинается, когда пациент попадает в больницу. В стационаре он находится, как правило, 21 день. Врачи стабилизируют артериальное давление и работу сердца, назначают антикоагулянты, кортикостероиды, противосудорожные и другие препараты. Цель реабилитации на этом этапе — помочь человеку находиться в вертикальном положении. Для это используют кинезитерапию и дыхательную гимнастику.  Второй этап длится 3-6 месяцев. Цель: максимальное из возможного восстановление движения в парализованных конечностях. Для этого используют ЛФК и/или разнообразные устройства с биологической обратной связью.  Третий этап длится 3-12 месяцев, это поздний восстановительные период. Здесь пациенту помогают вернуть бытовые навыки, способность обслуживать себя и включиться в социальную жизнь. Реабилитация складывается из нескольких направлений: медикаментозная — для восстановления пострадавших зон мозга, кровообращения, связи между нейронами; восстанавливающая двигательные функции: ЛФК начинают с простых упражнений и постепенно их усложняют. Так пациент учиться ходить, управлять работой мышц, суставов. Первое время предпочтительно заниматься с врачом-реабилитологом; психосоциальная: применяют практики когнитивно-поведенческой терапии или других видов психотерапии, при необходимости назначают антидепрессанты.   Советы врача: что делать после инсульта — Главное — это реабилитация у врача-невролога и других специалистов. Это поможет в том числе избежать повторного инсульта, — уверена врач-невролог Валерия Морозик. Вопросы и ответы Инсульт — это серьезное заболевание и испытание для пациента и его родных. Чтобы его преодолеть, нужно обладать всей необходимой информацией. На главные вопросы об инсульте ответила врач-невролог Валерия Морозик. Возможно ли полное восстановление после инсульта? — Это зависит от многих факторов: насколько был поражен мозг, как проходила реабилитация, какие еще есть болезни. Часто, если инсульт случается в функционально менее значимых зонах головного мозга, он проходит незамеченным, поскольку не дает выраженной симптоматики. В любом случае нужны долгая и системная реабилитация, профилактика повторного инсульта и лечение других болезней. Чем грозит повторный инсульт? — Более тяжелыми становятся нарушения, которые уже есть. Например, слабость в конечностях, невозможность глотать. Или появляются новые: нарушается речь, память, зрение. Из-за этого увеличивается риск осложнений, таких как пневмония, тромбозы вен нижних конечностей, обострение других заболеваний.  Каковы шансы, что инсульт повторится? — Статистические данные показывают, что у людей, перенесших один инсульт, риск повторного выше, — утверждает Валерия Морозик. — Исследования указывают на то, что примерно у 25% пациентов, перенесших инсульт, возникает повторный в течение пяти последующих лет (9). Риски снижаются при правильной диагностике причин первичного инсульта, профилактике, коррекции факторов риска (отказ от курения, нормализация артериального давления и уровня холестерина, снижение веса при ожирении). Отличается ли длительность жизни после инсульта у мужчин и женщин? По словам Валерии Морозик, продолжительность жизни у мужчин меньше — у них, как правило, больше вредных привычек и сопутствующих болезней. Тем не менее прогнозировать только на основании пола не совсем корректно. Чем обширный инсульт отличается от других видов? — Прежде всего — объемом поражения вещества головного мозга. Из-за этого изменения утраченных функций становятся необратимыми. Кроме того, он делает недоступной патогенетическую терапию, увеличивает риски развития таких осложнений, как отек или вклинение головного мозга, — резюмирует Валерия Морозик.   Источники:  1. Инсульты. Департамент здравоохранения Ханты-Мансийского автономного округа – Югры. URL: dzhmao.ru/info/profilaktika/insulty.php 2. About Stroke. Centers for Disease Control and Prevention, URL: www.cdc.gov/stroke/about 3. Tsao CW and others. Heart Disease and Stroke Statistics—2023 Update: A Report From the American Heart Association. Circulation. 2023;147:e93–e621. URL: pubmed.ncbi.nlm.nih.gov 4. Margaret C. Fang, MD and others. Long-term survival after ischemic stroke in patients with atrial fibrillation. 2014. URL: www.ncbi.nlm.nih.gov/pmc/articles/PMC3962998/ 5. Robert Shavelle and others. Long-Term Survival Prognosis After Stroke. Practical Neurology. URL: practicalneurology.com/articles/2020-feb/long-term-survival-prognosis-after-stroke 6. Yang Peng and others. Long-Term Survival, Stroke Recurrence, and Life Expectancy After an Acute Stroke in Australia and New Zealand From 2008–2017: A Population-Wide Cohort Study. Stroke. 2022.  URL: www.ahajournals.org/doi 7. Daniel Woo and others. Risk Factors Associated With Mortality and Neurologic Disability After Intracerebral Hemorrhage in a Racially and Ethnically Diverse Cohort. Jama Network 2022. URL:jamanetwork.com/journals/jamanetworkopen 8. QuickStats: Death Rates* from Stroke Among Persons Aged ≥65 Years, by Sex and Age Group. CDC. 2020.URL: www.cdc.gov/mmwr/volumes 9. Mia Kolmos and others. Recurrent Ischemic Stroke – A Systematic Review and Meta-Analysis. Journal of strokej. 2021. URL: www.strokejournal.org/article\n",
            "Знаете ли вы, что наше сердце больше отдыхает, чем работает? Что остановившееся сердце нельзя запустить с помощью разряда тока? И что «шрамы на сердце»— это не только метафора, но и реальность, с которой кардиологи встречаются практически каждый день?  Врач-кардиолог, функциональный диагност «СМ-Клиника», к.м.н. Ирина Поляева ответила Здоровью Mail.ru на пять наивных, но интересных вопросов о работе самого главного органа. 1. Может ли сердце болеть от переживаний?  Описывая свою эмоциональную боль во время переживаний или иных потрясений, люди используют метафору «болит сердце». С точки зрения физиологии сердце не способно испытывать боль в том же смысле, как мы ощущаем боль в других частях тела. Боль в области сердца, чувство жжения или сдавливания за грудиной возникают из-за недостатка кислорода, необходимого сердцу, т.е. когда сердце испытывает «кислородное голодание».  Это может случиться из-за развития ишемической болезни сердца (инфаркта миокарда, стенокардии) или из-за наличия анемии, например, железодефицитной. Продолжая тему метафор, стоит вспомнить о «шрамах на сердце». Используя данную метафору, люди чаще всего имеют в виду символические отметины в душе от пережитых эмоциональных травм. А с точки зрения сердечно-сосудистых заболеваний под «шрамами на сердце» имеются в виду рубцы сердечной мышцы, возникающие после перенесенного инфаркта миокарда, — чем больше зона инфаркта, тем больше рубцов будет на сердце. 2. Можно ли, как в кино, запустить сердце с помощью разряда электричества?  Уверена, что нет такого человека, который хотя бы раз не видел в кино, как разрядом электрического тока врач эффектно запускает сердце пациента. Данная процедура называется дефибрилляция, и она используется для восстановления нормального синусового ритма сердца. Необходимость в данной процедуре возникает при нарушениях сердечного ритма: пароксизме фибрилляции предсердий или мерцательной аритмии, желудочковых тахикардиях. Опасность таких нарушений заключается в том, что сердце бьется хаотично и с высоким пульсом, что приводит к недостаточному кровоснабжению организма и даже к остановке сердца. Суть дефибрилляции заключается в том, что сильным разрядом подавляется чрезмерная электрическая активность сердца, оно как бы «гасится». Таким образом, это важное медицинское вмешательство, которое спасает жизни людей с серьезными нарушениями сердечного ритма. А вот остановившееся сердце дефибрилляцией запустить невозможно. Мощный удар током эффективен только для восстановления нарушенного сердечного ритма. 12 продуктов, которые могут вас убить (а вы и не подозревали), — в нашей галерее: 3. Правда ли, что можно умереть от остановки сердца во время секса?  Первым этапом лечения пациентов с сердечно-сосудистыми заболеваниями является модификация их образа жизни, и одной из важных составляющих является физическая активность. Среди людей с сердечно-сосудистыми заболеваниями существуют пациенты повышенного риска. В группе высокого риска находятся люди с артериальной гипертонией, ишемической болезнью сердца, сердечной недостаточностью, аритмией, сахарным диабетом и другими заболеваниями, для которых чрезмерная физическая активность, включая сексуальную активность, может нанести вред. Во время секса сердце начинает биться чаще, что приводит к дополнительной нагрузке на сердечно-сосудистую систему.  Воздержаться от сексуальной активности следует, если заболевание находится в острой фазе, а симптомы не удается контролировать с помощью лекарств. В этом случае первым этапом реабилитации будет подбор адекватной лекарственной терапии. Тем не менее, повышение частоты сердечных сокращений и артериального давления во время полового акта у пациентов низкого сердечно-сосудистого риска эквивалентны ежедневной физической активности, а подобранная медикаментозная терапия позволяет предотвратить приступы стенокардии и вести нормальную половую жизнь. Важно помнить, что препараты для улучшения эрекции могут повысить риск остановки сердца у людей с сердечно-сосудистыми заболеваниями. Эти лекарства могут вызвать расширение сосудов, снижение артериального давления и увеличить нагрузку на сердце. Все это может оказаться опасным. Поэтому перед использованием таких препаратов необходимо проконсультироваться с врачом. 4. Неужели сердце работает 24/7? Сердце является невероятным органом, оно бьется круглосуточно, без остановок, чтобы обеспечивать кровообращение во всем организме. И даже во время сна сердце продолжает свою работу.  Сердце способно адаптироваться к различным условиям и нагрузкам: во время физической активности оно усиливает свою работу за счет повышения частоты пульса, обеспечивая мышцы кислородом, а затем, когда нагрузка снижается, снова переходит в режим покоя. Несмотря на то, что сердце способно работать на протяжении всей жизни человека, продолжительность систолы (фазы сокращения сердца) составляет примерно 0,3 секунды, а диастолы (фазы расслабления сердца) — дольше, около 0,5 секунды, т.е. фактически, «сердце отдыхает» гораздо дольше, чем работает. 5. С какой стороны на самом деле находится сердце?  Сердце фактически расположено посередине, однако принято говорить, что сердце находится слева. Это связано с тем, что большая часть сердца (левый желудочек), который отвечает за перекачивание крови по всему организму, расположен именно слева, поэтому, когда мы говорим о сердце, мы имеем в виду его левую часть. Кроме того, большинство людей имеют асимметрию внутренних органов, и сердце не является исключением, поэтому физически ощущается, что сердце находится слева, хотя фактически, сердце занимает центральное положение в грудной клетке, и его левые и правые отделы равнозначны по значимости для жизнедеятельности организма. Бывают случаи, когда сердце находится справа от обычного положения, это называется декстрокардия. Декстрокардия — внутриутробный порок развития, при котором большая часть сердца расположена с правой стороны грудной клетки. Данная аномалия встречаются крайне редко, всего лишь у 1 человека из 12 000–15 000. При сочетании декстрокардии с другими пороками сердца могут возникнуть симптомы сердечно-сосудистых заболеваний. Изолированная же форма данной патологии, как правило, протекает бессимптомно и выявляется случайно во время профилактического осмотра у врача.\n",
            "Депрессия — тема, которая вызывает много страха и недопонимания у людей. Чаще всего мы ассоциируем ее с печальным настроением, утратой интереса к жизни и плаксивостью. Однако, важно помнить, что симптомы депрессии могут проявляться не только эмоционально, но и физиологически.  Список неочевидных признаков депрессии, на которые стоит обратить внимание — в этом видео: Фото на обложке материала: Unsplash.com\n",
            "Посмотрите внимательно на картинки, они выглядят совершенно одинаковыми, но у них есть целых шесть отличий. Пять вы без труда найдете за полминуты, а чтобы найти шестое, вам потребуется гораздо больше времени. Если уложитесь в минуту, значит ваш умственные способности близки к гениальным. И не забудьте проверить себя, заглянув в самый конец текста, сразу после видео.  А пока ищете — можете почитать, что ученые знают о возможностях нашего мозга. Есть такой миф, что наш мозг якобы работает только на 10%. И тут же предлагаются различные упражнения, которые помогут развить сверхспособности и задействовать все части мозга на 100%. Но возможно ли это?  Ученые считают, что мы используем практически все возможности мозга. Например, нейробиолог Барри Гордон утверждает, что люди используют все части мозга, и при этом все эти части практически постоянно активны. Что, конечно, не отменяет необходимости наш мозг развивать, в том числе с помощью подобных головоломок.  Теперь видео, а после него — правильный ответ. А вот и ответ:  Хотите разгадать еще одну загадку? Найдите на картинке три слова, которые отличаются от остальных\n",
            "В нашем организме все взаимосвязано — причем иногда самым неожиданным образом. И от того, насколько сильное у вас рукопожатие или сколько времени вы можете простоять на одной ноге, зависит, как чувствует себя ваше сердце или ваш мозг. Итак, хотите быстро проверить, насколько молоды и активны ваши главные органы? Проверяем мозг: балансируем на одной ноге Один из ключевых показателей работы мозга — способность удерживать баланс. Чтобы проверить, как ваш мозг с ней справляется, встаньте прямо, закройте глаза и поднимите одну ногу. Готово? Теперь засеките, сколько времени вы сможете простоять в таком положении. Если вам от 20 до 30 лет, то хороший показатель — 28 секунд; Если вам от 30 до 40, то достаточно выстоять 23 секунды; Если вам 40 лет и больше, ваш необходимый минимум — 15 секунд. Уложились в нормативы или даже превысили их? Отлично! Скорее всего, ваш мозг здоров и активен. Показатели немного хуже? Не спешите расстраиваться: японское исследование подтвердило, что регулярно выполняя упражнения на баланс, можно развить не только мышцы рук и ног, но и улучшить работу мозга. Так что тренируйтесь, не пропуская ни одного дня — и вернетесь в норму. Проверяем память: рисуем часы Очень простой тест, который, тем не менее, стоит проходить регулярно, лучше всего — ежегодно. Он поможет обнаружить ранние признаки деменции, нарушения мозгового кровообращения, а также определить, нет ли нарушений в работе различных участков мозга. Вам понадобится карандаш и лист бумаги. Нарисуйте на листке циферблат часов, а затем попросите кого-то назвать время — в часах и минутах. После этого на своем рисунке изобразите стрелки так, чтобы они указывали названное время. При всей кажущейся простоте теста, увы, многие не справляются с ним — полностью или частично. Если вы заметили, что задание вызывает у вас некие затруднения, возможно, ваш мозг слишком устал и ему нужна помощь. Проверяем сердце: жмем руку Результаты международного исследования, опубликованные в авторитетном журнале The Lancet, подтвердили связь между крепостью рукопожатия и риском инфаркта и инсульта. Чем крепче ваша хватка, тем в лучшем состоянии сердечно-сосудистая система — и ниже риск опасных болезней. Причем, что приятно, регулярные упражнения по развитию соответствующих мышц помогают укрепить и сердечно-сосудистую систему. Так что пожмите руку кому-то из близких и, если вам покажется, что пожатие недостаточно сильное, ежедневно тренируйтесь, сжимая и разжимая резиновый мячик — и все будет в порядке.\n",
            "Исследования показывают: на то, как долго вы проживете, влияет множество факторов, многие из которых на первый взгляд могут показаться несущественными. Это ежедневные привычки, питание, обстоятельства жизни, гены, особенности характера, и так далее. В этом видео — о научно подкрепленных признаках того, что ваши шансы отметить столетний юбилей довольно высоки:\n",
            "Исследования показывают: если в течение жизни вы регулярно тренируете мозг, то тем самым вы поддерживаете его в хорошей форме и защищаете от возрастной деградации. О простых и приятных способах делать это рассказываем в видео:\n"
          ]
        }
      ],
      "source": [
        "indices_1 = np.where(cluster_labels == 3)[0]\n",
        "df_filtered = df[df.index.isin(indices_1)]\n",
        "# df_filtered\n",
        "# print(len(df_filtered))\n",
        "for i in range(len(df_filtered)):\n",
        "\n",
        "  print(df_filtered.iloc[i]['text_short'])\n",
        "  if i == 20:\n",
        "    break"
      ]
    },
    {
      "cell_type": "code",
      "execution_count": null,
      "metadata": {
        "colab": {
          "base_uri": "https://localhost:8080/",
          "height": 632
        },
        "id": "QxSvCF0YjGkr",
        "outputId": "8a21bdc7-ac66-4f33-a7d1-6cd5d4cb90ab"
      },
      "outputs": [
        {
          "output_type": "execute_result",
          "data": {
            "text/plain": [
              "                                                   title  \\\n",
              "0             Пятилетний мэр Дорсета проиграл перевыборы   \n",
              "1      Бывший советник Трампа усомнился в психическом...   \n",
              "2      Воробьев оценил разработки воспитанников детск...   \n",
              "3      Трамп пообещал американцам новое экономическое...   \n",
              "4      В \"ЮКОСе\" не поняли смысла действий судебных п...   \n",
              "...                                                  ...   \n",
              "99995  Джордж Клуни и Амаль Аламуддин повторно сыграл...   \n",
              "99996  Акции «Яндекса» взлетели на 17 процентов на фо...   \n",
              "99997       Полиция арестовала главу бразильского Google   \n",
              "99998  Депутаты в первом чтении разрешили закрывать С...   \n",
              "99999  Предприниматели Крыма подадут заявки в первую ...   \n",
              "\n",
              "                                                    text           topic  \\\n",
              "0      Пятилетний мэр американского городка Дорсет на...        Из жизни   \n",
              "1      Бывший советник Дональда Трампа Энтони Скараму...             NaN   \n",
              "2      Губернатор Московской области Андрей Воробьев ...          Россия   \n",
              "3      Президент США Дональд Трамп в своем выступлени...       Экономика   \n",
              "4      Ни \"ЮКОС\", ни его дочерние общества никоим обр...       Экономика   \n",
              "...                                                  ...             ...   \n",
              "99995  Джордж Клуни и Амаль Клуни (до замужества Алам...        Из жизни   \n",
              "99996  Акции «Яндекса» в ходе торгов на Московской би...          Бизнес   \n",
              "99997  Бразильские власти 26 сентября арестовали глав...  Интернет и СМИ   \n",
              "99998  Государственная дума России в пятницу, 25 апре...  Интернет и СМИ   \n",
              "99999  Предприниматели республики Крым смогут с декаб...             NaN   \n",
              "\n",
              "               tags        date  \\\n",
              "0              Люди  2014/08/05   \n",
              "1          Политика  2019/08/24   \n",
              "2           Регионы  2017/08/08   \n",
              "3      Госэкономика  2017/12/14   \n",
              "4               Все  2004/07/08   \n",
              "...             ...         ...   \n",
              "99995          Люди  2014/10/27   \n",
              "99996        Бизнес  2017/07/13   \n",
              "99997           Все  2012/09/27   \n",
              "99998           Все  2008/04/25   \n",
              "99999     Экономика  2019/10/24   \n",
              "\n",
              "                                                keywords  \n",
              "0             штата миннесота перевыборы севере проиграл  \n",
              "1                 советник энтони бывший трампа дональда  \n",
              "2      мединским воробьев андрей россии посетили вмес...  \n",
              "3                            президент дональд трамп сша  \n",
              "4      александр дочерние шадрин общества никоим образом  \n",
              "...                                                  ...  \n",
              "99995  в повторно hotel сыграли минувшие свадьбу dane...  \n",
              "99996                 бирже чем более выросли московской  \n",
              "99997  неисполнение главу местного арестовали судебно...  \n",
              "99998  дума закрывать чтении россии законопроект перв...  \n",
              "99999  крым первую предприниматели компанию лизингову...  \n",
              "\n",
              "[100000 rows x 6 columns]"
            ],
            "text/html": [
              "\n",
              "  <div id=\"df-9a3def68-95c8-4aa9-a64a-b3be0760a3e7\" class=\"colab-df-container\">\n",
              "    <div>\n",
              "<style scoped>\n",
              "    .dataframe tbody tr th:only-of-type {\n",
              "        vertical-align: middle;\n",
              "    }\n",
              "\n",
              "    .dataframe tbody tr th {\n",
              "        vertical-align: top;\n",
              "    }\n",
              "\n",
              "    .dataframe thead th {\n",
              "        text-align: right;\n",
              "    }\n",
              "</style>\n",
              "<table border=\"1\" class=\"dataframe\">\n",
              "  <thead>\n",
              "    <tr style=\"text-align: right;\">\n",
              "      <th></th>\n",
              "      <th>title</th>\n",
              "      <th>text</th>\n",
              "      <th>topic</th>\n",
              "      <th>tags</th>\n",
              "      <th>date</th>\n",
              "      <th>keywords</th>\n",
              "    </tr>\n",
              "  </thead>\n",
              "  <tbody>\n",
              "    <tr>\n",
              "      <th>0</th>\n",
              "      <td>Пятилетний мэр Дорсета проиграл перевыборы</td>\n",
              "      <td>Пятилетний мэр американского городка Дорсет на...</td>\n",
              "      <td>Из жизни</td>\n",
              "      <td>Люди</td>\n",
              "      <td>2014/08/05</td>\n",
              "      <td>штата миннесота перевыборы севере проиграл</td>\n",
              "    </tr>\n",
              "    <tr>\n",
              "      <th>1</th>\n",
              "      <td>Бывший советник Трампа усомнился в психическом...</td>\n",
              "      <td>Бывший советник Дональда Трампа Энтони Скараму...</td>\n",
              "      <td>NaN</td>\n",
              "      <td>Политика</td>\n",
              "      <td>2019/08/24</td>\n",
              "      <td>советник энтони бывший трампа дональда</td>\n",
              "    </tr>\n",
              "    <tr>\n",
              "      <th>2</th>\n",
              "      <td>Воробьев оценил разработки воспитанников детск...</td>\n",
              "      <td>Губернатор Московской области Андрей Воробьев ...</td>\n",
              "      <td>Россия</td>\n",
              "      <td>Регионы</td>\n",
              "      <td>2017/08/08</td>\n",
              "      <td>мединским воробьев андрей россии посетили вмес...</td>\n",
              "    </tr>\n",
              "    <tr>\n",
              "      <th>3</th>\n",
              "      <td>Трамп пообещал американцам новое экономическое...</td>\n",
              "      <td>Президент США Дональд Трамп в своем выступлени...</td>\n",
              "      <td>Экономика</td>\n",
              "      <td>Госэкономика</td>\n",
              "      <td>2017/12/14</td>\n",
              "      <td>президент дональд трамп сша</td>\n",
              "    </tr>\n",
              "    <tr>\n",
              "      <th>4</th>\n",
              "      <td>В \"ЮКОСе\" не поняли смысла действий судебных п...</td>\n",
              "      <td>Ни \"ЮКОС\", ни его дочерние общества никоим обр...</td>\n",
              "      <td>Экономика</td>\n",
              "      <td>Все</td>\n",
              "      <td>2004/07/08</td>\n",
              "      <td>александр дочерние шадрин общества никоим образом</td>\n",
              "    </tr>\n",
              "    <tr>\n",
              "      <th>...</th>\n",
              "      <td>...</td>\n",
              "      <td>...</td>\n",
              "      <td>...</td>\n",
              "      <td>...</td>\n",
              "      <td>...</td>\n",
              "      <td>...</td>\n",
              "    </tr>\n",
              "    <tr>\n",
              "      <th>99995</th>\n",
              "      <td>Джордж Клуни и Амаль Аламуддин повторно сыграл...</td>\n",
              "      <td>Джордж Клуни и Амаль Клуни (до замужества Алам...</td>\n",
              "      <td>Из жизни</td>\n",
              "      <td>Люди</td>\n",
              "      <td>2014/10/27</td>\n",
              "      <td>в повторно hotel сыграли минувшие свадьбу dane...</td>\n",
              "    </tr>\n",
              "    <tr>\n",
              "      <th>99996</th>\n",
              "      <td>Акции «Яндекса» взлетели на 17 процентов на фо...</td>\n",
              "      <td>Акции «Яндекса» в ходе торгов на Московской би...</td>\n",
              "      <td>Бизнес</td>\n",
              "      <td>Бизнес</td>\n",
              "      <td>2017/07/13</td>\n",
              "      <td>бирже чем более выросли московской</td>\n",
              "    </tr>\n",
              "    <tr>\n",
              "      <th>99997</th>\n",
              "      <td>Полиция арестовала главу бразильского Google</td>\n",
              "      <td>Бразильские власти 26 сентября арестовали глав...</td>\n",
              "      <td>Интернет и СМИ</td>\n",
              "      <td>Все</td>\n",
              "      <td>2012/09/27</td>\n",
              "      <td>неисполнение главу местного арестовали судебно...</td>\n",
              "    </tr>\n",
              "    <tr>\n",
              "      <th>99998</th>\n",
              "      <td>Депутаты в первом чтении разрешили закрывать С...</td>\n",
              "      <td>Государственная дума России в пятницу, 25 апре...</td>\n",
              "      <td>Интернет и СМИ</td>\n",
              "      <td>Все</td>\n",
              "      <td>2008/04/25</td>\n",
              "      <td>дума закрывать чтении россии законопроект перв...</td>\n",
              "    </tr>\n",
              "    <tr>\n",
              "      <th>99999</th>\n",
              "      <td>Предприниматели Крыма подадут заявки в первую ...</td>\n",
              "      <td>Предприниматели республики Крым смогут с декаб...</td>\n",
              "      <td>NaN</td>\n",
              "      <td>Экономика</td>\n",
              "      <td>2019/10/24</td>\n",
              "      <td>крым первую предприниматели компанию лизингову...</td>\n",
              "    </tr>\n",
              "  </tbody>\n",
              "</table>\n",
              "<p>100000 rows × 6 columns</p>\n",
              "</div>\n",
              "    <div class=\"colab-df-buttons\">\n",
              "\n",
              "  <div class=\"colab-df-container\">\n",
              "    <button class=\"colab-df-convert\" onclick=\"convertToInteractive('df-9a3def68-95c8-4aa9-a64a-b3be0760a3e7')\"\n",
              "            title=\"Convert this dataframe to an interactive table.\"\n",
              "            style=\"display:none;\">\n",
              "\n",
              "  <svg xmlns=\"http://www.w3.org/2000/svg\" height=\"24px\" viewBox=\"0 -960 960 960\">\n",
              "    <path d=\"M120-120v-720h720v720H120Zm60-500h600v-160H180v160Zm220 220h160v-160H400v160Zm0 220h160v-160H400v160ZM180-400h160v-160H180v160Zm440 0h160v-160H620v160ZM180-180h160v-160H180v160Zm440 0h160v-160H620v160Z\"/>\n",
              "  </svg>\n",
              "    </button>\n",
              "\n",
              "  <style>\n",
              "    .colab-df-container {\n",
              "      display:flex;\n",
              "      gap: 12px;\n",
              "    }\n",
              "\n",
              "    .colab-df-convert {\n",
              "      background-color: #E8F0FE;\n",
              "      border: none;\n",
              "      border-radius: 50%;\n",
              "      cursor: pointer;\n",
              "      display: none;\n",
              "      fill: #1967D2;\n",
              "      height: 32px;\n",
              "      padding: 0 0 0 0;\n",
              "      width: 32px;\n",
              "    }\n",
              "\n",
              "    .colab-df-convert:hover {\n",
              "      background-color: #E2EBFA;\n",
              "      box-shadow: 0px 1px 2px rgba(60, 64, 67, 0.3), 0px 1px 3px 1px rgba(60, 64, 67, 0.15);\n",
              "      fill: #174EA6;\n",
              "    }\n",
              "\n",
              "    .colab-df-buttons div {\n",
              "      margin-bottom: 4px;\n",
              "    }\n",
              "\n",
              "    [theme=dark] .colab-df-convert {\n",
              "      background-color: #3B4455;\n",
              "      fill: #D2E3FC;\n",
              "    }\n",
              "\n",
              "    [theme=dark] .colab-df-convert:hover {\n",
              "      background-color: #434B5C;\n",
              "      box-shadow: 0px 1px 3px 1px rgba(0, 0, 0, 0.15);\n",
              "      filter: drop-shadow(0px 1px 2px rgba(0, 0, 0, 0.3));\n",
              "      fill: #FFFFFF;\n",
              "    }\n",
              "  </style>\n",
              "\n",
              "    <script>\n",
              "      const buttonEl =\n",
              "        document.querySelector('#df-9a3def68-95c8-4aa9-a64a-b3be0760a3e7 button.colab-df-convert');\n",
              "      buttonEl.style.display =\n",
              "        google.colab.kernel.accessAllowed ? 'block' : 'none';\n",
              "\n",
              "      async function convertToInteractive(key) {\n",
              "        const element = document.querySelector('#df-9a3def68-95c8-4aa9-a64a-b3be0760a3e7');\n",
              "        const dataTable =\n",
              "          await google.colab.kernel.invokeFunction('convertToInteractive',\n",
              "                                                    [key], {});\n",
              "        if (!dataTable) return;\n",
              "\n",
              "        const docLinkHtml = 'Like what you see? Visit the ' +\n",
              "          '<a target=\"_blank\" href=https://colab.research.google.com/notebooks/data_table.ipynb>data table notebook</a>'\n",
              "          + ' to learn more about interactive tables.';\n",
              "        element.innerHTML = '';\n",
              "        dataTable['output_type'] = 'display_data';\n",
              "        await google.colab.output.renderOutput(dataTable, element);\n",
              "        const docLink = document.createElement('div');\n",
              "        docLink.innerHTML = docLinkHtml;\n",
              "        element.appendChild(docLink);\n",
              "      }\n",
              "    </script>\n",
              "  </div>\n",
              "\n",
              "\n",
              "<div id=\"df-8044893f-1393-4576-9e08-b54937b1ccc4\">\n",
              "  <button class=\"colab-df-quickchart\" onclick=\"quickchart('df-8044893f-1393-4576-9e08-b54937b1ccc4')\"\n",
              "            title=\"Suggest charts\"\n",
              "            style=\"display:none;\">\n",
              "\n",
              "<svg xmlns=\"http://www.w3.org/2000/svg\" height=\"24px\"viewBox=\"0 0 24 24\"\n",
              "     width=\"24px\">\n",
              "    <g>\n",
              "        <path d=\"M19 3H5c-1.1 0-2 .9-2 2v14c0 1.1.9 2 2 2h14c1.1 0 2-.9 2-2V5c0-1.1-.9-2-2-2zM9 17H7v-7h2v7zm4 0h-2V7h2v10zm4 0h-2v-4h2v4z\"/>\n",
              "    </g>\n",
              "</svg>\n",
              "  </button>\n",
              "\n",
              "<style>\n",
              "  .colab-df-quickchart {\n",
              "      --bg-color: #E8F0FE;\n",
              "      --fill-color: #1967D2;\n",
              "      --hover-bg-color: #E2EBFA;\n",
              "      --hover-fill-color: #174EA6;\n",
              "      --disabled-fill-color: #AAA;\n",
              "      --disabled-bg-color: #DDD;\n",
              "  }\n",
              "\n",
              "  [theme=dark] .colab-df-quickchart {\n",
              "      --bg-color: #3B4455;\n",
              "      --fill-color: #D2E3FC;\n",
              "      --hover-bg-color: #434B5C;\n",
              "      --hover-fill-color: #FFFFFF;\n",
              "      --disabled-bg-color: #3B4455;\n",
              "      --disabled-fill-color: #666;\n",
              "  }\n",
              "\n",
              "  .colab-df-quickchart {\n",
              "    background-color: var(--bg-color);\n",
              "    border: none;\n",
              "    border-radius: 50%;\n",
              "    cursor: pointer;\n",
              "    display: none;\n",
              "    fill: var(--fill-color);\n",
              "    height: 32px;\n",
              "    padding: 0;\n",
              "    width: 32px;\n",
              "  }\n",
              "\n",
              "  .colab-df-quickchart:hover {\n",
              "    background-color: var(--hover-bg-color);\n",
              "    box-shadow: 0 1px 2px rgba(60, 64, 67, 0.3), 0 1px 3px 1px rgba(60, 64, 67, 0.15);\n",
              "    fill: var(--button-hover-fill-color);\n",
              "  }\n",
              "\n",
              "  .colab-df-quickchart-complete:disabled,\n",
              "  .colab-df-quickchart-complete:disabled:hover {\n",
              "    background-color: var(--disabled-bg-color);\n",
              "    fill: var(--disabled-fill-color);\n",
              "    box-shadow: none;\n",
              "  }\n",
              "\n",
              "  .colab-df-spinner {\n",
              "    border: 2px solid var(--fill-color);\n",
              "    border-color: transparent;\n",
              "    border-bottom-color: var(--fill-color);\n",
              "    animation:\n",
              "      spin 1s steps(1) infinite;\n",
              "  }\n",
              "\n",
              "  @keyframes spin {\n",
              "    0% {\n",
              "      border-color: transparent;\n",
              "      border-bottom-color: var(--fill-color);\n",
              "      border-left-color: var(--fill-color);\n",
              "    }\n",
              "    20% {\n",
              "      border-color: transparent;\n",
              "      border-left-color: var(--fill-color);\n",
              "      border-top-color: var(--fill-color);\n",
              "    }\n",
              "    30% {\n",
              "      border-color: transparent;\n",
              "      border-left-color: var(--fill-color);\n",
              "      border-top-color: var(--fill-color);\n",
              "      border-right-color: var(--fill-color);\n",
              "    }\n",
              "    40% {\n",
              "      border-color: transparent;\n",
              "      border-right-color: var(--fill-color);\n",
              "      border-top-color: var(--fill-color);\n",
              "    }\n",
              "    60% {\n",
              "      border-color: transparent;\n",
              "      border-right-color: var(--fill-color);\n",
              "    }\n",
              "    80% {\n",
              "      border-color: transparent;\n",
              "      border-right-color: var(--fill-color);\n",
              "      border-bottom-color: var(--fill-color);\n",
              "    }\n",
              "    90% {\n",
              "      border-color: transparent;\n",
              "      border-bottom-color: var(--fill-color);\n",
              "    }\n",
              "  }\n",
              "</style>\n",
              "\n",
              "  <script>\n",
              "    async function quickchart(key) {\n",
              "      const quickchartButtonEl =\n",
              "        document.querySelector('#' + key + ' button');\n",
              "      quickchartButtonEl.disabled = true;  // To prevent multiple clicks.\n",
              "      quickchartButtonEl.classList.add('colab-df-spinner');\n",
              "      try {\n",
              "        const charts = await google.colab.kernel.invokeFunction(\n",
              "            'suggestCharts', [key], {});\n",
              "      } catch (error) {\n",
              "        console.error('Error during call to suggestCharts:', error);\n",
              "      }\n",
              "      quickchartButtonEl.classList.remove('colab-df-spinner');\n",
              "      quickchartButtonEl.classList.add('colab-df-quickchart-complete');\n",
              "    }\n",
              "    (() => {\n",
              "      let quickchartButtonEl =\n",
              "        document.querySelector('#df-8044893f-1393-4576-9e08-b54937b1ccc4 button');\n",
              "      quickchartButtonEl.style.display =\n",
              "        google.colab.kernel.accessAllowed ? 'block' : 'none';\n",
              "    })();\n",
              "  </script>\n",
              "</div>\n",
              "    </div>\n",
              "  </div>\n"
            ],
            "application/vnd.google.colaboratory.intrinsic+json": {
              "type": "dataframe",
              "variable_name": "lenta",
              "summary": "{\n  \"name\": \"lenta\",\n  \"rows\": 100000,\n  \"fields\": [\n    {\n      \"column\": \"title\",\n      \"properties\": {\n        \"dtype\": \"string\",\n        \"num_unique_values\": 99927,\n        \"samples\": [\n          \"\\u0412 \\u0441\\u0435\\u043b\\u0435 \\u043f\\u043e\\u0434 \\u041a\\u0438\\u0435\\u0432\\u043e\\u043c \\u043e\\u0442\\u043b\\u043e\\u0432\\u0438\\u043b\\u0438 \\u0441\\u044a\\u0435\\u0432\\u0448\\u0435\\u0433\\u043e \\u0443\\u0440\\u043e\\u0436\\u0430\\u0439 \\u043a\\u0430\\u0431\\u0430\\u0447\\u043a\\u043e\\u0432 \\u00ab\\u0434\\u0438\\u043d\\u043e\\u0437\\u0430\\u0432\\u0440\\u0430\\u00bb\",\n          \"\\u0411\\u0435\\u0440\\u0435\\u0437\\u043e\\u0432\\u0441\\u043a\\u0438\\u0439 \\u043e\\u0431\\u0432\\u0438\\u043d\\u0438\\u043b \\\"\\u041a\\u043e\\u043c\\u0441\\u043e\\u043c\\u043e\\u043b\\u044c\\u0441\\u043a\\u0443\\u044e \\u043f\\u0440\\u0430\\u0432\\u0434\\u0443\\\" \\u0432\\u00a0\\u043f\\u0440\\u043e\\u0432\\u043e\\u043a\\u0430\\u0446\\u0438\\u0438\",\n          \"\\u0418\\u0433\\u043e\\u0440\\u044e \\u0418\\u0437\\u043c\\u0435\\u0441\\u0442\\u044c\\u0435\\u0432\\u0443 \\u0440\\u0430\\u0437\\u0440\\u0435\\u0448\\u0438\\u043b\\u0438 \\u0441\\u0430\\u043c\\u043e\\u043c\\u0443 \\u0441\\u043d\\u0435\\u0441\\u0442\\u0438 \\u0441\\u0432\\u043e\\u0439 \\u043e\\u0441\\u043e\\u0431\\u043d\\u044f\\u043a\"\n        ],\n        \"semantic_type\": \"\",\n        \"description\": \"\"\n      }\n    },\n    {\n      \"column\": \"text\",\n      \"properties\": {\n        \"dtype\": \"string\",\n        \"num_unique_values\": 99920,\n        \"samples\": [\n          \"\\u041a\\u0430\\u043f\\u0438\\u0442\\u0430\\u043d \\u043a\\u0430\\u0437\\u0430\\u043d\\u0441\\u043a\\u043e\\u0433\\u043e \\u0445\\u043e\\u043a\\u043a\\u0435\\u0439\\u043d\\u043e\\u0433\\u043e \\u043a\\u043b\\u0443\\u0431\\u0430 \\\"\\u0410\\u043a \\u0411\\u0430\\u0440\\u0441\\\" \\u0410\\u043b\\u0435\\u043a\\u0441\\u0435\\u0439 \\u041c\\u043e\\u0440\\u043e\\u0437\\u043e\\u0432 \\u043f\\u0440\\u043e\\u043f\\u0443\\u0441\\u0442\\u0438\\u0442 \\u0441\\u0435\\u0440\\u0438\\u044e 1/4 \\u0444\\u0438\\u043d\\u0430\\u043b\\u0430 \\u041a\\u0443\\u0431\\u043a\\u0430 \\u0413\\u0430\\u0433\\u0430\\u0440\\u0438\\u043d\\u0430 \\u0441 \\u0447\\u0435\\u043b\\u044f\\u0431\\u0438\\u043d\\u0441\\u043a\\u0438\\u043c \\\"\\u0422\\u0440\\u0430\\u043a\\u0442\\u043e\\u0440\\u043e\\u043c\\\". \\u0421\\u0432\\u043e\\u0435 \\u0441\\u0430\\u043c\\u043e\\u0447\\u0443\\u0432\\u0441\\u0442\\u0432\\u0438\\u0435 \\u041c\\u043e\\u0440\\u043e\\u0437\\u043e\\u0432, \\u043f\\u043e\\u043b\\u0443\\u0447\\u0438\\u0432\\u0448\\u0438\\u0439 \\u0442\\u0440\\u0430\\u0432\\u043c\\u0443 \\u0432 \\u043f\\u044f\\u0442\\u043e\\u043c \\u043c\\u0430\\u0442\\u0447\\u0435 \\u0441\\u0435\\u0440\\u0438\\u0438 1/8 \\u0444\\u0438\\u043d\\u0430\\u043b\\u0430 \\u0441 \\\"\\u0421\\u0430\\u043b\\u0430\\u0432\\u0430\\u0442\\u043e\\u043c \\u042e\\u043b\\u0430\\u0435\\u0432\\u044b\\u043c\\\", \\u0432 \\u0438\\u043d\\u0442\\u0435\\u0440\\u0432\\u044c\\u044e \\u0438\\u0437\\u0434\\u0430\\u043d\\u0438\\u044e \\\"\\u0421\\u043f\\u043e\\u0440\\u0442-\\u042d\\u043a\\u0441\\u043f\\u0440\\u0435\\u0441\\u0441\\\" \\u043e\\u0445\\u0430\\u0440\\u0430\\u043a\\u0442\\u0435\\u0440\\u0438\\u0437\\u043e\\u0432\\u0430\\u043b \\u043a\\u0430\\u043a \\\"\\u043d\\u0435 \\u043e\\u0447\\u0435\\u043d\\u044c \\u0445\\u043e\\u0440\\u043e\\u0448\\u0435\\u0435\\\". \\u041d\\u0430\\u043f\\u0430\\u0434\\u0430\\u044e\\u0449\\u0438\\u0439 \\u0437\\u0430\\u044f\\u0432\\u0438\\u043b, \\u0447\\u0442\\u043e \\u043e\\u043d \\u0442\\u043e\\u0447\\u043d\\u043e \\u043d\\u0435 \\u0441\\u044b\\u0433\\u0440\\u0430\\u0435\\u0442 \\u0432 \\u043f\\u0435\\u0440\\u0432\\u044b\\u0445 \\u0434\\u0432\\u0443\\u0445 \\u043c\\u0430\\u0442\\u0447\\u0430\\u0445 \\u0441 \\\"\\u0422\\u0440\\u0430\\u043a\\u0442\\u043e\\u0440\\u043e\\u043c\\\" \\u0438, \\u0441\\u043a\\u043e\\u0440\\u0435\\u0435 \\u0432\\u0441\\u0435\\u0433\\u043e, \\u043d\\u0435 \\u0441\\u043c\\u043e\\u0436\\u0435\\u0442 \\u0432\\u044b\\u0439\\u0442\\u0438 \\u043d\\u0430 \\u043b\\u0435\\u0434 \\u0438 \\u0432 \\u043e\\u0441\\u0442\\u0430\\u043b\\u044c\\u043d\\u044b\\u0445 \\u0432\\u0441\\u0442\\u0440\\u0435\\u0447\\u0430\\u0445. \\u041c\\u043e\\u0440\\u043e\\u0437\\u043e\\u0432 \\u0441\\u043a\\u0430\\u0437\\u0430\\u043b, \\u0447\\u0442\\u043e \\u043e\\u043d \\u0432\\u0441\\u0435 \\u0440\\u0430\\u0432\\u043d\\u043e \\u043e\\u0442\\u043f\\u0440\\u0430\\u0432\\u0438\\u0442\\u0441\\u044f \\u0432 \\u0427\\u0435\\u043b\\u044f\\u0431\\u0438\\u043d\\u0441\\u043a \\u0438 \\u0431\\u0443\\u0434\\u0435\\u0442 \\u0432\\u043c\\u0435\\u0441\\u0442\\u0435 \\u0441 \\u043a\\u043e\\u043c\\u0430\\u043d\\u0434\\u043e\\u0439 \\u0432 \\u0440\\u0430\\u0437\\u0434\\u0435\\u0432\\u0430\\u043b\\u043a\\u0435 \\u0438 \\u043d\\u0430 \\u0441\\u043a\\u0430\\u043c\\u0435\\u0439\\u043a\\u0435 \\u0437\\u0430\\u043f\\u0430\\u0441\\u043d\\u044b\\u0445. \\u0418\\u0437-\\u0437\\u0430 \\u0442\\u0440\\u0430\\u0432\\u043c\\u044b \\u041c\\u043e\\u0440\\u043e\\u0437\\u043e\\u0432 \\u043d\\u0435 \\u043f\\u0440\\u0438\\u043d\\u044f\\u043b \\u0443\\u0447\\u0430\\u0441\\u0442\\u0438\\u044f \\u0432 \\u043f\\u043e\\u0441\\u043b\\u0435\\u0434\\u043d\\u0435\\u043c \\u043c\\u0430\\u0442\\u0447\\u0435 \\u0441\\u0435\\u0440\\u0438\\u0438 1/8 \\u0444\\u0438\\u043d\\u0430\\u043b\\u0430 \\u0441 \\\"\\u0421\\u0430\\u043b\\u0430\\u0432\\u0430\\u0442\\u043e\\u043c\\\", \\u043a\\u043e\\u0442\\u043e\\u0440\\u044b\\u0439 \\\"\\u0410\\u043a \\u0411\\u0430\\u0440\\u0441\\\" \\u0432\\u044b\\u0438\\u0433\\u0440\\u0430\\u043b \\u0441\\u043e \\u0441\\u0447\\u0435\\u0442\\u043e\\u043c 2:1. \\u0412 \\u0441\\u0435\\u0440\\u0438\\u0438 \\u043a\\u0430\\u0437\\u0430\\u043d\\u0441\\u043a\\u0438\\u0439 \\u043a\\u043b\\u0443\\u0431 \\u0432\\u044b\\u0438\\u0433\\u0440\\u0430\\u043b \\u0441\\u043e \\u0441\\u0447\\u0435\\u0442\\u043e\\u043c 4:2 \\u0438 \\u0442\\u0435\\u043f\\u0435\\u0440\\u044c \\u0432\\u0441\\u0442\\u0440\\u0435\\u0442\\u0438\\u0442\\u0441\\u044f \\u0441 \\\"\\u0422\\u0440\\u0430\\u043a\\u0442\\u043e\\u0440\\u043e\\u043c\\\", \\u043a\\u043e\\u0442\\u043e\\u0440\\u044b\\u0439 \\u043f\\u043e\\u0431\\u0435\\u0434\\u0438\\u043b \\u0432 \\u0440\\u0435\\u0433\\u0443\\u043b\\u044f\\u0440\\u043d\\u043e\\u043c \\u0447\\u0435\\u043c\\u043f\\u0438\\u043e\\u043d\\u0430\\u0442\\u0435 \\u041a\\u0425\\u041b. \\u041f\\u0435\\u0440\\u0432\\u044b\\u0439 \\u043c\\u0430\\u0442\\u0447 \\u0441\\u0435\\u0440\\u0438\\u0438 1/4 \\u0444\\u0438\\u043d\\u0430\\u043b\\u0430 \\\"\\u0422\\u0440\\u0430\\u043a\\u0442\\u043e\\u0440\\\" - \\\"\\u0410\\u043a \\u0411\\u0430\\u0440\\u0441\\\" \\u0441\\u043e\\u0441\\u0442\\u043e\\u0438\\u0442\\u0441\\u044f 14 \\u043c\\u0430\\u0440\\u0442\\u0430 \\u0432 \\u0427\\u0435\\u043b\\u044f\\u0431\\u0438\\u043d\\u0441\\u043a\\u0435. \\u041c\\u043e\\u0440\\u043e\\u0437\\u043e\\u0432 \\u0432 \\u043f\\u044f\\u0442\\u0438 \\u043c\\u0430\\u0442\\u0447\\u0430\\u0445 \\u041a\\u0443\\u0431\\u043a\\u0430 \\u0413\\u0430\\u0433\\u0430\\u0440\\u0438\\u043d\\u0430 \\u0437\\u0430\\u0431\\u0440\\u043e\\u0441\\u0438\\u043b \\u0447\\u0435\\u0442\\u044b\\u0440\\u0435 \\u0448\\u0430\\u0439\\u0431\\u044b \\u0438 \\u043e\\u0442\\u0434\\u0430\\u043b \\u0434\\u0432\\u0435 \\u0440\\u0435\\u0437\\u0443\\u043b\\u044c\\u0442\\u0430\\u0442\\u0438\\u0432\\u043d\\u044b\\u0435 \\u043f\\u0435\\u0440\\u0435\\u0434\\u0430\\u0447\\u0438. \\u0424\\u043e\\u0440\\u0432\\u0430\\u0440\\u0434 \\u044f\\u0432\\u043b\\u044f\\u0435\\u0442\\u0441\\u044f \\u043b\\u0443\\u0447\\u0448\\u0438\\u043c \\u0431\\u043e\\u043c\\u0431\\u0430\\u0440\\u0434\\u0438\\u0440\\u043e\\u043c \\\"\\u0410\\u043a \\u0411\\u0430\\u0440\\u0441\\u0430\\\" \\u0432 \\u043f\\u043b\\u0435\\u0439-\\u043e\\u0444\\u0444 \\u041a\\u0425\\u041b.\",\n          \"\\u0412 \\u0411\\u043b\\u0430\\u0433\\u043e\\u0432\\u0435\\u0449\\u0435\\u043d\\u0441\\u043a\\u0435 \\u043a \\u043f\\u044f\\u0442\\u0438 \\u0433\\u043e\\u0434\\u0430\\u043c \\u043b\\u0438\\u0448\\u0435\\u043d\\u0438\\u044f \\u0441\\u0432\\u043e\\u0431\\u043e\\u0434\\u044b \\u043f\\u0440\\u0438\\u0433\\u043e\\u0432\\u043e\\u0440\\u0435\\u043d \\u0431\\u044b\\u0432\\u0448\\u0438\\u0439 \\u0432\\u0438\\u0446\\u0435-\\u043c\\u044d\\u0440 \\u041e\\u043b\\u0435\\u0433 \\u0413\\u0430\\u0431\\u0430. \\u0421\\u0443\\u0434 \\u043f\\u0440\\u0438\\u0437\\u043d\\u0430\\u043b \\u0435\\u0433\\u043e \\u0432\\u0438\\u043d\\u043e\\u0432\\u043d\\u044b\\u043c \\u0432 \\u0437\\u043b\\u043e\\u0443\\u043f\\u043e\\u0442\\u0440\\u0435\\u0431\\u043b\\u0435\\u043d\\u0438\\u0438 \\u043f\\u043e\\u043b\\u043d\\u043e\\u043c\\u043e\\u0447\\u0438\\u044f\\u043c\\u0438 \\u0441 \\u043f\\u0440\\u0438\\u0447\\u0438\\u043d\\u0435\\u043d\\u0438\\u0435\\u043c \\u0442\\u044f\\u0436\\u043a\\u0438\\u0445 \\u043f\\u043e\\u0441\\u043b\\u0435\\u0434\\u0441\\u0442\\u0432\\u0438\\u0439 \\u0438 \\u043d\\u0430\\u043d\\u0435\\u0441\\u0435\\u043d\\u0438\\u0438 \\u0443\\u0449\\u0435\\u0440\\u0431\\u0430 \\u0433\\u043e\\u0440\\u043e\\u0434\\u0441\\u043a\\u043e\\u043c\\u0443 \\u0431\\u044e\\u0434\\u0436\\u0435\\u0442\\u0443 \\u043d\\u0430 \\u0441\\u0443\\u043c\\u043c\\u0443 5,5 \\u043c\\u0438\\u043b\\u043b\\u0438\\u043e\\u043d\\u0430 \\u0440\\u0443\\u0431\\u043b\\u0435\\u0439, \\u0441\\u043e\\u043e\\u0431\\u0449\\u0430\\u0435\\u0442 \\u0443\\u043f\\u0440\\u0430\\u0432\\u043b\\u0435\\u043d\\u0438\\u0435 \\u0421\\u041a \\u043f\\u043e \\u0410\\u043c\\u0443\\u0440\\u0441\\u043a\\u043e\\u0439 \\u043e\\u0431\\u043b\\u0430\\u0441\\u0442\\u0438. \\u041f\\u043e \\u0432\\u0435\\u0440\\u0441\\u0438\\u0438 \\u0441\\u043b\\u0435\\u0434\\u0441\\u0442\\u0432\\u0438\\u044f, \\u0432 \\u0434\\u0435\\u043a\\u0430\\u0431\\u0440\\u0435 2008 \\u0433\\u043e\\u0434\\u0430 \\u0413\\u0430\\u0431\\u0430 \\u0440\\u0430\\u0441\\u043f\\u043e\\u0440\\u044f\\u0434\\u0438\\u043b\\u0441\\u044f \\u043e\\u043f\\u043b\\u0430\\u0442\\u0438\\u0442\\u044c \\u041e\\u041e\\u041e \\\"\\u0411\\u043b\\u0430\\u0433\\u0434\\u043e\\u0440\\u0441\\u0442\\u0440\\u043e\\u0439\\\" \\u044f\\u043a\\u043e\\u0431\\u044b \\u0432\\u044b\\u043f\\u043e\\u043b\\u043d\\u0435\\u043d\\u043d\\u044b\\u0435 \\u0440\\u0430\\u0431\\u043e\\u0442\\u044b \\u043f\\u043e \\u0443\\u043a\\u043b\\u0430\\u0434\\u043a\\u0435 \\u0441\\u0438\\u043d\\u0442\\u0435\\u0442\\u0438\\u0447\\u0435\\u0441\\u043a\\u043e\\u0433\\u043e \\u043f\\u043e\\u043a\\u0440\\u044b\\u0442\\u0438\\u044f \\u043d\\u0430 \\u043c\\u0443\\u043d\\u0438\\u0446\\u0438\\u043f\\u0430\\u043b\\u044c\\u043d\\u043e\\u043c \\u0441\\u0442\\u0430\\u0434\\u0438\\u043e\\u043d\\u0435 \\\"\\u042e\\u043d\\u043e\\u0441\\u0442\\u044c\\\". \\u041f\\u0440\\u0438 \\u044d\\u0442\\u043e\\u043c \\u0432\\u0438\\u0446\\u0435-\\u043c\\u044d\\u0440 \\u0437\\u043d\\u0430\\u043b \\u043e \\u043d\\u0435\\u0432\\u044b\\u043f\\u043e\\u043b\\u043d\\u0435\\u043d\\u0438\\u0438 \\u0440\\u0430\\u0431\\u043e\\u0442, \\u043d\\u043e \\u0434\\u0430\\u043b \\u0443\\u043a\\u0430\\u0437\\u0430\\u043d\\u0438\\u044f \\u043e\\u0431 \\u0438\\u0445 \\u043f\\u0440\\u0438\\u0435\\u043c\\u043a\\u0435, \\u0447\\u0442\\u043e\\u0431\\u044b \\u043d\\u0435 \\u043f\\u043e\\u0440\\u0442\\u0438\\u0442\\u044c \\u0432\\u043f\\u0435\\u0447\\u0430\\u0442\\u043b\\u0435\\u043d\\u0438\\u0435 \\u043e\\u0442 \\u0434\\u0435\\u044f\\u0442\\u0435\\u043b\\u044c\\u043d\\u043e\\u0441\\u0442\\u0438 \\u0430\\u0434\\u043c\\u0438\\u043d\\u0438\\u0441\\u0442\\u0440\\u0430\\u0446\\u0438\\u0438. \\u041f\\u043e\\u0434\\u043b\\u043e\\u0433 \\u0431\\u044b\\u043b \\u0432\\u044b\\u044f\\u0432\\u043b\\u0435\\u043d \\u0432 \\u0430\\u0432\\u0433\\u0443\\u0441\\u0442\\u0435 2010 \\u0433\\u043e\\u0434\\u0430, \\u043a\\u043e\\u0433\\u0434\\u0430 \\u0433\\u043e\\u0440\\u043e\\u0434\\u0441\\u043a\\u0430\\u044f \\u043a\\u043e\\u043d\\u0442\\u0440\\u043e\\u043b\\u044c\\u043d\\u043e-\\u0441\\u0447\\u0435\\u0442\\u043d\\u0430\\u044f \\u043f\\u0430\\u043b\\u0430\\u0442\\u0430 \\u043e\\u0431\\u043d\\u0430\\u0440\\u0443\\u0436\\u0438\\u043b\\u0430 \\u043d\\u0430 \\u0431\\u0435\\u0433\\u043e\\u0432\\u044b\\u0445 \\u0434\\u043e\\u0440\\u043e\\u0436\\u043a\\u0430\\u0445 \\u0441\\u0442\\u0430\\u0440\\u043e\\u0435 \\u0430\\u0441\\u0444\\u0430\\u043b\\u044c\\u0442\\u043e\\u0432\\u043e\\u0435 \\u043f\\u043e\\u043a\\u0440\\u044b\\u0442\\u0438\\u0435 \\u0432\\u043c\\u0435\\u0441\\u0442\\u043e \\u044f\\u043a\\u043e\\u0431\\u044b \\u0441\\u0432\\u0435\\u0436\\u0435\\u0443\\u043b\\u043e\\u0436\\u0435\\u043d\\u043d\\u043e\\u0433\\u043e \\u0441\\u0438\\u043d\\u0442\\u0435\\u0442\\u0438\\u0447\\u0435\\u0441\\u043a\\u043e\\u0433\\u043e. \\u0412 \\u0441\\u0435\\u043d\\u0442\\u044f\\u0431\\u0440\\u0435 \\u043c\\u0430\\u0442\\u0435\\u0440\\u0438\\u0430\\u043b\\u044b \\u043e \\u043f\\u0440\\u043e\\u043f\\u0430\\u0436\\u0435 \\u0434\\u0435\\u043d\\u0435\\u0433 \\u0431\\u044b\\u043b\\u0438 \\u043f\\u0435\\u0440\\u0435\\u0434\\u0430\\u043d\\u044b \\u0434\\u043b\\u044f \\u0434\\u043e\\u0441\\u043b\\u0435\\u0434\\u0441\\u0442\\u0432\\u0435\\u043d\\u043d\\u043e\\u0439 \\u043f\\u0440\\u043e\\u0432\\u0435\\u0440\\u043a\\u0438 \\u0432 \\u0421\\u041a. \\u041f\\u0440\\u0438 \\u0432\\u044b\\u043d\\u0435\\u0441\\u0435\\u043d\\u0438\\u0438 \\u0413\\u0430\\u0431\\u0435 \\u043f\\u0440\\u0438\\u0433\\u043e\\u0432\\u043e\\u0440\\u0430 \\u0441\\u0443\\u0434 \\u0443\\u0447\\u0435\\u043b \\u0441\\u043c\\u044f\\u0433\\u0447\\u0430\\u044e\\u0449\\u0438\\u0435 \\u043e\\u0431\\u0441\\u0442\\u043e\\u044f\\u0442\\u0435\\u043b\\u044c\\u0441\\u0442\\u0432\\u0430 \\u0432 \\u0432\\u0438\\u0434\\u0435 \\u043f\\u043e\\u043b\\u043e\\u0436\\u0438\\u0442\\u0435\\u043b\\u044c\\u043d\\u044b\\u0445 \\u0445\\u0430\\u0440\\u0430\\u043a\\u0442\\u0435\\u0440\\u0438\\u0441\\u0442\\u0438\\u043a \\u0438 \\u043d\\u0430\\u043b\\u0438\\u0447\\u0438\\u044f \\u043c\\u0430\\u043b\\u043e\\u043b\\u0435\\u0442\\u043d\\u0435\\u0433\\u043e \\u0440\\u0435\\u0431\\u0435\\u043d\\u043a\\u0430, \\u0441\\u043e\\u043e\\u0431\\u0449\\u0430\\u0435\\u0442 \\u0418\\u0410 \\\"\\u041f\\u043e\\u0440\\u0442 \\u0410\\u043c\\u0443\\u0440\\\". \\u041a\\u0440\\u043e\\u043c\\u0435 \\u0442\\u043e\\u0433\\u043e, \\u0431\\u044b\\u0432\\u0448\\u0435\\u043c\\u0443 \\u0432\\u0438\\u0446\\u0435-\\u043c\\u044d\\u0440\\u0443 \\u0437\\u0430\\u0447\\u0442\\u0435\\u0442\\u0441\\u044f, \\u0447\\u0442\\u043e \\u043e\\u043d \\u0443\\u0436\\u0435 \\u043e\\u0442\\u0441\\u0438\\u0434\\u0435\\u043b \\u0432 \\u0421\\u0418\\u0417\\u041e 14 \\u043c\\u0435\\u0441\\u044f\\u0446\\u0435\\u0432. \\u0411\\u044b\\u0432\\u0448\\u0438\\u0439 \\u0434\\u0438\\u0440\\u0435\\u043a\\u0442\\u043e\\u0440 \\\"\\u0411\\u043b\\u0430\\u0433\\u0434\\u043e\\u0440\\u0441\\u0442\\u0440\\u043e\\u044f\\\" \\u041d\\u0438\\u043a\\u043e\\u043b\\u0430\\u0439 \\u041f\\u043e\\u043f\\u0440\\u0430\\u0432\\u043a\\u043e \\u0431\\u044b\\u043b \\u043e\\u0441\\u0443\\u0436\\u0434\\u0435\\u043d \\u0432 \\u0434\\u0435\\u043a\\u0430\\u0431\\u0440\\u0435 2011 \\u0433\\u043e\\u0434\\u0430. \\u041e\\u043d \\u043f\\u043e\\u043b\\u0443\\u0447\\u0438\\u043b \\u0443\\u0441\\u043b\\u043e\\u0432\\u043d\\u044b\\u0439 \\u0441\\u0440\\u043e\\u043a \\u043f\\u043e \\u0441\\u0442\\u0430\\u0442\\u044c\\u0435 \\\"\\u043c\\u043e\\u0448\\u0435\\u043d\\u043d\\u0438\\u0447\\u0435\\u0441\\u0442\\u0432\\u043e\\\" \\u0438 \\u0443\\u0436\\u0435 \\u0432\\u0435\\u0440\\u043d\\u0443\\u043b \\u043f\\u043e\\u0445\\u0438\\u0449\\u0435\\u043d\\u043d\\u044b\\u0435 \\u0441\\u0440\\u0435\\u0434\\u0441\\u0442\\u0432\\u0430.\",\n          \"\\u041f\\u0440\\u0438\\u0447\\u0438\\u043d\\u0430 \\u043f\\u043e\\u043f\\u044b\\u0442\\u043a\\u0438 \\u0437\\u0430\\u0434\\u0435\\u0440\\u0436\\u0430\\u043d\\u0438\\u044f \\u0440\\u043e\\u0441\\u0441\\u0438\\u0439\\u0441\\u043a\\u043e\\u0433\\u043e \\u0442\\u0440\\u0430\\u0443\\u043b\\u0435\\u0440\\u0430 \\\"\\u042d\\u043b\\u0435\\u043a\\u0442\\u0440\\u043e\\u043d\\\" \\u043d\\u043e\\u0440\\u0432\\u0435\\u0436\\u0441\\u043a\\u0438\\u043c\\u0438 \\u0432\\u043b\\u0430\\u0441\\u0442\\u044f\\u043c\\u0438 \\u0437\\u0430\\u043a\\u043b\\u044e\\u0447\\u0430\\u0435\\u0442\\u0441\\u044f \\u0432 \\u0440\\u0430\\u0437\\u043d\\u043e\\u0433\\u043b\\u0430\\u0441\\u0438\\u044f\\u0445 \\u043c\\u0435\\u0436\\u0434\\u0443 \\u0434\\u0432\\u0443\\u043c\\u044f \\u0441\\u0442\\u0440\\u0430\\u043d\\u0430\\u043c\\u0438 \\u043f\\u043e \\u043f\\u043e\\u0432\\u043e\\u0434\\u0443 \\u043c\\u0438\\u043d\\u0438\\u043c\\u0430\\u043b\\u044c\\u043d\\u043e\\u0433\\u043e \\u0440\\u0430\\u0437\\u043c\\u0435\\u0440\\u0430 \\u0440\\u044b\\u0431, \\u043a\\u043e\\u0442\\u043e\\u0440\\u044b\\u0445 \\u043c\\u043e\\u0436\\u043d\\u043e \\u0432\\u044b\\u043b\\u0430\\u0432\\u043b\\u0438\\u0432\\u0430\\u0442\\u044c. \\u041e\\u0431 \\u044d\\u0442\\u043e\\u043c \\u0432\\u043e \\u0432\\u0442\\u043e\\u0440\\u043d\\u0438\\u043a \\u0437\\u0430\\u044f\\u0432\\u0438\\u043b\\u0438 \\u0432 \\u0421\\u043e\\u044e\\u0437\\u0435 \\u0440\\u044b\\u0431\\u043e\\u043f\\u0440\\u043e\\u043c\\u044b\\u0448\\u043b\\u0435\\u043d\\u043d\\u0438\\u043a\\u043e\\u0432 \\u0421\\u0435\\u0432\\u0435\\u0440\\u0430, \\u043a\\u043e\\u0442\\u043e\\u0440\\u043e\\u043c\\u0443 \\u043f\\u0440\\u0438\\u043d\\u0430\\u0434\\u043b\\u0435\\u0436\\u0438\\u0442 \\u0441\\u0443\\u0434\\u043d\\u043e, \\u043f\\u0435\\u0440\\u0435\\u0434\\u0430\\u0435\\u0442 \\\"\\u0418\\u043d\\u0442\\u0435\\u0440\\u0444\\u0430\\u043a\\u0441\\\". \\u041f\\u043e \\u0441\\u043b\\u043e\\u0432\\u0430\\u043c \\u043f\\u0440\\u0435\\u0434\\u0441\\u0442\\u0430\\u0432\\u0438\\u0442\\u0435\\u043b\\u0435\\u0439 \\u044d\\u0442\\u043e\\u0439 \\u043e\\u0440\\u0433\\u0430\\u043d\\u0438\\u0437\\u0430\\u0446\\u0438\\u0438, \\u043f\\u0440\\u043e\\u0431\\u043b\\u0435\\u043c\\u0430 \\u0437\\u0430\\u043a\\u043b\\u044e\\u0447\\u0430\\u0435\\u0442\\u0441\\u044f \\u0432 \\u0440\\u0430\\u0437\\u043c\\u0435\\u0440\\u0435 \\u0442\\u0430\\u043a \\u043d\\u0430\\u0437\\u044b\\u0432\\u0430\\u0435\\u043c\\u044b\\u0445 \\u0441\\u0435\\u043b\\u0435\\u043a\\u0442\\u0438\\u0432\\u043d\\u044b\\u0445 \\u0440\\u0435\\u0448\\u0435\\u0442\\u043e\\u043a \\u0442\\u0440\\u0430\\u043b\\u0430, \\u0447\\u0435\\u0440\\u0435\\u0437 \\u043a\\u043e\\u0442\\u043e\\u0440\\u044b\\u0435 \\u043f\\u0440\\u043e\\u043f\\u0443\\u0441\\u043a\\u0430\\u0435\\u0442\\u0441\\u044f \\u043f\\u043e\\u0439\\u043c\\u0430\\u043d\\u043d\\u0430\\u044f \\u0440\\u044b\\u0431\\u0430. \\\"\\u041d\\u043e\\u0440\\u0432\\u0435\\u0436\\u0446\\u044b \\u0441\\u0447\\u0438\\u0442\\u0430\\u044e\\u0442, \\u0447\\u0442\\u043e \\u043d\\u0430\\u0448\\u0438 \\u0440\\u0435\\u0448\\u0435\\u0442\\u043a\\u0438 \\u043c\\u0435\\u043d\\u044c\\u0448\\u0435 \\u0434\\u0438\\u0430\\u043c\\u0435\\u0442\\u0440\\u043e\\u043c, \\u0447\\u0435\\u043c \\u043f\\u0440\\u0438\\u043d\\u044f\\u0442\\u043e \\u0432 \\u041d\\u043e\\u0440\\u0432\\u0435\\u0433\\u0438\\u0438, \\u0438 \\u0447\\u0442\\u043e \\u044d\\u0442\\u0438 \\u0440\\u0435\\u0448\\u0435\\u0442\\u043a\\u0438 \\u0443\\u0434\\u0435\\u0440\\u0436\\u0438\\u0432\\u0430\\u044e\\u0442 \\u0442\\u0443 \\u0440\\u044b\\u0431\\u0443, \\u043a\\u043e\\u0442\\u043e\\u0440\\u0430\\u044f \\u043d\\u0435 \\u043f\\u0440\\u0435\\u0434\\u043d\\u0430\\u0437\\u043d\\u0430\\u0447\\u0435\\u043d\\u0430 \\u0434\\u043b\\u044f \\u043f\\u0440\\u043e\\u043c\\u044b\\u0448\\u043b\\u0435\\u043d\\u043d\\u043e\\u0441\\u0442\\u0438\\\", - \\u043f\\u043e\\u044f\\u0441\\u043d\\u0438\\u043b\\u0438 \\u0432 \\u0421\\u043e\\u044e\\u0437\\u0435. \\u041e\\u0434\\u043d\\u0430\\u043a\\u043e, \\u043f\\u043e \\u0438\\u043c\\u0435\\u044e\\u0449\\u0438\\u043c\\u0441\\u044f \\u0434\\u0430\\u043d\\u043d\\u044b\\u043c, \\u043b\\u0438\\u0448\\u043d\\u0435\\u0439 \\u0440\\u044b\\u0431\\u044b \\u043d\\u0430 \\u0431\\u043e\\u0440\\u0442\\u0443 \\u0441\\u0443\\u0434\\u043d\\u0430 \\u043d\\u043e\\u0440\\u0432\\u0435\\u0436\\u0441\\u043a\\u0438\\u0435 \\u0438\\u043d\\u0441\\u043f\\u0435\\u043a\\u0442\\u043e\\u0440\\u044b \\u043d\\u0435 \\u043e\\u0431\\u043d\\u0430\\u0440\\u0443\\u0436\\u0438\\u043b\\u0438. \\u0412 \\u043d\\u0430\\u0441\\u0442\\u043e\\u044f\\u0449\\u0435\\u0435 \\u0432\\u0440\\u0435\\u043c\\u044f \\u0442\\u0440\\u0430\\u0443\\u043b\\u0435\\u0440 \\u043d\\u0430\\u0445\\u043e\\u0434\\u0438\\u0442\\u0441\\u044f \\u0432 \\u0440\\u043e\\u0441\\u0441\\u0438\\u0439\\u0441\\u043a\\u043e\\u0439 \\u044d\\u043a\\u043e\\u043d\\u043e\\u043c\\u0438\\u0447\\u0435\\u0441\\u043a\\u043e\\u0439 \\u0437\\u043e\\u043d\\u0435, \\u043a\\u0443\\u0434\\u0430 \\u0432\\u043e\\u0448\\u0435\\u043b \\u0432 \\u043d\\u043e\\u0447\\u044c \\u043d\\u0430 \\u0432\\u0442\\u043e\\u0440\\u043d\\u0438\\u043a, \\u043f\\u0440\\u0438\\u043c\\u0435\\u0440\\u043d\\u043e \\u0432 200 \\u043c\\u0438\\u043b\\u044f\\u0445 \\u043e\\u0442 \\u0431\\u0435\\u0440\\u0435\\u0433\\u0430, \\u0443\\u0442\\u043e\\u0447\\u043d\\u044f\\u0435\\u0442 \\u0420\\u0418\\u0410 \\\"\\u041d\\u043e\\u0432\\u043e\\u0441\\u0442\\u0438\\\". \\u041f\\u043e \\u0441\\u043b\\u043e\\u0432\\u0430\\u043c \\u043e\\u043f\\u0435\\u0440\\u0430\\u0442\\u0438\\u0432\\u043d\\u043e\\u0433\\u043e \\u0434\\u0435\\u0436\\u0443\\u0440\\u043d\\u043e\\u0433\\u043e \\u0441\\u043b\\u0443\\u0436\\u0431\\u044b \\u043d\\u0430\\u0431\\u043b\\u044e\\u0434\\u0435\\u043d\\u0438\\u044f \\u0444\\u043b\\u043e\\u0442\\u0430, \\u043f\\u043e \\u0445\\u043e\\u0434\\u0443 \\u0441\\u0443\\u0434\\u043d\\u0430 \\u0447\\u0435\\u0440\\u0435\\u0437 100 \\u043c\\u0438\\u043b\\u044c \\u043d\\u0430 \\u043f\\u0440\\u043e\\u043c\\u044b\\u0441\\u043b\\u0435 \\u043d\\u0430\\u0445\\u043e\\u0434\\u0438\\u0442\\u0441\\u044f \\u0433\\u0440\\u0443\\u043f\\u043f\\u0430 \\u043f\\u0440\\u0438\\u043c\\u0435\\u0440\\u043d\\u043e \\u0438\\u0437 50 \\u0440\\u043e\\u0441\\u0441\\u0438\\u0439\\u0441\\u043a\\u0438\\u0445 \\u0440\\u044b\\u0431\\u043e\\u043b\\u043e\\u0432\\u043d\\u044b\\u0445 \\u0441\\u0443\\u0434\\u043e\\u0432. \\\"\\u0412\\u043e\\u0437\\u043c\\u043e\\u0436\\u043d\\u043e, \\u043a\\u0430\\u043f\\u0438\\u0442\\u0430\\u043d \\u0440\\u0430\\u0441\\u0441\\u0447\\u0438\\u0442\\u044b\\u0432\\u0430\\u0435\\u0442 \\u0434\\u043e\\u0439\\u0442\\u0438 \\u0434\\u043e \\u044d\\u0442\\u043e\\u0439 \\u0433\\u0440\\u0443\\u043f\\u043f\\u044b \\u0438 \\u043f\\u043e\\u043f\\u0440\\u043e\\u0431\\u043e\\u0432\\u0430\\u0442\\u044c \\u0437\\u0430\\u0442\\u0435\\u0440\\u044f\\u0442\\u044c\\u0441\\u044f \\u0441\\u0440\\u0435\\u0434\\u0438 \\u0440\\u043e\\u0441\\u0441\\u0438\\u0439\\u0441\\u043a\\u0438\\u0445 \\u0441\\u0443\\u0434\\u043e\\u0432\\\", - \\u043e\\u0442\\u043c\\u0435\\u0442\\u0438\\u043b \\u0434\\u0435\\u0436\\u0443\\u0440\\u043d\\u044b\\u0439. \\u041f\\u043e \\u0435\\u0433\\u043e \\u0441\\u043b\\u043e\\u0432\\u0430\\u043c, \\u0447\\u0442\\u043e\\u0431\\u044b \\u0434\\u043e\\u0431\\u0440\\u0430\\u0442\\u044c\\u0441\\u044f \\u0434\\u043e \\u044d\\u0442\\u043e\\u0439 \\u0433\\u0440\\u0443\\u043f\\u043f\\u044b \\u0432 \\u0443\\u0441\\u043b\\u043e\\u0432\\u0438\\u044f\\u0445 \\u0448\\u0442\\u043e\\u0440\\u043c\\u0430 (\\u0441\\u043a\\u043e\\u0440\\u043e\\u0441\\u0442\\u044c \\u0432\\u0435\\u0442\\u0440\\u0430 \\u0432 \\u0442\\u043e\\u043c \\u0440\\u0430\\u0439\\u043e\\u043d\\u0435 \\u0434\\u043e\\u0441\\u0442\\u0438\\u0433\\u0430\\u0435\\u0442 28-30 \\u043c\\u0435\\u0442\\u0440\\u043e\\u0432 \\u0432 \\u0441\\u0435\\u043a\\u0443\\u043d\\u0434\\u0443, \\u0432\\u044b\\u0441\\u043e\\u0442\\u0430 \\u0432\\u043e\\u043b\\u043d - 5-6 \\u043c\\u0435\\u0442\\u0440\\u043e\\u0432), \\\"\\u042d\\u043b\\u0435\\u043a\\u0442\\u0440\\u043e\\u043d\\u0443\\\" \\u043f\\u043e\\u0442\\u0440\\u0435\\u0431\\u0443\\u0435\\u0442\\u0441\\u044f \\u043d\\u0435 \\u043c\\u0435\\u043d\\u0435\\u0435 10-15 \\u0447\\u0430\\u0441\\u043e\\u0432. \\u0414\\u043e \\u043f\\u043e\\u0440\\u0442\\u0430 \\u041c\\u0443\\u0440\\u043c\\u0430\\u043d\\u0441\\u043a\\u0430, \\u043e\\u0442\\u043a\\u0443\\u0434\\u0430 \\u043d\\u0430\\u0432\\u0441\\u0442\\u0440\\u0435\\u0447\\u0443 \\u0442\\u0440\\u0430\\u0443\\u043b\\u0435\\u0440\\u0443 \\u0433\\u043e\\u0442\\u043e\\u0432\\u0438\\u0442\\u0441\\u044f \\u0432\\u044b\\u0439\\u0442\\u0438 \\u0440\\u043e\\u0441\\u0441\\u0438\\u0439\\u0441\\u043a\\u0438\\u0439 \\u0441\\u0442\\u043e\\u0440\\u043e\\u0436\\u0435\\u0432\\u043e\\u0439 \\u043a\\u043e\\u0440\\u0430\\u0431\\u043b\\u044c \\\"\\u0422\\u0432\\u0435\\u0440\\u044c\\\",  \\\"\\u042d\\u043b\\u0435\\u043a\\u0442\\u0440\\u043e\\u043d\\\" \\u043f\\u0440\\u0435\\u0434\\u043f\\u043e\\u043b\\u043e\\u0436\\u0438\\u0442\\u0435\\u043b\\u044c\\u043d\\u043e \\u0441\\u043c\\u043e\\u0436\\u0435\\u0442 \\u0434\\u043e\\u0431\\u0440\\u0430\\u0442\\u044c\\u0441\\u044f \\u043d\\u0435 \\u0440\\u0430\\u043d\\u0435\\u0435, \\u0447\\u0435\\u043c \\u0447\\u0435\\u0440\\u0435\\u0437 \\u0441\\u0443\\u0442\\u043a\\u0438. \\u0414\\u0435\\u0436\\u0443\\u0440\\u043d\\u044b\\u0439 \\u043e\\u0442\\u043c\\u0435\\u0442\\u0438\\u043b, \\u0447\\u0442\\u043e \\u0447\\u0438\\u0441\\u043b\\u043e \\u0441\\u043e\\u043f\\u0440\\u043e\\u0432\\u043e\\u0436\\u0434\\u0430\\u044e\\u0449\\u0438\\u0445 \\\"\\u042d\\u043b\\u0435\\u043a\\u0442\\u0440\\u043e\\u043d\\\" \\u0441\\u0443\\u0434\\u043e\\u0432 \\u0438\\u0437\\u043c\\u0435\\u043d\\u0438\\u043b\\u043e\\u0441\\u044c - \\u0432 \\u043d\\u0430\\u0441\\u0442\\u043e\\u044f\\u0449\\u0435\\u0435 \\u0432\\u0440\\u0435\\u043c\\u044f \\u0442\\u0440\\u0430\\u0443\\u043b\\u0435\\u0440 \\u0441\\u043e\\u043f\\u0440\\u043e\\u0432\\u043e\\u0436\\u0434\\u0430\\u044e\\u0442 \\u043d\\u0435 \\u0447\\u0435\\u0442\\u044b\\u0440\\u0435, \\u0430 \\u0434\\u0432\\u0430 \\u043a\\u043e\\u0440\\u0430\\u0431\\u043b\\u044f \\u043d\\u043e\\u0440\\u0432\\u0435\\u0436\\u0441\\u043a\\u043e\\u0439 \\u0431\\u0435\\u0440\\u0435\\u0433\\u043e\\u0432\\u043e\\u0439 \\u043e\\u0445\\u0440\\u0430\\u043d\\u044b, \\u0430 \\u0442\\u0430\\u043a\\u0436\\u0435 \\u0442\\u0440\\u0438 \\u0440\\u043e\\u0441\\u0441\\u0438\\u0439\\u0441\\u043a\\u0438\\u0445 \\u0440\\u044b\\u0431\\u043e\\u043b\\u043e\\u0432\\u043d\\u044b\\u0445 \\u0441\\u0443\\u0434\\u043d\\u0430. \\u0422\\u0435\\u043c \\u0432\\u0440\\u0435\\u043c\\u0435\\u043d\\u0435\\u043c \\u041c\\u0418\\u0414 \\u0420\\u0424 \\u043f\\u0440\\u043e\\u0434\\u043e\\u043b\\u0436\\u0430\\u0435\\u0442 \\u043e\\u0442\\u0441\\u043b\\u0435\\u0436\\u0438\\u0432\\u0430\\u0442\\u044c \\u0441\\u0438\\u0442\\u0443\\u0430\\u0446\\u0438\\u044e \\u0432\\u043e\\u043a\\u0440\\u0443\\u0433 \\u0442\\u0440\\u0430\\u0443\\u043b\\u0435\\u0440\\u0430 \\\"\\u042d\\u043b\\u0435\\u043a\\u0442\\u0440\\u043e\\u043d\\\", \\u043d\\u0430\\u0445\\u043e\\u0434\\u044f\\u0441\\u044c \\u0432 \\u043f\\u043e\\u0441\\u0442\\u043e\\u044f\\u043d\\u043d\\u043e\\u043c \\u043a\\u043e\\u043d\\u0442\\u0430\\u043a\\u0442\\u0435 \\u043f\\u043e \\u044d\\u0442\\u043e\\u043c\\u0443 \\u0432\\u043e\\u043f\\u0440\\u043e\\u0441\\u0443 \\u0441 \\u043d\\u043e\\u0440\\u0432\\u0435\\u0436\\u0441\\u043a\\u043e\\u0439 \\u0441\\u0442\\u043e\\u0440\\u043e\\u043d\\u043e\\u0439, \\u0441\\u043e\\u043e\\u0431\\u0449\\u0438\\u043b \\u043e\\u0444\\u0438\\u0446\\u0438\\u0430\\u043b\\u044c\\u043d\\u044b\\u0439 \\u043f\\u0440\\u0435\\u0434\\u0441\\u0442\\u0430\\u0432\\u0438\\u0442\\u0435\\u043b\\u044c \\u0440\\u043e\\u0441\\u0441\\u0438\\u0439\\u0441\\u043a\\u043e\\u0433\\u043e \\u0432\\u043d\\u0435\\u0448\\u043d\\u0435\\u043f\\u043e\\u043b\\u0438\\u0442\\u0438\\u0447\\u0435\\u0441\\u043a\\u043e\\u0433\\u043e \\u0432\\u0435\\u0434\\u043e\\u043c\\u0441\\u0442\\u0432\\u0430 \\u041c\\u0438\\u0445\\u0430\\u0438\\u043b \\u041a\\u0430\\u043c\\u044b\\u043d\\u0438\\u043d. \\u0412\\u043c\\u0435\\u0441\\u0442\\u0435 \\u0441 \\u0442\\u0435\\u043c \\u0432 \\u043f\\u043e\\u0441\\u043e\\u043b\\u044c\\u0441\\u0442\\u0432\\u0435 \\u041d\\u043e\\u0440\\u0432\\u0435\\u0433\\u0438\\u0438 \\u0432 \\u041c\\u043e\\u0441\\u043a\\u0432\\u0435 \\u0441\\u043e\\u043e\\u0431\\u0449\\u0438\\u043b\\u0438, \\u0447\\u0442\\u043e \\u043f\\u043e\\u0441\\u043e\\u043b \\u044d\\u0442\\u043e\\u0439 \\u0441\\u0442\\u0440\\u0430\\u043d\\u044b \\u043d\\u0435 \\u043f\\u043b\\u0430\\u043d\\u0438\\u0440\\u0443\\u0435\\u0442 \\u043f\\u043e\\u0441\\u0435\\u0442\\u0438\\u0442\\u044c \\u041c\\u0418\\u0414 \\u0420\\u043e\\u0441\\u0441\\u0438\\u0438 \\u0432 \\u0441\\u0432\\u044f\\u0437\\u0438 \\u0441 \\u0438\\u043d\\u0446\\u0438\\u0434\\u0435\\u043d\\u0442\\u043e\\u043c \\u0432 \\u0411\\u0430\\u0440\\u0435\\u043d\\u0446\\u0435\\u0432\\u043e\\u043c \\u043c\\u043e\\u0440\\u0435. \\u041a\\u0430\\u043a \\u0441\\u043e\\u043e\\u0431\\u0449\\u0430\\u043b\\u043e\\u0441\\u044c \\u0440\\u0430\\u043d\\u0435\\u0435, \\u0442\\u0440\\u0430\\u0443\\u043b\\u0435\\u0440 \\u0431\\u044b\\u043b \\u0437\\u0430\\u0434\\u0435\\u0440\\u0436\\u0430\\u043d \\u043d\\u043e\\u0440\\u0432\\u0435\\u0436\\u0441\\u043a\\u043e\\u0439 \\u0441\\u0442\\u043e\\u0440\\u043e\\u043d\\u043e\\u0439 \\u0432 \\u0441\\u0443\\u0431\\u0431\\u043e\\u0442\\u0443 \\u0432 \\u0411\\u0430\\u0440\\u0435\\u043d\\u0446\\u0435\\u0432\\u043e\\u043c \\u043c\\u043e\\u0440\\u0435 \\u0437\\u0430 \\u043d\\u0430\\u0440\\u0443\\u0448\\u0435\\u043d\\u0438\\u0435 \\u043f\\u0440\\u0430\\u0432\\u0438\\u043b \\u0440\\u044b\\u0431\\u043e\\u043b\\u043e\\u0432\\u0441\\u0442\\u0432\\u0430. \\u0412 \\u043f\\u043e\\u043d\\u0435\\u0434\\u0435\\u043b\\u044c\\u043d\\u0438\\u043a \\u0443\\u0442\\u0440\\u043e\\u043c \\u043d\\u0430 \\u0431\\u043e\\u0440\\u0442 \\u0441\\u0443\\u0434\\u043d\\u0430 \\u043f\\u043e\\u0434\\u043d\\u044f\\u043b\\u0438\\u0441\\u044c \\u043d\\u043e\\u0440\\u0432\\u0435\\u0436\\u0441\\u043a\\u0438\\u0435 \\u0438\\u043d\\u0441\\u043f\\u0435\\u043a\\u0442\\u043e\\u0440\\u044b, \\u043a\\u043e\\u043d\\u0444\\u0438\\u0441\\u043a\\u043e\\u0432\\u0430\\u0432\\u0448\\u0438\\u0435 \\u0441\\u0443\\u0434\\u043e\\u0432\\u043e\\u0439 \\u0438 \\u043f\\u0440\\u043e\\u043c\\u044b\\u0441\\u043b\\u043e\\u0432\\u044b\\u0439 \\u0436\\u0443\\u0440\\u043d\\u0430\\u043b\\u044b, \\u0430 \\u0442\\u0430\\u043a\\u0436\\u0435 \\u0434\\u0440\\u0443\\u0433\\u0438\\u0435 \\u0434\\u043e\\u043a\\u0443\\u043c\\u0435\\u043d\\u0442\\u044b. \\u0412\\u043e \\u0432\\u0440\\u0435\\u043c\\u044f \\u0431\\u0443\\u043a\\u0441\\u0438\\u0440\\u043e\\u0432\\u043a\\u0438 \\\"\\u042d\\u043b\\u0435\\u043a\\u0442\\u0440\\u043e\\u043d\\u0430\\\" \\u0432 \\u043d\\u043e\\u0440\\u0432\\u0435\\u0436\\u0441\\u043a\\u0438\\u0439 \\u043f\\u043e\\u0440\\u0442, \\u043f\\u043e \\u043d\\u0435\\u043a\\u043e\\u0442\\u043e\\u0440\\u044b\\u043c \\u0434\\u0430\\u043d\\u043d\\u044b\\u043c, \\u043b\\u043e\\u043f\\u043d\\u0443\\u043b \\u0442\\u0440\\u043e\\u0441, \\u043f\\u043e\\u0441\\u043b\\u0435 \\u0447\\u0435\\u0433\\u043e \\u0441\\u0443\\u0434\\u043d\\u043e \\\"\\u0431\\u0435\\u0437 \\u0440\\u0430\\u0437\\u0440\\u0435\\u0448\\u0435\\u043d\\u0438\\u044f \\u043e\\u0442\\u043f\\u0440\\u0430\\u0432\\u0438\\u043b\\u043e\\u0441\\u044c \\u0432 \\u043e\\u0442\\u043a\\u0440\\u044b\\u0442\\u043e\\u0435 \\u043c\\u043e\\u0440\\u0435\\\" \\u0432 \\u0441\\u0442\\u043e\\u0440\\u043e\\u043d\\u0443 \\u0440\\u043e\\u0441\\u0441\\u0438\\u0439\\u0441\\u043a\\u043e\\u0439 \\u044d\\u043a\\u043e\\u043d\\u043e\\u043c\\u0438\\u0447\\u0435\\u0441\\u043a\\u043e\\u0439 \\u0437\\u043e\\u043d\\u044b \\u0441 \\u0438\\u043d\\u0441\\u043f\\u0435\\u043a\\u0442\\u043e\\u0440\\u0430\\u043c\\u0438 \\u043d\\u0430 \\u0431\\u043e\\u0440\\u0442\\u0443.\"\n        ],\n        \"semantic_type\": \"\",\n        \"description\": \"\"\n      }\n    },\n    {\n      \"column\": \"topic\",\n      \"properties\": {\n        \"dtype\": \"category\",\n        \"num_unique_values\": 19,\n        \"samples\": [\n          \"\\u0418\\u0437 \\u0436\\u0438\\u0437\\u043d\\u0438\",\n          \"\\u0421\\u043f\\u043e\\u0440\\u0442\",\n          \"\\u0418\\u043d\\u0442\\u0435\\u0440\\u043d\\u0435\\u0442 \\u0438 \\u0421\\u041c\\u0418\"\n        ],\n        \"semantic_type\": \"\",\n        \"description\": \"\"\n      }\n    },\n    {\n      \"column\": \"tags\",\n      \"properties\": {\n        \"dtype\": \"category\",\n        \"num_unique_values\": 91,\n        \"samples\": [\n          \"\\u0410\\u0432\\u0442\\u043e\\u0431\\u0438\\u0437\\u043d\\u0435\\u0441\",\n          \"\\u0417\\u0438\\u043c\\u043d\\u0438\\u0435 \\u0432\\u0438\\u0434\\u044b\",\n          \"\\u041c\\u043e\\u043b\\u0434\\u0430\\u0432\\u0438\\u044f\"\n        ],\n        \"semantic_type\": \"\",\n        \"description\": \"\"\n      }\n    },\n    {\n      \"column\": \"date\",\n      \"properties\": {\n        \"dtype\": \"object\",\n        \"num_unique_values\": 7332,\n        \"samples\": [\n          \"2019/07/15\",\n          \"2009/04/22\",\n          \"2015/05/19\"\n        ],\n        \"semantic_type\": \"\",\n        \"description\": \"\"\n      }\n    },\n    {\n      \"column\": \"keywords\",\n      \"properties\": {\n        \"dtype\": \"string\",\n        \"num_unique_values\": 98582,\n        \"samples\": [\n          \"\\u0436\\u0435\\u043d\\u0435\\u0432\\u044b \\u0431\\u043e\\u0440\\u043e\\u0434\\u0438\\u043d\\u0430 \\u0431\\u0435\\u0440\\u0442\\u043e\\u0441\\u0441\\u0430 \\u0433\\u043e\\u0441\\u0443\\u0434\\u0430\\u0440\\u0441\\u0442\\u0432\\u0430 \\u0440\\u043e\\u0441\\u0441\\u0438\\u0438 \\u0431\\u0435\\u0440\\u043d\\u0430\\u0440 \\u0441\\u043e\\u044e\\u0437\\u043d\\u043e\\u0433\\u043e \\u043f\\u0430\\u0432\\u043b\\u0430 \\u0431\\u0435\\u043b\\u043e\\u0440\\u0443\\u0441\\u0441\\u0438\\u0438\",\n          \"\\u0433\\u0430\\u0437\\u0435\\u0442\\u0430 daily telegraph \\u0441\\u0442\\u0430\\u0440\\u0435\\u0439\\u0448\\u0438\\u043d\\u044b \\u0431\\u0440\\u0438\\u0442\\u0430\\u043d\\u0441\\u043a\\u0430\\u044f \\u043f\\u043b\\u0435\\u043c\\u0435\\u043d \\u0442\\u0443\\u0437\\u0435\\u043c\\u043d\\u044b\\u0445\",\n          \"\\u0438 \\u044f\\u0432\\u043b\\u044f\\u044e\\u0442\\u0441\\u044f \\u0432\\u043e\\u0440\\u043e\\u043d\\u0435\\u0436 \\u0440\\u043e\\u0441\\u0441\\u0438\\u0439\\u0441\\u043a\\u0438\\u0445 \\u0441\\u0430\\u043d\\u043a\\u0442-\\u043f\\u0435\\u0442\\u0435\\u0440\\u0431\\u0443\\u0440\\u0433 \\u0441\\u0440\\u0435\\u0434\\u0438 \\u0435\\u043a\\u0430\\u0442\\u0435\\u0440\\u0438\\u043d\\u0431\\u0443\\u0440\\u0433 \\u0433\\u043e\\u0440\\u043e\\u0434\\u043e\\u0432-\\u043c\\u0438\\u043b\\u043b\\u0438\\u043e\\u043d\\u043d\\u0438\\u043a\\u043e\\u0432\"\n        ],\n        \"semantic_type\": \"\",\n        \"description\": \"\"\n      }\n    }\n  ]\n}"
            }
          },
          "metadata": {},
          "execution_count": 12
        }
      ],
      "source": [
        "lenta = pd.read_csv('/content/drive/MyDrive/vk/lenta_news_100к.csv')\n",
        "lenta"
      ]
    },
    {
      "cell_type": "code",
      "execution_count": null,
      "metadata": {
        "id": "aFoGVsPOjvEJ"
      },
      "outputs": [],
      "source": [
        "\n",
        "filtered_news = lenta[lenta['topic'].isin(['Nan', 'Россия', 'Мир'])]\n",
        "nan_rows = lenta[lenta['topic'].isna()]\n",
        "filtered_news = pd.concat([filtered_news, nan_rows])"
      ]
    },
    {
      "cell_type": "code",
      "source": [
        "filtered_news.topic.unique()"
      ],
      "metadata": {
        "colab": {
          "base_uri": "https://localhost:8080/"
        },
        "id": "XrwcG9CTqQHN",
        "outputId": "897da62c-902f-4be9-b344-12a1df46d04f"
      },
      "execution_count": null,
      "outputs": [
        {
          "output_type": "execute_result",
          "data": {
            "text/plain": [
              "array(['Россия', 'Мир', nan], dtype=object)"
            ]
          },
          "metadata": {},
          "execution_count": 31
        }
      ]
    },
    {
      "cell_type": "code",
      "execution_count": null,
      "metadata": {
        "id": "kvsBTZQTmVAm"
      },
      "outputs": [],
      "source": [
        "from sentence_transformers import SentenceTransformer\n",
        "model_name = 'sentence-transformers/paraphrase-xlm-r-multilingual-v1'\n",
        "embedder = (SentenceTransformer(model_name))\n",
        "embedder = embedder.to(device)\n",
        "# embedding_size = 500\n",
        "# embedder = tqdm(SentenceTransformer(model_name, embedding_size=embedding_size)\n",
        "embeddings = embedder.encode(news)"
      ]
    },
    {
      "cell_type": "code",
      "execution_count": null,
      "metadata": {
        "id": "v8k0i5jomXYd"
      },
      "outputs": [],
      "source": [
        "reduced_emb = umap.UMAP(n_components=2, n_neighbors=100, min_dist=0.02).fit_transform(embeddings)"
      ]
    },
    {
      "cell_type": "code",
      "source": [
        "df = pd.DataFrame()\n",
        "df['x'] = reduced_emb[:, 0]\n",
        "df['y'] = reduced_emb[:, 1]\n",
        "df[\"text_short\"] = news"
      ],
      "metadata": {
        "id": "J4CNjTC9n9ka"
      },
      "execution_count": null,
      "outputs": []
    },
    {
      "cell_type": "code",
      "source": [
        "import hdbscan\n",
        "clusterer = hdbscan.HDBSCAN(min_cluster_size = 69, min_samples = 5)\n",
        "labels = clusterer.fit_predict(reduced_emb)\n",
        "print(f\"Num of clusters: {labels.max() + 1}\")\n",
        "\n",
        "df[\"label\"] = [str(label) for label in labels]\n",
        "num_outliers = len(df[df[\"label\"] == \"-1\"])\n",
        "print(f\"Num of outliers: {num_outliers} ({num_outliers / len(df) * 100:.2f} % of total)\")\n",
        "\n",
        "cluster = \"1\"\n",
        "df_subset = df[df[\"label\"] == cluster].reset_index()\n",
        "for i,row in df_subset.iterrows():\n",
        "  print(f\"- {row['text_short']}\")\n",
        "  if i == 40:\n",
        "    break"
      ],
      "metadata": {
        "colab": {
          "base_uri": "https://localhost:8080/"
        },
        "id": "L-n9q8Svnnbn",
        "outputId": "a227c659-4f12-40f0-dc41-202fd8f80a24"
      },
      "execution_count": null,
      "outputs": [
        {
          "output_type": "stream",
          "name": "stdout",
          "text": [
            "Num of clusters: 5\n"
          ]
        }
      ]
    },
    {
      "cell_type": "code",
      "source": [
        "# number of outliers\n",
        "df[\"label\"] = [str(label) for label in labels]\n",
        "num_outliers = len(df[df[\"label\"] == \"-1\"])\n",
        "print(f\"Num of outliers: {num_outliers} ({num_outliers / len(df) * 100:.2f} % of total)\")"
      ],
      "metadata": {
        "colab": {
          "base_uri": "https://localhost:8080/"
        },
        "id": "CNZsPI4lnxzc",
        "outputId": "6622ffbb-5d98-40ba-aa90-a3abab72bfc7"
      },
      "execution_count": null,
      "outputs": [
        {
          "output_type": "stream",
          "name": "stdout",
          "text": [
            "Num of outliers: 206 (2.06 % of total)\n"
          ]
        }
      ]
    },
    {
      "cell_type": "code",
      "source": [],
      "metadata": {
        "colab": {
          "base_uri": "https://localhost:8080/"
        },
        "id": "rnkove_8uwYH",
        "outputId": "0b3d073d-96f5-42c2-b29d-447fcb1f2d79"
      },
      "execution_count": null,
      "outputs": [
        {
          "output_type": "execute_result",
          "data": {
            "text/plain": [
              "-0.0786765"
            ]
          },
          "metadata": {},
          "execution_count": 84
        }
      ]
    },
    {
      "cell_type": "code",
      "source": [
        "cluster = \"1\"\n",
        "df_subset = df[df[\"label\"] == cluster].reset_index()\n",
        "for i,row in df_subset.iterrows():\n",
        "  print(f\"- {row['text_short']}\")\n",
        "  if i == 40:\n",
        "    break"
      ],
      "metadata": {
        "colab": {
          "base_uri": "https://localhost:8080/"
        },
        "id": "9_Lmw-y0oJkn",
        "outputId": "cdd8d922-8afb-49f1-f6a1-9f4a6bf86c99"
      },
      "execution_count": null,
      "outputs": [
        {
          "output_type": "stream",
          "name": "stdout",
          "text": [
            "- Ученым из Принстонского университета удалось создать новый тип лазера, сообщается в пресс-релизе, опубликованном на сайте университета. В настоящее время исследователи работают над усовершенствованием своего изобретения, основой для которого стал квантовый каскадный лазер. В современных электронных приборах используются так называемые лазерные диоды, в которых лазерное излучение (световое излучение, почти все фотоны которого имеют одну длину волны и фазу), формируется при подаче электрического тока на полупроводниковый диод. В квантовом каскадном лазере используется похожая схема, только излучающий материал состоит из большого количества полупроводниковых слоев. В качестве излучающего материала исследователи из Принстонского университета использовали много слоев полупроводника толщиной всего в один атом. Во время испытаний ученые обнаружили, что их устройство испускает не один луч, а два с различными длинами волн. При этом у второго луча обнаружились свойства, которые современная теория каскадных лазеров объяснить не в состоянии. Во-первых, оказалось, что два луча \"конкурируют\". При увеличении силы тока интенсивность обычного луча возрастала, в то время как второй ослабевал. Во-вторых, при росте температуры до определенного значения сила второго луча увеличивалась, в то время как у обычных светодиодных лазеров она уменьшается. Точного объяснения механизма возникновения нового эффекта у ученых пока нет, однако они предлагают следующую теорию. В обычном светодиоде рабочей средой является так называемый электронно-дырочный газ. При этом для возникновения излучения необходимо, чтобы большое количество электронов находилось в квазиравновесном состоянии, то есть имели почти нулевой импульс и одинаковую энергию. Ученые считают, что за появление другого луча ответственны электроны с более низкой энергией, чем у квазиравновесных, но положительным импульсом. Лазеры, основанные на новом эффекте, по мнению исследователей, могут быть теоретически востребованы в промышленности. Их плюсами являются более низкое по сравнению с современными аналогами энергопотребление, а также более высокая температура работы. В настоящее время исследователи работают над схемой, которая позволила бы \"отсекать\" первое излучение, добившись появления луча только второго типа.\n",
            "- Издание Universe Today опубликовало снимки исландского вулкана Эйяфьятлайокудль с расстояния всего в несколько километров. Фото можно посмотреть тут, тут, тут и тут. На последнем снимке хорошо видны молнии, которые являются частыми спутниками извержений. Причиной электрических разрядов является движение облаков пепла. Температура магмы, выбрасываемой вулканом, составляет около 1500 градусов по Цельсию. Извержение вулкана началось 21 марта 2010 года. В результате извержения в небо было выброшено большое количество вулканического пепла. Данный материал, традиционно располагающийся на высоте 8-11 тысяч метров, представляет серьезную опасность для самолетов - извержение вызвало перебои в авиасообщении в Европе. Так, сообщается, что около половины рейсов, намеченных на понедельник, будут отменены.\n",
            "- В ходе лабораторных экспериментов со льдом и органическими соединениями американские астрономы выяснили, почему кометы покрыты твердой коркой. Они продемонстрировали, как мягкий «снег» на поверхности кометы кристаллизируется и уплотняется по мере приближения небесного тела к Солнцу. С образованием упорядоченных ледяных кристаллов, другие молекулы (с содержанием углерода) выносятся на поверхность. О своих изысканиях ученые рассказали на страницах журнала The Journal of Physical Chemistry, а коротко об исследовании сообщается в пресс-релизе НАСА. «Комета подобна прожаренному во фритюре мороженому. Ее кора состоит из кристаллического льда, а внутреннее вещество — более холодное и пористое. Органику же можно сравнить с верхним слоем шоколадной глазури», — заявил один из авторов статьи Мурти Гудипати (Murthy Gudipati). Ученые начали свой эксперимент с получения аморфного (пористого) льда. Считается, что из такого вещества состоят самые холодные кометы и луны. Молекулы пара подвергаются быстрой заморозке при сверхнизкой температуре (около минус 243 по Цельсию). Вода в таком состоянии перемешана с другими молекулами (органическими, например). Аморфный лед похож на сахарную вату, объясняет Гудипати: легкий, воздушный и изобилует порами. На Земле такого льда нет — слишком низкая температура необходима для его образования. Потом ученые начали медленно подогревать свой лед до минус 123 градусов по Цельсию, воспроизводя происходящее на комете при приближении к Солнцу. В лед предварительно подмешали полициклические ароматические углеводороды (ПАУ) — эти вещества повсеместно встречаются в открытом космосе. «ПАУ соединялись друг с другом и выталкивались изо льда по ходу кристаллизации последнего. Возможно, мы первые, кто наблюдал кластеризацию молекул из-за фазового перехода льда», — отметил руководитель проекта Антти Лигнелл (Antti Lignell). Изгнание ПАУ помогло воде принять более компактную форму кристаллического льда. Ученым важно понять физико-химические процессы внутри комет, так как эти небесные тела могли приносить воду и органические соединения на молодую Землю. Хотя последние результаты обследования комету Чурюмова-Герасименко указали на то, что главными перевозчиками предшественников органических соединений были астероиды, спор еще не окончен.\n",
            "- Зонд NASA \"Мессенджер\" (Messenger) передал первые фотографии поверхности Меркурия, сделанные во время сближения с этой планетой в ночь с шестого на седьмое октября, сообщается на официальном сайте миссии. Там же уже выложены некоторые фотографии, сделанные зондом. Посмотреть их можно здесь. Большая часть поверхности планеты на изображениях ранее никогда не фотографировалась. Это уже второе сближение зонда с Меркурием. Первое состоялось в январе 2008 года. В обоих случаях зонд пролетал на высоте около 200 километров над поверхностью. Одной из основных целей второго сближения было изменение траектории движения аппарата так, чтобы к 2011 году он вышел на орбиту вокруг Меркурия, став, таким образом, искусственным спутником этой планеты. \"Мессенджер\" был запущен в 2004 году. Основной его целью является изучение химического состава и геологической истории планеты, а также магнитного поля Меркурия.\n",
            "- Ученые Калифорнийского университета в Санта-Барбаре выяснили, что падение кометы всего лишь 12,8 тысячи лет назад привело к катастрофическим последствиям для климата и биосферы. Об этом сообщается в пресс-релизе на Phys.org. Исследователи проанализировали отложения в чилийской части Патагонии времен позднего дриаса (с 10 730 по 9700 год до нашей эры). Согласно гипотезе, в начале этого геологического этапа произошло столкновение планеты с фрагментами распавшейся кометы, которые упали на территории Северной и Южной Америки, Европы и Западной Азии. Специалисты обнаружили, что в соответствующем слое пород имеются высокие концентрации платины и золота, сферулы, оплавленное стекло и наноалмазы, что подтверждает это предположение. Катастрофа вызвала обширное горение биомассы, изменение климата и вымирание поздней плейстоценовой мегафауны. Это подтверждает наличие в отложениях продуктов горения, в том числе микроугля и частиц сгоревшей пыльцы. Также известно, что после этого в Северном полушарии произошло похолодание, что указывает на серьезное воздействие на атмосферу. Наконец, исчезновение окаменелостей мегафауны в местах раскопок в Патагонии коррелирует с исчезновением крупных животных в других местах Южной Америки и Северной Америки.\n",
            "- НАСА 13 сентября получило новые качественные фотографии Плутона, демонстрирующие похожие на арктические ландшафты и закаты на карликовой планеты. Снимки сделаны станцией New Horizons. Об этом сообщается на сайте НАСА. Изображения, представленные агентством, сделаны 14 июля этого года, через 15 минут после максимального сближения станции с Плутоном с расстояния 18 тысяч километров от поверхности карликовой планеты. На фото ученые заметили множество ледяных гор, замороженные ручьи из азота, а также характерную атмосферную дымку. В целом пейзажи на снимках напоминают арктические виды. «Изображение действительно заставляет вас почувствовать себя так, как будто вы находитесь на Плутоне», — сказал об одном из снимков исследователь Алан Стерн. По его мнению, эта фотография «является настоящим научным золотом, так как позволяет открыть новые подробности об атмосфере Плутона, его горах, ледниках и равнинах». В настоящее время New Horizons находится на расстоянии более пяти миллиардов километров от Земли. 14 июля 2015 года станция New Horizons в 14:49 по московскому времени на скорости около 14 километров в секунду приблизилась к Плутону на минимальное расстояние — 12,5 тысячи километров. На это время пришлась основная часть исследовательской деятельности. Затраты НАСА на осуществление миссии New Horizons превышают 600 миллионов долларов. Сам аппарат был запущен в космос 19 января 2006 года с космодрома на мысе Канаверал на ракете-носителе Atlas V. Ожидается, что в 2019 году станция достигнет планетоида 2014 MU69, находящегося на расстоянии 1,6 миллиарда километров от Плутона в поясе Койпера. Этот объект НАСА предварительно назвало в качестве следующей после карликовой планеты пролетной цели. Миссия New Horizons должна завершить работу в середине 2020-х годов. Основной задачей станции New Horizons является изучение Плутона и его спутника Харона. Научное оборудование, установленное на ней, предназначено для сбора данных о возможном наличии магнитосферы у карликовой планеты, составе ее атмосферы и строении поверхности, а также о взаимодействии с Хароном.\n",
            "- Ученые под руководством археолога Кертиса Марина (Curtis W. Marean) из Университета штата Аризона пришли к выводу, что во время извержения индонезийского супервулкана Тоба около 74 тысяч лет назад в Южной Африке жили группы людей, которых катастрофа почти не затронула. Статья опубликована в журнале Nature. По оценкам исследователей, масса пепла и пыли, попавшая в атмосферу из-за суперизвержения, вызвала уменьшение количества поступающего на поверхность Земли солнечного света на 25-90 процентов. При этом некоторые экосистемы оказались устойчивее к бедствию, чем другие. Ученые нашли осколки вулканического стекла, связанные с Тобой, в отложениях на двух участках южноафриканского побережья в девяти тысячах километрах от супервулкана. Эти фрагменты выпали вместе с пеплом в течение двух недель после извержения, когда в воздух было выброшено огромное количество аэрозолей. Исследователи также проанализировали следы пребывания человека в тех местностях, где было найдено вулканическое стекло. Оказалось, что люди Южной Африке не пострадали от Тобы и постоянно проживали в данном регионе, не испытывая необходимости в миграции в более благоприятные места. Это объясняется тем, что побережье, играющее роль своеобразного оазиса, могло предоставить достаточно пищи и ресурсов для выживания в течение долгого времени. Супервулканы считаются одними из самых разрушительных геологических образований, оказывающих влияние на климат планеты. Тоба, по мнению специалистов, мог вызвать массовое вымирание видов на Земле и стать причиной резкого глобального похолодания.\n",
            "- Анализ данных с космического телескопа Hubble показал, что спутники Плутона Никта и Гидра находятся в хаотическом движении. Результаты своих исследований ученые опубликовали в журнале Nature, а кратко с ними можно ознакомиться на сайте НАСА. По мнению авторов, нерегулярный характер движения Никты и Гидры возникает из-за переменного гравитационного поля, создаваемого системой Плутон-Харон. Центр масс системы, состоящей из крупнейшего спутника и карликовой планеты, расположен между ними вне Плутона. К таким выводам специалисты пришли, проанализировав изменения яркости лун на фотографиях, полученных в период с 2005 по 2012 год. Ученые считают, что другие спутники Плутона — Стикс и Кербер — также могут находиться в нерегулярном движении. Исследователи провели компьютерное моделирование, которое демонстрирует хаотическое вращение Никты, наблюдаемое из центра масс системы Плутон-Харон. На видео заметно, как переворачивается спутник карликовой планеты. По словам ученых, их исследование стало первым, которое оценивает динамику Никты и Гидры. Вероятно, наблюдаемое поведение лун — обычное явление для двойных систем типа Плутон-Харон. В середине июля 2015 года, когда пролетная автоматическая межпланетная станция New Horizons приблизится к карликовой планете, астрономы собираются провести полное исследование двойной системы.\n",
            "- Астрономам впервые удалось \"взглянуть\" на ранние этапы формирования галактик во всех подробностях. Об этом сообщается на официальном сайте Университета Дурхама (Durham University), сотрудники которого принимали участие в исследовании. Статья ученых опубликована в журнале Nature. При помощи 10-метрового телескопа Keck, который расположен на Гавайях и оснащен так называемой адаптивной оптикой, предназначенной для коррекции размытия изображения атмосферой Земли, исследователи наблюдали объект MACS J2135-0102. Данный объект (\"космический глаз\") располагается в созвездии Водолея и состоит из двух галактик: одна находится на расстоянии 2,2 миллиарда световых лет, другая на расстоянии более 11 миллиардов световых лет. Благодаря 8-кратному увеличению так называемой гравитационной линзы, создаваемой ближним объектом, ученым впервые удалось изучить внутреннюю структуру молодой галактики. По словам исследователей, полученные ими данные свидетельствуют о том, что в данном скоплении постепенно происходит процесс образования галактического диска и ядра. \"Космический глаз\" получил такое название потому, что для наблюдателя на Земле ближняя галактика предстает окруженной ореолом (на фото), создаваемым светом дальней галактики. Ореол также возникает под воздействием эффекта гравитационной линзы. Теория относительности Эйнштейна предсказывает, что объект большой массы (галактика или скопление темной материи) искривляет пространство вокруг себя. Свет, испускаемый телом, расположенным за этим объекте искривляется и огибает массивное препятствие. В результате дальний объект смещается относительно своего первоначального положения.\n",
            "- Астероид размером с \"Боинг\" чуть не врезался в Землю, передает MSNBC.com. Как сообщается, 8 марта 2002 года астероид 2002 ЕМ7 прошел на расстоянии в 463 тысячи километров от Земли, что немногим превышает расстояние от Земли до Луны и, с астрономической точки зрения, является крайне небольшой дистанцией. Как ни странно, это событие осталось абсолютно незамеченным обсерваториями и обнаружилось лишь четыре дня спустя. Ученые объясняют это двумя обстоятельствами: во-первых, астероид приближался к Земле со стороны так называемого слепого пятна, обращенной к Солнцу. Во-вторых, астероид не превышал 100 метров в диаметре. Несмотря на сравнительно небольшие размеры этого астероида, его падение на Землю было бы сравнимо  с взрывом ядерной бомбы.\n",
            "- Орбитальный телескоп \"Ферми\" не смог подтвердить наличие избытка высокоэнергетических электронов в космическом излучении. Этот избыток рассматривался учеными как одно из доказательств существования так называемой темной материи. О результатах наблюдений физики доложили на Съезде американского физического общества, который прошел в Денвере, штат Колорадо, а краткое изложение доклада приводит Science NOW. Напомним, что избыток электронов был обнаружен после анализа данных, собранных аппаратом ATIC в период с 2000 по 2003 год в Антарктике. В рамках миссии ученые запускали на высоту около 35 километров специальные аэростаты с оборудованием на борту. Целью исследования было изучение потоков заряженных частиц из космоса. По словам американских физиков, им не удалось обнаружить характерного \"пика\" в графике распределения электронов по энергиям в районе значений 300-800 гигаэлектронвольт. При этом статистика новых наблюдений заметно лучше, чем у предыдущего исследования: \"Ферми\" зарегистрировал около 4 миллионов электронов с подходящей энергией, в то время как ATIC успел обнаружить их всего несколько сотен тысяч. Избыток высокоэнергетических электронов, обнаруженный антарктической экспедицией, стал предметом споров в научной среде с ноября 2008 года. Некоторые физики заявили, что вероятной причиной избытка может быть аннигиляция частиц темной материи. Среди альтернативных объяснения было наличие в относительной близости от Земли невидимого источника подобных электронов, например, черной дыры средней массы. Далеко не все специалисты оказались удовлетворены результатами наблюдений \"Ферми\". Некоторые из них отмечают, что аппаратура телескопа менее чувствительна в изучаемом диапазоне энергий, чем детекторы ATIC. Последнее должно приводить к тому, что на графике будут наблюдаться не характерные \"пики\", а размытые \"возвышения\". Физики отмечают, что на представленном на докладе графике такие возвышения видны. Кроме этого в пользу существования темной материи говорят данные, полученные аппаратом PAMELA (Payload for Antimatter Matter Exploration and Light-nuclei Astrophysics - Аппарат для исследования антиматерии и астрофизики легких ядер). Он установлен на российском спутнике \"Ресурс-ДК1\", который был запущен с космодрома Байконур 15 июня 2006 года. Датчикам устройства удалось зафиксировать в космических лучах избыток позитронов, что, по некоторых теориям, также является результатом аннигиляции частиц темной материи. Считается, что привычная нам материя составляет всего пять процентов всей массы-энергии Вселенной. Из оставшихся 95 процентов 23 приходится на темную материю, а 72 - на темную энергию. Про вторую вообще мало что известно, а первая представляет собой загадочную субстанцию, которая участвует в гравитационном взаимодействии, но не участвует в электромагнитном (отсюда \"темная\" в названии, поскольку свет имеет электромагнитную природу).\n",
            "- Ученым из Университета штата Мичиган удалось создать материал с самой большой удельной поверхностью (усредненная характеристика всех внутренних полостей материала) из известных на сегодняшний день. Суммарная площадь всех каналов и перемычек внутри одного грамма подобного материала составляет 5000 квадратных метров. Работа исследователей появилась в Journal of the American Chemical Society, а ее краткое изложение доступно в пресс-релизе на сайте университета. Новый материал, получивший имя UMCM-2 (эмпирическая формула C132H66O39S8Zn12), представляет собой кристаллическую структуру, на которую натянуты мембраны из полимера (наличие подобных мембран обеспечивает высокую удельную поверхность). Кристаллическая основа имеет ячейки, состоящие из семи шестиугольных блоков различной формы (см. иллюстрацию). Основная часть микроскопических пор в материале имеет диаметр менее двух нанометров. По словам исследователей, именно отсутствие более крупных отверстий является ключевым для создания материалов с высокой удельной поверхностью. В качестве доказательства они приводят следующий пример. Предыдущий материал, который они получали, назывался UMCM-1 и также состоял из основы, на которую были натянуты полимерные мембраны. От UMCM-2 его отличало то, что ячейка структуры состояла из шести компонент с достаточно крупным каналом шестиугольного сечения в центре. При этом удельная площадь данного материала была значительно ниже, чем у UMCM-2. Открытие ученых позволило прояснить один вопрос из области водородной энергетики. Известно, что одной из основных ее трудностей является хранение топлива. Пористые материалы могли бы помочь преодолеть данную трудность. До настоящего времени ученые предполагали, что количество поглощаемого материалом водорода зависит, в основном, от удельной поверхности, однако UMCM-2 показывает, что это не совсем так. Химики установили, что данный материал поглощает водорода не более семи процентов от собственной массы. При рекордном значении удельной площади это число не сильно отличается от характеристик других пористых материалов, изучаемых для нужд водородной энергетики. Авторы работы полагают, что необходимо искать новые механизмы, отвечающие за хранение \"топлива будущего\".\n",
            "- Гигантский метеорит, вызвавший массовое вымирание живых существ на планете 65 миллионов лет назад, нанес наибольший урон Северному полушарию. К такому выводу пришли авторы новой работы, опубликованной в журнале Nature Geoscience. Коротко об исследовании пишет портал Nature News. Гипотеза о падении на Землю метеорита, произошедшем на границе палеогенного и мелового периодов, предполагает, что встреча Земли с этим объектом привела к исчезновению динозавров, а также большей части существовавшей на планете флоры и фауны. В числе прочих живых существ вымерло около 90 процентов видов нанопланктона - самой мелкой разновидности фитопланктона. Авторы нового исследования решили проверить, было ли вымирание нанопланктона на Земле равномерным. Ученые проанализировали литературные данные о сокращении разнообразия нанопланктона в Северном и Южном полушарии, а также о темпах его восстановления. Исследователи ориентировались по 17 \"контрольным точкам\" по всей планете. Ученые установили, что на севере исчезло 98 процентов видов нанопланктона, в то время как на юге этот показатель оказался равен 73 процентам. При этом в Южном полушарии восстановление биоразнообразия заняло несколько тысячелетий, а в Северном затянулось на 310 тысяч лет. По мнению исследователей, столь плачевные последствия для Северного полушария связаны с тем, что при падении метеорита именно в северные воды было выброшено наибольшее количество тяжелых металлов, токсичных для живых организмов. С таким предположением согласны не все коллеги авторов работы. Критики \"металлической гипотезы\" указывают, что воды Северного и Южного полушария разделены только формально, и по сути это один массив. В последнее время появилось немало работ, в которых рассматриваются те или иные последствия падения метеорита, \"подарившего\" Земле огромный кратер Чиксулуб. Так, один из коллективов ученых заключил, что падение метеорита не \"сожгло\" Землю, а только слегка \"поджарило\".\n",
            "- Ученые из Калифорнийского технологического института нашли объяснение необычным свойствам серебристых, или мезосферных, облаков - тонкой дымке, которая находится на высоте около 85 километров и светится по ночам. В пресс-релизе исследователи сообщают, что облака хорошо отражают свет благодаря металлической пленке, покрывающей отдельные составляющие их льдинки. Около 25 лет назад группа ученых из исследовательского центра Покер Флэт на Аляске заметила, что серебристые облака хорошо отражают сигнал радара. В данной работе исследователи определили, что этой \"способностью\" облака \"обязаны\" атомам натрия и железа, которые попадают в атмосферу с метеоритов. Ионы металлов задерживаются над Землей как раз в тех областях, где формируются серебристые облака. Исследователи определяли плотность таких железо-натриевых паров в зависимости от образования облаков. Они выяснили, что когда в мезосфере появляются серебристые облака, содержание этих металлов падает почти на 80 процентов. Авторы данной работы заключили, что необычные облака являются ловушкой для атомов натрия и железа. Догадку исследователей косвенно подтверждают лабораторные эксперименты, в которых было показано, что при температуре -123 градуса Цельсия (как раз такая температура характерна для серебристых облаков) атомы из натриевых паров покрывают поверхность частичек льда, образуя пленку.\n",
            "Впервые серебристые облака были описаны в 1885 году, через два года после извержения вулкана Кракатау, после которого в атмосферу было выброшено огромное количество пепла. Вулканическое загрязнение наблюдалось на высоте до 80 километров. Это мощное извержение оказало заметное воздействие на климат, и некоторые ученые полагают, что именно оно стало \"создателем\" серебристых облаков. Тем не менее, спустя много лет после извержения светящиеся облака продолжали появляться в мезосфере - одном из верхних слоев атмосферы на высоте от 50 до 80-90 километров. Лучше всего серебристые облака заметны в летние месяцы на географических широтах от 50 до 70 градусов на север и на юг. Светящиеся облака состоят из ледяных частиц, а летом на этих широтах атмосфера прогревается хуже всего. В последние годы растет количество фактов, доказывающих, что одной из причин появления серебристых облаков является глобальное потепление.\n",
            "- Ученые, работающие с космическим телескопом WISE, опубликовали новую порцию сделанных им снимков. Фото и их описания доступны на сайте проекта. WISE удалось запечатлеть комету P/2006 HR30. В настоящее время она приближается к Солнцу, и ее хвост протянулся почти на 15 миллионов километров. Телескоп разглядел комету благодаря тому, что работает в инфракрасном диапазоне. Фото (300 Кб) в высоком разрешении P/2006 HR30 можно посмотреть тут. Помимо кометы, WISE сфотографировал соседа Млечного Пути - галактику Андромеда, которая удалена от Земли на 2,5 миллиона световых лет. Эта ближайшая к нам сверхгигантская галактика располагается в созвездии Андромеда. Снимок (4 Мб) галактики, сделанный телескопом WISE, можно найти здесь. Кроме перечисленных объектов телескопу удалось сфотографировать галактическое скопление Печь, расположенное на расстоянии около 60 миллионов световых лет от Земли, а также регион активного звездообразования NGC 3603. Последний располагается в относительной близости от Земли (20 тысяч световых лет), поэтому считается хорошей моделью развития молодых галактик. Совсем недавно этот регион сфотографировали ученые из Европейской южной обсерватории. Полный список фотографий, сделанных орбитальным телескопом, можно посмотреть здесь. WISE был выведен на орбиту 14 декабря 2009 года ракетой-носителем Delta II. Высота орбиты аппарата составляет 525 километров. С помощью телескопа ученые планируют составить подробную карту неба в инфракрасном диапазоне, а также изучить астероиды и кометы в Солнечной системе. Совсем недавно WISE обнаружил свой первый астероид.\n",
            "-  Астрономы обнаружили у Сатурна временный радиационный пояс, который регулярно исчезает и появляется. Свои результаты ученые представят на Европейском конгрессе по планетарным наукам (European Planetary Science Congress 2009), а их краткое изложение приводится в официальном пресс-релизе конгресса. Ранее астрофизикам уже было известно, что Земля - не единственная планета, обладающая радиационными поясами (так называемыми поясами Ван Аллена) - регионами магнитосферы, где накапливаются и удерживаются попавшие в окрестность планеты заряженные частицы. Однако до настоящего времени динамика изменения поясов была изучена только для Юпитера и Земли. Теперь, благодаря миссии \"Кассини\", которая продолжается уже около пяти лет, у ученых появилась информация о поясах Сатурна. В рамках работы астрофизики изучали данные, собранные детектором MIMI, который измеряет энергию и распределение заряженных частиц в пространстве. Исследователям удалось обнаружить, что после мощных солнечных выбросов в окрестности орбиты Дионы появляется радиационный пояс. Его существование длится несколько недель. ученые полагают, что частицы, составляющие пояс, оказываются в конце концов на поверхности Дионы и соседней луны - Тефии. Кроме этого ученые установили, что внутри орбиты Тефии радиационные пояса остаются практически нетронутыми солнечными выбросами. Ученые предполагают, что данный спутник выступает в качестве \"защитника\" радиационного пояса.\n",
            "- Ученые установили, что роль Луны в зарождении жизни на Земле переоценена. Статья ученых появилась в журнале Icarus, а ее краткое изложение приводит New Scientist. В 1993 году в журнале Nature появилась статья, в которой ученые доказали - Луна играет важнейшую роль в стабилизации динамики Земли. Если бы ее не было, то гравитационное воздействие Юпитера привело бы к тому, что ось вращения нашей планеты хаотично колебалась - в частности ее угол наклона к плоскости орбиты \"скакал\" бы в пределах от 0 до 85 градусов. Подобные скачки должны приводить, например, к катастрофическим колебаниям климата, а, значит, \"противопоказаны\" развитию жизни. После этой работы утвердилось мнение о том, что наличие луны у планеты является необходимым условием развития на ней жизни. В рамках нового исследования американские ученые проанализировали, как быстро будет происходить этот процесс. При помощи компьютерного моделирования они установили, что колебания происходили бы достаточно медленно. В частности, в течение как минимум четырех миллиардов лет ось оставалась в пределах 10-50 градусов, причем периоды ее устойчивого положения могли продолжаться сотни миллионов лет. Ученые признают, что на более длинных временных промежутках колебания усиливаются, однако, 4 миллиарда они считают вполне достаточным для развития живых организмов. Как следствие, количество потенциально обитаемых экзопланет может оказаться выше, чем считается сейчас. В октябре 2011 года в журнал Astrobiology была принята статья, в которой ученые оценивали так называемую зону обитаемости - регион вокруг звезды, где на поверхности каменистой планеты может существовать жидкая вода - для красных карликов.  В результате они установили, что эта зона больше, чем считалось до сих пор, поскольку прежние работы не учитывали спектральные особенности излучения светил такого класса.\n",
            "- Физики Университета Гриффита (Австралия) и Национального университета Сингапура разработали фотонный квантовый процессор, способный одновременно рассматривать несколько сценариев развития системы в будущем. Статья ученых опубликована в журнале Nature Communications. Исследователи реализовали устройство, которое моделирует несколько бросков монеты, чьи два возможных состояния («орел» и «решка») могут не являться равновероятными. Оно создает суперпозицию всех возможных вариантов будущего на три шага вперед через кодирование квантовых состояний одного фотона. В ходе эксперимента фотон с двумя различными квантовыми состояниями мог прийти к одному из 16 различных вариантов будущего. В конце квантовый процессор вычислял распределение вероятностей случайного процесса. Информация о прошлом кодировалась в неортогональных состояниях поляризации фотона. Исследователям удалось снизить количество памяти, необходимое для анализа стохастических процессов, то есть определения будущего состояния системы, на которую действуют различные случайные факторы. Экспериментально определенные вероятности исхода оказались близки к теоретически рассчитанным значениям. В предыдущих работах суперпозиция (квантовая когерентность) поддерживалась в течение лишь одного цикла моделирования, после чего соответствующая информация должна передаваться в классическую, а не квантовую память. Это резко увеличивало объемы памяти, необходимые для расчета вероятностей исхода стохастического процесса.\n",
            "- Пользователям интернета предложили поставить на то, когда на Большом адронном коллайдере будет открыт бозон Хиггса - важнейшая элементарная частица. Данное мероприятие организовано немецким физиком Александром Унцикером (Alexander Unzicker), который, по его собственным словам, не верит в существование данной частицы. Поэтому он предлагает всем желающим сделать ставку на сайте intrade.com. Всего доступно пять основных вариантов: бозон Хиггса будет обнаружен до 31 декабря 2009, 2010, 2011, 2012 или 2013 года. Кроме этого желающие могут связаться с Унцикером по электронной почте, чтобы сделать ставку (не больше 100 долларов) неофициально. Подробно о правилах участия в споре рассказано на сайте ученого bet-on-the-higgs.com. В своем неверии в существование бозона немецкий физик не одинок. Так, Стивен Хокинг еще в 2008 году поставил 100 долларов на то, что таинственный бозон не будет найден (ставка была сделана перед первым запуском ускорителя 10 сентября 2008 года). Легендарный физик заявил, что отсутствие бозона Хиггса при столкновениях частиц в БАК будет куда более впечатляющим, чем его обнаружение. Сам Питер Хиггс, однако, неоднократно заявлял, что предсказанный им бозон существует и будет найден. Бозон Хиггса является элементарной частицей, ответственной за наличие у других частиц массы. Обнаружение этого объекта является одной из основных задач Большого адронного коллайдера.\n",
            "- Земные астрономы получили первое подтверждение теории о способности черных дыр разрушать звезды. Специалисты европейской и американской радиообсерваторий зафиксировали интенсивный поток рентгеновского излучения, идущий из галактики RXJ1242-11. По мощности излучение соответствует взрыву сверхновой. Центром галактики RXJ1242-11, расстояние до которой составляет 700 миллионов световых лет, является \"черная дыра\". Ее масса оценивается в 100 миллионов масс Солнца. По мнению астрономов, всплеск рентгеновского излучения произошел в результате поглощения  части вещества оказавшейся рядом звезды. Интерпретация произошедшего выглядит следующим образом: траектория уничтоженной звезды, изменившаяся в результате некоего события, оказалась в опасной близости от \"черной дыры\". Под воздействием ее гравитационного поля звезда начала \"растягиваться\". Обычно в таких случаях захваченный объект теряет незначительную часть вещества и становится спутником - так получаются двойные звезды. Однако на этот раз \"растяжение\" звезды превысило критический порог, и она распалась. Большая часть газа рассеялась в пространстве, \"черная дыра\", по оценкам астрономов, поглотила около одного процента вещества. По массе уничтоженная звезда была эквивалентна Солнцу, полагают ученые. Ранее картина \"разрывания\" звезд \"черными дырами\" (stellar tidal disruptions) существовала только в теории, и наблюдение рентгеновского выброса сочтено первым подтверждением ее правильности. \"Черной дырой\" называют астрономический объект, обладающий такой большой массой, что его притяжение не способен преодолеть даже свет. Размер \"черных дыр\" при этом намного меньше размера звезд, под действием собственной гравитации они сжимаются до чрезвычайно высокой плотности. Увидеть \"черную дыру\" нельзя, их существование обнаруживают по косвенным признакам - поведению соседних объектов или излучению, возникающему при поглощении вещества.\n",
            "- Ученые из Европейской южной обсерватории ESO впервые исследовали внутреннюю структуру астероида. Оказалось, что похожий на картофелину Итокава имеет различную плотность в разных своих частях. Исследование опубликовано в Astronomy & Astrophysics, кратко его содержание приводит сайт обсерватории. Выводы исследователей основаны на анализе изменения скорости вращения астероида со временем. Наблюдения проводились с 2001 по 2013 годы с помощью установленного в обсерватории Ла Силья телескопа NTT и нескольких других инструментов. Измерить плотность разных частей астероида удалось из-за так называемого эффекта Ярковского-О’Кифа-Радзиевского-Пэддэка (YORP-эффекта). Он заключается в том, что вращение небольших космических тел сложной формы может меняться под действием солнечного света. Эффект объясняется тем, что, излучаясь от по-разному нагретых частей астероида, свет может сообщать ему дополнительное ускорение. В предельном случае YORP-эффект иллюстрируется тем, что покоящийся пропеллер, если его облучить мощным потоком света, начинает вращаться. Ученые установили, что вращение Итокавы очень слабо, но ускоряется — период вращения уменьшается на 0,045 секунды каждый год. Поскольку ученые знали форму астероида и могли предсказать ускорение, полученное в результате YORP-эффекта, это позволило сопоставить реальные данные и данные моделирования. Оказалось, что при условии однородной плотности астероида тех значений ускорения, которые ученые наблюдали, получить нельзя. Это, по словам астрономов, говорит о том, что разные части картофелины Итокавы имеют разную плотность: от 1,75 грамм на кубический сантиметр в одной части до 2,85 грамм на кубический сантиметр в другой части. Итокава — околоземный астероид, чья орбита пересекает орбиты Марса и Земли. Его масса составляет около 35 миллионов тонн, а максимальный диаметр немного превышает полкилометра. 20 ноября 2005 года на астероид высадился японский космический аппарат Хаябуса, который затем доставил образцы грунта астероида на Землю.\n",
            "- Лунные моря и кратеры образовались при необычных обстоятельствах, считает группа ученых из нескольких стран. Причина этого - \"перегруппировка\" планет-гигантов. В статье,опубликованной журналом Nature, говорится, что Юпитер, Сатурн, Уран и Нептун четыре миллиарда лет назад двигались по близким орбитам, а их уход на современные позиции вызвал интенсивные метеоритные дожди. Ученые смоделировали поведение планет вскоре после их возникновения. Согласно гипотезе, вблизи \"основных тел\" располагалось кольцо так называемых планетезималей - каменно-ледяных глыб, напоминающих современные астероиды. Периодически движение планет приводило к тому, что отдельные глыбы оказывались \"выброшены\" наружу кольца или \"вброшены\" вовнутрь. Одновременно при каждом броске изменялась траектория самих планет. Одной из жертв \"бомбардировки\" стала Луна. Тогда как ее возраст оценивают 4,5 миллиардами лет (как и возраст Земли), основные видимые глазом детали лунного рельефа - моря и крупнейшие кратеры - образовались только 700 миллионов лет спустя. Один из соавторов гипотезы, американский исследователь Гарольд Левинсон, считает убедительным доводом в ее пользу, что полученные в ходе моделирования \"окончательные\" орбиты планет с большой точностью совпадают с известными нам. Кроме того, гипотеза объясняет странное распределение астероидов-\"троянцев\": они, не являясь спутниками Юпитера,  следуют за ним на фиксированном расстоянии.\n",
            "- Инженеры обнаружили, что пробы грунта, анализируемые марсоходом MSL (\"Любопытство\") будут загрязнены тефлоном прокладок инструмента. Сообщение представителей NASA приводит ScienceNow. Одна из главных задач марсохода - анализ химического состава грунта планеты на поверхности и на небольшой глубине. Для этого аппарат оснащен роботизированным манипулятором с лопаткой и буром. Образцы грунта будут помещаться в специальную камеру марсохода и подвергаться нагреванию до 1000 градусов Цельсия. Испаряющиеся при этом вещества будут анализироваться различными приборами. Дополнительные испытания дубликатов бура были проведены уже после запуска марсохода. Они показали, что в ходе бурения в образцы грунта попадают частицы тефлоновых прокладок инструмента. Концентрация вещества достигает нескольких частей на миллион, что сравнимо с содержанием углерода в земных породах. Загрязнение способно повлиять на анализ марсианского углерода, поскольку этот химический элемент составляет четверть массы политетрафторэтилена (СF2-СF2)n, известного под принадлежащей компании DuPont маркой \"тефлон\". При нагревании большая часть полимера будет разрушаться, что приведет к образованию большого количества низкомолекулярных соединений углерода и фтора. По словам Пола Махаффи (Paul Mahaffy) из Центра космических полетов NASA, частицы тефлона не должны сильно повлиять на результаты анализов, так как продукты его распада можно будет легко идентифицировать. Однако убедиться в этом можно будет только после начала работы аппарата. Марсоход был запущен 26 ноября 2011 года и прибудет на Красную планету 6 августа. Это крупнейший роботизированный аппарат за всю историю исследования Марса, его масса составляет около 900 килограмм. Среди его аналитических инструментов имеются квадрупольный масс-спектрометр, газовый хроматограф, и рентгеновские спектрометры. Для поиска льда под поверхностью планеты предназначен созданный в России нейтронный детектор DAN.\n",
            "- Доктор Алан Штерн (Alan Stern) из Хьюстонского института лун и планет считает, что малые спутники Плутона - Гидра и Никс - играют роль космических пылевых пульверизаторов. Пыль, выбиваемая из них столкновениями с другими небесными телами, раскрашивает Плутон и Харон в серый цвет. Доктор Штерн является в настоящее время главой отдела научных миссий NASA и крупнейшим в мире специалистом по Плутону и поясу Койпера  - области Солнечной системы за орбитой Нептуна, в которой, кроме Плутона, располагается большое количество небольших объектов типа астероидов. Эти результаты ставят под сомнение принятую в настоящий момент гипотезу возникновения спутников, сообщает журнал New Scientist. Плутон – карликовая планета (статуса полноценной планеты его лишили в 2006 году) на окраине Солнечной системы. У нее существует три спутника – крупный Харон (открытый в 1978 году) и малые Никс и Гидра(открытые в 2005 году). Сразу после открытия малых спутников астрономы выдвинули гипотезу о том, что они образовались в результате столкновения Плутона с крупным небесным телом, возможно кометой. Одним из оснований для этого предположения было то, что Харон, Никс и Гидра имеют один и тот же серый цвет, а значит, состоят из одного материала. Доктор Алан Штерн считает, что у одинакового цвета Харона и остальных спутников есть иное объяснение. Тела из пояса Койпера регулярно сталкиваются с Гидрой и Никс (Никс - мать Харона). В результате этого в межпланетное пространство выбрасывается масса пыли. Силы притяжения близлежащих и более массивных Харона и Плутона не дают пыли уйти в космическое пространство. Часть оседает обратно на Гидру и Никса, а часть оказывается на Плутоне и Хароне. Согласно расчетам толщина образующегося пылевого покрова не превышает нескольких сантиметров. Фотографии Плутона, полученные телескопом \"Хаббл\", показывают, что его поверхность имеет красный, а не серый цвет. Доктор Штерн объясняет это тем, что в азотной атмосфере Плутона оседающая пыль сразу покрывается льдом. Если гипотеза доктора Штерна верна, то Плутон все равно сереет, хотя очень медленно. Это изменение цвета может быть обнаружено при помощи  исследовательского зонда Нью Хорайзонз (New Horizons), который долетит до Плутона в 2015 году.\n",
            "- Две сверхмассивные черные дыры, крутящиеся друг вокруг друга в центре далекой галактики в созвездии Девы, ожидает столкновение, в результате которого произойдет один из мощнейших взрывов во Вселенной. К такому выводу пришли американские астрономы, авторы статьи в журнале Nature. Столкновения черных дыр следует ожидать меньше, чем через миллион лет, и выделившейся в результате него энергии будет в сто миллионов раз больше, чем при взрыве сверхновой. Данную пару (PG 1302-102) астрономы обнаружили в январе 2015 года, обратив внимание на необычно яркое пятно ультрафиолетового излучения в центре галактики. Одна из черных дыр облетает вторую по орбите примерно раз в пять лет. Со временем они будут все ближе друг к другу, генерируя волны в пространстве-времени. Более яркая из черных дыр вращается со скоростью, достигающей семи процентов от скорости света. Астрономы выяснили, какой эффект такие скорости дают в ультрафиолетовом излучении (в два с половиной раза ярче, чем в видимом свете). Один из авторов статьи сравнивает этот эффект с лампочкой, которая светит то на 100 ватт, то на 60, то на 20. Многие черные дыры, в том числе и сверхмассивные в активных центрах галактик, в ходе своей эволюции могут слиться друг с другом. Например, гравитационные объекты в центрах Млечного Пути и Туманности Андромеды после поглощения последней галактикой первой через примерно пять миллиардов лет объединятся в одну черную дыру.\n",
            "- Космический телескоп «Хаббл» представил снимки двух сталкивающихся галактик. Телескопу удалось заснять две массивные спиральные галактики, которые из-за гравитации приближаются друг к другу и меняют свою структуру. Объекты назвали 2MASX J06094582-2140234, сообщается на сайте НАСА. Такое событие может привести к слиянию звездных систем и образованию из них одной галактики, или две системы, пройдя одна сквозь другую, разлетятся. В последнем случае, тем не менее, спиральные рукава галактик несколько деформируются. Нашу Галактику — Млечный Путь, ожидает такая же учаcть: она сольется с соседней Андромедой. Этот процесс будет занимать несколько сотен миллионов лет. Однако, как считают ученые, обнаруженная ими пара 2MASX J06094582-2140234, в отличие от Млечного Пути и Андромеды, после взаимодействия не образует одну галактику, а разбежится. Изображение 2MASX J06094582-2140234 телескоп «Хаббл» получил в локальной Вселенной (в пределах одного миллиарда световых лет от Солнца) с помощью камеры-спектроскопа NICMOS. Взаимодействие галактик приводит к появлению новых регионов звездообразования, которые интенсивно светятся в инфракрасной части спектра. Такие галактики получили название LIRGs (Luminous Infrared Galaxies)— светящихся инфракрасных галактик. Их исследование необходимо для выяснения механизмов звездообразования и эволюции галактик.\n",
            "- Астрономы опубликовали новые фотографии туманности Пламя, известной также как NGC 2024. Об этом сообщается в пресс-релизе на сайте Южной европейской обсерватории (ESO). Фотография туманности в высоком разрешении доступна здесь. Туманность располагается на расстоянии примерно 3000 световых лет от Земли в созвездии Орион. Ее свечение обусловлено большим количеством молодых звезд, которые постоянно рождаются в данном регионе. В центре хорошо видна темная пылевая структура, заслоняющая свечение. Для получения снимков ученые использовали данные, собранные 1,5-метровым телескопом в Чили. Полученные снимки являются результатом комбинации изображений объекта в различных диапазонах, включая инфракрасный. Совсем недавно ESO завершила проект Gigagalaxy Zoom. В его рамках были опубликованы фотографии туманности Лагуна, панорамный обзор Млечного Пути, а также фотография центральной части Галактики. Выход проекта был приурочен к Международному году астрономии, который отмечается в 2009 году.\n",
            "- Сотрудники некоммерческого проекта по поиску инопланетян SETI@home пожаловались на серьезный дефицит видеокарт. Об этом сообщает «Би-би-си». Команда разработчиков из Калифорнийского университета в Беркли столкнулась с проблемой, когда попыталась закупить новейшее и самое мощное оборудование для двух обсерваторий. По словам ведущего ученого проекта по поиску внеземных цивилизаций Дэна Вертимера, сотрудники проекта не смогли найти необходимые для работы видеокарты. «Мы хотели бы использовать последнюю версию графических процессоров, но не можем добыть их. Это ограничивает наш поиск инопланетян», — заявил Вертимер. Он также добавил, что проблема заключается не в бюджете, а именно в отсутствии видеокарт в магазинах. Журналисты Motherboard связывают недостаток новейших графических процессоров с активностью майнеров, которые используют данные видеокарты для добычи криптовалюты. Руководство NVIDIA недавно пообещало инвесторам решить производственную проблему. Кроме того, разработчики предложили поставщикам ограничить покупку видеокарт отдельным потребителям, чтобы остановить майнеров от приобретения всех новейших графических процессоров разом. SETI@home — эксперимент американских ученых, в котором персональные компьютеры добровольцев увеличивают вычислительную мощность для обработки и анализа радиосигналов из космоса. У проекта установлены собственные суперкомпьютеры на нескольких телескопах.\n",
            "- Исследователи из Центра холодной материи охладили вещество до миллионных долей градуса выше абсолютного нуля. Ученым удалось поставить рекорд по приближению к минимально возможному значению температуры. Результаты эксперимента опубликованы в журнале Nature Physics, кратко об исследовании рассказывается в пресс-релизе на сайте Phys.org. Абсолютный нуль равняется минус 273,15 градуса Цельсия, или 0 кельвинов (К). При этом повышение температуры на один градус Цельсия равно ее повышению на один кельвин. Температура вакуума превышает абсолютный нуль на 2,7 К из-за теплового излучения, оставшегося после Большого взрыва и равномерно заполняющего Вселенную. В ходе многочисленных экспериментов физикам удавалось достичь триллионных долей одного кельвина, охлаждая отдельные атомы, однако сделать то же самое с молекулами пока не удавалось. Чтобы решить эту проблему, ученые скомбинировали два традиционных подхода, понизив температуру молекул до рекордных долей градуса. Исследователи использовали молекулы фторида кальция, которые помещались внутрь магнитно-оптической ловушки. Их охлаждали с помощью лазеров. Атомы вещества при этом поглощают фотоны излучения и переизлучают их, теряя больше энергии, чем приобретая. Однако таким способом возможно понижение температуры молекулы лишь до определенного предела (доплеровского). Чтобы преодолеть это ограничение, физики применили метод сизифова охлаждения, при котором используются два двигающихся навстречу друг другу лазерных пучка, забирающие кинетическую энергию у молекулы. Ученые заявили, что температура охлажденных таким способом молекул достигла 50-миллионной доли градуса. По словам исследователей, это замедляет химические реакции, в которые вступает остывшее вещество, позволяя наблюдать за механизмами их протекания.\n",
            "- Астрономы обнаружили новый класс космических объектов, который они назвали суперпланетарными туманностями (Super Planetary Nebulae). Статья исследователей с подробным изложение результатов появилась в журнале Monthly Notices of the Royal Astronomical Society, а ее краткое изложение приводится в пресс-релизе Королевского астрономического общества. В рамках работы группа ученых из США и Австралии изучала при помощи радиотелескопов Большое Магелланово Облако - соседнюю с Млечным Путем карликовую галактику. В результате им удалось обнаружить 15 активных в радиодиапазоне объектов, которым соответствовали планетарные туманности, видимые в оптические телескопы. По словам исследователей, данный факт означает, что им удалось обнаружить необычайно массивные планетарные туманности. Обычно эти объекты обнаруживают вокруг звезд, масса которых составляет около 0,3-0,6 солнечных. В данном случае расчеты показывают, что центральные звезды туманностей имеет массу 1-8 солнечных. При этом масса газа и пыли, которые входят в туманность, составляет около 2,6 солнечных. Планетарные туманности образуются на последнем этапе развития звезд, когда светила сбрасывают внешнюю оболочку. В результате образуется газопылевое облако, в центре которого обычно располагается белый карлик. По словам астрономов, они настолько были удивлены обнаружением массивных туманностей, что проверяли свое открытие в течение трех лет прежде, чем опубликовать результаты.\n",
            "- Физики установили, что обычный всплеск воды может приводить к образованию сверхзвуковых потоков воздуха. Статья исследователей появилась в журнале Physical Review Letters, а ее краткое изложение приводится на сайте Американского физического общества. Во время падения тела в воду образуется, вообще говоря, три различных струи - джета. Первый, воздушный, возникает из-за того, что тело выталкивает газ из полости жидкости, созданной падением. Второй, водный и направленный вверх, возникает когда стенки полости схлопываются. Наконец третий и почти невидимый поток следует за тонущим объектом. В рамках исследования ученые моделировали как раз ситуацию падения в воду небольшого тела. Для этого они использовали диск диаметром около 2 сантиметров, который свободно перемещался по нити под действием специального мотора. При этом над водой были распылены микроскопические капли глицерина, перемещение которых отслеживалось камерой, делающей до 15 тысяч кадров в секунду. Собранные данные использовались для численного моделирования падения тела со скоростью около 1 метра в секунду. Оказалось, что перед самым закрытием горлышка полости (в это время его диаметр составляет около 1 миллиметра) скорость воздуха превосходит 331 метр в секунду, что является скоростью звука при нормальных условиях. По словам ученых, они совершенно не ожидали обнаружить столь сложные эффекты в простейшем опыте. Совсем недавно ученые совершили аналогичное открытие в иной области. Физики установили, что магнитное поле, создаваемое двумя скрещивающимися проводниками - конфигурация, часто встречающаяся в бытовой электронике, - может иметь сложнейшую хаотическую структуру.\n",
            "- Астрофизики из Колумбийского университета предложили способ, который надежно укроет Землю от глаз инопланетян. Для этого необходимо сделать невозможным обнаружение нашей планеты во время ее прохождения на фоне Солнца. Препринт статьи опубликован на сайте arXiv.org. Когда планета пересекает диск своей родной звезды, то видимая яркость последней снижается на короткое время. Зная направление на ту точку в космическом пространстве, откуда за Землей может вестись наблюдение, люди могут обмануть инопланетян, предотвращая падение яркости Солнца. По словам ученых, человечество может маскировать Землю в оптическом диапазоне с помощью обыкновенного монохромного лазера мощностью в 30 мегаватт, включая его каждый год примерно в течение 10 часов. Такая величина сравнима с мощностью современного электропоезда. «Плащ-невидимка», который способен скрыть планету на всех других длинах волн, требует использования ряда перенастраиваемых лазеров с суммарной мощностью в 250 мегаватт. Однако вовсе не обязательно прятать от чужих глаз всю планету, если можно скрыть следы биологической деятельности в ее атмосфере, например, высокое содержание кислорода. Для этого, по расчетам ученых, понадобится лазер с пиковой мощностью в 160 киловатт, который необходимо запустить в момент транзита планеты на фоне звезды. Есть и другое применение такой технологии. Инопланетяне могут намеренно искажать для внешнего наблюдателя уровень светимости звезды во время прохождения на ее фоне планеты. Такое вмешательство служит своего рода «маяком» для систем поиска внеземных цивилизаций и даже может быть способом передачи информации. Астрономы предлагают поискать подобные «маяки» в архивах данных SETI. SETI представляет собой различные проекты по поиску внеземных цивилизаций, а также разработке способов межзвездной связи. Государственная поддержка таких исследований почти прекратилась в 90-х годах из-за многих лет безрезультатного поиска. На настоящий момент не было обнаружено ни одного сигнала искусственного внеземного происхождения.\n",
            "- Физикам удалось заселить свободное место в графене лишним электроном. Статья ученых появилась в журнале Physical Review Letters, а ее краткое изложение приводится на сайте Physical Review Focus. В рамках работы ученые обработали ионами поверхность графита, который, с теоретической точки зрения, может рассматриваться как \"стопка\" графеновых листов. Затем, при помощи иглы сканирующего туннельного микроскопа, проводилось измерение электропроводности материала. По словам ученых, в местах, где ионы выбили атомы углерода из поверхности графита, наблюдались скачки электропроводности. Физики полагают, что эти скачки были связаны с наличием в этом месте электрона. Подобный эффект был предсказан достаточно давно, однако на практике наблюдался только в случае большого количества дефектов в структуре графена. Теперь, однако, данное явление было изучено в случае отдельно взятой \"дырки\" в листе. Графен представляет собой двумерную гексагональную решетку, в узлах которой располагаются атомы углерода. В последние годы этот материал интенсивно изучается как теоретиками, так и экспериментаторами. Так, недавно физики смогли сделать графен сверхпроводящим.\n",
            "- Специалистам по квантовой коммуникации удалось передать с помощью одного фотона рекордное количество информации – 1,63 бита, сообщает журнал New Scientist со ссылкой на статью в Nature Physics. В классическом случае с одним фотоном можно передать один бит информации – фотон находится в одном из двух возможных состояний, определив, в каком именно, адресат получает один бит. Ученые давно стремятся увеличить \"емкость\" фотона, повысив пропускную способность канала и скорость передачи данных. Теоретически это возможно, но мешает несовершенство современных приборов. Один из используемых методов увеличения емкости – квантовое плотное кодирование – основан на способности пары фотонов находиться в запутанном состоянии. Свойства одного фотона изменяются одновременно со свойствами другого фотона, с которым он запутан, даже если они разнесены в пространстве. Схема квантового плотного кодирования приведена на иллюстрации: отправитель (Боб) и адресат (Алиса) получают по фотону, причем фотоны запутаны друг с другом. Боб приводит пару в одно из четырех возможных состояний (воздействуя лишь на свой фотон) и передает Алисе эту информацию (пересылая, опять же, лишь один фотон). Таким образом, измерив состояние пары, Алиса в идеальном случае могла бы получить два бита, хотя для их передачи использовался лишь один фотон. В реальности, однако, этого не происходит: современные оптические устройства не позволяют различить все четыре состояния запутанной пары фотонов, максимум – три. Таким образом, Алиса может получить максимум log23 – 1,585 бита информации. Хулио Баррейро (Julio Barreiro) и его коллегам из Университета Иллинойса в Урбана-Шампейн удалось улучшить этот результат, повысив способность детектора (Алисы) распознавать состояния. Группа Баррейро придала фотону орбитальный угловой момент, заставив его двигаться по спирали. Угловой момент сам не является носителем информации, но позволяет детектору лучше определить, в каком состоянии находится пара. Довести объем передаваемой информации до двух бит опять же пока не удалось, лучший практический результат – 1,63 бита, что, однако, уже является рекордом.\n",
            "- НАСА назвало один из кратеров на карликовой планете Церера в честь Яровита — бога плодородия, урожая и войны из мифологии западных славян. Кратер диаметром 66 километров располагается в северном полушарии Цереры. Фотографии объекта на карликовой планете были получены в конце сентября 2015 года с высоты в 1470 километров над ее поверхностью. Об этом сообщается на сайте агентства. Яровиту поклонялись племена западных (древних полабских и вендских) славян до их покорения крестоносцами. О том, как выглядело божество, современной науке неизвестно. Все памятники о нем уничтожены крестоносцами. Информация о роли Яровита в мифологическом мировоззрении славян известна из представлений о Яриле — аналогичном восточнославянском божестве. Станция Dawn была запущена 27 сентября 2007 года ракетой-носителем Delta 2 с космодрома на мысе Канаверал в США, а на орбите около Цереры оказалась 6 марта 2015-го. Стоимость проекта по изучению астероида Веста и карликовой планеты — около 500 миллионов долларов. Церера открыта в 1801 году итальянцем Джузеппе Пиацци и названа в честь древнеримской богини плодородия. Диаметр карликовой планеты — 950 километров. Это самое крупное небесное тело в поясе астероидов между орбитами Марса и Юпитера.\n",
            "- Астрономы предполагают, что один из крупнейших спутников Сатурна, Япет, обязан своей необычной внешностью \"столкновению\" с кольцами планеты. Изображения, переданные на Землю аппаратом Cassini, должны прояснить историю этого происшествия. Неправильная форма характерна для тех \"лун\", которые являются обломками более крупных небесных тел. Образовавшиеся при столкновении астероидов друг с другом, они были впоследствии \"захвачены\" крупными планетами. Ученые, однако, считают, что таким сценарием сложно объяснить все особенности Япета. На фотографиях можно увидеть, что поверхность спутника поделена на светлую и темную области, а вдоль половины экватора тянется сплошной вал высотой 20 километров. Радиоастроном Пауло Фрейре выдвинул гипотезу, согласно которой оба необычных образования - вал и темная область - возникли при  соприкосновении Япета и колец Сатурна. Лед и космическая пыль, из которых они состоят, \"осели\" на Япете в качестве экваториального вала, а выделившаяся при этом энергия способствовала рассеянию части пыли по поверхности. Соприкосновение было недолгим, и поэтому изменения затронули только обращенную в тот момент к кольцам половину спутника. Япет - третья по величине из \"лун\" Сатурна - был открыт астрономом Кассини в 1671 году. 310 лет спустя аппарат Voyager получил первые снимки его поверхности.\n",
            "- Международный коллектив геологов оценил содержащиеся в гигантском подземном океане Земли запасы воды. Соответствующее исследование опубликовано в журнале Science Advances, кратко о нем сообщает New Scientist. На глубине от 410 до 660 километров под поверхностью Земли, в слое, который отделяет верхнюю мантию от нижней, содержится, согласно оценкам ученых, столько же воды, сколько и в Мировом океане. Расчеты специалистов основаны на имитации условий, в которых находятся минералы, в частности рингвудит, в мантии планеты. Оказалось, что включение воды в данный минерал (1-2 процента по массе) придает ему наблюдаемую вязкость. В марте геохимики из России, Франции и Германии обнаружили на глубине 410-660 километров под поверхностью Земли океан архейского периода (возрастом 2,7 миллиарда лет), объем которого (но не масса), по их оценкам, в разы превышает размеры Мирового океана. Огромный водоем расположен под земной корой и сформирован в древности в условиях высоких давлений и температур (1530 градусов Цельсия). Вода в нем заключена в кристаллическую структуру минералов.\n",
            "- Жители Енбекшильдерского района Акмолинской области Казахстана наблюдали сразу три Солнца, сообщает \"Фергана.Ру\". Подобное атмосферное явление, по словам ученых, является крайне редким. Для его возникновения необходимо стечение сразу нескольких обстоятельств. Погода должна быть ясной, а светило должно находиться невысоко над горизонтом. Иллюзия нескольких светил создается кристаллами льда в перистых облаках на высоте 5-10 километров. Обычно эти кристаллы приводит к формированию вокруг Солнца гало, нередко разноцветного, однако при особом расположении способны создавать иллюзию нескольких светил. Традиционно с появлением подобных явлений связано большое количество примет. Например, некоторые говорят, что появление нескольких Солнц - предвестник холодной погоды. Другие увязывают появление солнц и гало (особенно крестообразной формы) со всевозможными несчастьями.\n",
            "- Астрономы установили, что необычный космический объект SCP 06F6, вероятно, является взрывом сверхновой ранее неизвестного типа. Об этом сообщается в пресс-релизе Университета Уорика, сотрудники которого принимали участие в работе, а статья астрономов появилась в журнале Astrophysical Journal Letters. Объект SCP 06F6 был обнаружен в 2006 году телескопом \"Хаббл\". Он появился неожиданно и угасал в течение 120 дней, что в четыре раза дольше, чем типичный период угасания сверхновой. Кроме этого дальнейшие наблюдения показали, что во время взрыва выделилось почти в 100 раз больше рентгеновского излучения, чем выделяется при взрыве сверхновой. В рамках нового исследования ученые сравнили спектр излучения SCP 06F6 со спектром излучения так называемых углеродных звезд - светил, в атмосфере которых присутствует большое количество углерода. Оказалось, что спектры похожи, поэтому ученые предположили, что имел место взрыв углеродной звезды. Зная спектр, по красному смещению они смогли определить расстояние до объекта: оно составило два миллиарда световых лет. По мнению специалистов, новые результаты делают объект еще более загадочным. Во-первых, ученые отмечают, что сектор пространства, где находится SCP 06F6 почти пуст: в окрестности звезды отсутствуют крупные галактики. Во-вторых, по мнению ученых, большое количество рентгеновского излучения указывает на то, что в деле была замешана черная дыра. В связи с этим ученые предполагают, что наблюдаемый взрыв стал результатом гибели углеродной звезды под воздействием колоссальной гравитации дыры, которая либо \"пролетала\" мимо, либо находилась в центре маленькой неправильной галактики, в которой, вероятно, находилась звезда. По спектрам излучения сверхновые делят на четыре основных типа. Тип Ia является результатом взрыва белого карлика в двойной системе, который \"крадет\" материю у звезды-компаньона. Взрыв происходит тогда, когда масса карлика превышает так называемый предел Чандрасекара, который равен примерно 1,4 солнечных. Остальные сверхновые типа Ib, Ic и II являются результатом гибели массивных звезд разных классов. Легко видеть, что, если гипотеза подтвердится, то SCP 06F6 не попадает ни в один из данных классов.\n",
            "- Физики получили новые данные о распределении нейтронов внутри ядра свинца. Статья исследователей принята к публикации в журнале Physical Review C, ее препринт доступен на сайте arXiv.org, а ее краткое изложение приводит ScienceNOW. В рамках работы ученые облучали электронами ядра свинца-208. Электроны взаимодействовали как с протонами в ядре (электромагнитное взаимодействие), так и с нейтронами (слабое взаимодействие). Последнее, которое и интересовало ученых, приводит к изменению соотношений по-разному поляризованных электронов. В квантовой механике элементарные частицы и их системы описываются некоторыми функциями, называемыми волновыми (они, в некотором смысле, описывают вероятность нахождения той или иной частицы системы в данной точке). Такое описание может приводить к тому, что частица оказывается размазана по некоторому региону пространства. Именно поэтому в работе речь идет о совместном распределении нейтронов и протонов. В рамках этой работы ученые определили несколько интересных свойств такого распределения. Например, оказалось, что \"слабый\" радиус ядра (то есть радиус сферы, внутри которой размазаны заряды в смысле слабого взаимодействия) больше электромагнитного (то есть радиуса, внутри которого обитают электромагнитные заряды). Как следствие у атома свинца существует тонкая нейтронная корка, под которой лежат протоны. Отличительной особенностью новой работы является то, что это исследование в основном полагается на эксперимент, в отличие от предыдущих, которые использовали преимущественно численное моделирование. По словам исследователей, новые данные помогут, например, в изучении многих космологических вопросов. Так, результаты о распределении протонов и нейтронов помогут уточнить модели нейтронных звезд, которые устроены похожим образом - у них тоже есть нейтронная корка. Также данные могут прояснить детали R-процесса, ответственного за образование тяжелых элементов во время взрыва сверхновых.\n",
            "- Астрономы обнаружили черную дыру массой от 24 до 33 солнечных масс. Это самая тяжелая из тех черных дыр, которые образовались вследствие коллапса ядра звезды. Предыдущий рекорд - 16 солнечных масс - продержался всего две недели, сообщает NASA. Для астрономического рекорда это курьезно мало. Впрочем, с научной точки зрения интересен не столько рекорд, сколько новые данные, которые можно получить благодаря новым открытым объектам. Так, масса обнаруженной дыры превосходит теоретический предел массы черных дыр, рассчитанный для нашей галактики (сама дыра находится в системе X1 галактики IC 10, удаленной от Земли примерно на 1,8 миллиона световых лет). Чем массивнее звезда, тем тяжелее будет остающаяся после нее черная дыра, однако есть некоторый предел, за который перешагнуть (по расчетам) не удается: как бы ни была тяжела звезда, все равно большая часть ее массы будет унесена со звездным ветром или потеряется при вспышке сверхновой. Поэтому максимально возможная масса черной дыры в галактике Млечный Путь - 15-20 солнечных масс. Дыра, поставившая новый рекорд, в эти рамки не вписывается. Это предположительно объясняется тем, что в других галактиках звезды имеют иной состав: в них меньше относительная массовая доля элементов, которые тяжелее гелия и водорода. За счет этого они теряют меньше вещества со звездным ветром. Напоминаем, что речь в заметке идет только о черных дырах, образовавшихся вследствие коллапса ядра звезды. Существуют значительно более массивные черные дыры, но они возникают другим образом.\n"
          ]
        }
      ]
    },
    {
      "cell_type": "code",
      "source": [
        "#тоже гуд работает, но мне кажется скам не скамит\n",
        "import matplotlib.pyplot as plt\n",
        "from sklearn.cluster import Birch\n",
        "\n",
        "# dataset, clusters = make_blobs(n_samples = 600, centers = 8, cluster_std = 0.75, random_state = 0)\n",
        "\n",
        "model = Birch(branching_factor = 50, n_clusters = 5, threshold = 1)\n",
        "\n",
        "model.fit(reduced_emb)\n",
        "\n",
        "pred = model.predict(reduced_emb)\n",
        "\n",
        "cluster_labels = model.labels_\n",
        "cluster_labels.max()\n"
      ],
      "metadata": {
        "colab": {
          "base_uri": "https://localhost:8080/"
        },
        "id": "IHUPDZa4u9-1",
        "outputId": "6bf84226-80b9-4ef8-c120-b0417a35964c"
      },
      "execution_count": null,
      "outputs": [
        {
          "output_type": "execute_result",
          "data": {
            "text/plain": [
              "4"
            ]
          },
          "metadata": {},
          "execution_count": 94
        }
      ]
    },
    {
      "cell_type": "code",
      "source": [
        "indices_1 = np.where(cluster_labels == 0)[0]\n",
        "df_filtered = df[df.index.isin(indices_1)]\n",
        "# df_filtered\n",
        "# print(len(df_filtered))\n",
        "for i in range(len(df_filtered)):\n",
        "  print(df_filtered.iloc[i]['text_short'])\n",
        "  if i == 20:\n",
        "    break"
      ],
      "metadata": {
        "colab": {
          "base_uri": "https://localhost:8080/"
        },
        "id": "CJH_iBHDu_cs",
        "outputId": "fa3ed2a8-7b3f-4044-a642-62413be4d03b"
      },
      "execution_count": null,
      "outputs": [
        {
          "output_type": "stream",
          "name": "stdout",
          "text": [
            "Журналист Владимир Познер снял документальный фильм «Шекспир. Предупреждение королям…», премьера которого пройдет 11 декабря в 23:40 на Первом канале. Об этом он рассказал «Ленте.ру». «Вместе со съемочной группой мы сделали фильм о Шекспире. Но не о Шекспире вообще, поскольку это была бы гигантская задача. А о том, как Шекспир относился к власти и к властелинам. Поэтому такое название», — подчеркнул Познер. Он отметил, что в документальной картине присутствуют художественные элементы — небольшие фрагменты из произведений Шекспира. Журналист добавил, что для фильма взял интервью у известных актеров — Кейт Бланшетт, а также Джозефа и Ральфа Файнса. «Снимая такой фильм, нужно очень глубоко влезть в биографию Шескпира, в его произведения. Я, например, выяснил, что Шекспир довольно часто брал уже написанные пьесы и потом просто видоизменял их, переписывал, оставляя нетронутым сам сюжет. Еще я выяснил для себя, насколько он умело критиковал власть во время, когда это было чрезвычайно опасно», — заявил Познер. Владимир Познер — российский и американский журналист, телеведущий и писатель, первый президент Академии российского телевидения (1994—2008).\n",
            "Компания Sony представила компактную видеокамеру HDR-TG5V с объективом Carl Zeiss. Она оснащена модулем GPS, что позволяет присваивать видеозаписям и фотоснимкам геотеги. Об этом сообщается в пресс-релизе Sony. Sony HDR-TG5V записывает видео с разрешением 1920x1080 пикселей. Максимальное разрешение фотографий - четыре мегапикселя. Объем встроенной памяти TG5V составляет 16 гигабайт. Дополнительно в камеру можно установить карту памяти. Размеры Sony HDR-TG5V равны 30х117х62 миллиметра, вес - 290 граммов. Диагональ дисплея этой видеокамеры составляет 2,7 дюйма. На корпусе TG5V есть разъемы HDMI, USB и компонентный видеовыход. Объектив Sony HDR-TG5V поддерживает десятикратное оптическое увеличение. За обработку изображения отвечает процессор BIONZ. Также в камере реализованы система стабилизации изображения и функция распознавания лиц. На прилавках компактная видеокамера Sony HDR-TG5V появится в мае. Она будет стоить около тысячи долларов.\n",
            "В Африке пропал самолет, зафрахтованный руководством австралийской горнодобывающей компании Sundance Resources. Как сообщает ABC, на его борту находились девять человек, в том числе шесть топ-менеджеров компании. Один из них - миллионер Кен Толбот (Ken Talbot) - входит в число богатейших людей Австралии. С состоянием в 820 миллионов долларов он занимает 21 место в списке самых богатых австралийцев по версии журнала Forbes. Руководители Sundance Resources направлялись из Камеруна в Конго, чтобы осмотреть одно из месторождений железной руды, которое разрабатывает компания. Как сообщает The Australian, связь с самолетом была потеряна после вылета из аэропорта города Яунде, столицы Камеруна. Sundance Resources связалась с властями Камеруна и Конго, а также с представителями министерства иностранных дел Австралии. Поиски пропавшего самолета ведутся на земле и с воздуха.\n",
            "В рамках программы Года науки и образования Великобритании и России пройдут значимые события в сферах науки, образования и искусства. Программа разработана Британским Советом и Посольствoм Великобритании в РФ при участии Министерства образования и науки России, сообщается в пресс-релизе, поступившем в «Ленту.ру». Программа Года науки призвана стимулировать научное сотрудничество между Россией и Великобританией. Она станет продолжением масштабного культурного взаимодействия, которым были отмечены два проекта 2014 и 2016 годов. Программа тематически делится на два блока, первый из которых включает в себя события науки и образования, а второй — мероприятия на стыке науки и сферы искусства. «Это ещё одна возможность показать, как связи в области культуры, образования и науки способствуют установлению дружественного диалога и укреплению отношений и взаимопонимания между Великобританией и другими странами, а также развитию партнерских связей Великобритании и России», — подчеркнул Генеральный директор Британского Совета Сэр Кирон Деван. Первым мероприятием программы стало открытие в Музее Науки (Лондон) выставки, представившей публике новый экспонат. Им стала спускаемая капсула космического корабля «Союз», на котором британский астронавт Тим Пик успешно вернулся на Землю. Среди ключевых событий, связанных с наукой и искусством, — фестиваль «Нового британского кино», выставки в Лондоне и Москве, запуск «Научного поезда» в Московском метрополитене, а также два литературных мероприятия: семинар «Британская литература сегодня» и программа Великобритании на книжной ярмарке «non/fictioN19». Также крупной инициативой станет сотрудничество с Тотальным диктантом, который получит поддержку звездных ведущих из Великобритании и России и привлечет к акции новых участников. Великобритания занимает четвертое место в научном сотрудничестве с Россией среди других стран по рейтингу совместных публикаций. С 2006 года их число выросло почти вдвое. Приоритетными темами в рецензируемых журналах являются физика, химия, геология, клиническая медицина, космонавтика, а также генетика и молекулярная биология.\n",
            "В Венгрии демонтировали последнюю в стране статую Карла Маркса, сообщает агентство MTI. Скульптура находилась в холле Университета Корвина в Будапеште. Куда денут статую, пока неизвестно. Ранее ректорат обещал, что она останется в стенах кампуса. Как сообщили в ректорате, снос был проведен по инициативе руководства вуза без какого-либо давления извне. Ранее Христианско-демократическая народная партия, входящая в состав правящей коалиции, призывала снести статую Маркса на том основании, что она олицетворяет «расистскую и антисемитскую идеологию». Молодежное крыло партии уже заявило, что ликвидация монумента символизирует конец переходного посткоммунистического периода в истории Венгрии. Бронзовая статуя была установлена в холле университета в 1959 году. До 2004 года вуз носил имя Карла Маркса, после чего был переименован в честь крупнейшей венгерской библиотеки времен Ренессанса, собранной королем Матьяшем I Корвином, также известным как Матьяш Хуньяди.\n",
            "Банк Credit Agricole, третья по рыночной капитализации кредитная организация во Франции, объявила о планах по продаже своих активов на общую сумму в пять миллиардов евро (7,8 миллиарда долларов). Таким образом будут компенсированы затраты от списаний, сделанных из-за ипотечного кризиса, сообщает Bloomberg. Какие именно активы будут списаны, пока неизвестно, но распродажа будет осуществлена в течение 18 месяцев. Кроме того, Credit Agricole поменяет исполнительного директора Calyon, инвестиционного банка, принадлежащего французам. Место Марка Литцера (Marc Litzler) займет Патрик Валрофф (Patrick Valroff), ранее возглавлявший компанию Sofinco. Накануне Credit Agricole отчитался о чистой прибыли за первый квартал 2008 года. Оказалось, что она упала на 66 процентов до 892 миллионов евро. Это случилось из-за того, что банк вынужден был списать активы Calyon на 1,2 миллиарда евро, отмечает The Financial Times. Ранее о намерении привлечь инвесторов для нормального финансирования своих проектов заявили и другие европейские банки. Например, в Royal Bank of Scotland отметили, что им понадобится 12 миллиардов фунтов стерлингов (около 23 миллиардов долларов), а в HBOS - 8 миллиардов фунтов (чуть менее 16 миллиардов долларов). Ипотечный кризис разразился в середине прошлого года в США, а потом достиг и Западной Европы. Его суть заключается в том, что банки выдали слишком много кредитов на недвижимость ненадежным заемщикам. Когда цены на жилье стали падать, кредиторы перестали выплачивать долги банкам, так как рефинансировать их они больше не могли.\n",
            "Киргизия и Узбекистан договорились о пропуске гуманитарной помощи в анклавы, которые оказались заблокированы после недавнего пограничного конфликта. Как сообщает «Фергана», пограничные ведомства двух стран договорились, что гуманитарная помощь будет доставлена в киргизский анклав Барак (находящийся в Узбекистане) и узбекские анклавы Сох и Шахимардан (находящиеся в Киргизии). Автоколонны с продовольствием и предметами первой необходимости, как ожидается, будут доставлены по назначению до конца сегодняшнего дня. В киргизский анклав Барак, в частности, доставят 7,6 тонны муки, 306 килограммов сухофруктов, 200 килограммов соли, 200 литров растительного масла, а также 448 экземпляров детской одежды. По информации Central Asian News на вечер 25 января, груз в узбекский анклав Шахимардан уже доставлен. Обстановка на границах Киргизии и Узбекистана осложнилась в начале января. В районе узбекского анклава Сох (он расположен в Баткенской области Киргизии) произошел конфликт: местные жители, недовольные прокладкой ЛЭП в приграничной зоне, напали на киргизских пограничников. Затем они стали опрокидывать опоры ЛЭП и захватили заложников в киргизском селе, расположенном по соседству с анклавом. Позднее заложники были освобождены. После этого инцидента границы анклава Сох были закрыты. По информации Uznews, границу «держат на замке по решению Кыргызстана и Узбекистана, чтобы обезопасить жителей Соха от мести [за захват киргизских заложников]». В блокаде оказался и узбекский анклав Шахимардан в Киргизии. В Узбекистане в ответ был заблокирован киргизский анклав Барак. В этих регионах, как сообщалось, заканчиваются продукты питания. Цены на продукты и предметы первой необходимости в Сохе, по информации Uznews, выросли более чем в два раза. На фоне конфликта Киргизия и Узбекистан также ограничили пропуск через межгосударственную границу. В настоящее время, как сообщили пограничники, «прорабатываются вопросы функционирования пунктов пропуска».\n",
            "Уровень воды в Амуре близ Комсомольска-на-Амуре утром 13 сентября составил 910 сантиметров, на два сантиметра ниже вечера 12 сентября. Таким образом, сообщает ИТАР-ТАСС, уровень воды снизился впервые за последние несколько недель. Как напоминает агентство, ранее синоптики прогнозировали, что пик паводка придется на 13-15 сентября, а уровень воды может подняться до 920-940 сантиметров. В настоящее время в зоне подтопления в Комсомольске-на-Амуре остаются более 820 жилых домов, в которых проживают свыше 10 тысяч человек. Более трех тысяч жителей эвакуированы. В Хабаровске, отмечает РИА Новости, уровень Амура за прошедшие сутки снизился на восемь сантиметров и сейчас находится на отметке 702 сантиметра. Мощный паводок на Дальнем Востоке, вызванный обильными дождями, начался в конце июля и стал самым сильным за всю историю метеонаблюдений. В ряде регионов до сих пор действует режим чрезвычайного положения.\n",
            "Главный фондовый индекс Швейцарии SMI на торгах 12 января впервые превысил отметку в девять тысяч пунктов. Как сообщает AFP, это случилось в середине торговой сессии. Следует отметить, что SMI не смог закрепиться на заданной высоте и к 17.00 по московскому времени вновь откатился в район 8980 пунктов. В тоже время большинство европейских индексов на торгах 12 января снижаются. В частности, незначительно уменьшились британский FTSE, индекс крупнейших предприятий Европы Dow Jones Stoxx 50, немецкий DAX и французский CAC. Российский индекс РТС к 17.00 понизился на 0,38 процента до 1793,76 пункта, а ММВБ - на 0,91 процента до 1585,11 пункта. Индекс SMI называют индексом \"голубых фишек\" Швейцарии. В нем отражено движение акций 26 наиболее стабильных и крупных компаний страны, в частности Zurich Financial и Swiss Re. Отметку в восемь тысяч SMI впервые прошел в начале 2006 года. Эксперты полагают, что в конце 2007 года индекс будет штурмовать отметку в 9,5 тысячи пунктов.\n",
            "Косметическая корпорация Avon, крупнейший в мире оператор прямых продаж, решила купить ювелирную компанию Silpada Designs - самого большого производителя и продавца украшений из серебра в США, Канаде и Великобритании. Об этом говорится в официальном пресс-релизе косметической компании. Согласно договоренности, Avon заплатит за активы Silpada примерно 650 миллионов долларов в качестве первого взноса. Эта сделка, как ожидается, будет завершена в третьем квартале текущего года, и потребует одобрения регулирующих органов. В начале 2015 года корпорация сделает акционерам ювелирной компании дополнительной предложение, если до этого времени будут достигнуты определенные финансовые результаты. За счет приобретения Avon намерена расширить сферу своей деятельности, отмечает Bloomberg. После завершения сделки Silpada продолжит функционировать как отдельное направление бизнеса с 32 тысячами торговых представителей. Объем продаж Silpada составляет около 230 миллионов долларов в год. Ежегодный объем продаж Avon, по собственным данным концерна, превышает 10 миллиардов долларов. Компания работает более чем в ста странах.\n",
            "Житель Нью-Йорка Гилберт Отт (Gilbert Ott) и его жена Лора Бернс (Laura Burns) сумели сэкономить на поездке в Азию более 20 тысяч долларов с помощью кредитных карт. Об этом сообщаетThe Daily Mail. Благодаря накопленным премиальным баллам они потратили на путешествие две тысячи долларов вместо 25 тысяч. Супруги посетят Токио, Ханой, Бангкок и Гонконг, а затем вернутся домой. Перелеты они будут осуществлять бизнес-классом, а проживать — в пятизвездочных отелях. Экономия американцев на путешествии составит 92 процента. Так, использовав более 200 тысяч премиальных баллов, они потратили на авиабилеты всего 366 долларов вместо 23 тысяч. Чтобы сэкономить на отелях, супружеская пара взяла себе новую кредитную карту, в качестве бонуса по которой им полагалось две бесплатных ночи в любой из гостиниц Ritz-Carlton. В итоге они сэкономят тысячу долларов на этой статье расходов во время посещения Японии. На отелях в Гонконге им удалось выгадать более 150 долларов с помощью 50 тысяч накопленных баллов. Расходы Отта и Бернс на поездку не включали в себя одну тысячу долларов, которую они тратят каждый год на покупки по кредитным картам, позволяющие им копить баллы. По словам Отта, практически каждый путешественник может повторить его опыт. Он пояснил, что можно набрать большое количество премиальных баллов при оформлении новой кредитки, а также добиться условий, при которых за каждый потраченный доллар начисляется по меньшей мере одна премиальная миля. Самое главное, по словам туриста, — это спланировать свою идеальную поездку, а затем вычислить, сколько кредитных карт или бонусов понадобится для максимального урезания расходов на путешествие. Отт, однако, предупредил о необходимости постоянно «сводить баланс», чтобы избежать накопления долгов. В октябре 2015 года сообщалось о путешественнике, который рассчитался за авиаперелет стоимостью 60 тысяч долларов бонусными милями. Сэм Хуан посетил 11 городов и семь стран, заплатив за поездку всего 300 долларов.\n",
            "Предприниматель Олег Дерипаска намерен приобрести крупный пакет акций журнала \"Эксперт\", сообщает агентство РИА Новости, ссылаясь на источник, близкий к руководству журнала. По его словам, продается не контрольный пакет, а пакет, близкий к блокирующему. Он также отметил, что сделка пока не завершена. Кроме того, источник сообщил, что на предстоящей 19 октября пресс-конференции планируется объявить о создании нового медиа-холдинга, в рамках которого планируется развивать новое издание, интернет-проекты и телеканал. \"Мы собираемся привлечь инвестиций на общую сумму в 50 миллионов долларов на ближайшие пять-шесть лет\", - отметил источник. По его словам, частично это средства от эмиссии акций и продажи их Дерипаске, а частично - долгосрочная кредитная линия и текущая прибыль. Как сообщается, рабочее название нового информационного журнала - \"Русский репортер\". Этот проект, по словам источника, должен стать аналогом европейских Le Figaro и Stern и будет рассчитан на средний класс. \"Мы рассчитываем выйти на уровень 300 тысяч экземпляров в течение трех-пяти лет\", - пояснил источник. Кроме того, отметил он, на основе обновленного сайта \"Эксперта\" планируется развить группу сайтов, посвященных книгам, кино и личным финансам. Говоря о телеканале, источник сообщил, что он будет \"сравнительно небольшим\". Напомним, что будущий акционер журнала \"Эксперт\" в середине октября возглавил крупнейшую в мире компанию по производству алюминия - \"Российский алюминий\" - образовавшийся в результате слияния компаний \"Русал\", СУАЛ и Glencore.\n",
            "Курс евро к рублю в ходе торгов 4 сентября упал на 63 копейки до 47,85 рубля после того, как Европейский центробанк (ЕЦБ) по итогам заседания объявил о понижении всех трех ставок до исторических минимумов, а также о запуске программы выкупа ценных бумаг, обеспеченных активами (ABS). При этом к 17:30 по московскому времени евро вернулся на отметку в 48 рублей (48,14 рубля). Курс евро к доллару опустился ниже 1,30 доллара за евро впервые с июля 2013 года в ходе торгов на международном валютном рынке Forex. Европейский центральный банк понизил базовую ставку до 0,05 процента с 0,15 процента годовых. Кроме того, ставка по депозитам была снижена до минус 0,2 процента с минус 0,1 процента, а маржинальная ставка — до 0,3 процента с 0,4 процента. Большинство аналитиков ожидали, что ключевая ставка регулятора останется прежней. ЕЦБ также понизил прогноз роста ВВП еврозоны в 2014 году с 1 процента до 0,9 процента, в 2015 году — с 1,7 процента до 1,6 процента. При этом на 2016 год прогноз был повышен — с 1,8 процента до 1,9 процента. Глава Европейского центробанка Марио Драги подчеркнул, что геополитические риски могут негативно отразиться на экономике еврозоны.\n",
            "Совет директоров газовой монополии \"Газпром\" утвердил инвестиционную программу на 2011 год в объеме 816,36 миллиарда рублей против 905,23 миллиарда рублей в 2010 году, сообщает РИА Новости. Таким образом, размер инвестиционной программы концерна сократится в будущем году на 10 процентов. Ранее заместитель министра экономического развития Андрей Клепач говорил, что инвестпрограмма \"Газпрома\" в 2010 году может дать рост ВВП России на 0,2-0,3 процента. Общий объем инвестпрограмм российских госкомпаний в текущем году превысит два триллиона рублей. \"Интерфакс\" отмечает, что совет директоров компании также утвердил бюджет концерна на 2011 год. Доходы компании составят 3,89 триллиона рублей (на 7 процентов выше 2010 года), а расходы - 3,98 триллиона рублей (на 5 процентов выше 2010 года). \"Газпром\" является крупнейшей компанией в России. Контрольный пакет акций концерна принадлежит государству.\n",
            "Банк «Восточный экспресс» опроверг информацию о введении лимита на снятие наличных средств с кредитных карт. Об этом говорится в заявлении кредитной организации. В своем сообщении банк подчеркивает, что никаких суточных или месячных лимитов на снятие наличных денежных средств с кредитных и дебетовых карт «Восточного экспресса» не вводилось и не будет вводиться. «Для снятия наличных денежных средств, а также для безналичных операций доступны все средства в рамках остатка по счету, а также в рамках кредитного лимита», — говорится в заявлении кредитной организации. Ранее 23 декабря в СМИ появилась информация о том, что банк «Восточный экспресс» временно ограничил максимальный размер снятия наличных денежных средств с кредитных карт в банкоматах до 7 тысяч рублей за одну операцию. Публичное акционерное общество «Восточный экспресс банк» зарегистрировано в 1991 году. Более 50 процентов акций банка принадлежит крупным институциональным инвесторам, среди которых IFC (Международная финансовая корпорация), входящая в группу Всемирного банка (14 процентов), а также фонды прямых инвестиций Baring Vostok (33,6 процента) и Russia Partners (6,9 процента). Банк занимает 28-е место в общем рейтинге банков России по величине активов.\n",
            "В Москве число очередников, ожидающих получения нового жилья, сократилось до минимального за 15 лет числа. Об этом сообщил глава департамента городского имущества Максим Гаман, передает «Интерфакс». «Очередь на жилье вышла на минимальный уровень за последние 15 лет. Менее 70 тысяч человек состоит на жилищном учете. Число очередников сократилось более чем в два раза в два раза относительно 2010 года», — сказал он. По словам Гамана, почти треть (27 процентов) от общего числа очередников получат ключи от квартир вне очереди в ходе программы реновации. «Темпы сокращения очереди могут существенно повыситься с учетом реновации», — предположил он. Гаман добавил, что с начала года по городским программам жилищные условия улучшили более трех тысяч семей, а до конца года новые квартиры получат еще 800 семей.\n",
            "Российская компания \"Интер РАО ЕЭС\", занимающаяся экспортом и импортом электроэнергии, подписала 10-летний контракт на поставку российской энергии в Литву, сообщает \"Интерфакс\". Контракт заключен для того, чтобы компенсировать Литве нехватку электроэнергии после закрытия Игналинской АЭС. Коммерческие детали соглашения компания не раскрывает, однако отмечает, что при расчетах будет использоваться формула цены, учитывающая ценообразование в России и транзитные затраты. Ежегодный гарантированный объем поставок составит около 2,5 миллиарда киловатт-часов. В марте Интер РАО подпишет с литовскими контрагентами еще один 10-летний контракт на поставку дополнительных объемов электроэнергии в Литву. Принципы ценообразования при этом будут теми же. Игналинская АЭС, единственная атомная станция в Прибалтике, по условиям вхождения Литвы в ЕС должна быть закрыта до 2010 года, хотя ее технические возможности позволяют продолжить работу до 2032 года. Мощности АЭС удовлетворяли потребности страны в электроэнергии примерно на 70 процентов.\n",
            "Администрация президента ведет работу над созданием государственного удостоверяющего центра (УЦ), который будет выдавать сайтам в рунете SSL-сертификаты. Таким образом в Кремле хотят дополнительно обезопасить передачу данных в интернете в случае отказа от услуг иностранных партнеров, сообщает «Коммерсантъ» со ссылкой на источники, близкие к к администрации президента. SSL-сертификаты используются для шифрования данных и идентификации сайта при установлении защищенного https-соединения. На них работают большинство сайтов интернет-магазинов, платежных систем, государственных сервисов, где пользователь вводит свои персональные данные. «На государственном портале gosuslugi.ru используется SSL-сертификат, выданный УЦ американской компании Comodo, а на портале ФНС nalog.ru — SSL-сертификат от компании Thawte, принадлежащей Symantec. Если они по какой-то причине отзовут эти сертификаты, это может поставить под угрозу защищенную передачу данных в рунете», — пояснил собеседник газеты. В частности, чтобы расширить распространение SSL-сертификатов этого УЦ, основных производителей операционных систем и браузеров — Microsoft, Google, «Яндекс» и других — могут обязать предустановить в свои продукты специальный корневой сертификат. По словам источника издания, данный шаг будет обсуждаться на переговорах с этими компаниями, и, если они не пойдут навстречу, «мерами законодательного регулирования». Идея создания отечественного УЦ принадлежит компании «Крипто-Про», около трети штата сотрудников которой являются бывшими сотрудниками ФСБ, пишет газета. По словам коммерческого директора компании Юрия Маслова, «Крипто-Про» в госструктуры с таким предложением не обращалась, но чиновники с ними по данному вопросу консультировались. Глава Фонда информационной демократии Илья Массух подтвердил «Коммерсанту», что создание УЦ будет обсуждаться рабочей группой «по использованию информационно-телекоммуникационной сети интернет в отечественной экономике», которая была создана в начале февраля для выполнения поручений президента России. Среди экспертов были приглашены компании-разработчики отечественных браузеров — «Яндекс.Браузер» и «Спутник».\n",
            "Компания Activision анонсировала военный шутер Call of Duty: Black Ops 2, передает портал Eurogamer. Игра выйдет 13 ноября для Xbox 360, PS3 и PC. Издательство открыло официальный сайт проекта и выпустило его первый трейлер. Посмотреть видео можно здесь. Основное действие новой игры, пишет Joystiq, будет разворачиваться в недалеком будущем - в 2025 году, а ее главным героем станет Дэвид Мейсон - сын Алекса Мейсона из первой части Black Ops. Главным противником Мейсона-младшего станет Рауль Менендес. Сюжет шутера будет строиться вокруг новой Холодной войны - на этот раз между США и Китаем. В игре появятся различные технологии будущего - от роботов до усовершенствованных беспилотных летательных аппаратов. Часть одиночной кампании игры, однако, будет проходить в восьмидесятых годах прошлого века, и в этой миссии игроку придется играть за Мейсона-старшего. Все миссии в мультиплеере будут проходить исключительно в 2025 году, однако все подробности о многопользовательском режиме Treyarch пока не раскрывает, однако известно, что как минимум частично он будет разворачиваться на территории США (на презентации игры была показана карта, на которой игрокам нужно сражаться в разрушенном Лос-Анджелесе). Разработчики, однако, сообщили, что в игре вновь появится зомби-режим, пишет CVG. Предполагается, что в нем против зомби смогут совместно выступить до восьми игроков. Количество противников также увеличится. Подробная информация о режиме будет представлена позднее. \"Мы дали разработчикам зомби-режима свободу делать в нем практически все, что им захочется, вне зависимости от того, как будет развиваться действие основной кампании игры\", - отметили представители студии Treyarch. Как пишет Venture Beat, в настоящее время над игрой работают порядка трехсот человек. По словам Марка Ламии, главы Treyarch, в создании игры участвуют более 250 человек из самой студии и еще около 50 сторонних разработчиков. Несмотря на то, что официальный анонс Black Ops 2 состоялся лишь 1 мая, сведения об игре регулярно появлялись в прессе. Еще в феврале данные об игре были опубликованы на сайте французского отделения Amazon, а позже на сайте IGN появились фотографии карточек предзаказа игры, выпущенных американским ритейлером Target. На них было написано, что релиз проекта состоится 13 ноября.\n",
            "Власти Нью-Йорка приняли решение пускать посетителей на построенную возле руин Всемирного торгового центра специальную обзорную платформу только по билетам, сообщает BBC News. Эта платформа начала действовать 30 декабря. Она пользуется такой популярностью, что люди часами стоят в очереди, пытаясь на нее попасть. Теперь в одной из туристических контор города необходимо будет получить специальный бесплатный туристический билет, который предоставит его владельцу право провести полчаса, созерцая развалины здания. Далеко не все жители Нью-Йорка считают, что из места трагедии 11 сентября следует устраивать развлечение для всех желающих, однако власти города утверждают, что люди всего мира должны иметь возможность увидеть разрушения, и, кроме того, городу необходимо привлекать как можно больше посетителей для того, чтобы восстановить пришедшую в упадок экономику.\n",
            "Компания Samsung планирует выпустить мобильный браузер. Об этом со ссылкой на анонимные источники пишет корейское издание Etnews. Браузер будет основан на движке WebKit. Этот же движок используется в штатных веб-обозревателях в iOS, Android, webOS и других продуктах. Ожидается, что Samsung будет предустанавливать браузер на свои устройства, однако на какие именно, пока неизвестно. Южнокорейская компания выпускает аппараты на платформах Android, Windows Phone и bada. Разработку браузера ведет подразделение Samsung, базирующееся в США, в штате Калифорния. У Samsung уже имеется собственная программа для обмена мгновенными сообщениями под названием ChatON. Приложение не \"привязано\" к конкретной платформе: оно работает на разных устройствах с разными операционными системами.\n"
          ]
        }
      ]
    },
    {
      "cell_type": "code",
      "source": [
        "!pip install sentence_transformers"
      ],
      "metadata": {
        "colab": {
          "base_uri": "https://localhost:8080/"
        },
        "id": "_FwtpoCDOKSM",
        "outputId": "3ac1370a-57e5-4f2c-94c9-57d937c333b3"
      },
      "execution_count": null,
      "outputs": [
        {
          "output_type": "stream",
          "name": "stdout",
          "text": [
            "Collecting sentence_transformers\n",
            "  Downloading sentence_transformers-2.7.0-py3-none-any.whl (171 kB)\n",
            "\u001b[?25l     \u001b[90m━━━━━━━━━━━━━━━━━━━━━━━━━━━━━━━━━━━━━━━━\u001b[0m \u001b[32m0.0/171.5 kB\u001b[0m \u001b[31m?\u001b[0m eta \u001b[36m-:--:--\u001b[0m\r\u001b[2K     \u001b[91m━━━━━━━━━━━━━━━━━━━━━━━━━━━━━━━━━━━━━━\u001b[0m\u001b[90m╺\u001b[0m\u001b[90m━\u001b[0m \u001b[32m163.8/171.5 kB\u001b[0m \u001b[31m5.2 MB/s\u001b[0m eta \u001b[36m0:00:01\u001b[0m\r\u001b[2K     \u001b[90m━━━━━━━━━━━━━━━━━━━━━━━━━━━━━━━━━━━━━━━━\u001b[0m \u001b[32m171.5/171.5 kB\u001b[0m \u001b[31m4.4 MB/s\u001b[0m eta \u001b[36m0:00:00\u001b[0m\n",
            "\u001b[?25hRequirement already satisfied: transformers<5.0.0,>=4.34.0 in /usr/local/lib/python3.10/dist-packages (from sentence_transformers) (4.38.2)\n",
            "Requirement already satisfied: tqdm in /usr/local/lib/python3.10/dist-packages (from sentence_transformers) (4.66.2)\n",
            "Requirement already satisfied: torch>=1.11.0 in /usr/local/lib/python3.10/dist-packages (from sentence_transformers) (2.2.1+cu121)\n",
            "Requirement already satisfied: numpy in /usr/local/lib/python3.10/dist-packages (from sentence_transformers) (1.25.2)\n",
            "Requirement already satisfied: scikit-learn in /usr/local/lib/python3.10/dist-packages (from sentence_transformers) (1.2.2)\n",
            "Requirement already satisfied: scipy in /usr/local/lib/python3.10/dist-packages (from sentence_transformers) (1.11.4)\n",
            "Requirement already satisfied: huggingface-hub>=0.15.1 in /usr/local/lib/python3.10/dist-packages (from sentence_transformers) (0.20.3)\n",
            "Requirement already satisfied: Pillow in /usr/local/lib/python3.10/dist-packages (from sentence_transformers) (9.4.0)\n",
            "Requirement already satisfied: filelock in /usr/local/lib/python3.10/dist-packages (from huggingface-hub>=0.15.1->sentence_transformers) (3.13.4)\n",
            "Requirement already satisfied: fsspec>=2023.5.0 in /usr/local/lib/python3.10/dist-packages (from huggingface-hub>=0.15.1->sentence_transformers) (2023.6.0)\n",
            "Requirement already satisfied: requests in /usr/local/lib/python3.10/dist-packages (from huggingface-hub>=0.15.1->sentence_transformers) (2.31.0)\n",
            "Requirement already satisfied: pyyaml>=5.1 in /usr/local/lib/python3.10/dist-packages (from huggingface-hub>=0.15.1->sentence_transformers) (6.0.1)\n",
            "Requirement already satisfied: typing-extensions>=3.7.4.3 in /usr/local/lib/python3.10/dist-packages (from huggingface-hub>=0.15.1->sentence_transformers) (4.11.0)\n",
            "Requirement already satisfied: packaging>=20.9 in /usr/local/lib/python3.10/dist-packages (from huggingface-hub>=0.15.1->sentence_transformers) (24.0)\n",
            "Requirement already satisfied: sympy in /usr/local/lib/python3.10/dist-packages (from torch>=1.11.0->sentence_transformers) (1.12)\n",
            "Requirement already satisfied: networkx in /usr/local/lib/python3.10/dist-packages (from torch>=1.11.0->sentence_transformers) (3.3)\n",
            "Requirement already satisfied: jinja2 in /usr/local/lib/python3.10/dist-packages (from torch>=1.11.0->sentence_transformers) (3.1.3)\n",
            "Collecting nvidia-cuda-nvrtc-cu12==12.1.105 (from torch>=1.11.0->sentence_transformers)\n",
            "  Using cached nvidia_cuda_nvrtc_cu12-12.1.105-py3-none-manylinux1_x86_64.whl (23.7 MB)\n",
            "Collecting nvidia-cuda-runtime-cu12==12.1.105 (from torch>=1.11.0->sentence_transformers)\n",
            "  Using cached nvidia_cuda_runtime_cu12-12.1.105-py3-none-manylinux1_x86_64.whl (823 kB)\n",
            "Collecting nvidia-cuda-cupti-cu12==12.1.105 (from torch>=1.11.0->sentence_transformers)\n",
            "  Using cached nvidia_cuda_cupti_cu12-12.1.105-py3-none-manylinux1_x86_64.whl (14.1 MB)\n",
            "Collecting nvidia-cudnn-cu12==8.9.2.26 (from torch>=1.11.0->sentence_transformers)\n",
            "  Using cached nvidia_cudnn_cu12-8.9.2.26-py3-none-manylinux1_x86_64.whl (731.7 MB)\n",
            "Collecting nvidia-cublas-cu12==12.1.3.1 (from torch>=1.11.0->sentence_transformers)\n",
            "  Using cached nvidia_cublas_cu12-12.1.3.1-py3-none-manylinux1_x86_64.whl (410.6 MB)\n",
            "Collecting nvidia-cufft-cu12==11.0.2.54 (from torch>=1.11.0->sentence_transformers)\n",
            "  Using cached nvidia_cufft_cu12-11.0.2.54-py3-none-manylinux1_x86_64.whl (121.6 MB)\n",
            "Collecting nvidia-curand-cu12==10.3.2.106 (from torch>=1.11.0->sentence_transformers)\n",
            "  Using cached nvidia_curand_cu12-10.3.2.106-py3-none-manylinux1_x86_64.whl (56.5 MB)\n",
            "Collecting nvidia-cusolver-cu12==11.4.5.107 (from torch>=1.11.0->sentence_transformers)\n",
            "  Using cached nvidia_cusolver_cu12-11.4.5.107-py3-none-manylinux1_x86_64.whl (124.2 MB)\n",
            "Collecting nvidia-cusparse-cu12==12.1.0.106 (from torch>=1.11.0->sentence_transformers)\n",
            "  Using cached nvidia_cusparse_cu12-12.1.0.106-py3-none-manylinux1_x86_64.whl (196.0 MB)\n",
            "Collecting nvidia-nccl-cu12==2.19.3 (from torch>=1.11.0->sentence_transformers)\n",
            "  Using cached nvidia_nccl_cu12-2.19.3-py3-none-manylinux1_x86_64.whl (166.0 MB)\n",
            "Collecting nvidia-nvtx-cu12==12.1.105 (from torch>=1.11.0->sentence_transformers)\n",
            "  Using cached nvidia_nvtx_cu12-12.1.105-py3-none-manylinux1_x86_64.whl (99 kB)\n",
            "Requirement already satisfied: triton==2.2.0 in /usr/local/lib/python3.10/dist-packages (from torch>=1.11.0->sentence_transformers) (2.2.0)\n",
            "Collecting nvidia-nvjitlink-cu12 (from nvidia-cusolver-cu12==11.4.5.107->torch>=1.11.0->sentence_transformers)\n",
            "  Using cached nvidia_nvjitlink_cu12-12.4.127-py3-none-manylinux2014_x86_64.whl (21.1 MB)\n",
            "Requirement already satisfied: regex!=2019.12.17 in /usr/local/lib/python3.10/dist-packages (from transformers<5.0.0,>=4.34.0->sentence_transformers) (2023.12.25)\n",
            "Requirement already satisfied: tokenizers<0.19,>=0.14 in /usr/local/lib/python3.10/dist-packages (from transformers<5.0.0,>=4.34.0->sentence_transformers) (0.15.2)\n",
            "Requirement already satisfied: safetensors>=0.4.1 in /usr/local/lib/python3.10/dist-packages (from transformers<5.0.0,>=4.34.0->sentence_transformers) (0.4.3)\n",
            "Requirement already satisfied: joblib>=1.1.1 in /usr/local/lib/python3.10/dist-packages (from scikit-learn->sentence_transformers) (1.4.0)\n",
            "Requirement already satisfied: threadpoolctl>=2.0.0 in /usr/local/lib/python3.10/dist-packages (from scikit-learn->sentence_transformers) (3.4.0)\n",
            "Requirement already satisfied: MarkupSafe>=2.0 in /usr/local/lib/python3.10/dist-packages (from jinja2->torch>=1.11.0->sentence_transformers) (2.1.5)\n",
            "Requirement already satisfied: charset-normalizer<4,>=2 in /usr/local/lib/python3.10/dist-packages (from requests->huggingface-hub>=0.15.1->sentence_transformers) (3.3.2)\n",
            "Requirement already satisfied: idna<4,>=2.5 in /usr/local/lib/python3.10/dist-packages (from requests->huggingface-hub>=0.15.1->sentence_transformers) (3.7)\n",
            "Requirement already satisfied: urllib3<3,>=1.21.1 in /usr/local/lib/python3.10/dist-packages (from requests->huggingface-hub>=0.15.1->sentence_transformers) (2.0.7)\n",
            "Requirement already satisfied: certifi>=2017.4.17 in /usr/local/lib/python3.10/dist-packages (from requests->huggingface-hub>=0.15.1->sentence_transformers) (2024.2.2)\n",
            "Requirement already satisfied: mpmath>=0.19 in /usr/local/lib/python3.10/dist-packages (from sympy->torch>=1.11.0->sentence_transformers) (1.3.0)\n",
            "Installing collected packages: nvidia-nvtx-cu12, nvidia-nvjitlink-cu12, nvidia-nccl-cu12, nvidia-curand-cu12, nvidia-cufft-cu12, nvidia-cuda-runtime-cu12, nvidia-cuda-nvrtc-cu12, nvidia-cuda-cupti-cu12, nvidia-cublas-cu12, nvidia-cusparse-cu12, nvidia-cudnn-cu12, nvidia-cusolver-cu12, sentence_transformers\n",
            "Successfully installed nvidia-cublas-cu12-12.1.3.1 nvidia-cuda-cupti-cu12-12.1.105 nvidia-cuda-nvrtc-cu12-12.1.105 nvidia-cuda-runtime-cu12-12.1.105 nvidia-cudnn-cu12-8.9.2.26 nvidia-cufft-cu12-11.0.2.54 nvidia-curand-cu12-10.3.2.106 nvidia-cusolver-cu12-11.4.5.107 nvidia-cusparse-cu12-12.1.0.106 nvidia-nccl-cu12-2.19.3 nvidia-nvjitlink-cu12-12.4.127 nvidia-nvtx-cu12-12.1.105 sentence_transformers-2.7.0\n"
          ]
        }
      ]
    },
    {
      "cell_type": "code",
      "source": [
        "from sentence_transformers import SentenceTransformer\n",
        "model_name = 'sentence-transformers/paraphrase-xlm-r-multilingual-v1'\n",
        "embedder = (SentenceTransformer(model_name))\n",
        "\n",
        "embedder = embedder.to(device)\n",
        "embeddings = embedder.encode(out_data)"
      ],
      "metadata": {
        "id": "1VVRkRK7MiI7"
      },
      "execution_count": null,
      "outputs": []
    },
    {
      "cell_type": "code",
      "source": [
        "joblib.dump(embedder, 'embedder_outliners.pkl')\n"
      ],
      "metadata": {
        "colab": {
          "base_uri": "https://localhost:8080/"
        },
        "id": "-jSxr3FenniA",
        "outputId": "2d1bdef5-ea5b-4097-979d-2f5040633e8b"
      },
      "execution_count": null,
      "outputs": [
        {
          "output_type": "execute_result",
          "data": {
            "text/plain": [
              "['embedder_outliners.pkl']"
            ]
          },
          "metadata": {},
          "execution_count": 134
        }
      ]
    },
    {
      "cell_type": "code",
      "source": [],
      "metadata": {
        "id": "DTr8knfqoKwJ"
      },
      "execution_count": null,
      "outputs": []
    },
    {
      "cell_type": "code",
      "source": [],
      "metadata": {
        "colab": {
          "base_uri": "https://localhost:8080/"
        },
        "id": "ic7qQilLn3WE",
        "outputId": "4eca4254-45b6-433d-ac09-b64a9bf096d8"
      },
      "execution_count": null,
      "outputs": [
        {
          "output_type": "execute_result",
          "data": {
            "text/plain": [
              "['umap_outliners.pkl']"
            ]
          },
          "metadata": {},
          "execution_count": 175
        }
      ]
    },
    {
      "cell_type": "code",
      "source": [
        "import matplotlib.pyplot as plt\n",
        "from sklearn.cluster import Birch\n",
        "\n",
        "# dataset, clusters = make_blobs(n_samples = 600, centers = 8, cluster_std = 0.75, random_state = 0)\n",
        "\n",
        "model = Birch(branching_factor = 2, n_clusters = None, threshold = 1)\n",
        "\n",
        "model.fit(reduced_emb)\n",
        "\n",
        "pred = model.predict(reduced_emb)\n",
        "\n",
        "cluster_labels = model.labels_\n",
        "cluster_labels.max()"
      ],
      "metadata": {
        "colab": {
          "base_uri": "https://localhost:8080/"
        },
        "id": "CE_bH24bVRst",
        "outputId": "7d29b7f5-04d4-4fbb-a332-37031d1aef5b"
      },
      "execution_count": null,
      "outputs": [
        {
          "output_type": "execute_result",
          "data": {
            "text/plain": [
              "12"
            ]
          },
          "metadata": {},
          "execution_count": 109
        }
      ]
    },
    {
      "cell_type": "code",
      "source": [],
      "metadata": {
        "colab": {
          "base_uri": "https://localhost:8080/",
          "height": 180
        },
        "id": "En6bjJIgVwz1",
        "outputId": "7c1a17c2-327d-4be3-eda6-67598cdff453"
      },
      "execution_count": null,
      "outputs": [
        {
          "output_type": "error",
          "ename": "NameError",
          "evalue": "name 'news' is not defined",
          "traceback": [
            "\u001b[0;31m---------------------------------------------------------------------------\u001b[0m",
            "\u001b[0;31mNameError\u001b[0m                                 Traceback (most recent call last)",
            "\u001b[0;32m<ipython-input-23-a7a9dc35ecd7>\u001b[0m in \u001b[0;36m<cell line: 4>\u001b[0;34m()\u001b[0m\n\u001b[1;32m      2\u001b[0m \u001b[0mdf\u001b[0m\u001b[0;34m[\u001b[0m\u001b[0;34m'x'\u001b[0m\u001b[0;34m]\u001b[0m \u001b[0;34m=\u001b[0m \u001b[0mreduced_emb\u001b[0m\u001b[0;34m[\u001b[0m\u001b[0;34m:\u001b[0m\u001b[0;34m,\u001b[0m \u001b[0;36m0\u001b[0m\u001b[0;34m]\u001b[0m\u001b[0;34m\u001b[0m\u001b[0;34m\u001b[0m\u001b[0m\n\u001b[1;32m      3\u001b[0m \u001b[0mdf\u001b[0m\u001b[0;34m[\u001b[0m\u001b[0;34m'y'\u001b[0m\u001b[0;34m]\u001b[0m \u001b[0;34m=\u001b[0m \u001b[0mreduced_emb\u001b[0m\u001b[0;34m[\u001b[0m\u001b[0;34m:\u001b[0m\u001b[0;34m,\u001b[0m \u001b[0;36m1\u001b[0m\u001b[0;34m]\u001b[0m\u001b[0;34m\u001b[0m\u001b[0;34m\u001b[0m\u001b[0m\n\u001b[0;32m----> 4\u001b[0;31m \u001b[0mdf\u001b[0m\u001b[0;34m[\u001b[0m\u001b[0;34m\"text_short\"\u001b[0m\u001b[0;34m]\u001b[0m \u001b[0;34m=\u001b[0m \u001b[0mnews\u001b[0m\u001b[0;34m\u001b[0m\u001b[0;34m\u001b[0m\u001b[0m\n\u001b[0m",
            "\u001b[0;31mNameError\u001b[0m: name 'news' is not defined"
          ]
        }
      ]
    },
    {
      "cell_type": "code",
      "source": [
        "indices_1 = np.where(cluster_labels == 8)[0]\n",
        "df_filtered = out_data[out_data.index.isin(indices_1)]\n",
        "# df_filtered\n",
        "# print(len(df_filtered))\n",
        "for i in range(len(df_filtered)):\n",
        "  print(df_filtered.iloc[i])\n",
        "  if i == 20:\n",
        "    break\n",
        "\n",
        "    #6 - technika\n",
        "    #8 - деньги"
      ],
      "metadata": {
        "colab": {
          "base_uri": "https://localhost:8080/"
        },
        "id": "9769hBHQVWQG",
        "outputId": "f059b647-3a37-4565-9465-8e5cd5ac0857"
      },
      "execution_count": null,
      "outputs": [
        {
          "output_type": "stream",
          "name": "stdout",
          "text": [
            "Жительница Чехии сумела незаконно получить прибыль, воспользовавшись лазейками в финансовом законодательстве страны. Она сняла деньги со своего счета, после чего порвала их и частями обменяла на целые банкноты в разных банках. Путем таких манипуляций женщине удалось увеличить первоначальную сумму на\n",
            "Жительница американского города Проспект, штат Коннектикут, считает, что выиграла в лотерею благодаря совету продавца на автозаправке. Об этом сообщает UPI. Лиллиан Перон (Lillian Perone) покупала билеты моментальной лотереи каждую неделю. Обычно она брала билеты 10X Cash, но в этот раз решила попро\n",
            "Портрет Мэрилин Монро работы Энди Уорхола из ограниченной серии выставлен на аукцион. По оценкам представителей американского аукционного дома The Potomack Company, стоимость лота может составить от 50 до 100 тысяч долларов, сообщает artdaily.org. Трафаретный отпечаток с лицом актрисы, окрашенным в \n",
            "Шон Рэд, один из создателей и президент популярного сервиса знакомств Tinder, продал квартиру на верхнем этаже 23-этажного здания в лос-анджелесском районе Вествуд за 7,75 миллиона долларов. Бизнесмен, проживший в пентхаусе около года, переехал в новый дом на Голливудских холмах, пишет Los Angeles T\n",
            "У Евросоюза нет денег на помощь Украине и финансировать ее приходится из резервных статей. Об этом РИА Новости заявил постпред РФ при ЕС Владимир Чижов. «В Грецию вложили миллиарды, а на Украину денег уже нет. Первый транш, который дали Украине, провели по статье \"непредвиденные расходы в случае сти\n",
            "В канадской провинции Британская Колумбия неподалеку от города Таппен выставили на продажу кладбище автомобилей, занимающее 2 гектара. На объявление, размещенное на сайте риелторской компании Century 21, обратило внимание издание Driving. За более чем 340 машин, землю и здания просят 1,45 миллиона к\n",
            "Предприниматели Александр Жуков (отец подруги Романа Абрамовича Дарьи), Геннадий Боголюбов и Игорь Коломойский подозреваются британскими властями в попытке незаконно стать собственниками нефтегазовой компании JKX. Об этом со ссылкой на анонимные источники 7 ноября пишет газета The Independent. Как у\n",
            "Увеличение тарифов ЖКХ ощутили 83 процента жителей страны, принявших участие в опросе Всероссийского центра изучения общественного мнения (ВЦИОМ), сообщается на сайте социологической службы. Кроме того, 77 процентов респондентов отметили рост цен на мясо, 72 процента — на молочные продукты, 65 проце\n",
            "Американцы в День святого Валентина в 2018 году потратят на домашних животных 751 миллион долларов, пишет CNBC со ссылкой на прогноз Национальной федерации ретейла (NRF) США. При этом на подарки коллегам жители США, как ожидают в NRF, уйдет 654 миллиона долларов. Всего, по данным федерации, траты ам\n",
            "Население Германии к концу 2012 года возросло до 82 миллионов человек, пишет Die Welt со ссылкой на Федеральную службу статистики. В начале года в стране было зарегистрировано 81,8 миллиона человек. Увеличения количества жителей удалось достичь только благодаря иммигрантам, приехавшим в ФРГ в 2012 г\n",
            "Утилизация устаревших ракет и боеприпасов по федеральной целевой программе \"Промышленная утилизация\" обойдется Министерству обороны России в 27,3 миллиарда рублей. Об этом, как сообщает ИТАР-ТАСС, во вторник, 20 марта, заявил глава оборонного ведомства Анатолий Сердюков. По словам министра, потребно\n",
            "Американский банковский гигант Citigroup объявил в понедельник, 18 марта, что выплатит 730 миллионов долларов по групповому иску от держателей облигаций, пострадавших от финансового кризиса 2008 года. Об этом сообщает Agence France-Presse. Истцы утверждают, что при покупке ценных бумаг Citigroup в 2\n",
            "В Москве с 10 августа введен прогрессивный тариф на парковку автомобилей, сообщает ТАСС. На 75 улицах в границах Бульварного кольца со второго часа за парковку придется платить по 130 рублей. Стоимость первого часа останется прежней — 80 рублей. По словам директора по стратегическому развитию ГКУ «А\n",
            "Реестр недобросовестных арендаторов городского имущества, который планировала составить столичная мэрия, противоречит антимонопольному законодательству России. Об этом, как сообщило агентство РИА Новости, во вторник заявил на заседании правительства руководитель Управления Федеральной антимонопольно\n",
            "Ливанский переводчик Вассим Сааб из Берлина из-за оплошности властей городка Хавельзее всего за 1000 евро приобрел улицу в этом населенном пункте, расположенном в федеральной земле Бранденбург. Об этом пишет портал The Local  со ссылкой на газету Berliner Morgenpost.По данным издания, улица была пос\n",
            "Власти непризнанной республики Абхазия передали часть набережной Сухуми в собственность мэрии Москвы, сообщает грузинский телеканал \"Рустави-2\". Договоренность об этом, по данным источника, была достигнута в ходе визита московского мэра Юрия Лужкова в Сухуми.\n",
            "\"Новый регион\"\n",
            "Правительство Швейцарии выкупит акции крупнейшего местного банка UBS на сумму в шесть миллиардов швейцарских франков (около 5,3 миллиарда долларов). Таким образом, государство получит приблизительно 9,3 процента ценных бумаг UBS, отмечает AFP. Кроме того, UBS удалось договориться о переводе на балан\n",
            "Попытка Electronic Arts приобрести издательство Take-Two Interactive в очередной раз сорвалась, пишет GamesIndustry. В апреле компания уже получила отказ акционеров Take-Two. Однако в тот же день EA сделала новое предложение, пообещав выплатить 25,74 доллара за акцию. Последний срок принятия решения\n",
            "Через платежные терминалы в России нельзя будет оплачивать туристические путевки и лотерейные билеты, а также делать благотворительные и другие взносы. Об этом свидетельствует соответствующий перечень товаров и услуг, подготовленный Минфином, пишет газета \"Коммерсант\". По данным издания, о подготовк\n",
            "За шесть месяцев 1999 года на восстановление Косово выделено вчетверо меньше средств, чем стоил НАТО один день бомбежек Сербии. Командующий международными миротворческими силами в крае Клаус Рейнхардт заявил в интервью немецкому журналу Woche, что бюджет косовской миссии ООН составил в 1999 году 125\n",
            "Национальный банк Белоруссии в проекте основных направлений денежно-кредитной политики заявил о намерении отвязать с начала 2008 года прогноз курса белорусского рубля от курса российского, передает \"Интерфакс\". Единственным ориентиром денежно-кредитной политики останется курс белорусского рубля к до\n"
          ]
        }
      ]
    },
    {
      "cell_type": "code",
      "source": [
        "from sklearn.feature_extraction.text import TfidfVectorizer\n",
        "outs = '/content/drive/MyDrive/vk/outliers.csv'\n",
        "out_data = pd.read_csv(outs).text\n",
        "out_data = out_data.apply(lambda x: x[:300])\n",
        "# vectorizer = TfidfVectorizer(max_features = 6000)\n",
        "# tfidf_matrix = vectorizer.fit_transform(out_data)\n",
        "# vectors = vectorizer.transform(out_data)"
      ],
      "metadata": {
        "id": "ODTCKmVENaC2"
      },
      "execution_count": null,
      "outputs": []
    },
    {
      "cell_type": "code",
      "source": [
        "out_data"
      ],
      "metadata": {
        "colab": {
          "base_uri": "https://localhost:8080/"
        },
        "id": "Hua-D9fKVF4Q",
        "outputId": "ccc877e5-d6aa-44d5-9c27-e56485a593ad"
      },
      "execution_count": null,
      "outputs": [
        {
          "output_type": "execute_result",
          "data": {
            "text/plain": [
              "0        Министерство иностранных дел РФ предъявило уль...\n",
              "1        Французский композитор Мишель Легран скончался...\n",
              "2        Министерство туризма Эквадора в ближайшее воск...\n",
              "3        Энергетическая компания USEC Inc., которая зан...\n",
              "4        В Москве прошли похороны тележурналиста и путе...\n",
              "                               ...                        \n",
              "12266    Группа скинхедов совершила нападение на пассаж...\n",
              "12267    Оппозиционеры 18 октября подали новое уведомле...\n",
              "12268    LG Household & Healthcare, структурное подразд...\n",
              "12269    В университете немецкого города Веймар был раз...\n",
              "12270    На юго-востоке Москвы четверо грабителей с топ...\n",
              "Name: text, Length: 12271, dtype: object"
            ]
          },
          "metadata": {},
          "execution_count": 103
        }
      ]
    },
    {
      "cell_type": "code",
      "source": [
        "!pip install hdbscan"
      ],
      "metadata": {
        "colab": {
          "base_uri": "https://localhost:8080/"
        },
        "id": "zAzJw936XQfW",
        "outputId": "53184587-396d-49a5-93f9-2d41fa50afb4"
      },
      "execution_count": null,
      "outputs": [
        {
          "output_type": "stream",
          "name": "stdout",
          "text": [
            "Collecting hdbscan\n",
            "  Downloading hdbscan-0.8.33.tar.gz (5.2 MB)\n",
            "\u001b[2K     \u001b[90m━━━━━━━━━━━━━━━━━━━━━━━━━━━━━━━━━━━━━━━━\u001b[0m \u001b[32m5.2/5.2 MB\u001b[0m \u001b[31m13.2 MB/s\u001b[0m eta \u001b[36m0:00:00\u001b[0m\n",
            "\u001b[?25h  Installing build dependencies ... \u001b[?25l\u001b[?25hdone\n",
            "  Getting requirements to build wheel ... \u001b[?25l\u001b[?25hdone\n",
            "  Preparing metadata (pyproject.toml) ... \u001b[?25l\u001b[?25hdone\n",
            "Collecting cython<3,>=0.27 (from hdbscan)\n",
            "  Using cached Cython-0.29.37-cp310-cp310-manylinux_2_17_x86_64.manylinux2014_x86_64.manylinux_2_24_x86_64.whl (1.9 MB)\n",
            "Requirement already satisfied: numpy>=1.20 in /usr/local/lib/python3.10/dist-packages (from hdbscan) (1.25.2)\n",
            "Requirement already satisfied: scipy>=1.0 in /usr/local/lib/python3.10/dist-packages (from hdbscan) (1.11.4)\n",
            "Requirement already satisfied: scikit-learn>=0.20 in /usr/local/lib/python3.10/dist-packages (from hdbscan) (1.2.2)\n",
            "Requirement already satisfied: joblib>=1.0 in /usr/local/lib/python3.10/dist-packages (from hdbscan) (1.4.0)\n",
            "Requirement already satisfied: threadpoolctl>=2.0.0 in /usr/local/lib/python3.10/dist-packages (from scikit-learn>=0.20->hdbscan) (3.4.0)\n",
            "Building wheels for collected packages: hdbscan\n",
            "  Building wheel for hdbscan (pyproject.toml) ... \u001b[?25l\u001b[?25hdone\n",
            "  Created wheel for hdbscan: filename=hdbscan-0.8.33-cp310-cp310-linux_x86_64.whl size=3039299 sha256=2743be0e63dbe899dc36f50773a1d77f4ca323f6e42ad0d64c22fed6eef515e4\n",
            "  Stored in directory: /root/.cache/pip/wheels/75/0b/3b/dc4f60b7cc455efaefb62883a7483e76f09d06ca81cf87d610\n",
            "Successfully built hdbscan\n",
            "Installing collected packages: cython, hdbscan\n",
            "  Attempting uninstall: cython\n",
            "    Found existing installation: Cython 3.0.10\n",
            "    Uninstalling Cython-3.0.10:\n",
            "      Successfully uninstalled Cython-3.0.10\n",
            "Successfully installed cython-0.29.37 hdbscan-0.8.33\n"
          ]
        }
      ]
    },
    {
      "cell_type": "code",
      "source": [
        "df = pd.DataFrame()\n",
        "df['x'] = reduced_emb[:, 0]\n",
        "df['y'] = reduced_emb[:, 1]\n",
        "df[\"text_short\"] = out_data"
      ],
      "metadata": {
        "id": "M03Vgc5yXs-i"
      },
      "execution_count": null,
      "outputs": []
    },
    {
      "cell_type": "code",
      "source": [],
      "metadata": {
        "id": "oqUsXJlWrWOj"
      },
      "execution_count": null,
      "outputs": []
    },
    {
      "cell_type": "code",
      "source": [
        "joblib.dump(clusterer, 'hdbscan_outliners.pkl')"
      ],
      "metadata": {
        "colab": {
          "base_uri": "https://localhost:8080/"
        },
        "id": "-fLe7GnmuubM",
        "outputId": "6a87af42-9764-4970-b607-17bbd8fe282b"
      },
      "execution_count": null,
      "outputs": [
        {
          "output_type": "execute_result",
          "data": {
            "text/plain": [
              "['hdbscan_outliners.pkl']"
            ]
          },
          "metadata": {},
          "execution_count": 177
        }
      ]
    },
    {
      "cell_type": "code",
      "source": [
        "import hdbscan\n",
        "from sentence_transformers import SentenceTransformer\n",
        "model_name = 'sentence-transformers/paraphrase-xlm-r-multilingual-v1'\n",
        "embedder = (SentenceTransformer(model_name))\n",
        "\n",
        "embedder = embedder.to(device)\n",
        "embeddings = embedder.encode(out_data)\n",
        "umap_model = umap.UMAP(n_components=2, n_neighbors=100, min_dist=0.02)\n",
        "reduced_emb = umap_model.fit_transform(embeddings)\n",
        "# clusterer = hdbscan.HDBSCAN(min_cluster_size = 100, min_samples = 5, prediction_data = True)\n",
        "clusterer = joblib.load('/content/hdbscan_outliners.pkl')\n",
        "\n",
        "#labels = clusterer.fit_predict(reduced_emb)\n",
        "labels = hdbscan.approximate_predict(clusterer, reduced_emb)\n",
        "print(labels)\n",
        "print(f\"Num of clusters: {labels[0].max() + 1}\")\n",
        "\n",
        "df[\"label\"] = [str(label) for label in labels[0]]\n",
        "num_outliers = len(df[df[\"label\"] == \"-1\"])\n",
        "print(f\"Num of outliers: {num_outliers} ({num_outliers / len(df) * 100:.2f} % of total)\")\n"
      ],
      "metadata": {
        "colab": {
          "base_uri": "https://localhost:8080/"
        },
        "id": "wLlNHrjnXP5v",
        "outputId": "812a4a27-1bdd-40f5-cbac-4a6959fb8312"
      },
      "execution_count": null,
      "outputs": [
        {
          "output_type": "stream",
          "name": "stdout",
          "text": [
            "(array([2, 1, 2, ..., 2, 2, 2], dtype=int32), array([1., 1., 1., ..., 1., 1., 1.]))\n",
            "Num of clusters: 4\n",
            "Num of outliers: 259 (2.11 % of total)\n"
          ]
        }
      ]
    },
    {
      "cell_type": "code",
      "source": [
        "\n",
        "cluster = \"2\"\n",
        "df_subset = df[df[\"label\"] == cluster].reset_index()\n",
        "for i,row in df_subset.iterrows():\n",
        "  print(f\"- {row['text_short']}\")\n",
        "  break\n",
        "  # if i == 40:\n",
        "  #   break\n",
        "    #1 - Общественно-политическая активность и события\n",
        "    #2 - терроризм и преступления\n",
        "    #0 - события в России\n",
        "\n",
        "    #0 - События и происшествия\n",
        "    #1 - утраты\n",
        "    #2 - Международные отношения\n",
        "    #3 - судебные процессы"
      ],
      "metadata": {
        "colab": {
          "base_uri": "https://localhost:8080/"
        },
        "id": "wCa7Zf7zX8TH",
        "outputId": "f7e1efd9-d326-4202-b0e8-0c8d61fde238"
      },
      "execution_count": null,
      "outputs": [
        {
          "output_type": "stream",
          "name": "stdout",
          "text": [
            "- Министерство иностранных дел РФ предъявило ультиматум Казахстану в ответ на ограничение запусков ракет с Байконура, пишет газета «Известия» 24 января. В том случае, если власти Казахстана не пересмотрят свое решение, Россия грозит прекратить сотрудничество по всем совместным проектам в области запус\n"
          ]
        }
      ]
    },
    {
      "cell_type": "code",
      "source": [
        "import pickle\n",
        "dic = {0: 'События и происшетсвия', 1: 'Утраты', 2: 'Международные отношения', 3: \"Cудебные процессы\"}\n",
        "pickle_file_path = 'match.pickle'\n",
        "with open(pickle_file_path, 'wb') as pickle_file:\n",
        "    # Dump the dictionary to the pickle file\n",
        "    pickle.dump(dic, pickle_file)"
      ],
      "metadata": {
        "id": "0GfMQqpWnEK6"
      },
      "execution_count": null,
      "outputs": []
    },
    {
      "cell_type": "code",
      "source": [
        "import joblib"
      ],
      "metadata": {
        "id": "rRBMrsxSnA5q"
      },
      "execution_count": null,
      "outputs": []
    },
    {
      "cell_type": "code",
      "source": [],
      "metadata": {
        "colab": {
          "base_uri": "https://localhost:8080/"
        },
        "id": "gkMnXFuXm61T",
        "outputId": "350468fc-4046-41a2-80fa-007575fd2781"
      },
      "execution_count": null,
      "outputs": [
        {
          "output_type": "execute_result",
          "data": {
            "text/plain": [
              "['outliners.pkl']"
            ]
          },
          "metadata": {},
          "execution_count": 132
        }
      ]
    },
    {
      "cell_type": "code",
      "source": [
        "df"
      ],
      "metadata": {
        "colab": {
          "base_uri": "https://localhost:8080/",
          "height": 424
        },
        "id": "R_Ho2opYmimR",
        "outputId": "425e3536-d98c-4ecb-a4a1-caa5328902c3"
      },
      "execution_count": null,
      "outputs": [
        {
          "output_type": "execute_result",
          "data": {
            "text/plain": [
              "              x         y                                         text_short  \\\n",
              "0      3.797441  6.466629  Министерство иностранных дел РФ предъявило уль...   \n",
              "1      2.997145  1.601501  Французский композитор Мишель Легран скончался...   \n",
              "2      2.377939  5.824254  Министерство туризма Эквадора в ближайшее воск...   \n",
              "3      4.845646  4.734970  Энергетическая компания USEC Inc., которая зан...   \n",
              "4      3.085497  1.775823  В Москве прошли похороны тележурналиста и путе...   \n",
              "...         ...       ...                                                ...   \n",
              "12266  3.289481  2.925387  Группа скинхедов совершила нападение на пассаж...   \n",
              "12267  4.124057  5.282886  Оппозиционеры 18 октября подали новое уведомле...   \n",
              "12268  1.895277  6.992617  LG Household & Healthcare, структурное подразд...   \n",
              "12269  2.352939  6.917259  В университете немецкого города Веймар был раз...   \n",
              "12270  3.488007  2.873345  На юго-востоке Москвы четверо грабителей с топ...   \n",
              "\n",
              "      label  \n",
              "0         1  \n",
              "1         1  \n",
              "2         1  \n",
              "3         1  \n",
              "4         1  \n",
              "...     ...  \n",
              "12266     1  \n",
              "12267     1  \n",
              "12268     1  \n",
              "12269     1  \n",
              "12270     1  \n",
              "\n",
              "[12271 rows x 4 columns]"
            ],
            "text/html": [
              "\n",
              "  <div id=\"df-7d617fad-523f-4b65-b4c6-e8b4872e3b83\" class=\"colab-df-container\">\n",
              "    <div>\n",
              "<style scoped>\n",
              "    .dataframe tbody tr th:only-of-type {\n",
              "        vertical-align: middle;\n",
              "    }\n",
              "\n",
              "    .dataframe tbody tr th {\n",
              "        vertical-align: top;\n",
              "    }\n",
              "\n",
              "    .dataframe thead th {\n",
              "        text-align: right;\n",
              "    }\n",
              "</style>\n",
              "<table border=\"1\" class=\"dataframe\">\n",
              "  <thead>\n",
              "    <tr style=\"text-align: right;\">\n",
              "      <th></th>\n",
              "      <th>x</th>\n",
              "      <th>y</th>\n",
              "      <th>text_short</th>\n",
              "      <th>label</th>\n",
              "    </tr>\n",
              "  </thead>\n",
              "  <tbody>\n",
              "    <tr>\n",
              "      <th>0</th>\n",
              "      <td>3.797441</td>\n",
              "      <td>6.466629</td>\n",
              "      <td>Министерство иностранных дел РФ предъявило уль...</td>\n",
              "      <td>1</td>\n",
              "    </tr>\n",
              "    <tr>\n",
              "      <th>1</th>\n",
              "      <td>2.997145</td>\n",
              "      <td>1.601501</td>\n",
              "      <td>Французский композитор Мишель Легран скончался...</td>\n",
              "      <td>1</td>\n",
              "    </tr>\n",
              "    <tr>\n",
              "      <th>2</th>\n",
              "      <td>2.377939</td>\n",
              "      <td>5.824254</td>\n",
              "      <td>Министерство туризма Эквадора в ближайшее воск...</td>\n",
              "      <td>1</td>\n",
              "    </tr>\n",
              "    <tr>\n",
              "      <th>3</th>\n",
              "      <td>4.845646</td>\n",
              "      <td>4.734970</td>\n",
              "      <td>Энергетическая компания USEC Inc., которая зан...</td>\n",
              "      <td>1</td>\n",
              "    </tr>\n",
              "    <tr>\n",
              "      <th>4</th>\n",
              "      <td>3.085497</td>\n",
              "      <td>1.775823</td>\n",
              "      <td>В Москве прошли похороны тележурналиста и путе...</td>\n",
              "      <td>1</td>\n",
              "    </tr>\n",
              "    <tr>\n",
              "      <th>...</th>\n",
              "      <td>...</td>\n",
              "      <td>...</td>\n",
              "      <td>...</td>\n",
              "      <td>...</td>\n",
              "    </tr>\n",
              "    <tr>\n",
              "      <th>12266</th>\n",
              "      <td>3.289481</td>\n",
              "      <td>2.925387</td>\n",
              "      <td>Группа скинхедов совершила нападение на пассаж...</td>\n",
              "      <td>1</td>\n",
              "    </tr>\n",
              "    <tr>\n",
              "      <th>12267</th>\n",
              "      <td>4.124057</td>\n",
              "      <td>5.282886</td>\n",
              "      <td>Оппозиционеры 18 октября подали новое уведомле...</td>\n",
              "      <td>1</td>\n",
              "    </tr>\n",
              "    <tr>\n",
              "      <th>12268</th>\n",
              "      <td>1.895277</td>\n",
              "      <td>6.992617</td>\n",
              "      <td>LG Household &amp; Healthcare, структурное подразд...</td>\n",
              "      <td>1</td>\n",
              "    </tr>\n",
              "    <tr>\n",
              "      <th>12269</th>\n",
              "      <td>2.352939</td>\n",
              "      <td>6.917259</td>\n",
              "      <td>В университете немецкого города Веймар был раз...</td>\n",
              "      <td>1</td>\n",
              "    </tr>\n",
              "    <tr>\n",
              "      <th>12270</th>\n",
              "      <td>3.488007</td>\n",
              "      <td>2.873345</td>\n",
              "      <td>На юго-востоке Москвы четверо грабителей с топ...</td>\n",
              "      <td>1</td>\n",
              "    </tr>\n",
              "  </tbody>\n",
              "</table>\n",
              "<p>12271 rows × 4 columns</p>\n",
              "</div>\n",
              "    <div class=\"colab-df-buttons\">\n",
              "\n",
              "  <div class=\"colab-df-container\">\n",
              "    <button class=\"colab-df-convert\" onclick=\"convertToInteractive('df-7d617fad-523f-4b65-b4c6-e8b4872e3b83')\"\n",
              "            title=\"Convert this dataframe to an interactive table.\"\n",
              "            style=\"display:none;\">\n",
              "\n",
              "  <svg xmlns=\"http://www.w3.org/2000/svg\" height=\"24px\" viewBox=\"0 -960 960 960\">\n",
              "    <path d=\"M120-120v-720h720v720H120Zm60-500h600v-160H180v160Zm220 220h160v-160H400v160Zm0 220h160v-160H400v160ZM180-400h160v-160H180v160Zm440 0h160v-160H620v160ZM180-180h160v-160H180v160Zm440 0h160v-160H620v160Z\"/>\n",
              "  </svg>\n",
              "    </button>\n",
              "\n",
              "  <style>\n",
              "    .colab-df-container {\n",
              "      display:flex;\n",
              "      gap: 12px;\n",
              "    }\n",
              "\n",
              "    .colab-df-convert {\n",
              "      background-color: #E8F0FE;\n",
              "      border: none;\n",
              "      border-radius: 50%;\n",
              "      cursor: pointer;\n",
              "      display: none;\n",
              "      fill: #1967D2;\n",
              "      height: 32px;\n",
              "      padding: 0 0 0 0;\n",
              "      width: 32px;\n",
              "    }\n",
              "\n",
              "    .colab-df-convert:hover {\n",
              "      background-color: #E2EBFA;\n",
              "      box-shadow: 0px 1px 2px rgba(60, 64, 67, 0.3), 0px 1px 3px 1px rgba(60, 64, 67, 0.15);\n",
              "      fill: #174EA6;\n",
              "    }\n",
              "\n",
              "    .colab-df-buttons div {\n",
              "      margin-bottom: 4px;\n",
              "    }\n",
              "\n",
              "    [theme=dark] .colab-df-convert {\n",
              "      background-color: #3B4455;\n",
              "      fill: #D2E3FC;\n",
              "    }\n",
              "\n",
              "    [theme=dark] .colab-df-convert:hover {\n",
              "      background-color: #434B5C;\n",
              "      box-shadow: 0px 1px 3px 1px rgba(0, 0, 0, 0.15);\n",
              "      filter: drop-shadow(0px 1px 2px rgba(0, 0, 0, 0.3));\n",
              "      fill: #FFFFFF;\n",
              "    }\n",
              "  </style>\n",
              "\n",
              "    <script>\n",
              "      const buttonEl =\n",
              "        document.querySelector('#df-7d617fad-523f-4b65-b4c6-e8b4872e3b83 button.colab-df-convert');\n",
              "      buttonEl.style.display =\n",
              "        google.colab.kernel.accessAllowed ? 'block' : 'none';\n",
              "\n",
              "      async function convertToInteractive(key) {\n",
              "        const element = document.querySelector('#df-7d617fad-523f-4b65-b4c6-e8b4872e3b83');\n",
              "        const dataTable =\n",
              "          await google.colab.kernel.invokeFunction('convertToInteractive',\n",
              "                                                    [key], {});\n",
              "        if (!dataTable) return;\n",
              "\n",
              "        const docLinkHtml = 'Like what you see? Visit the ' +\n",
              "          '<a target=\"_blank\" href=https://colab.research.google.com/notebooks/data_table.ipynb>data table notebook</a>'\n",
              "          + ' to learn more about interactive tables.';\n",
              "        element.innerHTML = '';\n",
              "        dataTable['output_type'] = 'display_data';\n",
              "        await google.colab.output.renderOutput(dataTable, element);\n",
              "        const docLink = document.createElement('div');\n",
              "        docLink.innerHTML = docLinkHtml;\n",
              "        element.appendChild(docLink);\n",
              "      }\n",
              "    </script>\n",
              "  </div>\n",
              "\n",
              "\n",
              "<div id=\"df-1ba89bc2-683d-4872-b4f3-3304227fdbb1\">\n",
              "  <button class=\"colab-df-quickchart\" onclick=\"quickchart('df-1ba89bc2-683d-4872-b4f3-3304227fdbb1')\"\n",
              "            title=\"Suggest charts\"\n",
              "            style=\"display:none;\">\n",
              "\n",
              "<svg xmlns=\"http://www.w3.org/2000/svg\" height=\"24px\"viewBox=\"0 0 24 24\"\n",
              "     width=\"24px\">\n",
              "    <g>\n",
              "        <path d=\"M19 3H5c-1.1 0-2 .9-2 2v14c0 1.1.9 2 2 2h14c1.1 0 2-.9 2-2V5c0-1.1-.9-2-2-2zM9 17H7v-7h2v7zm4 0h-2V7h2v10zm4 0h-2v-4h2v4z\"/>\n",
              "    </g>\n",
              "</svg>\n",
              "  </button>\n",
              "\n",
              "<style>\n",
              "  .colab-df-quickchart {\n",
              "      --bg-color: #E8F0FE;\n",
              "      --fill-color: #1967D2;\n",
              "      --hover-bg-color: #E2EBFA;\n",
              "      --hover-fill-color: #174EA6;\n",
              "      --disabled-fill-color: #AAA;\n",
              "      --disabled-bg-color: #DDD;\n",
              "  }\n",
              "\n",
              "  [theme=dark] .colab-df-quickchart {\n",
              "      --bg-color: #3B4455;\n",
              "      --fill-color: #D2E3FC;\n",
              "      --hover-bg-color: #434B5C;\n",
              "      --hover-fill-color: #FFFFFF;\n",
              "      --disabled-bg-color: #3B4455;\n",
              "      --disabled-fill-color: #666;\n",
              "  }\n",
              "\n",
              "  .colab-df-quickchart {\n",
              "    background-color: var(--bg-color);\n",
              "    border: none;\n",
              "    border-radius: 50%;\n",
              "    cursor: pointer;\n",
              "    display: none;\n",
              "    fill: var(--fill-color);\n",
              "    height: 32px;\n",
              "    padding: 0;\n",
              "    width: 32px;\n",
              "  }\n",
              "\n",
              "  .colab-df-quickchart:hover {\n",
              "    background-color: var(--hover-bg-color);\n",
              "    box-shadow: 0 1px 2px rgba(60, 64, 67, 0.3), 0 1px 3px 1px rgba(60, 64, 67, 0.15);\n",
              "    fill: var(--button-hover-fill-color);\n",
              "  }\n",
              "\n",
              "  .colab-df-quickchart-complete:disabled,\n",
              "  .colab-df-quickchart-complete:disabled:hover {\n",
              "    background-color: var(--disabled-bg-color);\n",
              "    fill: var(--disabled-fill-color);\n",
              "    box-shadow: none;\n",
              "  }\n",
              "\n",
              "  .colab-df-spinner {\n",
              "    border: 2px solid var(--fill-color);\n",
              "    border-color: transparent;\n",
              "    border-bottom-color: var(--fill-color);\n",
              "    animation:\n",
              "      spin 1s steps(1) infinite;\n",
              "  }\n",
              "\n",
              "  @keyframes spin {\n",
              "    0% {\n",
              "      border-color: transparent;\n",
              "      border-bottom-color: var(--fill-color);\n",
              "      border-left-color: var(--fill-color);\n",
              "    }\n",
              "    20% {\n",
              "      border-color: transparent;\n",
              "      border-left-color: var(--fill-color);\n",
              "      border-top-color: var(--fill-color);\n",
              "    }\n",
              "    30% {\n",
              "      border-color: transparent;\n",
              "      border-left-color: var(--fill-color);\n",
              "      border-top-color: var(--fill-color);\n",
              "      border-right-color: var(--fill-color);\n",
              "    }\n",
              "    40% {\n",
              "      border-color: transparent;\n",
              "      border-right-color: var(--fill-color);\n",
              "      border-top-color: var(--fill-color);\n",
              "    }\n",
              "    60% {\n",
              "      border-color: transparent;\n",
              "      border-right-color: var(--fill-color);\n",
              "    }\n",
              "    80% {\n",
              "      border-color: transparent;\n",
              "      border-right-color: var(--fill-color);\n",
              "      border-bottom-color: var(--fill-color);\n",
              "    }\n",
              "    90% {\n",
              "      border-color: transparent;\n",
              "      border-bottom-color: var(--fill-color);\n",
              "    }\n",
              "  }\n",
              "</style>\n",
              "\n",
              "  <script>\n",
              "    async function quickchart(key) {\n",
              "      const quickchartButtonEl =\n",
              "        document.querySelector('#' + key + ' button');\n",
              "      quickchartButtonEl.disabled = true;  // To prevent multiple clicks.\n",
              "      quickchartButtonEl.classList.add('colab-df-spinner');\n",
              "      try {\n",
              "        const charts = await google.colab.kernel.invokeFunction(\n",
              "            'suggestCharts', [key], {});\n",
              "      } catch (error) {\n",
              "        console.error('Error during call to suggestCharts:', error);\n",
              "      }\n",
              "      quickchartButtonEl.classList.remove('colab-df-spinner');\n",
              "      quickchartButtonEl.classList.add('colab-df-quickchart-complete');\n",
              "    }\n",
              "    (() => {\n",
              "      let quickchartButtonEl =\n",
              "        document.querySelector('#df-1ba89bc2-683d-4872-b4f3-3304227fdbb1 button');\n",
              "      quickchartButtonEl.style.display =\n",
              "        google.colab.kernel.accessAllowed ? 'block' : 'none';\n",
              "    })();\n",
              "  </script>\n",
              "</div>\n",
              "    </div>\n",
              "  </div>\n"
            ],
            "application/vnd.google.colaboratory.intrinsic+json": {
              "type": "dataframe",
              "variable_name": "df",
              "summary": "{\n  \"name\": \"df\",\n  \"rows\": 12271,\n  \"fields\": [\n    {\n      \"column\": \"x\",\n      \"properties\": {\n        \"dtype\": \"float32\",\n        \"num_unique_values\": 12266,\n        \"samples\": [\n          1.4046533107757568,\n          5.205846309661865,\n          2.5927488803863525\n        ],\n        \"semantic_type\": \"\",\n        \"description\": \"\"\n      }\n    },\n    {\n      \"column\": \"y\",\n      \"properties\": {\n        \"dtype\": \"float32\",\n        \"num_unique_values\": 12263,\n        \"samples\": [\n          4.440340518951416,\n          5.0778279304504395,\n          3.183797836303711\n        ],\n        \"semantic_type\": \"\",\n        \"description\": \"\"\n      }\n    },\n    {\n      \"column\": \"text_short\",\n      \"properties\": {\n        \"dtype\": \"string\",\n        \"num_unique_values\": 12252,\n        \"samples\": [\n          \"\\u041b\\u0438\\u0434\\u0435\\u0440 \\u0443\\u043a\\u0440\\u0430\\u0438\\u043d\\u0441\\u043a\\u043e\\u0439 \\u043d\\u0430\\u0446\\u0438\\u043e\\u043d\\u0430\\u043b\\u0438\\u0441\\u0442\\u0438\\u0447\\u0435\\u0441\\u043a\\u043e\\u0439 \\u043f\\u0430\\u0440\\u0442\\u0438\\u0438 \\u00ab\\u0411\\u0440\\u0430\\u0442\\u0441\\u0442\\u0432\\u043e\\u00bb (\\u043f\\u0440\\u0438\\u0437\\u043d\\u0430\\u043d\\u0430 \\u044d\\u043a\\u0441\\u0442\\u0440\\u0435\\u043c\\u0438\\u0441\\u0442\\u0441\\u043a\\u043e\\u0439 \\u0438 \\u0437\\u0430\\u043f\\u0440\\u0435\\u0449\\u0435\\u043d\\u0430 \\u043d\\u0430 \\u0442\\u0435\\u0440\\u0440\\u0438\\u0442\\u043e\\u0440\\u0438\\u0438 \\u0420\\u043e\\u0441\\u0441\\u0438\\u0438) \\u0414\\u043c\\u0438\\u0442\\u0440\\u0438\\u0439 \\u041a\\u043e\\u0440\\u0447\\u0438\\u043d\\u0441\\u043a\\u0438\\u0439 \\u0437\\u0430\\u044f\\u0432\\u0438\\u043b, \\u0447\\u0442\\u043e \\u043a\\u0430\\u0436\\u0434\\u043e\\u0435 \\u0441\\u043b\\u043e\\u0432\\u043e \\u043d\\u0430 \\u0440\\u0443\\u0441\\u0441\\u043a\\u043e\\u043c \\u2014 \\u043f\\u0443\\u043b\\u044f \\u0432 \\u0441\\u0435\\u0440\\u0434\\u0446\\u0435 \\u0423\\u043a\\u0440\\u0430\\u0438\\u043d\\u044b, \\u0434\\u0430\\u0436\\u0435 \\u0435\\u0441\\u043b\\u0438 \\u043e\\u043d\\u043e \\u0441\\u043a\\u0430\\u0437\\u0430\\u043d\\u043e \\u0432 \\u043f\\u043e\\u0434\\u0434\\u0435\\u0440\\u0436\\u043a\\u0443 \\u0441\\u0442\\u0440\\u0430\\u043d\\u044b. \\u041e\\u0431 \\u044d\\u0442\\u043e\\u043c \\u043e\\u043d \\u0432 \\u043f\\u044f\\u0442\\u043d\\u0438\\u0446\\u0443, 21 \\u0430\\u043f\\u0440\\u0435\\u043b\\u044f, \\u043d\\u0430\\u043f\\u0438\\u0441\\u0430\\u043b \\u0432 Facebook. \\u0422\\u0430\\u043a \\u043f\\u043e\\u043b\\u0438\\u0442\\u0438\\u043a \",\n          \"\\u0423\\u043a\\u0440\\u0430\\u0438\\u043d\\u0441\\u043a\\u0438\\u0439 \\u043f\\u0430\\u0440\\u043b\\u0430\\u043c\\u0435\\u043d\\u0442 \\u043d\\u0430\\u043f\\u0440\\u0430\\u0432\\u0438\\u043b \\u0432\\u043e \\u0432\\u0442\\u043e\\u0440\\u043d\\u0438\\u043a \\u0433\\u0435\\u043d\\u0435\\u0440\\u0430\\u043b\\u044c\\u043d\\u043e\\u043c\\u0443 \\u043f\\u0440\\u043e\\u043a\\u0443\\u0440\\u043e\\u0440\\u0443 \\u0440\\u0435\\u0441\\u043f\\u0443\\u0431\\u043b\\u0438\\u043a\\u0438 \\u041c\\u0438\\u0445\\u0430\\u0438\\u043b\\u0443 \\u041f\\u043e\\u0442\\u0435\\u0431\\u0435\\u043d\\u044c\\u043a\\u043e \\u0437\\u0430\\u043f\\u0440\\u043e\\u0441 \\u043e \\u0432\\u043e\\u0437\\u0431\\u0443\\u0436\\u0434\\u0435\\u043d\\u0438\\u0438 \\u0443\\u0433\\u043e\\u043b\\u043e\\u0432\\u043d\\u043e\\u0433\\u043e \\u0434\\u0435\\u043b\\u0430 \\u0432 \\u0441\\u0432\\u044f\\u0437\\u0438 \\u0441 \\u043a\\u0430\\u0442\\u0430\\u0441\\u0442\\u0440\\u043e\\u0444\\u043e\\u0439 \\u0440\\u043e\\u0441\\u0441\\u0438\\u0439\\u0441\\u043a\\u043e\\u0433\\u043e \\u0441\\u0430\\u043c\\u043e\\u043b\\u0435\\u0442\\u0430 \\u0422\\u0443-154. \\u041b\\u0430\\u0439\\u043d\\u0435\\u0440 \\u0431\\u044b\\u043b \\u043f\\u043e\\u0440\\u0430\\u0436\\u0435\\u043d 4 \\u043e\\u043a\\u0442\\u044f\\u0431\\u0440\\u044f \\u043d\\u0430\\u0434 \\u0427\\u0435\\u0440\\u043d\\u044b\\u043c \\u043c\\u043e\\u0440\\u0435\\u043c \\u0441\\u0431\\u0438\\u0432\\u0448\\u0435\\u0439\\u0441\\u044f \\u0441 \\u043a\\u0443\\u0440\\u0441\\u0430 \\u0443\\u043a\\u0440\\u0430\\u0438\\u043d\\u0441\\u043a\\u043e\\u0439 \\u0440\\u0430\\u043a\\u0435\\u0442\\u043e\\u0439 \\u0421-200. \\u041a\\u0430\\u043a \\u0441\\u043e\\u043e\\u0431\\u0449\\u0430\\u0435\\u0442 \\u0420\\u0418\\u0410 \\\"\\u041d\\u043e\\u0432\\u043e\\u0441\\u0442\\u0438\\\", \",\n          \"\\u041f\\u0435\\u0440\\u0432\\u044b\\u0439 \\u043c\\u043e\\u0434\\u0435\\u0440\\u043d\\u0438\\u0437\\u0438\\u0440\\u043e\\u0432\\u0430\\u043d\\u043d\\u044b\\u0439 \\u0441\\u0430\\u043c\\u043e\\u043b\\u0435\\u0442 \\u0440\\u0430\\u0434\\u0438\\u043e\\u043b\\u043e\\u043a\\u0430\\u0446\\u0438\\u043e\\u043d\\u043d\\u043e\\u0433\\u043e \\u0434\\u043e\\u0437\\u043e\\u0440\\u0430 E-3G Sentry block 40/45, \\u0440\\u0430\\u043d\\u0435\\u0435 \\u043f\\u0435\\u0440\\u0435\\u0434\\u0430\\u043d\\u043d\\u044b\\u0439 \\u0432 \\u044d\\u043a\\u0441\\u043f\\u043b\\u0443\\u0430\\u0442\\u0430\\u0446\\u0438\\u044e \\u0412\\u0412\\u0421 \\u0421\\u0428\\u0410, \\u043d\\u0430\\u043f\\u0440\\u0430\\u0432\\u043b\\u0435\\u043d \\u043d\\u0430 \\u0432\\u044b\\u043f\\u043e\\u043b\\u043d\\u0435\\u043d\\u0438\\u0435 \\u0431\\u043e\\u0435\\u0432\\u044b\\u0445 \\u0437\\u0430\\u0434\\u0430\\u0447 \\u0432 \\u042e\\u0433\\u043e-\\u0417\\u0430\\u043f\\u0430\\u0434\\u043d\\u043e\\u0439 \\u0410\\u0437\\u0438\\u0438 (\\u0437\\u043e\\u043d\\u0435 \\u043e\\u0442\\u0432\\u0435\\u0442\\u0441\\u0442\\u0432\\u0435\\u043d\\u043d\\u043e\\u0441\\u0442\\u0438 \\u0426\\u0435\\u043d\\u0442\\u0440\\u0430\\u043b\\u044c\\u043d\\u043e\\u0433\\u043e \\u043a\\u043e\\u043c\\u0430\\u043d\\u0434\\u043e\\u0432\\u0430\\u043d\\u0438\\u044f \\u0421\\u0428\\u0410). \\u041e\\u0431 \\u044d\\u0442\\u043e\\u043c \\u043f\\u0438\\u0448\\u0435\\u0442 Air Force Magazine. \\u00ab\\u042d\\u0442\\u0430 \\u0432\\u0435\\u0440\\u0441\\u0438\\u044f \\u043f\\u0440\\u0435\\u0434\\u0441\\u0442\\u0430\\u0432\\u043b\\u044f\\u0435\\u0442 \\u0441\\u043e\\u0431\\u043e\\u0439 \"\n        ],\n        \"semantic_type\": \"\",\n        \"description\": \"\"\n      }\n    },\n    {\n      \"column\": \"label\",\n      \"properties\": {\n        \"dtype\": \"category\",\n        \"num_unique_values\": 4,\n        \"samples\": [\n          \"2\",\n          \"0\",\n          \"1\"\n        ],\n        \"semantic_type\": \"\",\n        \"description\": \"\"\n      }\n    }\n  ]\n}"
            }
          },
          "metadata": {},
          "execution_count": 130
        }
      ]
    },
    {
      "cell_type": "code",
      "source": [
        "!pip install openai"
      ],
      "metadata": {
        "id": "xu39tmkLZ3K_"
      },
      "execution_count": null,
      "outputs": []
    },
    {
      "cell_type": "code",
      "source": [
        "from openai import OpenAI\n",
        "client = OpenAI(api_key='sk-8l3dfizD4UPDqKwEXuOkzVXhEjnsJIgL', base_url=\"https://api.proxyapi.ru/openai/v1\")\n",
        "\n",
        "\n",
        "def get_tag(texts):\n",
        "    response = client.chat.completions.create(\n",
        "        model=\"gpt-3.5-turbo\",\n",
        "        messages=[\n",
        "            {\n",
        "                \"role\": \"system\",\n",
        "                \"content\": \"Тебе дадут несколько новостей, тебе нужно понять что в них общее, написать их общую тему, то есть о чем они. Ты должен описать эту тему один или двуми словами\"\n",
        "            },\n",
        "            {\n",
        "                \"role\": \"user\",\n",
        "                \"content\": texts\n",
        "\n",
        "            }\n",
        "        ],\n",
        "        temperature=0.7,\n",
        "        max_tokens=64,\n",
        "        top_p=1\n",
        "    )\n",
        "    return response.choices[0].message.content\n",
        "\n",
        "\n",
        "claster_names = dict()\n",
        "for i in range(labels.max()):\n",
        "    texts = ''\n",
        "    df_subset = df[df[\"label\"] == str(i)].reset_index()\n",
        "    for j,row in df_subset.iterrows():\n",
        "        texts += '/n' + row['text_short'][:100]\n",
        "        if j == 10:\n",
        "          continue\n",
        "    tag = get_tag(texts)\n",
        "    claster_names[i] = tag"
      ],
      "metadata": {
        "colab": {
          "base_uri": "https://localhost:8080/",
          "height": 365
        },
        "id": "E0SNa1KrZ2Vn",
        "outputId": "8004a8bd-d00c-46e4-ae25-6efad3cb87b3"
      },
      "execution_count": null,
      "outputs": [
        {
          "output_type": "error",
          "ename": "APIStatusError",
          "evalue": "Error code: 402 - {'detail': 'Insufficient balance to run this request.'}",
          "traceback": [
            "\u001b[0;31m---------------------------------------------------------------------------\u001b[0m",
            "\u001b[0;31mAPIStatusError\u001b[0m                            Traceback (most recent call last)",
            "\u001b[0;32m<ipython-input-69-0ce0f495ac2a>\u001b[0m in \u001b[0;36m<cell line: 27>\u001b[0;34m()\u001b[0m\n\u001b[1;32m     32\u001b[0m         \u001b[0;32mif\u001b[0m \u001b[0mj\u001b[0m \u001b[0;34m==\u001b[0m \u001b[0;36m10\u001b[0m\u001b[0;34m:\u001b[0m\u001b[0;34m\u001b[0m\u001b[0;34m\u001b[0m\u001b[0m\n\u001b[1;32m     33\u001b[0m           \u001b[0;32mcontinue\u001b[0m\u001b[0;34m\u001b[0m\u001b[0;34m\u001b[0m\u001b[0m\n\u001b[0;32m---> 34\u001b[0;31m     \u001b[0mtag\u001b[0m \u001b[0;34m=\u001b[0m \u001b[0mget_tag\u001b[0m\u001b[0;34m(\u001b[0m\u001b[0mtexts\u001b[0m\u001b[0;34m)\u001b[0m\u001b[0;34m\u001b[0m\u001b[0;34m\u001b[0m\u001b[0m\n\u001b[0m\u001b[1;32m     35\u001b[0m     \u001b[0mclaster_names\u001b[0m\u001b[0;34m[\u001b[0m\u001b[0mi\u001b[0m\u001b[0;34m]\u001b[0m \u001b[0;34m=\u001b[0m \u001b[0mtag\u001b[0m\u001b[0;34m\u001b[0m\u001b[0;34m\u001b[0m\u001b[0m\n",
            "\u001b[0;32m<ipython-input-69-0ce0f495ac2a>\u001b[0m in \u001b[0;36mget_tag\u001b[0;34m(texts)\u001b[0m\n\u001b[1;32m      4\u001b[0m \u001b[0;34m\u001b[0m\u001b[0m\n\u001b[1;32m      5\u001b[0m \u001b[0;32mdef\u001b[0m \u001b[0mget_tag\u001b[0m\u001b[0;34m(\u001b[0m\u001b[0mtexts\u001b[0m\u001b[0;34m)\u001b[0m\u001b[0;34m:\u001b[0m\u001b[0;34m\u001b[0m\u001b[0;34m\u001b[0m\u001b[0m\n\u001b[0;32m----> 6\u001b[0;31m     response = client.chat.completions.create(\n\u001b[0m\u001b[1;32m      7\u001b[0m         \u001b[0mmodel\u001b[0m\u001b[0;34m=\u001b[0m\u001b[0;34m\"gpt-3.5-turbo\"\u001b[0m\u001b[0;34m,\u001b[0m\u001b[0;34m\u001b[0m\u001b[0;34m\u001b[0m\u001b[0m\n\u001b[1;32m      8\u001b[0m         messages=[\n",
            "\u001b[0;32m/usr/local/lib/python3.10/dist-packages/openai/_utils/_utils.py\u001b[0m in \u001b[0;36mwrapper\u001b[0;34m(*args, **kwargs)\u001b[0m\n\u001b[1;32m    275\u001b[0m                         \u001b[0mmsg\u001b[0m \u001b[0;34m=\u001b[0m \u001b[0;34mf\"Missing required argument: {quote(missing[0])}\"\u001b[0m\u001b[0;34m\u001b[0m\u001b[0;34m\u001b[0m\u001b[0m\n\u001b[1;32m    276\u001b[0m                 \u001b[0;32mraise\u001b[0m \u001b[0mTypeError\u001b[0m\u001b[0;34m(\u001b[0m\u001b[0mmsg\u001b[0m\u001b[0;34m)\u001b[0m\u001b[0;34m\u001b[0m\u001b[0;34m\u001b[0m\u001b[0m\n\u001b[0;32m--> 277\u001b[0;31m             \u001b[0;32mreturn\u001b[0m \u001b[0mfunc\u001b[0m\u001b[0;34m(\u001b[0m\u001b[0;34m*\u001b[0m\u001b[0margs\u001b[0m\u001b[0;34m,\u001b[0m \u001b[0;34m**\u001b[0m\u001b[0mkwargs\u001b[0m\u001b[0;34m)\u001b[0m\u001b[0;34m\u001b[0m\u001b[0;34m\u001b[0m\u001b[0m\n\u001b[0m\u001b[1;32m    278\u001b[0m \u001b[0;34m\u001b[0m\u001b[0m\n\u001b[1;32m    279\u001b[0m         \u001b[0;32mreturn\u001b[0m \u001b[0mwrapper\u001b[0m  \u001b[0;31m# type: ignore\u001b[0m\u001b[0;34m\u001b[0m\u001b[0;34m\u001b[0m\u001b[0m\n",
            "\u001b[0;32m/usr/local/lib/python3.10/dist-packages/openai/resources/chat/completions.py\u001b[0m in \u001b[0;36mcreate\u001b[0;34m(self, messages, model, frequency_penalty, function_call, functions, logit_bias, logprobs, max_tokens, n, presence_penalty, response_format, seed, stop, stream, temperature, tool_choice, tools, top_logprobs, top_p, user, extra_headers, extra_query, extra_body, timeout)\u001b[0m\n\u001b[1;32m    579\u001b[0m         \u001b[0mtimeout\u001b[0m\u001b[0;34m:\u001b[0m \u001b[0mfloat\u001b[0m \u001b[0;34m|\u001b[0m \u001b[0mhttpx\u001b[0m\u001b[0;34m.\u001b[0m\u001b[0mTimeout\u001b[0m \u001b[0;34m|\u001b[0m \u001b[0;32mNone\u001b[0m \u001b[0;34m|\u001b[0m \u001b[0mNotGiven\u001b[0m \u001b[0;34m=\u001b[0m \u001b[0mNOT_GIVEN\u001b[0m\u001b[0;34m,\u001b[0m\u001b[0;34m\u001b[0m\u001b[0;34m\u001b[0m\u001b[0m\n\u001b[1;32m    580\u001b[0m     ) -> ChatCompletion | Stream[ChatCompletionChunk]:\n\u001b[0;32m--> 581\u001b[0;31m         return self._post(\n\u001b[0m\u001b[1;32m    582\u001b[0m             \u001b[0;34m\"/chat/completions\"\u001b[0m\u001b[0;34m,\u001b[0m\u001b[0;34m\u001b[0m\u001b[0;34m\u001b[0m\u001b[0m\n\u001b[1;32m    583\u001b[0m             body=maybe_transform(\n",
            "\u001b[0;32m/usr/local/lib/python3.10/dist-packages/openai/_base_client.py\u001b[0m in \u001b[0;36mpost\u001b[0;34m(self, path, cast_to, body, options, files, stream, stream_cls)\u001b[0m\n\u001b[1;32m   1230\u001b[0m             \u001b[0mmethod\u001b[0m\u001b[0;34m=\u001b[0m\u001b[0;34m\"post\"\u001b[0m\u001b[0;34m,\u001b[0m \u001b[0murl\u001b[0m\u001b[0;34m=\u001b[0m\u001b[0mpath\u001b[0m\u001b[0;34m,\u001b[0m \u001b[0mjson_data\u001b[0m\u001b[0;34m=\u001b[0m\u001b[0mbody\u001b[0m\u001b[0;34m,\u001b[0m \u001b[0mfiles\u001b[0m\u001b[0;34m=\u001b[0m\u001b[0mto_httpx_files\u001b[0m\u001b[0;34m(\u001b[0m\u001b[0mfiles\u001b[0m\u001b[0;34m)\u001b[0m\u001b[0;34m,\u001b[0m \u001b[0;34m**\u001b[0m\u001b[0moptions\u001b[0m\u001b[0;34m\u001b[0m\u001b[0;34m\u001b[0m\u001b[0m\n\u001b[1;32m   1231\u001b[0m         )\n\u001b[0;32m-> 1232\u001b[0;31m         \u001b[0;32mreturn\u001b[0m \u001b[0mcast\u001b[0m\u001b[0;34m(\u001b[0m\u001b[0mResponseT\u001b[0m\u001b[0;34m,\u001b[0m \u001b[0mself\u001b[0m\u001b[0;34m.\u001b[0m\u001b[0mrequest\u001b[0m\u001b[0;34m(\u001b[0m\u001b[0mcast_to\u001b[0m\u001b[0;34m,\u001b[0m \u001b[0mopts\u001b[0m\u001b[0;34m,\u001b[0m \u001b[0mstream\u001b[0m\u001b[0;34m=\u001b[0m\u001b[0mstream\u001b[0m\u001b[0;34m,\u001b[0m \u001b[0mstream_cls\u001b[0m\u001b[0;34m=\u001b[0m\u001b[0mstream_cls\u001b[0m\u001b[0;34m)\u001b[0m\u001b[0;34m)\u001b[0m\u001b[0;34m\u001b[0m\u001b[0;34m\u001b[0m\u001b[0m\n\u001b[0m\u001b[1;32m   1233\u001b[0m \u001b[0;34m\u001b[0m\u001b[0m\n\u001b[1;32m   1234\u001b[0m     def patch(\n",
            "\u001b[0;32m/usr/local/lib/python3.10/dist-packages/openai/_base_client.py\u001b[0m in \u001b[0;36mrequest\u001b[0;34m(self, cast_to, options, remaining_retries, stream, stream_cls)\u001b[0m\n\u001b[1;32m    919\u001b[0m         \u001b[0mstream_cls\u001b[0m\u001b[0;34m:\u001b[0m \u001b[0mtype\u001b[0m\u001b[0;34m[\u001b[0m\u001b[0m_StreamT\u001b[0m\u001b[0;34m]\u001b[0m \u001b[0;34m|\u001b[0m \u001b[0;32mNone\u001b[0m \u001b[0;34m=\u001b[0m \u001b[0;32mNone\u001b[0m\u001b[0;34m,\u001b[0m\u001b[0;34m\u001b[0m\u001b[0;34m\u001b[0m\u001b[0m\n\u001b[1;32m    920\u001b[0m     ) -> ResponseT | _StreamT:\n\u001b[0;32m--> 921\u001b[0;31m         return self._request(\n\u001b[0m\u001b[1;32m    922\u001b[0m             \u001b[0mcast_to\u001b[0m\u001b[0;34m=\u001b[0m\u001b[0mcast_to\u001b[0m\u001b[0;34m,\u001b[0m\u001b[0;34m\u001b[0m\u001b[0;34m\u001b[0m\u001b[0m\n\u001b[1;32m    923\u001b[0m             \u001b[0moptions\u001b[0m\u001b[0;34m=\u001b[0m\u001b[0moptions\u001b[0m\u001b[0;34m,\u001b[0m\u001b[0;34m\u001b[0m\u001b[0;34m\u001b[0m\u001b[0m\n",
            "\u001b[0;32m/usr/local/lib/python3.10/dist-packages/openai/_base_client.py\u001b[0m in \u001b[0;36m_request\u001b[0;34m(self, cast_to, options, remaining_retries, stream, stream_cls)\u001b[0m\n\u001b[1;32m   1010\u001b[0m \u001b[0;34m\u001b[0m\u001b[0m\n\u001b[1;32m   1011\u001b[0m             \u001b[0mlog\u001b[0m\u001b[0;34m.\u001b[0m\u001b[0mdebug\u001b[0m\u001b[0;34m(\u001b[0m\u001b[0;34m\"Re-raising status error\"\u001b[0m\u001b[0;34m)\u001b[0m\u001b[0;34m\u001b[0m\u001b[0;34m\u001b[0m\u001b[0m\n\u001b[0;32m-> 1012\u001b[0;31m             \u001b[0;32mraise\u001b[0m \u001b[0mself\u001b[0m\u001b[0;34m.\u001b[0m\u001b[0m_make_status_error_from_response\u001b[0m\u001b[0;34m(\u001b[0m\u001b[0merr\u001b[0m\u001b[0;34m.\u001b[0m\u001b[0mresponse\u001b[0m\u001b[0;34m)\u001b[0m \u001b[0;32mfrom\u001b[0m \u001b[0;32mNone\u001b[0m\u001b[0;34m\u001b[0m\u001b[0;34m\u001b[0m\u001b[0m\n\u001b[0m\u001b[1;32m   1013\u001b[0m \u001b[0;34m\u001b[0m\u001b[0m\n\u001b[1;32m   1014\u001b[0m         return self._process_response(\n",
            "\u001b[0;31mAPIStatusError\u001b[0m: Error code: 402 - {'detail': 'Insufficient balance to run this request.'}"
          ]
        }
      ]
    },
    {
      "cell_type": "code",
      "source": [
        "import sys\n",
        "print(sys.version)"
      ],
      "metadata": {
        "colab": {
          "base_uri": "https://localhost:8080/"
        },
        "id": "ns8gd3VsaRZD",
        "outputId": "55d324a7-e888-4d75-8b7e-3729238fe133"
      },
      "execution_count": null,
      "outputs": [
        {
          "output_type": "stream",
          "name": "stdout",
          "text": [
            "3.10.12 (main, Nov 20 2023, 15:14:05) [GCC 11.4.0]\n"
          ]
        }
      ]
    },
    {
      "cell_type": "code",
      "source": [
        "!pip list\n"
      ],
      "metadata": {
        "colab": {
          "base_uri": "https://localhost:8080/"
        },
        "id": "H8nB24py5mWh",
        "outputId": "a725b7f2-4308-4c38-d162-1321c2502fec"
      },
      "execution_count": null,
      "outputs": [
        {
          "output_type": "stream",
          "name": "stdout",
          "text": [
            "Package                          Version\n",
            "-------------------------------- ---------------------\n",
            "absl-py                          1.4.0\n",
            "aiohttp                          3.9.5\n",
            "aiosignal                        1.3.1\n",
            "alabaster                        0.7.16\n",
            "albumentations                   1.3.1\n",
            "altair                           4.2.2\n",
            "annotated-types                  0.6.0\n",
            "anyio                            3.7.1\n",
            "appdirs                          1.4.4\n",
            "argon2-cffi                      23.1.0\n",
            "argon2-cffi-bindings             21.2.0\n",
            "array_record                     0.5.1\n",
            "arviz                            0.15.1\n",
            "astropy                          5.3.4\n",
            "astunparse                       1.6.3\n",
            "async-timeout                    4.0.3\n",
            "atpublic                         4.1.0\n",
            "attrs                            23.2.0\n",
            "audioread                        3.0.1\n",
            "autograd                         1.6.2\n",
            "Babel                            2.14.0\n",
            "backcall                         0.2.0\n",
            "beautifulsoup4                   4.12.3\n",
            "bidict                           0.23.1\n",
            "bigframes                        1.2.0\n",
            "bleach                           6.1.0\n",
            "blinker                          1.4\n",
            "blis                             0.7.11\n",
            "blosc2                           2.0.0\n",
            "bokeh                            3.3.4\n",
            "bqplot                           0.12.43\n",
            "branca                           0.7.1\n",
            "build                            1.2.1\n",
            "CacheControl                     0.14.0\n",
            "cachetools                       5.3.3\n",
            "catalogue                        2.0.10\n",
            "certifi                          2024.2.2\n",
            "cffi                             1.16.0\n",
            "chardet                          5.2.0\n",
            "charset-normalizer               3.3.2\n",
            "chex                             0.1.86\n",
            "click                            8.1.7\n",
            "click-plugins                    1.1.1\n",
            "cligj                            0.7.2\n",
            "cloudpathlib                     0.16.0\n",
            "cloudpickle                      2.2.1\n",
            "cmake                            3.27.9\n",
            "cmdstanpy                        1.2.2\n",
            "colorcet                         3.1.0\n",
            "colorlover                       0.3.0\n",
            "colour                           0.1.5\n",
            "community                        1.0.0b1\n",
            "confection                       0.1.4\n",
            "cons                             0.4.6\n",
            "contextlib2                      21.6.0\n",
            "contourpy                        1.2.1\n",
            "cryptography                     42.0.5\n",
            "cufflinks                        0.17.3\n",
            "cupy-cuda12x                     12.2.0\n",
            "cvxopt                           1.3.2\n",
            "cvxpy                            1.3.3\n",
            "cycler                           0.12.1\n",
            "cymem                            2.0.8\n",
            "Cython                           0.29.37\n",
            "dask                             2023.8.1\n",
            "datascience                      0.17.6\n",
            "db-dtypes                        1.2.0\n",
            "dbus-python                      1.2.18\n",
            "debugpy                          1.6.6\n",
            "decorator                        4.4.2\n",
            "defusedxml                       0.7.1\n",
            "distributed                      2023.8.1\n",
            "distro                           1.7.0\n",
            "dlib                             19.24.4\n",
            "dm-tree                          0.1.8\n",
            "docstring_parser                 0.16\n",
            "docutils                         0.18.1\n",
            "dopamine-rl                      4.0.6\n",
            "duckdb                           0.10.2\n",
            "earthengine-api                  0.1.399\n",
            "easydict                         1.13\n",
            "ecos                             2.0.13\n",
            "editdistance                     0.6.2\n",
            "eerepr                           0.0.4\n",
            "en-core-web-sm                   3.7.1\n",
            "entrypoints                      0.4\n",
            "et-xmlfile                       1.1.0\n",
            "etils                            1.7.0\n",
            "etuples                          0.3.9\n",
            "exceptiongroup                   1.2.0\n",
            "fastai                           2.7.14\n",
            "fastcore                         1.5.29\n",
            "fastdownload                     0.0.7\n",
            "fastjsonschema                   2.19.1\n",
            "fastprogress                     1.0.3\n",
            "fastrlock                        0.8.2\n",
            "filelock                         3.13.4\n",
            "fiona                            1.9.6\n",
            "firebase-admin                   5.3.0\n",
            "Flask                            2.2.5\n",
            "flatbuffers                      24.3.25\n",
            "flax                             0.8.2\n",
            "folium                           0.14.0\n",
            "fonttools                        4.51.0\n",
            "frozendict                       2.4.2\n",
            "frozenlist                       1.4.1\n",
            "fsspec                           2023.6.0\n",
            "future                           0.18.3\n",
            "gast                             0.5.4\n",
            "gcsfs                            2023.6.0\n",
            "GDAL                             3.4.1\n",
            "gdown                            4.7.3\n",
            "geemap                           0.32.0\n",
            "gensim                           4.3.2\n",
            "geocoder                         1.38.1\n",
            "geographiclib                    2.0\n",
            "geopandas                        0.13.2\n",
            "geopy                            2.3.0\n",
            "gin-config                       0.5.0\n",
            "glob2                            0.7\n",
            "google                           2.0.3\n",
            "google-ai-generativelanguage     0.4.0\n",
            "google-api-core                  2.11.1\n",
            "google-api-python-client         2.84.0\n",
            "google-auth                      2.27.0\n",
            "google-auth-httplib2             0.1.1\n",
            "google-auth-oauthlib             1.2.0\n",
            "google-cloud-aiplatform          1.48.0\n",
            "google-cloud-bigquery            3.12.0\n",
            "google-cloud-bigquery-connection 1.12.1\n",
            "google-cloud-bigquery-storage    2.24.0\n",
            "google-cloud-core                2.3.3\n",
            "google-cloud-datastore           2.15.2\n",
            "google-cloud-firestore           2.11.1\n",
            "google-cloud-functions           1.13.3\n",
            "google-cloud-iam                 2.15.0\n",
            "google-cloud-language            2.13.3\n",
            "google-cloud-resource-manager    1.12.3\n",
            "google-cloud-storage             2.8.0\n",
            "google-cloud-translate           3.11.3\n",
            "google-colab                     1.0.0\n",
            "google-crc32c                    1.5.0\n",
            "google-generativeai              0.3.2\n",
            "google-pasta                     0.2.0\n",
            "google-resumable-media           2.7.0\n",
            "googleapis-common-protos         1.63.0\n",
            "googledrivedownloader            0.4\n",
            "graphviz                         0.20.3\n",
            "greenlet                         3.0.3\n",
            "grpc-google-iam-v1               0.13.0\n",
            "grpcio                           1.62.1\n",
            "grpcio-status                    1.48.2\n",
            "gspread                          3.4.2\n",
            "gspread-dataframe                3.3.1\n",
            "gym                              0.25.2\n",
            "gym-notices                      0.0.8\n",
            "h11                              0.14.0\n",
            "h5netcdf                         1.3.0\n",
            "h5py                             3.9.0\n",
            "hdbscan                          0.8.33\n",
            "holidays                         0.47\n",
            "holoviews                        1.17.1\n",
            "html5lib                         1.1\n",
            "httpcore                         1.0.5\n",
            "httpimport                       1.3.1\n",
            "httplib2                         0.22.0\n",
            "httpx                            0.27.0\n",
            "huggingface-hub                  0.20.3\n",
            "humanize                         4.7.0\n",
            "hyperopt                         0.2.7\n",
            "ibis-framework                   8.0.0\n",
            "idna                             3.7\n",
            "imageio                          2.31.6\n",
            "imageio-ffmpeg                   0.4.9\n",
            "imagesize                        1.4.1\n",
            "imbalanced-learn                 0.10.1\n",
            "imgaug                           0.4.0\n",
            "importlib_metadata               7.1.0\n",
            "importlib_resources              6.4.0\n",
            "imutils                          0.5.4\n",
            "inflect                          7.0.0\n",
            "iniconfig                        2.0.0\n",
            "intel-openmp                     2023.2.4\n",
            "ipyevents                        2.0.2\n",
            "ipyfilechooser                   0.6.0\n",
            "ipykernel                        5.5.6\n",
            "ipyleaflet                       0.18.2\n",
            "ipython                          7.34.0\n",
            "ipython-genutils                 0.2.0\n",
            "ipython-sql                      0.5.0\n",
            "ipytree                          0.2.2\n",
            "ipywidgets                       7.7.1\n",
            "itsdangerous                     2.2.0\n",
            "jax                              0.4.26\n",
            "jaxlib                           0.4.26+cuda12.cudnn89\n",
            "jeepney                          0.7.1\n",
            "jieba                            0.42.1\n",
            "Jinja2                           3.1.3\n",
            "joblib                           1.4.0\n",
            "jsonpickle                       3.0.4\n",
            "jsonschema                       4.19.2\n",
            "jsonschema-specifications        2023.12.1\n",
            "jupyter-client                   6.1.12\n",
            "jupyter-console                  6.1.0\n",
            "jupyter_core                     5.7.2\n",
            "jupyter-server                   1.24.0\n",
            "jupyterlab_pygments              0.3.0\n",
            "jupyterlab_widgets               3.0.10\n",
            "kaggle                           1.5.16\n",
            "kagglehub                        0.2.3\n",
            "keras                            2.15.0\n",
            "keyring                          23.5.0\n",
            "kiwisolver                       1.4.5\n",
            "langcodes                        3.3.0\n",
            "launchpadlib                     1.10.16\n",
            "lazr.restfulclient               0.14.4\n",
            "lazr.uri                         1.0.6\n",
            "lazy_loader                      0.4\n",
            "libclang                         18.1.1\n",
            "librosa                          0.10.1\n",
            "lightgbm                         4.1.0\n",
            "linkify-it-py                    2.0.3\n",
            "llvmlite                         0.41.1\n",
            "locket                           1.0.0\n",
            "logical-unification              0.4.6\n",
            "lxml                             4.9.4\n",
            "malloy                           2023.1067\n",
            "Markdown                         3.6\n",
            "markdown-it-py                   3.0.0\n",
            "MarkupSafe                       2.1.5\n",
            "matplotlib                       3.7.1\n",
            "matplotlib-inline                0.1.7\n",
            "matplotlib-venn                  0.11.10\n",
            "mdit-py-plugins                  0.4.0\n",
            "mdurl                            0.1.2\n",
            "miniKanren                       1.0.3\n",
            "missingno                        0.5.2\n",
            "mistune                          0.8.4\n",
            "mizani                           0.9.3\n",
            "mkl                              2023.2.0\n",
            "ml-dtypes                        0.2.0\n",
            "mlxtend                          0.22.0\n",
            "more-itertools                   10.1.0\n",
            "moviepy                          1.0.3\n",
            "mpmath                           1.3.0\n",
            "msgpack                          1.0.8\n",
            "multidict                        6.0.5\n",
            "multipledispatch                 1.0.0\n",
            "multitasking                     0.0.11\n",
            "murmurhash                       1.0.10\n",
            "music21                          9.1.0\n",
            "natsort                          8.4.0\n",
            "nbclassic                        1.0.0\n",
            "nbclient                         0.10.0\n",
            "nbconvert                        6.5.4\n",
            "nbformat                         5.10.4\n",
            "nest-asyncio                     1.6.0\n",
            "networkx                         3.3\n",
            "nibabel                          4.0.2\n",
            "nltk                             3.8.1\n",
            "notebook                         6.5.5\n",
            "notebook_shim                    0.2.4\n",
            "numba                            0.58.1\n",
            "numexpr                          2.10.0\n",
            "numpy                            1.25.2\n",
            "nvidia-cublas-cu12               12.1.3.1\n",
            "nvidia-cuda-cupti-cu12           12.1.105\n",
            "nvidia-cuda-nvrtc-cu12           12.1.105\n",
            "nvidia-cuda-runtime-cu12         12.1.105\n",
            "nvidia-cudnn-cu12                8.9.2.26\n",
            "nvidia-cufft-cu12                11.0.2.54\n",
            "nvidia-curand-cu12               10.3.2.106\n",
            "nvidia-cusolver-cu12             11.4.5.107\n",
            "nvidia-cusparse-cu12             12.1.0.106\n",
            "nvidia-nccl-cu12                 2.19.3\n",
            "nvidia-nvjitlink-cu12            12.4.127\n",
            "nvidia-nvtx-cu12                 12.1.105\n",
            "oauth2client                     4.1.3\n",
            "oauthlib                         3.2.2\n",
            "openai                           1.23.2\n",
            "opencv-contrib-python            4.8.0.76\n",
            "opencv-python                    4.8.0.76\n",
            "opencv-python-headless           4.9.0.80\n",
            "openpyxl                         3.1.2\n",
            "opt-einsum                       3.3.0\n",
            "optax                            0.2.2\n",
            "orbax-checkpoint                 0.4.4\n",
            "osqp                             0.6.2.post8\n",
            "packaging                        24.0\n",
            "pandas                           2.0.3\n",
            "pandas-datareader                0.10.0\n",
            "pandas-gbq                       0.19.2\n",
            "pandas-stubs                     2.0.3.230814\n",
            "pandocfilters                    1.5.1\n",
            "panel                            1.3.8\n",
            "param                            2.1.0\n",
            "parso                            0.8.4\n",
            "parsy                            2.1\n",
            "partd                            1.4.1\n",
            "pathlib                          1.0.1\n",
            "patsy                            0.5.6\n",
            "peewee                           3.17.3\n",
            "pexpect                          4.9.0\n",
            "pickleshare                      0.7.5\n",
            "Pillow                           9.4.0\n",
            "pip                              23.1.2\n",
            "pip-tools                        6.13.0\n",
            "platformdirs                     4.2.0\n",
            "plotly                           5.15.0\n",
            "plotnine                         0.12.4\n",
            "pluggy                           1.4.0\n",
            "polars                           0.20.2\n",
            "pooch                            1.8.1\n",
            "portpicker                       1.5.2\n",
            "prefetch-generator               1.0.3\n",
            "preshed                          3.0.9\n",
            "prettytable                      3.10.0\n",
            "proglog                          0.1.10\n",
            "progressbar2                     4.2.0\n",
            "prometheus_client                0.20.0\n",
            "promise                          2.3\n",
            "prompt-toolkit                   3.0.43\n",
            "prophet                          1.1.5\n",
            "proto-plus                       1.23.0\n",
            "protobuf                         3.20.3\n",
            "psutil                           5.9.5\n",
            "psycopg2                         2.9.9\n",
            "ptyprocess                       0.7.0\n",
            "py-cpuinfo                       9.0.0\n",
            "py4j                             0.10.9.7\n",
            "pyarrow                          14.0.2\n",
            "pyarrow-hotfix                   0.6\n",
            "pyasn1                           0.6.0\n",
            "pyasn1_modules                   0.4.0\n",
            "pycocotools                      2.0.7\n",
            "pycparser                        2.22\n",
            "pydantic                         2.7.0\n",
            "pydantic_core                    2.18.1\n",
            "pydata-google-auth               1.8.2\n",
            "pydot                            1.4.2\n",
            "pydot-ng                         2.0.0\n",
            "pydotplus                        2.0.2\n",
            "PyDrive                          1.3.1\n",
            "PyDrive2                         1.6.3\n",
            "pyerfa                           2.0.1.4\n",
            "pygame                           2.5.2\n",
            "Pygments                         2.16.1\n",
            "PyGObject                        3.42.1\n",
            "PyJWT                            2.3.0\n",
            "pymc                             5.10.4\n",
            "pymystem3                        0.2.0\n",
            "pynndescent                      0.5.12\n",
            "PyOpenGL                         3.1.7\n",
            "pyOpenSSL                        24.1.0\n",
            "pyparsing                        3.1.2\n",
            "pyperclip                        1.8.2\n",
            "pyproj                           3.6.1\n",
            "pyproject_hooks                  1.0.0\n",
            "pyshp                            2.3.1\n",
            "PySocks                          1.7.1\n",
            "pytensor                         2.18.6\n",
            "pytest                           7.4.4\n",
            "python-apt                       0.0.0\n",
            "python-box                       7.1.1\n",
            "python-dateutil                  2.8.2\n",
            "python-louvain                   0.16\n",
            "python-slugify                   8.0.4\n",
            "python-utils                     3.8.2\n",
            "pytz                             2023.4\n",
            "pyviz_comms                      3.0.2\n",
            "PyWavelets                       1.6.0\n",
            "PyYAML                           6.0.1\n",
            "pyzmq                            23.2.1\n",
            "qdldl                            0.1.7.post1\n",
            "qudida                           0.0.4\n",
            "ratelim                          0.1.6\n",
            "referencing                      0.34.0\n",
            "regex                            2023.12.25\n",
            "requests                         2.31.0\n",
            "requests-oauthlib                1.3.1\n",
            "requirements-parser              0.9.0\n",
            "rich                             13.7.1\n",
            "rpds-py                          0.18.0\n",
            "rpy2                             3.4.2\n",
            "rsa                              4.9\n",
            "safetensors                      0.4.3\n",
            "scikit-image                     0.19.3\n",
            "scikit-learn                     1.2.2\n",
            "scipy                            1.11.4\n",
            "scooby                           0.9.2\n",
            "scs                              3.2.4.post1\n",
            "seaborn                          0.13.1\n",
            "SecretStorage                    3.3.1\n",
            "Send2Trash                       1.8.3\n",
            "sentence-transformers            2.7.0\n",
            "sentencepiece                    0.1.99\n",
            "setuptools                       67.7.2\n",
            "shapely                          2.0.4\n",
            "six                              1.16.0\n",
            "sklearn-pandas                   2.2.0\n",
            "smart-open                       6.4.0\n",
            "sniffio                          1.3.1\n",
            "snowballstemmer                  2.2.0\n",
            "sortedcontainers                 2.4.0\n",
            "soundfile                        0.12.1\n",
            "soupsieve                        2.5\n",
            "soxr                             0.3.7\n",
            "spacy                            3.7.4\n",
            "spacy-legacy                     3.0.12\n",
            "spacy-loggers                    1.0.5\n",
            "Sphinx                           5.0.2\n",
            "sphinxcontrib-applehelp          1.0.8\n",
            "sphinxcontrib-devhelp            1.0.6\n",
            "sphinxcontrib-htmlhelp           2.0.5\n",
            "sphinxcontrib-jsmath             1.0.1\n",
            "sphinxcontrib-qthelp             1.0.7\n",
            "sphinxcontrib-serializinghtml    1.1.10\n",
            "SQLAlchemy                       2.0.29\n",
            "sqlglot                          20.11.0\n",
            "sqlparse                         0.5.0\n",
            "srsly                            2.4.8\n",
            "stanio                           0.5.0\n",
            "statsmodels                      0.14.2\n",
            "sympy                            1.12\n",
            "tables                           3.8.0\n",
            "tabulate                         0.9.0\n",
            "tbb                              2021.12.0\n",
            "tblib                            3.0.0\n",
            "tenacity                         8.2.3\n",
            "tensorboard                      2.15.2\n",
            "tensorboard-data-server          0.7.2\n",
            "tensorflow                       2.15.0\n",
            "tensorflow-datasets              4.9.4\n",
            "tensorflow-estimator             2.15.0\n",
            "tensorflow-gcs-config            2.15.0\n",
            "tensorflow-hub                   0.16.1\n",
            "tensorflow-io-gcs-filesystem     0.36.0\n",
            "tensorflow-metadata              1.14.0\n",
            "tensorflow-probability           0.23.0\n",
            "tensorstore                      0.1.45\n",
            "termcolor                        2.4.0\n",
            "terminado                        0.18.1\n",
            "text-unidecode                   1.3\n",
            "textblob                         0.17.1\n",
            "tf_keras                         2.15.1\n",
            "tf-slim                          1.1.0\n",
            "thinc                            8.2.3\n",
            "threadpoolctl                    3.4.0\n",
            "tifffile                         2024.2.12\n",
            "tinycss2                         1.2.1\n",
            "tokenizers                       0.15.2\n",
            "toml                             0.10.2\n",
            "tomli                            2.0.1\n",
            "toolz                            0.12.1\n",
            "torch                            2.2.1+cu121\n",
            "torchaudio                       2.2.1+cu121\n",
            "torchdata                        0.7.1\n",
            "torchsummary                     1.5.1\n",
            "torchtext                        0.17.1\n",
            "torchvision                      0.17.1+cu121\n",
            "tornado                          6.3.3\n",
            "tqdm                             4.66.2\n",
            "traitlets                        5.7.1\n",
            "traittypes                       0.2.1\n",
            "transformers                     4.38.2\n",
            "triton                           2.2.0\n",
            "tweepy                           4.14.0\n",
            "typer                            0.9.4\n",
            "types-pytz                       2024.1.0.20240417\n",
            "types-setuptools                 69.5.0.20240415\n",
            "typing_extensions                4.11.0\n",
            "tzdata                           2024.1\n",
            "tzlocal                          5.2\n",
            "uc-micro-py                      1.0.3\n",
            "umap-learn                       0.5.6\n",
            "uritemplate                      4.1.1\n",
            "urllib3                          2.0.7\n",
            "vega-datasets                    0.9.0\n",
            "wadllib                          1.3.6\n",
            "wasabi                           1.1.2\n",
            "wcwidth                          0.2.13\n",
            "weasel                           0.3.4\n",
            "webcolors                        1.13\n",
            "webencodings                     0.5.1\n",
            "websocket-client                 1.7.0\n",
            "Werkzeug                         3.0.2\n",
            "wheel                            0.43.0\n",
            "widgetsnbextension               3.6.6\n",
            "wordcloud                        1.9.3\n",
            "wrapt                            1.14.1\n",
            "xarray                           2023.7.0\n",
            "xarray-einstats                  0.7.0\n",
            "xgboost                          2.0.3\n",
            "xlrd                             2.0.1\n",
            "xyzservices                      2024.4.0\n",
            "yarl                             1.9.4\n",
            "yellowbrick                      1.5\n",
            "yfinance                         0.2.38\n",
            "zict                             3.0.0\n",
            "zipp                             3.18.1\n"
          ]
        }
      ]
    }
  ],
  "metadata": {
    "accelerator": "GPU",
    "colab": {
      "gpuType": "T4",
      "machine_shape": "hm",
      "provenance": []
    },
    "kernelspec": {
      "display_name": "Python 3",
      "name": "python3"
    },
    "language_info": {
      "name": "python"
    }
  },
  "nbformat": 4,
  "nbformat_minor": 0
}